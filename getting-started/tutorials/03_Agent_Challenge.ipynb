{
 "cells": [
  {
   "cell_type": "markdown",
   "metadata": {},
   "source": [
    "# Optional Assignment: Agent Tooling Challenge\n",
    "\n",
    "This **optional assignment** provides a hands-on opportunity to build agents that use a variety of powerful, pre-packaged tools. You will choose from the challenges below, each requiring you to configure and run a new agent to solve a specific problem using tools from the Aurite toolbox.\n",
    "\n",
    "**Learning Objectives:**\n",
    "*   Build confidence in using different tool servers from the built-in toolbox.\n",
    "*   Practice writing effective system prompts that guide an agent to select and use the correct tools.\n",
    "*   Gain experience with the end-to-end workflow of defining, registering, and running a tool-equipped agent."
   ]
  },
  {
   "cell_type": "markdown",
   "metadata": {},
   "source": [
    "## Section 1: Setup\n",
    "\n",
    "First, let's set up the environment. These cells are the same as in the previous tutorial."
   ]
  },
  {
   "cell_type": "code",
   "execution_count": null,
   "metadata": {},
   "outputs": [],
   "source": [
    "%pip install aurite==0.3.15"
   ]
  },
  {
   "cell_type": "markdown",
   "metadata": {},
   "source": [
    "### Set Environment Variables"
   ]
  },
  {
   "cell_type": "code",
   "execution_count": 9,
   "metadata": {},
   "outputs": [],
   "source": [
    "import os\n",
    "from getpass import getpass\n",
    "\n",
    "try:\n",
    "  from google.colab import userdata #type: ignore\n",
    "  # Fetch the secret value from Colab's secret manager and set it as an environment variable so your script can find it\n",
    "  os.environ['OPENAI_API_KEY'] = userdata.get('OPENAI_API_KEY')\n",
    "  os.environ[\"SMITHERY_API_KEY\"] = userdata.get('SMITHERY_API_KEY')\n",
    "  os.environ[\"SMITHERY_PROFILE_ID\"] = userdata.get('SMITHERY_PROFILE_ID')\n",
    "except ImportError: # This is not a real error, just a check if running in Colab\n",
    "    from dotenv import load_dotenv\n",
    "    load_dotenv()  # Load environment variables from a .env file if it exists\n",
    "except Exception as e:\n",
    "    print(f\"Error fetching from Colab's secret manager: {e}\")\n",
    "\n",
    "if \"OPENAI_API_KEY\" not in os.environ:\n",
    "    os.environ[\"OPENAI_API_KEY\"] = getpass(\"Enter your OpenAI API key: \")\n",
    "if \"SMITHERY_API_KEY\" not in os.environ:\n",
    "    os.environ[\"SMITHERY_API_KEY\"] = getpass(\"Enter your Smithery API key: \")\n",
    "if \"SMITHERY_PROFILE_ID\" not in os.environ:\n",
    "    os.environ[\"SMITHERY_PROFILE_ID\"] = getpass(\"Enter your Smithery Profile ID: \")"
   ]
  },
  {
   "cell_type": "markdown",
   "metadata": {},
   "source": [
    "### Create HTML Display Function"
   ]
  },
  {
   "cell_type": "code",
   "execution_count": 10,
   "metadata": {},
   "outputs": [],
   "source": [
    "from IPython.display import display, Markdown\n",
    "\n",
    "def display_agent_response(agent_name: str, query: str, response: str):\n",
    "  \"\"\"Formats and displays the agent's response in a structured Markdown block.\"\"\"\n",
    "\n",
    "  output = f\"\"\"\n",
    "  <div style=\\\"border: 1px solid #D1D5DB; border-radius: 8px; margin-top: 20px; font-family: sans-serif; box-shadow: 0 4px 6px rgba(0,0,0,0.05);\\\">\n",
    "    <div style=\\\"background-color: #F3F4F6; padding: 10px 15px; border-bottom: 1px solid #D1D5DB; border-radius: 8px 8px 0 0;\\\">\n",
    "      <h3 style=\\\"margin: 0; font-size: 16px; color: #1F2937; display: flex; align-items: center;\\\">\n",
    "        <span style=\\\"margin-right: 8px;\\\">🤖</span>\n",
    "        Agent Response: <code style=\\\"background-color: #E5E7EB; color: #374151; padding: 2px 6px; border-radius: 4px; margin-left: 8px;\\\">{agent_name}</code>\n",
    "      </h3>\n",
    "    </div>\n",
    "    <div style=\\\"padding: 15px;\\\">\n",
    "      <p style=\\\"margin: 0 0 10px 0; color: #6B7280; font-size: 14px;\\\">\n",
    "        <strong>Your Query:</strong>\n",
    "      </p>\n",
    "      <p style=\\\"background-color: #F9FAFB; margin: 0 0 15px 0; color: #1F2937; border: 1px solid #E5E7EB; border-left: 3px solid #9CA3AF; padding: 10px 12px; border-radius: 4px;\\\">\n",
    "        <em>\\\"{query}\\\"</em>\n",
    "      </p>\n",
    "      <hr style=\\\"border: none; border-top: 1px dashed #D1D5DB; margin-bottom: 15px;\\\">\n",
    "      <p style=\\\"margin: 0 0 10px 0; color: #6B7280; font-size: 14px;\\\">\n",
    "        <strong>Result:</strong>\n",
    "      </p>\n",
    "      <div style=\\\"background-color: #FFFFFF; padding: 15px; border-radius: 5px; border: 1px solid #E5E7EB; color: #1F2937; font-size: 15px; line-height: 1.6;\\\">\n",
    "        {response}\n",
    "      </div>\n",
    "    </div>\n",
    "  </div>\n",
    "  \"\"\"\n",
    "  display(Markdown(output))"
   ]
  },
  {
   "cell_type": "markdown",
   "metadata": {},
   "source": [
    "### Initialize Aurite"
   ]
  },
  {
   "cell_type": "code",
   "execution_count": 11,
   "metadata": {},
   "outputs": [],
   "source": [
    "from aurite import Aurite\n",
    "from aurite.lib.config.config_models import AgentConfig\n",
    "\n",
    "aurite = Aurite()\n",
    "await aurite.initialize()"
   ]
  },
  {
   "cell_type": "markdown",
   "metadata": {},
   "source": [
    "---"
   ]
  },
  {
   "cell_type": "markdown",
   "metadata": {},
   "source": [
    "## Section 2: The Challenges\n",
    "\n",
    "Your task is to complete **one or more** of the following challenges. For each challenge, you will create a new agent by defining an `AgentConfig`, registering it, and then running it with a specific query. The key is to select the correct `mcp_servers` from the toolbox and write a system prompt that clearly instructs the agent on its goal and how to use its tools.\n",
    "\n",
    "**Reference:** You can find the full list of tools in the **[Packaged MCP Servers Directory](../toolbox/mcp_server_directory.md)**."
   ]
  },
  {
   "cell_type": "markdown",
   "metadata": {},
   "source": [
    "### Challenge A: The File Organizer Agent"
   ]
  },
  {
   "cell_type": "markdown",
   "metadata": {},
   "source": [
    "*   **Goal:** Create an agent that can manage files on a local computer.\n",
    "*   **Tool Server:** `desktop_commander`\n",
    "*   **Task:**\n",
    "    1.  Create an agent named \"File Organizer\".\n",
    "    2.  Write a system prompt that instructs the agent its job is to manage files and directories.\n",
    "    3.  Give the agent a query that asks it to first **create a new directory** named `my-agent-creations` and then **write a file** inside that new directory named `hello_world.txt` with the content \"Hello from my Aurite agent!\".\n",
    "*   **Hint:** The agent will need to use two tools in sequence: `create_directory` and then `write_file`. Your prompt should guide it to understand this two-step process."
   ]
  },
  {
   "cell_type": "code",
   "execution_count": 12,
   "metadata": {},
   "outputs": [],
   "source": [
    "# Your code for Challenge A here\n",
    "# 1. Define your AgentConfig\n",
    "\n",
    "# 2. Register your agent\n",
    "\n",
    "# 3. Define your user query\n",
    "\n",
    "# 4. Run the agent\n",
    "\n",
    "# 5. Display the result"
   ]
  },
  {
   "cell_type": "markdown",
   "metadata": {},
   "source": [
    "### Challenge B: The AI Research Assistant"
   ]
  },
  {
   "cell_type": "markdown",
   "metadata": {},
   "source": [
    "*   **Goal:** Create an agent that can find academic papers.\n",
    "*   **Tool Server:** `paper_search`\n",
    "*   **Task:**\n",
    "    1.  Create an agent named \"Research Assistant\".\n",
    "    2.  Write a system prompt that defines its role as an academic researcher who specializes in searching arXiv.\n",
    "    3.  Give the agent a query asking it to **find recent research papers on the topic of \\\"Large Language Model Agents\\\" using the arXiv search tool**.\n",
    "*   **Hint:** The `paper_search` server has a specific tool called `search_arxiv`. Your prompt should guide the agent to use this tool."
   ]
  },
  {
   "cell_type": "code",
   "execution_count": 13,
   "metadata": {},
   "outputs": [],
   "source": [
    "# Your code for Challenge B here"
   ]
  },
  {
   "cell_type": "markdown",
   "metadata": {},
   "source": [
    "### Challenge C: The App Store Analyst"
   ]
  },
  {
   "cell_type": "markdown",
   "metadata": {},
   "source": [
    "*   **Goal:** Create an agent that can provide insights about mobile applications.\n",
    "*   **Tool Server:** `appinsightmcp`\n",
    "*   **Task:**\n",
    "    1.  Create an agent named \"App Store Analyst\".\n",
    "    2.  Write a system prompt that explains its job is to find and report on mobile apps.\n",
    "    3.  Give the agent a query asking it to **\"find the top 5 free social media apps on the Google Play store\"**.\n",
    "*   **Hint:** The `appinsightmcp` server has many tools. Review its documentation to see which tool is best for finding top apps in a specific category. Your prompt should guide the agent toward this tool."
   ]
  },
  {
   "cell_type": "code",
   "execution_count": 14,
   "metadata": {},
   "outputs": [],
   "source": [
    "# Your code for Challenge C here"
   ]
  },
  {
   "cell_type": "markdown",
   "metadata": {},
   "source": [
    "## Next Steps\n",
    "\n",
    "Once you've completed the challenges, you can compare your work with the official solutions in the next notebook. After that, you'll be ready to move on to more advanced topics!\n",
    "\n",
    "**[➡️ Open Tutorial 4: Agent Challenge Solutions](https://colab.research.google.com/drive/10rvdOIZ-FgwhWqUMkweRyLaevGR27S-M?usp=sharing)**"
   ]
  }
 ],
 "metadata": {
  "kernelspec": {
   "display_name": "notebook-venv",
   "language": "python",
   "name": "python3"
  },
  "language_info": {
   "codemirror_mode": {
    "name": "ipython",
    "version": 3
   },
   "file_extension": ".py",
   "mimetype": "text/x-python",
   "name": "python",
   "nbconvert_exporter": "python",
   "pygments_lexer": "ipython3",
   "version": "3.11.11"
  }
 },
 "nbformat": 4,
 "nbformat_minor": 2
}
