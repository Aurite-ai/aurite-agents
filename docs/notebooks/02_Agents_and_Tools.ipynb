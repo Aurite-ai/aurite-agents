{
 "cells": [
  {
   "cell_type": "markdown",
   "metadata": {},
   "source": [
    "# Aurite Agents Tutorial 2: Giving Agents Tools with MCP Servers\n",
    "\n",
    "Welcome to the second tutorial in the Aurite Agents series! In the previous tutorial, we learned how to create and configure a basic agent. Now, we'll explore one of the most powerful features of the framework: giving agents **Tools** to interact with the outside world.\n",
    "\n",
    "In Aurite, tools are provided by **Model Context Protocol (MCP) Servers**. These are external programs that can do anything from searching the web to analyzing data. By connecting an agent to an MCP Server, you give it access to all the tools that server provides (you can also exclude specific tools that you don't want agents to acess when you are adding new mcp server configurations).\n",
    "\n",
    "### What You'll Learn\n",
    "\n",
    "In this notebook, you will learn:\n",
    "\n",
    "1.  **What an MCP Server is** and how to configure one using a `ClientConfig` object.\n",
    "2.  How to connect to a tool server that runs on the web (using the `http_stream` transport), which is perfect for cloud environments like Google Colab.\n",
    "3.  How to use the library of **pre-packaged tools** that comes built-in with the `aurite` package."
   ]
  },
  {
   "cell_type": "markdown",
   "metadata": {},
   "source": [
    "## Section 1: Setup"
   ]
  },
  {
   "cell_type": "markdown",
   "metadata": {},
   "source": [
    "### Step 1.1: Install Dependencies\n",
    "\n",
    "First, let's install the `aurite` package."
   ]
  },
  {
   "cell_type": "code",
   "execution_count": 21,
   "metadata": {},
   "outputs": [
    {
     "name": "stdout",
     "output_type": "stream",
     "text": [
      "Requirement already satisfied: aurite in /home/wilcoxr/workspace/aurite/aurite-agents/notebook-venv/lib/python3.11/site-packages (0.3.6)\n",
      "Requirement already satisfied: mcp>=1.8.1 in /home/wilcoxr/workspace/aurite/aurite-agents/notebook-venv/lib/python3.11/site-packages (from aurite) (1.9.3)\n",
      "Requirement already satisfied: httpx>=0.28.1 in /home/wilcoxr/workspace/aurite/aurite-agents/notebook-venv/lib/python3.11/site-packages (from aurite) (0.28.1)\n",
      "Requirement already satisfied: anyio>=4.8.0 in /home/wilcoxr/workspace/aurite/aurite-agents/notebook-venv/lib/python3.11/site-packages (from aurite) (4.9.0)\n",
      "Requirement already satisfied: sqlalchemy>=2.0.39 in /home/wilcoxr/workspace/aurite/aurite-agents/notebook-venv/lib/python3.11/site-packages (from aurite) (2.0.41)\n",
      "Requirement already satisfied: anthropic>=0.49.0 in /home/wilcoxr/workspace/aurite/aurite-agents/notebook-venv/lib/python3.11/site-packages (from aurite) (0.52.2)\n",
      "Requirement already satisfied: annotated-types>=0.7.0 in /home/wilcoxr/workspace/aurite/aurite-agents/notebook-venv/lib/python3.11/site-packages (from aurite) (0.7.0)\n",
      "Requirement already satisfied: certifi>=2025.1.31 in /home/wilcoxr/workspace/aurite/aurite-agents/notebook-venv/lib/python3.11/site-packages (from aurite) (2025.4.26)\n",
      "Requirement already satisfied: cffi>=1.17.1 in /home/wilcoxr/workspace/aurite/aurite-agents/notebook-venv/lib/python3.11/site-packages (from aurite) (1.17.1)\n",
      "Requirement already satisfied: click>=8.1.8 in /home/wilcoxr/workspace/aurite/aurite-agents/notebook-venv/lib/python3.11/site-packages (from aurite) (8.2.1)\n",
      "Requirement already satisfied: cryptography<44,>=41.0.5 in /home/wilcoxr/workspace/aurite/aurite-agents/notebook-venv/lib/python3.11/site-packages (from aurite) (43.0.3)\n",
      "Requirement already satisfied: distro>=1.9.0 in /home/wilcoxr/workspace/aurite/aurite-agents/notebook-venv/lib/python3.11/site-packages (from aurite) (1.9.0)\n",
      "Requirement already satisfied: google-genai>=1.11.0 in /home/wilcoxr/workspace/aurite/aurite-agents/notebook-venv/lib/python3.11/site-packages (from aurite) (1.19.0)\n",
      "Requirement already satisfied: greenlet>=3.1.1 in /home/wilcoxr/workspace/aurite/aurite-agents/notebook-venv/lib/python3.11/site-packages (from aurite) (3.2.3)\n",
      "Requirement already satisfied: h11>=0.14.0 in /home/wilcoxr/workspace/aurite/aurite-agents/notebook-venv/lib/python3.11/site-packages (from aurite) (0.16.0)\n",
      "Requirement already satisfied: httpcore>=1.0.7 in /home/wilcoxr/workspace/aurite/aurite-agents/notebook-venv/lib/python3.11/site-packages (from aurite) (1.0.9)\n",
      "Requirement already satisfied: httpx-sse>=0.4.0 in /home/wilcoxr/workspace/aurite/aurite-agents/notebook-venv/lib/python3.11/site-packages (from aurite) (0.4.0)\n",
      "Requirement already satisfied: idna>=3.10 in /home/wilcoxr/workspace/aurite/aurite-agents/notebook-venv/lib/python3.11/site-packages (from aurite) (3.10)\n",
      "Requirement already satisfied: iniconfig>=2.0.0 in /home/wilcoxr/workspace/aurite/aurite-agents/notebook-venv/lib/python3.11/site-packages (from aurite) (2.1.0)\n",
      "Requirement already satisfied: jiter<0.9,>=0.6.1 in /home/wilcoxr/workspace/aurite/aurite-agents/notebook-venv/lib/python3.11/site-packages (from aurite) (0.8.2)\n",
      "Requirement already satisfied: mem0ai>=0.1.67 in /home/wilcoxr/workspace/aurite/aurite-agents/notebook-venv/lib/python3.11/site-packages (from aurite) (0.1.104)\n",
      "Requirement already satisfied: packaging>=24.2 in /home/wilcoxr/workspace/aurite/aurite-agents/notebook-venv/lib/python3.11/site-packages (from aurite) (25.0)\n",
      "Requirement already satisfied: colorlog>=6.0.0 in /home/wilcoxr/workspace/aurite/aurite-agents/notebook-venv/lib/python3.11/site-packages (from aurite) (6.9.0)\n",
      "Requirement already satisfied: termcolor>=3.0.0 in /home/wilcoxr/workspace/aurite/aurite-agents/notebook-venv/lib/python3.11/site-packages (from aurite) (3.1.0)\n",
      "Requirement already satisfied: pluggy>=1.5.0 in /home/wilcoxr/workspace/aurite/aurite-agents/notebook-venv/lib/python3.11/site-packages (from aurite) (1.6.0)\n",
      "Requirement already satisfied: psycopg2-binary>=2.9.10 in /home/wilcoxr/workspace/aurite/aurite-agents/notebook-venv/lib/python3.11/site-packages (from aurite) (2.9.10)\n",
      "Requirement already satisfied: alembic>=1.13.1 in /home/wilcoxr/workspace/aurite/aurite-agents/notebook-venv/lib/python3.11/site-packages (from aurite) (1.16.1)\n",
      "Requirement already satisfied: pycparser>=2.22 in /home/wilcoxr/workspace/aurite/aurite-agents/notebook-venv/lib/python3.11/site-packages (from aurite) (2.22)\n",
      "Requirement already satisfied: pydantic>=2.10.6 in /home/wilcoxr/workspace/aurite/aurite-agents/notebook-venv/lib/python3.11/site-packages (from aurite) (2.11.5)\n",
      "Requirement already satisfied: pydantic-settings>=2.8.1 in /home/wilcoxr/workspace/aurite/aurite-agents/notebook-venv/lib/python3.11/site-packages (from aurite) (2.9.1)\n",
      "Requirement already satisfied: pydantic_core>=2.27.2 in /home/wilcoxr/workspace/aurite/aurite-agents/notebook-venv/lib/python3.11/site-packages (from aurite) (2.33.2)\n",
      "Requirement already satisfied: pydub>=0.25.1 in /home/wilcoxr/workspace/aurite/aurite-agents/notebook-venv/lib/python3.11/site-packages (from aurite) (0.25.1)\n",
      "Requirement already satisfied: PyMySQL>=1.1.1 in /home/wilcoxr/workspace/aurite/aurite-agents/notebook-venv/lib/python3.11/site-packages (from aurite) (1.1.1)\n",
      "Requirement already satisfied: python-dateutil>=2.9.0.post0 in /home/wilcoxr/workspace/aurite/aurite-agents/notebook-venv/lib/python3.11/site-packages (from aurite) (2.9.0.post0)\n",
      "Requirement already satisfied: openai-agents-mcp in /home/wilcoxr/workspace/aurite/aurite-agents/notebook-venv/lib/python3.11/site-packages (from aurite) (0.0.8)\n",
      "Requirement already satisfied: python-dotenv>=1.0.1 in /home/wilcoxr/workspace/aurite/aurite-agents/notebook-venv/lib/python3.11/site-packages (from aurite) (1.1.0)\n",
      "Requirement already satisfied: pytz>=2024.1 in /home/wilcoxr/workspace/aurite/aurite-agents/notebook-venv/lib/python3.11/site-packages (from aurite) (2025.2)\n",
      "Requirement already satisfied: pyyaml>=6.0.2 in /home/wilcoxr/workspace/aurite/aurite-agents/notebook-venv/lib/python3.11/site-packages (from aurite) (6.0.2)\n",
      "Requirement already satisfied: redis>=5.0.0 in /home/wilcoxr/workspace/aurite/aurite-agents/notebook-venv/lib/python3.11/site-packages (from aurite) (6.2.0)\n",
      "Requirement already satisfied: six>=1.17.0 in /home/wilcoxr/workspace/aurite/aurite-agents/notebook-venv/lib/python3.11/site-packages (from aurite) (1.17.0)\n",
      "Requirement already satisfied: sniffio>=1.3.1 in /home/wilcoxr/workspace/aurite/aurite-agents/notebook-venv/lib/python3.11/site-packages (from aurite) (1.3.1)\n",
      "Requirement already satisfied: jsonschema in /home/wilcoxr/workspace/aurite/aurite-agents/notebook-venv/lib/python3.11/site-packages (from aurite) (4.24.0)\n",
      "Requirement already satisfied: sse-starlette>=2.2.1 in /home/wilcoxr/workspace/aurite/aurite-agents/notebook-venv/lib/python3.11/site-packages (from aurite) (2.3.6)\n",
      "Requirement already satisfied: starlette>=0.46.1 in /home/wilcoxr/workspace/aurite/aurite-agents/notebook-venv/lib/python3.11/site-packages (from aurite) (0.46.2)\n",
      "Requirement already satisfied: typing_extensions>=4.12.2 in /home/wilcoxr/workspace/aurite/aurite-agents/notebook-venv/lib/python3.11/site-packages (from aurite) (4.14.0)\n",
      "Requirement already satisfied: typer>=0.9.0 in /home/wilcoxr/workspace/aurite/aurite-agents/notebook-venv/lib/python3.11/site-packages (from aurite) (0.16.0)\n",
      "Requirement already satisfied: tzdata>=2025.1 in /home/wilcoxr/workspace/aurite/aurite-agents/notebook-venv/lib/python3.11/site-packages (from aurite) (2025.2)\n",
      "Requirement already satisfied: uvicorn>=0.34.0 in /home/wilcoxr/workspace/aurite/aurite-agents/notebook-venv/lib/python3.11/site-packages (from aurite) (0.34.3)\n",
      "Requirement already satisfied: fastapi in /home/wilcoxr/workspace/aurite/aurite-agents/notebook-venv/lib/python3.11/site-packages (from aurite) (0.115.12)\n",
      "Requirement already satisfied: google-cloud-secret-manager>=2.19.0 in /home/wilcoxr/workspace/aurite/aurite-agents/notebook-venv/lib/python3.11/site-packages (from aurite) (2.24.0)\n",
      "Requirement already satisfied: Mako in /home/wilcoxr/workspace/aurite/aurite-agents/notebook-venv/lib/python3.11/site-packages (from alembic>=1.13.1->aurite) (1.3.10)\n",
      "Requirement already satisfied: typing-inspection>=0.4.0 in /home/wilcoxr/workspace/aurite/aurite-agents/notebook-venv/lib/python3.11/site-packages (from pydantic>=2.10.6->aurite) (0.4.1)\n",
      "Requirement already satisfied: google-api-core!=2.0.*,!=2.1.*,!=2.10.*,!=2.2.*,!=2.3.*,!=2.4.*,!=2.5.*,!=2.6.*,!=2.7.*,!=2.8.*,!=2.9.*,<3.0.0,>=1.34.1 in /home/wilcoxr/workspace/aurite/aurite-agents/notebook-venv/lib/python3.11/site-packages (from google-api-core[grpc]!=2.0.*,!=2.1.*,!=2.10.*,!=2.2.*,!=2.3.*,!=2.4.*,!=2.5.*,!=2.6.*,!=2.7.*,!=2.8.*,!=2.9.*,<3.0.0,>=1.34.1->google-cloud-secret-manager>=2.19.0->aurite) (2.25.0)\n",
      "Requirement already satisfied: google-auth!=2.24.0,!=2.25.0,<3.0.0,>=2.14.1 in /home/wilcoxr/workspace/aurite/aurite-agents/notebook-venv/lib/python3.11/site-packages (from google-cloud-secret-manager>=2.19.0->aurite) (2.40.3)\n",
      "Requirement already satisfied: proto-plus<2.0.0,>=1.22.3 in /home/wilcoxr/workspace/aurite/aurite-agents/notebook-venv/lib/python3.11/site-packages (from google-cloud-secret-manager>=2.19.0->aurite) (1.26.1)\n",
      "Requirement already satisfied: protobuf!=4.21.0,!=4.21.1,!=4.21.2,!=4.21.3,!=4.21.4,!=4.21.5,<7.0.0,>=3.20.2 in /home/wilcoxr/workspace/aurite/aurite-agents/notebook-venv/lib/python3.11/site-packages (from google-cloud-secret-manager>=2.19.0->aurite) (5.29.5)\n",
      "Requirement already satisfied: grpc-google-iam-v1<1.0.0,>=0.14.0 in /home/wilcoxr/workspace/aurite/aurite-agents/notebook-venv/lib/python3.11/site-packages (from google-cloud-secret-manager>=2.19.0->aurite) (0.14.2)\n",
      "Requirement already satisfied: googleapis-common-protos<2.0.0,>=1.56.2 in /home/wilcoxr/workspace/aurite/aurite-agents/notebook-venv/lib/python3.11/site-packages (from google-api-core!=2.0.*,!=2.1.*,!=2.10.*,!=2.2.*,!=2.3.*,!=2.4.*,!=2.5.*,!=2.6.*,!=2.7.*,!=2.8.*,!=2.9.*,<3.0.0,>=1.34.1->google-api-core[grpc]!=2.0.*,!=2.1.*,!=2.10.*,!=2.2.*,!=2.3.*,!=2.4.*,!=2.5.*,!=2.6.*,!=2.7.*,!=2.8.*,!=2.9.*,<3.0.0,>=1.34.1->google-cloud-secret-manager>=2.19.0->aurite) (1.70.0)\n",
      "Requirement already satisfied: requests<3.0.0,>=2.18.0 in /home/wilcoxr/workspace/aurite/aurite-agents/notebook-venv/lib/python3.11/site-packages (from google-api-core!=2.0.*,!=2.1.*,!=2.10.*,!=2.2.*,!=2.3.*,!=2.4.*,!=2.5.*,!=2.6.*,!=2.7.*,!=2.8.*,!=2.9.*,<3.0.0,>=1.34.1->google-api-core[grpc]!=2.0.*,!=2.1.*,!=2.10.*,!=2.2.*,!=2.3.*,!=2.4.*,!=2.5.*,!=2.6.*,!=2.7.*,!=2.8.*,!=2.9.*,<3.0.0,>=1.34.1->google-cloud-secret-manager>=2.19.0->aurite) (2.32.3)\n",
      "Requirement already satisfied: grpcio<2.0.0,>=1.33.2 in /home/wilcoxr/workspace/aurite/aurite-agents/notebook-venv/lib/python3.11/site-packages (from google-api-core[grpc]!=2.0.*,!=2.1.*,!=2.10.*,!=2.2.*,!=2.3.*,!=2.4.*,!=2.5.*,!=2.6.*,!=2.7.*,!=2.8.*,!=2.9.*,<3.0.0,>=1.34.1->google-cloud-secret-manager>=2.19.0->aurite) (1.72.1)\n",
      "Requirement already satisfied: grpcio-status<2.0.0,>=1.33.2 in /home/wilcoxr/workspace/aurite/aurite-agents/notebook-venv/lib/python3.11/site-packages (from google-api-core[grpc]!=2.0.*,!=2.1.*,!=2.10.*,!=2.2.*,!=2.3.*,!=2.4.*,!=2.5.*,!=2.6.*,!=2.7.*,!=2.8.*,!=2.9.*,<3.0.0,>=1.34.1->google-cloud-secret-manager>=2.19.0->aurite) (1.71.0)\n",
      "Requirement already satisfied: cachetools<6.0,>=2.0.0 in /home/wilcoxr/workspace/aurite/aurite-agents/notebook-venv/lib/python3.11/site-packages (from google-auth!=2.24.0,!=2.25.0,<3.0.0,>=2.14.1->google-cloud-secret-manager>=2.19.0->aurite) (5.5.2)\n",
      "Requirement already satisfied: pyasn1-modules>=0.2.1 in /home/wilcoxr/workspace/aurite/aurite-agents/notebook-venv/lib/python3.11/site-packages (from google-auth!=2.24.0,!=2.25.0,<3.0.0,>=2.14.1->google-cloud-secret-manager>=2.19.0->aurite) (0.4.2)\n",
      "Requirement already satisfied: rsa<5,>=3.1.4 in /home/wilcoxr/workspace/aurite/aurite-agents/notebook-venv/lib/python3.11/site-packages (from google-auth!=2.24.0,!=2.25.0,<3.0.0,>=2.14.1->google-cloud-secret-manager>=2.19.0->aurite) (4.9.1)\n",
      "Requirement already satisfied: charset-normalizer<4,>=2 in /home/wilcoxr/workspace/aurite/aurite-agents/notebook-venv/lib/python3.11/site-packages (from requests<3.0.0,>=2.18.0->google-api-core!=2.0.*,!=2.1.*,!=2.10.*,!=2.2.*,!=2.3.*,!=2.4.*,!=2.5.*,!=2.6.*,!=2.7.*,!=2.8.*,!=2.9.*,<3.0.0,>=1.34.1->google-api-core[grpc]!=2.0.*,!=2.1.*,!=2.10.*,!=2.2.*,!=2.3.*,!=2.4.*,!=2.5.*,!=2.6.*,!=2.7.*,!=2.8.*,!=2.9.*,<3.0.0,>=1.34.1->google-cloud-secret-manager>=2.19.0->aurite) (3.4.2)\n",
      "Requirement already satisfied: urllib3<3,>=1.21.1 in /home/wilcoxr/workspace/aurite/aurite-agents/notebook-venv/lib/python3.11/site-packages (from requests<3.0.0,>=2.18.0->google-api-core!=2.0.*,!=2.1.*,!=2.10.*,!=2.2.*,!=2.3.*,!=2.4.*,!=2.5.*,!=2.6.*,!=2.7.*,!=2.8.*,!=2.9.*,<3.0.0,>=1.34.1->google-api-core[grpc]!=2.0.*,!=2.1.*,!=2.10.*,!=2.2.*,!=2.3.*,!=2.4.*,!=2.5.*,!=2.6.*,!=2.7.*,!=2.8.*,!=2.9.*,<3.0.0,>=1.34.1->google-cloud-secret-manager>=2.19.0->aurite) (2.4.0)\n",
      "Requirement already satisfied: pyasn1>=0.1.3 in /home/wilcoxr/workspace/aurite/aurite-agents/notebook-venv/lib/python3.11/site-packages (from rsa<5,>=3.1.4->google-auth!=2.24.0,!=2.25.0,<3.0.0,>=2.14.1->google-cloud-secret-manager>=2.19.0->aurite) (0.6.1)\n",
      "Requirement already satisfied: websockets<15.1.0,>=13.0.0 in /home/wilcoxr/workspace/aurite/aurite-agents/notebook-venv/lib/python3.11/site-packages (from google-genai>=1.11.0->aurite) (15.0.1)\n",
      "Requirement already satisfied: python-multipart>=0.0.9 in /home/wilcoxr/workspace/aurite/aurite-agents/notebook-venv/lib/python3.11/site-packages (from mcp>=1.8.1->aurite) (0.0.20)\n",
      "Requirement already satisfied: openai>=1.33.0 in /home/wilcoxr/workspace/aurite/aurite-agents/notebook-venv/lib/python3.11/site-packages (from mem0ai>=0.1.67->aurite) (1.84.0)\n",
      "Requirement already satisfied: posthog>=3.5.0 in /home/wilcoxr/workspace/aurite/aurite-agents/notebook-venv/lib/python3.11/site-packages (from mem0ai>=0.1.67->aurite) (4.4.0)\n",
      "Requirement already satisfied: qdrant-client>=1.9.1 in /home/wilcoxr/workspace/aurite/aurite-agents/notebook-venv/lib/python3.11/site-packages (from mem0ai>=0.1.67->aurite) (1.14.2)\n",
      "Requirement already satisfied: tqdm>4 in /home/wilcoxr/workspace/aurite/aurite-agents/notebook-venv/lib/python3.11/site-packages (from openai>=1.33.0->mem0ai>=0.1.67->aurite) (4.67.1)\n",
      "Requirement already satisfied: backoff>=1.10.0 in /home/wilcoxr/workspace/aurite/aurite-agents/notebook-venv/lib/python3.11/site-packages (from posthog>=3.5.0->mem0ai>=0.1.67->aurite) (2.2.1)\n",
      "Requirement already satisfied: numpy>=1.21 in /home/wilcoxr/workspace/aurite/aurite-agents/notebook-venv/lib/python3.11/site-packages (from qdrant-client>=1.9.1->mem0ai>=0.1.67->aurite) (2.3.0)\n",
      "Requirement already satisfied: portalocker<3.0.0,>=2.7.0 in /home/wilcoxr/workspace/aurite/aurite-agents/notebook-venv/lib/python3.11/site-packages (from qdrant-client>=1.9.1->mem0ai>=0.1.67->aurite) (2.10.1)\n",
      "Requirement already satisfied: h2<5,>=3 in /home/wilcoxr/workspace/aurite/aurite-agents/notebook-venv/lib/python3.11/site-packages (from httpx[http2]>=0.20.0->qdrant-client>=1.9.1->mem0ai>=0.1.67->aurite) (4.2.0)\n",
      "Requirement already satisfied: hyperframe<7,>=6.1 in /home/wilcoxr/workspace/aurite/aurite-agents/notebook-venv/lib/python3.11/site-packages (from h2<5,>=3->httpx[http2]>=0.20.0->qdrant-client>=1.9.1->mem0ai>=0.1.67->aurite) (6.1.0)\n",
      "Requirement already satisfied: hpack<5,>=4.1 in /home/wilcoxr/workspace/aurite/aurite-agents/notebook-venv/lib/python3.11/site-packages (from h2<5,>=3->httpx[http2]>=0.20.0->qdrant-client>=1.9.1->mem0ai>=0.1.67->aurite) (4.1.0)\n",
      "Requirement already satisfied: shellingham>=1.3.0 in /home/wilcoxr/workspace/aurite/aurite-agents/notebook-venv/lib/python3.11/site-packages (from typer>=0.9.0->aurite) (1.5.4)\n",
      "Requirement already satisfied: rich>=10.11.0 in /home/wilcoxr/workspace/aurite/aurite-agents/notebook-venv/lib/python3.11/site-packages (from typer>=0.9.0->aurite) (13.9.4)\n",
      "Requirement already satisfied: markdown-it-py>=2.2.0 in /home/wilcoxr/workspace/aurite/aurite-agents/notebook-venv/lib/python3.11/site-packages (from rich>=10.11.0->typer>=0.9.0->aurite) (3.0.0)\n",
      "Requirement already satisfied: pygments<3.0.0,>=2.13.0 in /home/wilcoxr/workspace/aurite/aurite-agents/notebook-venv/lib/python3.11/site-packages (from rich>=10.11.0->typer>=0.9.0->aurite) (2.19.1)\n",
      "Requirement already satisfied: mdurl~=0.1 in /home/wilcoxr/workspace/aurite/aurite-agents/notebook-venv/lib/python3.11/site-packages (from markdown-it-py>=2.2.0->rich>=10.11.0->typer>=0.9.0->aurite) (0.1.2)\n",
      "Requirement already satisfied: attrs>=22.2.0 in /home/wilcoxr/workspace/aurite/aurite-agents/notebook-venv/lib/python3.11/site-packages (from jsonschema->aurite) (25.3.0)\n",
      "Requirement already satisfied: jsonschema-specifications>=2023.03.6 in /home/wilcoxr/workspace/aurite/aurite-agents/notebook-venv/lib/python3.11/site-packages (from jsonschema->aurite) (2025.4.1)\n",
      "Requirement already satisfied: referencing>=0.28.4 in /home/wilcoxr/workspace/aurite/aurite-agents/notebook-venv/lib/python3.11/site-packages (from jsonschema->aurite) (0.36.2)\n",
      "Requirement already satisfied: rpds-py>=0.7.1 in /home/wilcoxr/workspace/aurite/aurite-agents/notebook-venv/lib/python3.11/site-packages (from jsonschema->aurite) (0.25.1)\n",
      "Requirement already satisfied: MarkupSafe>=0.9.2 in /home/wilcoxr/workspace/aurite/aurite-agents/notebook-venv/lib/python3.11/site-packages (from Mako->alembic>=1.13.1->aurite) (3.0.2)\n",
      "Requirement already satisfied: mcp-agent>=0.0.13 in /home/wilcoxr/workspace/aurite/aurite-agents/notebook-venv/lib/python3.11/site-packages (from openai-agents-mcp->aurite) (0.1.1)\n",
      "Requirement already satisfied: openai-agents>=0.0.5 in /home/wilcoxr/workspace/aurite/aurite-agents/notebook-venv/lib/python3.11/site-packages (from openai-agents-mcp->aurite) (0.0.17)\n",
      "Requirement already satisfied: aiohttp>=3.11.13 in /home/wilcoxr/workspace/aurite/aurite-agents/notebook-venv/lib/python3.11/site-packages (from mcp-agent>=0.0.13->openai-agents-mcp->aurite) (3.12.11)\n",
      "Requirement already satisfied: instructor>=1.7.9 in /home/wilcoxr/workspace/aurite/aurite-agents/notebook-venv/lib/python3.11/site-packages (from mcp-agent>=0.0.13->openai-agents-mcp->aurite) (1.8.3)\n",
      "Requirement already satisfied: opentelemetry-distro>=0.50b0 in /home/wilcoxr/workspace/aurite/aurite-agents/notebook-venv/lib/python3.11/site-packages (from mcp-agent>=0.0.13->openai-agents-mcp->aurite) (0.55b0)\n",
      "Requirement already satisfied: opentelemetry-exporter-otlp-proto-http>=1.29.0 in /home/wilcoxr/workspace/aurite/aurite-agents/notebook-venv/lib/python3.11/site-packages (from mcp-agent>=0.0.13->openai-agents-mcp->aurite) (1.34.0)\n",
      "Requirement already satisfied: opentelemetry-instrumentation-anthropic>=0.39.3 in /home/wilcoxr/workspace/aurite/aurite-agents/notebook-venv/lib/python3.11/site-packages (from mcp-agent>=0.0.13->openai-agents-mcp->aurite) (0.40.7)\n",
      "Requirement already satisfied: opentelemetry-instrumentation-openai>=0.39.3 in /home/wilcoxr/workspace/aurite/aurite-agents/notebook-venv/lib/python3.11/site-packages (from mcp-agent>=0.0.13->openai-agents-mcp->aurite) (0.40.7)\n",
      "Requirement already satisfied: prompt-toolkit>=3.0.50 in /home/wilcoxr/workspace/aurite/aurite-agents/notebook-venv/lib/python3.11/site-packages (from mcp-agent>=0.0.13->openai-agents-mcp->aurite) (3.0.51)\n",
      "Requirement already satisfied: scikit-learn>=1.6.0 in /home/wilcoxr/workspace/aurite/aurite-agents/notebook-venv/lib/python3.11/site-packages (from mcp-agent>=0.0.13->openai-agents-mcp->aurite) (1.7.0)\n",
      "Requirement already satisfied: aiohappyeyeballs>=2.5.0 in /home/wilcoxr/workspace/aurite/aurite-agents/notebook-venv/lib/python3.11/site-packages (from aiohttp>=3.11.13->mcp-agent>=0.0.13->openai-agents-mcp->aurite) (2.6.1)\n",
      "Requirement already satisfied: aiosignal>=1.1.2 in /home/wilcoxr/workspace/aurite/aurite-agents/notebook-venv/lib/python3.11/site-packages (from aiohttp>=3.11.13->mcp-agent>=0.0.13->openai-agents-mcp->aurite) (1.3.2)\n",
      "Requirement already satisfied: frozenlist>=1.1.1 in /home/wilcoxr/workspace/aurite/aurite-agents/notebook-venv/lib/python3.11/site-packages (from aiohttp>=3.11.13->mcp-agent>=0.0.13->openai-agents-mcp->aurite) (1.6.2)\n",
      "Requirement already satisfied: multidict<7.0,>=4.5 in /home/wilcoxr/workspace/aurite/aurite-agents/notebook-venv/lib/python3.11/site-packages (from aiohttp>=3.11.13->mcp-agent>=0.0.13->openai-agents-mcp->aurite) (6.4.4)\n",
      "Requirement already satisfied: propcache>=0.2.0 in /home/wilcoxr/workspace/aurite/aurite-agents/notebook-venv/lib/python3.11/site-packages (from aiohttp>=3.11.13->mcp-agent>=0.0.13->openai-agents-mcp->aurite) (0.3.1)\n",
      "Requirement already satisfied: yarl<2.0,>=1.17.0 in /home/wilcoxr/workspace/aurite/aurite-agents/notebook-venv/lib/python3.11/site-packages (from aiohttp>=3.11.13->mcp-agent>=0.0.13->openai-agents-mcp->aurite) (1.20.0)\n",
      "Requirement already satisfied: docstring-parser<1.0,>=0.16 in /home/wilcoxr/workspace/aurite/aurite-agents/notebook-venv/lib/python3.11/site-packages (from instructor>=1.7.9->mcp-agent>=0.0.13->openai-agents-mcp->aurite) (0.16)\n",
      "Requirement already satisfied: jinja2<4.0.0,>=3.1.4 in /home/wilcoxr/workspace/aurite/aurite-agents/notebook-venv/lib/python3.11/site-packages (from instructor>=1.7.9->mcp-agent>=0.0.13->openai-agents-mcp->aurite) (3.1.6)\n",
      "Requirement already satisfied: tenacity<10.0.0,>=9.0.0 in /home/wilcoxr/workspace/aurite/aurite-agents/notebook-venv/lib/python3.11/site-packages (from instructor>=1.7.9->mcp-agent>=0.0.13->openai-agents-mcp->aurite) (9.1.2)\n",
      "Requirement already satisfied: griffe<2,>=1.5.6 in /home/wilcoxr/workspace/aurite/aurite-agents/notebook-venv/lib/python3.11/site-packages (from openai-agents>=0.0.5->openai-agents-mcp->aurite) (1.7.3)\n",
      "Requirement already satisfied: types-requests<3,>=2.0 in /home/wilcoxr/workspace/aurite/aurite-agents/notebook-venv/lib/python3.11/site-packages (from openai-agents>=0.0.5->openai-agents-mcp->aurite) (2.32.0.20250602)\n",
      "Requirement already satisfied: colorama>=0.4 in /home/wilcoxr/workspace/aurite/aurite-agents/notebook-venv/lib/python3.11/site-packages (from griffe<2,>=1.5.6->openai-agents>=0.0.5->openai-agents-mcp->aurite) (0.4.6)\n",
      "Requirement already satisfied: opentelemetry-api~=1.12 in /home/wilcoxr/workspace/aurite/aurite-agents/notebook-venv/lib/python3.11/site-packages (from opentelemetry-distro>=0.50b0->mcp-agent>=0.0.13->openai-agents-mcp->aurite) (1.34.0)\n",
      "Requirement already satisfied: opentelemetry-instrumentation==0.55b0 in /home/wilcoxr/workspace/aurite/aurite-agents/notebook-venv/lib/python3.11/site-packages (from opentelemetry-distro>=0.50b0->mcp-agent>=0.0.13->openai-agents-mcp->aurite) (0.55b0)\n",
      "Requirement already satisfied: opentelemetry-sdk~=1.13 in /home/wilcoxr/workspace/aurite/aurite-agents/notebook-venv/lib/python3.11/site-packages (from opentelemetry-distro>=0.50b0->mcp-agent>=0.0.13->openai-agents-mcp->aurite) (1.34.0)\n",
      "Requirement already satisfied: opentelemetry-semantic-conventions==0.55b0 in /home/wilcoxr/workspace/aurite/aurite-agents/notebook-venv/lib/python3.11/site-packages (from opentelemetry-instrumentation==0.55b0->opentelemetry-distro>=0.50b0->mcp-agent>=0.0.13->openai-agents-mcp->aurite) (0.55b0)\n",
      "Requirement already satisfied: wrapt<2.0.0,>=1.0.0 in /home/wilcoxr/workspace/aurite/aurite-agents/notebook-venv/lib/python3.11/site-packages (from opentelemetry-instrumentation==0.55b0->opentelemetry-distro>=0.50b0->mcp-agent>=0.0.13->openai-agents-mcp->aurite) (1.17.2)\n",
      "Requirement already satisfied: importlib-metadata<8.8.0,>=6.0 in /home/wilcoxr/workspace/aurite/aurite-agents/notebook-venv/lib/python3.11/site-packages (from opentelemetry-api~=1.12->opentelemetry-distro>=0.50b0->mcp-agent>=0.0.13->openai-agents-mcp->aurite) (8.7.0)\n",
      "Requirement already satisfied: zipp>=3.20 in /home/wilcoxr/workspace/aurite/aurite-agents/notebook-venv/lib/python3.11/site-packages (from importlib-metadata<8.8.0,>=6.0->opentelemetry-api~=1.12->opentelemetry-distro>=0.50b0->mcp-agent>=0.0.13->openai-agents-mcp->aurite) (3.22.0)\n",
      "Requirement already satisfied: opentelemetry-exporter-otlp-proto-common==1.34.0 in /home/wilcoxr/workspace/aurite/aurite-agents/notebook-venv/lib/python3.11/site-packages (from opentelemetry-exporter-otlp-proto-http>=1.29.0->mcp-agent>=0.0.13->openai-agents-mcp->aurite) (1.34.0)\n",
      "Requirement already satisfied: opentelemetry-proto==1.34.0 in /home/wilcoxr/workspace/aurite/aurite-agents/notebook-venv/lib/python3.11/site-packages (from opentelemetry-exporter-otlp-proto-http>=1.29.0->mcp-agent>=0.0.13->openai-agents-mcp->aurite) (1.34.0)\n",
      "Requirement already satisfied: opentelemetry-semantic-conventions-ai==0.4.9 in /home/wilcoxr/workspace/aurite/aurite-agents/notebook-venv/lib/python3.11/site-packages (from opentelemetry-instrumentation-anthropic>=0.39.3->mcp-agent>=0.0.13->openai-agents-mcp->aurite) (0.4.9)\n",
      "Requirement already satisfied: tiktoken<1,>=0.6.0 in /home/wilcoxr/workspace/aurite/aurite-agents/notebook-venv/lib/python3.11/site-packages (from opentelemetry-instrumentation-openai>=0.39.3->mcp-agent>=0.0.13->openai-agents-mcp->aurite) (0.9.0)\n",
      "Requirement already satisfied: regex>=2022.1.18 in /home/wilcoxr/workspace/aurite/aurite-agents/notebook-venv/lib/python3.11/site-packages (from tiktoken<1,>=0.6.0->opentelemetry-instrumentation-openai>=0.39.3->mcp-agent>=0.0.13->openai-agents-mcp->aurite) (2024.11.6)\n",
      "Requirement already satisfied: wcwidth in /home/wilcoxr/workspace/aurite/aurite-agents/notebook-venv/lib/python3.11/site-packages (from prompt-toolkit>=3.0.50->mcp-agent>=0.0.13->openai-agents-mcp->aurite) (0.2.13)\n",
      "Requirement already satisfied: scipy>=1.8.0 in /home/wilcoxr/workspace/aurite/aurite-agents/notebook-venv/lib/python3.11/site-packages (from scikit-learn>=1.6.0->mcp-agent>=0.0.13->openai-agents-mcp->aurite) (1.15.3)\n",
      "Requirement already satisfied: joblib>=1.2.0 in /home/wilcoxr/workspace/aurite/aurite-agents/notebook-venv/lib/python3.11/site-packages (from scikit-learn>=1.6.0->mcp-agent>=0.0.13->openai-agents-mcp->aurite) (1.5.1)\n",
      "Requirement already satisfied: threadpoolctl>=3.1.0 in /home/wilcoxr/workspace/aurite/aurite-agents/notebook-venv/lib/python3.11/site-packages (from scikit-learn>=1.6.0->mcp-agent>=0.0.13->openai-agents-mcp->aurite) (3.6.0)\n",
      "Note: you may need to restart the kernel to use updated packages.\n"
     ]
    }
   ],
   "source": [
    "%pip install aurite"
   ]
  },
  {
   "cell_type": "markdown",
   "metadata": {},
   "source": [
    "### Step 1.2: Configure OpenAI API Key\n",
    "\n",
    "Like in our previous notebooks, we need to configure our OpenAI API key. The cell below will prompt you to enter your key securely."
   ]
  },
  {
   "cell_type": "code",
   "execution_count": null,
   "metadata": {},
   "outputs": [
    {
     "name": "stdout",
     "output_type": "stream",
     "text": [
      "✅ OpenAI API key is set.\n"
     ]
    }
   ],
   "source": [
    "import os\n",
    "from getpass import getpass\n",
    "\n",
    "# Store the OpenAI API key in the notebook\n",
    "if \"OPENAI_API_KEY\" not in os.environ:\n",
    "    os.environ[\"OPENAI_API_KEY\"] = getpass(\"Enter your OpenAI API key: \")\n",
    "\n",
    "# check for the API key to ensure it's set\n",
    "if not os.environ[\"OPENAI_API_KEY\"]:\n",
    "    raise ValueError(\"OpenAI API key is required. Please set the OPENAI_API_KEY environment variable.\")\n",
    "\n",
    "print(\"✅ OpenAI API key is set.\")"
   ]
  },
  {
   "cell_type": "markdown",
   "metadata": {},
   "source": [
    "### Step 1.3: Configure Smithery API Keys\n",
    "\n",
    "Many of the pre-packaged tools in the Aurite toolbox are hosted on the **Smithery.ai** platform. Smithery makes it easy to deploy and share MCP servers. To use these tools, you'll need a free API key from their platform.\n",
    "\n",
    "1.  Go to [Smithery.ai](https://smithery.ai/) and create a free account.\n",
    "2.  Navigate to your profile to find your **API Key** and **Profile ID**.\n",
    "\n",
    "The cell below will prompt you to enter these keys so the framework can use them."
   ]
  },
  {
   "cell_type": "code",
   "execution_count": 29,
   "metadata": {},
   "outputs": [
    {
     "name": "stdout",
     "output_type": "stream",
     "text": [
      "✅ Smithery API key and Profile ID are set.\n"
     ]
    }
   ],
   "source": [
    "if \"SMITHERY_API_KEY\" not in os.environ:\n",
    "    os.environ[\"SMITHERY_API_KEY\"] = getpass(\"Enter your Smithery API key: \")\n",
    "if \"SMITHERY_PROFILE_ID\" not in os.environ:\n",
    "    os.environ[\"SMITHERY_PROFILE_ID\"] = getpass(\"Enter your Smithery Profile ID: \")\n",
    "\n",
    "# check for the Smithery API key and Profile ID to ensure they're set\n",
    "if not os.environ[\"SMITHERY_API_KEY\"] or not os.environ[\"SMITHERY_PROFILE_ID\"]:\n",
    "    raise ValueError(\"Smithery API key and Profile ID are required. Please set the SMITHERY_API_KEY and SMITHERY_PROFILE_ID environment variables`.\")\n",
    "\n",
    "print(\"✅ Smithery API key and Profile ID are set.\")"
   ]
  },
  {
   "cell_type": "markdown",
   "metadata": {},
   "source": [
    "## Step 1.4: Initialize Aurite\n",
    "\n",
    "Like we did in tutorial 1, we first need to create and initialize the main Aurite application."
   ]
  },
  {
   "cell_type": "code",
   "execution_count": 32,
   "metadata": {},
   "outputs": [
    {
     "name": "stderr",
     "output_type": "stream",
     "text": [
      "\u001b[32mINFO    \u001b[0m [aurite.config.component_manager] User project config directory not found at /home/wilcoxr/workspace/aurite/aurite-agents/docs/notebooks/config. No project-specific components will be loaded.\u001b[0m\n",
      "\u001b[33mWARNING \u001b[0m [aurite.config.project_manager] Project configuration file not found: /home/wilcoxr/workspace/aurite/aurite-agents/docs/notebooks/aurite_config.json\u001b[0m\n",
      "\u001b[33mWARNING \u001b[0m [aurite.config.project_manager] Project file not found at /home/wilcoxr/workspace/aurite/aurite-agents/docs/notebooks/aurite_config.json. Creating an empty project named 'aurite_config.json'.\u001b[0m\n",
      "\u001b[32mINFO    \u001b[0m [aurite.host.host] MCP Host initialization attempt finished. Successfully initialized 0/0 configured clients. \u001b[0m\n",
      "\u001b[32mINFO    \u001b[0m [aurite.host_manager] \u001b[1m\u001b[33mAurite initialization complete.\u001b[0m\n"
     ]
    }
   ],
   "source": [
    "from aurite import Aurite\n",
    "\n",
    "# Create the main Aurite application object\n",
    "aurite = Aurite()\n",
    "\n",
    "# Initialize the Aurite application\n",
    "await aurite.initialize()"
   ]
  },
  {
   "cell_type": "markdown",
   "metadata": {},
   "source": [
    "## Section 2: Register a New MCP Server\n",
    "\n",
    "Before we use a tool, it's important to understand how Aurite connects to MCP Servers. This is done using a **`ClientConfig`** object."
   ]
  },
  {
   "cell_type": "markdown",
   "metadata": {},
   "source": [
    "### What is a `ClientConfig`?\n",
    "\n",
    "A `ClientConfig` is a configuration object (which can be defined in Python or JSON) that tells Aurite everything it needs to know to connect to and use an MCP Server. \n",
    "\n",
    "Let's look at the configuration for a real tool server from the packaged toolbox: `game_trends_mcp`. This server provides tools for getting data about video games.\n",
    "\n",
    "```json\n",
    "{\n",
    "    \"name\": \"game_trends_mcp\",\n",
    "    \"http_endpoint\": \"https://server.smithery.ai/@halismertkir/game-trends-mcp/mcp?profile={SMITHERY_PROFILE_ID}&api_key={SMITHERY_API_KEY}\",\n",
    "    \"capabilities\": [\"tools\"]\n",
    "}\n",
    "```\n",
    "\n",
    "**Key Fields:**\n",
    "-   `name`: A unique name for the server.\n",
    "-   `http_endpoint`: The URL of the server. Notice the `{SMITHERY_PROFILE_ID}` and `{SMITHERY_API_KEY}` placeholders—Aurite will automatically replace these with the environment variables you just set!\n",
    "-   `capabilities`: What the server provides. In this case, `\"tools\"` (code to execute). Servers can also provide `\"prompts\"` (text to read), or `\"resources'` (data to read).\n",
    "\n",
    "> For a full breakdown of all configuration options, including other transport types like `stdio` for local scripts, see the **[Client Configurations Documentation](../components/mcp_server.md)**."
   ]
  },
  {
   "cell_type": "markdown",
   "metadata": {},
   "source": [
    "## Section 3: Manually Registering a Tool Server\n",
    "\n",
    "To fully understand the process, we will first walk through all the steps of registering and using a tool server manually."
   ]
  },
  {
   "cell_type": "markdown",
   "metadata": {},
   "source": [
    "### Step 3.1: Define the `ClientConfig` in Python\n",
    "\n",
    "Instead of using a JSON file, we can define the `ClientConfig` directly in our Python code. This makes the concept very clear."
   ]
  },
  {
   "cell_type": "code",
   "execution_count": null,
   "metadata": {},
   "outputs": [
    {
     "name": "stderr",
     "output_type": "stream",
     "text": [
      "\u001b[32mINFO    \u001b[0m [aurite.host.host] Attempting to dynamically register client: game_trends_mcp\u001b[0m\n",
      "\u001b[32mINFO    \u001b[0m [httpx] HTTP Request: POST https://server.smithery.ai/@halismertkir/game-trends-mcp/mcp?profile=chosen-fish-NF9IH0&api_key=7b3772d4-59c3-4995-bfa6-47d7f88f717c \"HTTP/1.1 200 OK\"\u001b[0m\n",
      "\u001b[32mINFO    \u001b[0m [mcp.client.streamable_http] Received session ID: eyJpIjoiZTgyMjM2ZWY3NDM5MDgiLCJzIjoiMDE5NzUxNjgtNTg1Ni03MjkyLWE0OTQtYzhmMTZhNjFhODZkIiwidiI6MX0.PbmR7OzQNs_tB_jZygR4ZMZUvdNOjhR9-KStubx6gfY,90c03f3f-a5e8-4a3e-ad1e-960a11f337a1\u001b[0m\n",
      "\u001b[32mINFO    \u001b[0m [httpx] HTTP Request: POST https://server.smithery.ai/@halismertkir/game-trends-mcp/mcp?profile=chosen-fish-NF9IH0&api_key=7b3772d4-59c3-4995-bfa6-47d7f88f717c \"HTTP/1.1 202 Accepted\"\u001b[0m\n",
      "\u001b[32mINFO    \u001b[0m [httpx] HTTP Request: POST https://server.smithery.ai/@halismertkir/game-trends-mcp/mcp?profile=chosen-fish-NF9IH0&api_key=7b3772d4-59c3-4995-bfa6-47d7f88f717c \"HTTP/1.1 200 OK\"\u001b[0m\n",
      "\u001b[32mINFO    \u001b[0m [aurite.host.host] Client 'game_trends_mcp' dynamically registered and initialized successfully.\u001b[0m\n"
     ]
    },
    {
     "name": "stdout",
     "output_type": "stream",
     "text": [
      "✅ Successfully registered ClientConfig for: game_trends_mcp\n"
     ]
    },
    {
     "name": "stderr",
     "output_type": "stream",
     "text": [
      "\u001b[32mINFO    \u001b[0m [httpx] HTTP Request: POST https://server.smithery.ai/@halismertkir/game-trends-mcp/mcp?profile=chosen-fish-NF9IH0&api_key=7b3772d4-59c3-4995-bfa6-47d7f88f717c \"HTTP/1.1 200 OK\"\u001b[0m\n",
      "\u001b[32mINFO    \u001b[0m [httpx] HTTP Request: GET https://server.smithery.ai/@halismertkir/game-trends-mcp/mcp?profile=chosen-fish-NF9IH0&api_key=7b3772d4-59c3-4995-bfa6-47d7f88f717c \"HTTP/1.1 524 <none>\"\u001b[0m\n"
     ]
    }
   ],
   "source": [
    "from aurite.config.config_models import ClientConfig\n",
    "\n",
    "# Define the configuration for the game trends server\n",
    "game_trends_config = ClientConfig(\n",
    "    name=\"game_trends_mcp\",\n",
    "    http_endpoint=f\"https://server.smithery.ai/@halismertkir/game-trends-mcp/mcp?profile={os.environ['SMITHERY_PROFILE_ID']}&api_key={os.environ['SMITHERY_API_KEY']}\",\n",
    "    capabilities=[\"tools\"]\n",
    ")\n",
    "\n",
    "# Register the game trends server configuration with Aurite\n",
    "await aurite.register_client(game_trends_config)\n",
    "\n",
    "print(f\"✅ Successfully registered ClientConfig for: {game_trends_config.name}\")"
   ]
  },
  {
   "cell_type": "markdown",
   "metadata": {},
   "source": [
    "### Step 3.2: Define an Agent to Use the Tool\n",
    "\n",
    "Now, let's create an agent and tell it that it's allowed to use the server we just configured. We do this by adding the server's `name` to the agent's `mcp_servers` list."
   ]
  },
  {
   "cell_type": "code",
   "execution_count": 35,
   "metadata": {},
   "outputs": [
    {
     "name": "stdout",
     "output_type": "stream",
     "text": [
      "✅ Successfully Registered: Game Trend Analyst\n"
     ]
    }
   ],
   "source": [
    "from aurite.config.config_models import AgentConfig\n",
    "\n",
    "# Define the agent that will use the game trends tool\n",
    "analyst_agent_config = AgentConfig(\n",
    "    name=\"Game Trend Analyst\",\n",
    "    system_prompt=\"You are an expert analyst in the video game industry. Use the tools provided to answer questions about game trends.\",\n",
    "    mcp_servers=[\"game_trends_mcp\"] # This links the agent to our ClientConfig\n",
    ")\n",
    "\n",
    "await aurite.register_agent(analyst_agent_config)\n",
    "print(f\"✅ Successfully Registered: {analyst_agent_config.name}\")"
   ]
  },
  {
   "cell_type": "markdown",
   "metadata": {},
   "source": [
    "### Step 3.4: Run the Agent\n",
    "\n",
    "Now for the fun part! Let's ask our agent a question that requires it to use the game trends tool."
   ]
  },
  {
   "cell_type": "code",
   "execution_count": 36,
   "metadata": {},
   "outputs": [
    {
     "name": "stderr",
     "output_type": "stream",
     "text": [
      "\u001b[33mWARNING \u001b[0m [aurite.execution.facade] Facade: Agent 'Game Trend Analyst' running without a specific LLMConfig ID. Creating temporary, non-cached client using default OpenAI config.\u001b[0m\n",
      "\u001b[32mINFO    \u001b[0m [aurite.components.llm.providers.openai_client] OpenAIClient initialized for model gpt-4-turbo-preview using direct API calls.\u001b[0m\n",
      "\u001b[32mINFO    \u001b[0m [aurite.execution.facade] \u001b[1m\u001b[34mFacade: Running conversation for Aurite Agent 'Game Trend Analyst'...\u001b[0m\n"
     ]
    },
    {
     "name": "stdout",
     "output_type": "stream",
     "text": [
      "Running agent with query: 'What are the top-selling games on Steam right now?'...\n"
     ]
    },
    {
     "name": "stderr",
     "output_type": "stream",
     "text": [
      "\u001b[32mINFO    \u001b[0m [httpx] HTTP Request: POST https://api.openai.com/v1/chat/completions \"HTTP/1.1 200 OK\"\u001b[0m\n",
      "\u001b[32mINFO    \u001b[0m [aurite.host.host] Executing tool 'get_steam_top_sellers' on client 'game_trends_mcp' for agent 'Game Trend Analyst'\u001b[0m\n",
      "\u001b[32mINFO    \u001b[0m [httpx] HTTP Request: POST https://api.openai.com/v1/chat/completions \"HTTP/1.1 200 OK\"\u001b[0m\n",
      "\u001b[32mINFO    \u001b[0m [aurite.execution.facade] \u001b[1m\u001b[34mFacade: Aurite Agent 'Game Trend Analyst' conversation finished.\u001b[0m\n"
     ]
    },
    {
     "data": {
      "text/html": [
       "The top-selling games on Steam right now are:\n",
       "\n",
       "1. **Dune: Awakening** - Release Date: Jun 10, 2025. [View on Steam](https://store.steampowered.com/app/1172710/Dune_Awakening/?snr=1_7_7_7000_150_1)\n",
       "2. **Counter-Strike 2** - Release Date: Aug 21, 2012. [View on Steam](https://store.steampowered.com/app/730/CounterStrike_2/?snr=1_7_7_7000_150_1)\n",
       "3. **ELDEN RING NIGHTREIGN** - Release Date: May 29, 2025. [View on Steam](https://store.steampowered.com/app/2622380/ELDEN_RING_NIGHTREIGN/?snr=1_7_7_7000_150_1)\n",
       "4. **Steam Deck** - Release Date: Jan 17, 2025. [View on Steam](https://store.steampowered.com/app/1675200/Steam_Deck/?snr=1_7_7_7000_150_1)\n",
       "5. **Lies of P** - Release Date: Sep 18, 2023. [View on Steam](https://store.steampowered.com/app/1627720/Lies_of_P/?snr=1_7_7_7000_150_1)\n",
       "6. **DELTARUNE** - Release Date: Jun 4, 2025. [View on Steam](https://store.steampowered.com/app/1671210/DELTARUNE/?snr=1_7_7_7000_150_1)\n",
       "7. **Stellar Blade™** - Release Date: Jun 11, 2025. [View on Steam](https://store.steampowered.com/app/3489700/Stellar_Blade/?snr=1_7_7_7000_150_1)\n",
       "8. **Lies of P: Overture** - Release Date: Jun 6, 2025. [View on Steam](https://store.steampowered.com/app/2848330/Lies_of_P_Overture/?snr=1_7_7_7000_150_1)\n",
       "9. **Clair Obscur: Expedition 33** - Release Date: Apr 24, 2025. [View on Steam](https://store.steampowered.com/app/1903340/Clair_Obscur_Expedition_33/?snr=1_7_7_7000_150_1)\n",
       "10. **HELLDIVERS™ 2** - Release Date: Feb 8, 2024. [View on Steam](https://store.steampowered.com/app/553850/HELLDIVERS_2/?snr=1_7_7_7000_150_1)\n",
       "\n",
       "Please note, many of these games are yet to be released and are likely on pre-order, which explains their top-selling status."
      ],
      "text/plain": [
       "<IPython.core.display.HTML object>"
      ]
     },
     "metadata": {},
     "output_type": "display_data"
    }
   ],
   "source": [
    "from IPython.display import display, HTML\n",
    "user_query = \"What are the top-selling games on Steam right now?\"\n",
    "print(f\"Running agent with query: '{user_query}'...\")\n",
    "\n",
    "agent_result = await aurite.run_agent(\n",
    "    agent_name=\"Game Trend Analyst\",\n",
    "    user_message=user_query\n",
    ")\n",
    "\n",
    "# Render the agent's response and thought process as HTML\n",
    "display(HTML(agent_result.primary_text))"
   ]
  },
  {
   "cell_type": "markdown",
   "metadata": {},
   "source": [
    "## Section 4: The Easy Way - Using the Built-in Toolbox\n",
    "\n",
    "Manually defining the `ClientConfig` is great for understanding how things work, but Aurite provides a much easier way to use the dozens of tools included in its toolbox: **Just-in-Time (JIT) Registration**.\n",
    "\n",
    "You don't need to define a `ClientConfig` for any packaged tool. You just need to reference it by name in your agent's `mcp_servers` list, and Aurite will find it and set it up for you automatically."
   ]
  },
  {
   "cell_type": "markdown",
   "metadata": {},
   "source": [
    "### Step 4.1: Define a New Agent\n",
    "\n",
    "Let's create a new agent to be a weather forecaster. We'll tell it to use the `national_weather_service` tool server. Notice that this time, we are **not** creating a `ClientConfig` for it."
   ]
  },
  {
   "cell_type": "code",
   "execution_count": null,
   "metadata": {},
   "outputs": [],
   "source": [
    "# Define the agent that will use the weather tool\n",
    "weather_agent_config = AgentConfig(\n",
    "    name=\"Weather Forecaster\",\n",
    "    system_prompt=\"You are a helpful weather assistant. Use the tools provided to get the weather forecast.\",\n",
    "    mcp_servers=[\"national_weather_service\"] # Just reference the packaged tool by name!\n",
    ")\n",
    "\n",
    "print(f\"Successfully created AgentConfig for: {weather_agent_config.name}\")"
   ]
  },
  {
   "cell_type": "markdown",
   "metadata": {},
   "source": [
    "### Step 4.2: Run the New Agent\n",
    "\n",
    "Now, we will use our *same* `aurite` instance. We just need to register our new agent, and Aurite will handle the rest."
   ]
  },
  {
   "cell_type": "code",
   "execution_count": null,
   "metadata": {},
   "outputs": [],
   "source": [
    "async def run_auto_agent():\n",
    "    # Register just the new agent. Aurite will find and register the tool for us.\n",
    "    await aurite.register_agent(weather_agent_config)\n",
    "\n",
    "    user_query = \"What's the weather forecast for New York, NY?\"\n",
    "    print(f\"Running agent with query: '{user_query}'...\")\n",
    "\n",
    "    agent_result = await aurite.run_agent(\n",
    "        agent_name=\"Weather Forecaster\",\n",
    "        user_message=user_query\n",
    "    )\n",
    "\n",
    "    display(HTML(agent_result.primary_text))\n",
    "\n",
    "asyncio.run(run_auto_agent())"
   ]
  },
  {
   "cell_type": "markdown",
   "metadata": {},
   "source": [
    "### Step 4.3: How It Works\n",
    "\n",
    "It just works! When you registered the `Weather Forecaster` agent, Aurite's `HostManager` saw that it needed an MCP server named `national_weather_service`. It searched the built-in toolbox, found the corresponding `ClientConfig`, loaded it, and automatically connected to the server using the Smithery API keys you provided earlier. \n",
    "\n",
    "This makes using the entire library of packaged tools incredibly simple."
   ]
  },
  {
   "cell_type": "markdown",
   "metadata": {},
   "source": [
    "## Section 5: Your Turn to Explore\n",
    "\n",
    "Now that you know how to use packaged tools, you can experiment with the entire toolbox.\n",
    "\n",
    "1.  Explore the full list of available tools in the **[Packaged MCP Servers Directory](../toolbox/mcp_server_directory.md)**.\n",
    "2.  Click on a category to see the available servers and the tools they provide.\n",
    "3.  Try creating a new agent that uses a different server, like `pubmed_mcp_server` (for medical research) or `appinsightmcp` (for app store data).\n",
    "\n",
    "**Challenge:** Create a new agent named \"Medical Researcher\" that uses the `pubmed_mcp_server` and ask it to `\"Search for recent articles about AI in medicine.\"`"
   ]
  },
  {
   "cell_type": "markdown",
   "metadata": {},
   "source": [
    "## Conclusion\n",
    "\n",
    "Congratulations! You've learned the fundamentals of giving agents tools in the Aurite framework. \n",
    "\n",
    "You now know:\n",
    "-   How to define and register a `ClientConfig` to connect to any `http_stream` MCP server.\n",
    "-   How to leverage the powerful Just-in-Time registration to use any of the dozens of tools in the built-in toolbox just by referencing their name.\n",
    "\n",
    "This opens up a world of possibilities for creating highly capable and specialized agents."
   ]
  }
 ],
 "metadata": {
  "kernelspec": {
   "display_name": "notebook-venv",
   "language": "python",
   "name": "python3"
  },
  "language_info": {
   "codemirror_mode": {
    "name": "ipython",
    "version": 3
   },
   "file_extension": ".py",
   "mimetype": "text/x-python",
   "name": "python",
   "nbconvert_exporter": "python",
   "pygments_lexer": "ipython3",
   "version": "3.11.11"
  }
 },
 "nbformat": 4,
 "nbformat_minor": 2
}
