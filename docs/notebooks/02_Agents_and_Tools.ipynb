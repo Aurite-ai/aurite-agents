{
 "cells": [
  {
   "cell_type": "markdown",
   "metadata": {},
   "source": [
    "# Aurite Agents Tutorial 2: Giving Agents Tools with MCP Servers\n",
    "\n",
    "Welcome to the second tutorial in the Aurite Agents series! In the previous tutorial, we learned how to create and configure a basic agent. Now, we'll explore one of the most powerful features of the framework: giving agents **Tools** to interact with the outside world.\n",
    "\n",
    "In Aurite, tools are provided by **Model Context Protocol (MCP) Servers**. These are external programs that can do anything from searching the web to analyzing data. By connecting an agent to an MCP Server, you give it access to all the tools that server provides (you can also exclude specific tools that you don't want agents to access when you are adding new mcp server configurations).\n",
    "\n",
    "### What You'll Learn\n",
    "\n",
    "In this notebook, you will learn:\n",
    "\n",
    "1.  **What an MCP Server is** and how to configure one using a `ClientConfig` object.\n",
    "2.  How to connect to a tool server that runs on the web (using the `http_stream` transport), which is perfect for cloud environments like Google Colab.\n",
    "3.  How to use the library of **pre-packaged tools** that comes built-in with the `aurite` package."
   ]
  },
  {
   "cell_type": "markdown",
   "metadata": {},
   "source": [
    "## Section 1: Setup"
   ]
  },
  {
   "cell_type": "markdown",
   "metadata": {},
   "source": [
    "### Step 1.1: Install Dependencies\n",
    "\n",
    "First, let's install the `aurite` package."
   ]
  },
  {
   "cell_type": "code",
   "execution_count": null,
   "metadata": {},
   "outputs": [
    {
     "name": "stdout",
     "output_type": "stream",
     "text": [
      "Requirement already satisfied: aurite==0.3.14 in /home/wilcoxr/workspace/aurite/aurite-agents/notebook-venv/lib/python3.11/site-packages (0.3.14)\n",
      "Requirement already satisfied: mcp>=1.8.1 in /home/wilcoxr/workspace/aurite/aurite-agents/notebook-venv/lib/python3.11/site-packages (from aurite==0.3.14) (1.9.3)\n",
      "Requirement already satisfied: httpx>=0.28.1 in /home/wilcoxr/workspace/aurite/aurite-agents/notebook-venv/lib/python3.11/site-packages (from aurite==0.3.14) (0.28.1)\n",
      "Requirement already satisfied: anyio>=4.8.0 in /home/wilcoxr/workspace/aurite/aurite-agents/notebook-venv/lib/python3.11/site-packages (from aurite==0.3.14) (4.9.0)\n",
      "Requirement already satisfied: sqlalchemy>=2.0.39 in /home/wilcoxr/workspace/aurite/aurite-agents/notebook-venv/lib/python3.11/site-packages (from aurite==0.3.14) (2.0.41)\n",
      "Requirement already satisfied: anthropic>=0.49.0 in /home/wilcoxr/workspace/aurite/aurite-agents/notebook-venv/lib/python3.11/site-packages (from aurite==0.3.14) (0.52.2)\n",
      "Requirement already satisfied: annotated-types>=0.7.0 in /home/wilcoxr/workspace/aurite/aurite-agents/notebook-venv/lib/python3.11/site-packages (from aurite==0.3.14) (0.7.0)\n",
      "Requirement already satisfied: certifi>=2025.1.31 in /home/wilcoxr/workspace/aurite/aurite-agents/notebook-venv/lib/python3.11/site-packages (from aurite==0.3.14) (2025.4.26)\n",
      "Requirement already satisfied: cffi>=1.17.1 in /home/wilcoxr/workspace/aurite/aurite-agents/notebook-venv/lib/python3.11/site-packages (from aurite==0.3.14) (1.17.1)\n",
      "Requirement already satisfied: click>=8.1.8 in /home/wilcoxr/workspace/aurite/aurite-agents/notebook-venv/lib/python3.11/site-packages (from aurite==0.3.14) (8.2.1)\n",
      "Requirement already satisfied: cryptography<44,>=41.0.5 in /home/wilcoxr/workspace/aurite/aurite-agents/notebook-venv/lib/python3.11/site-packages (from aurite==0.3.14) (43.0.3)\n",
      "Requirement already satisfied: distro>=1.9.0 in /home/wilcoxr/workspace/aurite/aurite-agents/notebook-venv/lib/python3.11/site-packages (from aurite==0.3.14) (1.9.0)\n",
      "Requirement already satisfied: greenlet>=3.1.1 in /home/wilcoxr/workspace/aurite/aurite-agents/notebook-venv/lib/python3.11/site-packages (from aurite==0.3.14) (3.2.3)\n",
      "Requirement already satisfied: h11>=0.14.0 in /home/wilcoxr/workspace/aurite/aurite-agents/notebook-venv/lib/python3.11/site-packages (from aurite==0.3.14) (0.16.0)\n",
      "Requirement already satisfied: httpcore>=1.0.7 in /home/wilcoxr/workspace/aurite/aurite-agents/notebook-venv/lib/python3.11/site-packages (from aurite==0.3.14) (1.0.9)\n",
      "Requirement already satisfied: httpx-sse>=0.4.0 in /home/wilcoxr/workspace/aurite/aurite-agents/notebook-venv/lib/python3.11/site-packages (from aurite==0.3.14) (0.4.0)\n",
      "Requirement already satisfied: idna>=3.10 in /home/wilcoxr/workspace/aurite/aurite-agents/notebook-venv/lib/python3.11/site-packages (from aurite==0.3.14) (3.10)\n",
      "Requirement already satisfied: iniconfig>=2.0.0 in /home/wilcoxr/workspace/aurite/aurite-agents/notebook-venv/lib/python3.11/site-packages (from aurite==0.3.14) (2.1.0)\n",
      "Requirement already satisfied: packaging>=24.2 in /home/wilcoxr/workspace/aurite/aurite-agents/notebook-venv/lib/python3.11/site-packages (from aurite==0.3.14) (25.0)\n",
      "Requirement already satisfied: colorlog>=6.0.0 in /home/wilcoxr/workspace/aurite/aurite-agents/notebook-venv/lib/python3.11/site-packages (from aurite==0.3.14) (6.9.0)\n",
      "Requirement already satisfied: termcolor>=3.0.0 in /home/wilcoxr/workspace/aurite/aurite-agents/notebook-venv/lib/python3.11/site-packages (from aurite==0.3.14) (3.1.0)\n",
      "Requirement already satisfied: pluggy>=1.5.0 in /home/wilcoxr/workspace/aurite/aurite-agents/notebook-venv/lib/python3.11/site-packages (from aurite==0.3.14) (1.6.0)\n",
      "Requirement already satisfied: psycopg2-binary>=2.9.10 in /home/wilcoxr/workspace/aurite/aurite-agents/notebook-venv/lib/python3.11/site-packages (from aurite==0.3.14) (2.9.10)\n",
      "Requirement already satisfied: alembic>=1.13.1 in /home/wilcoxr/workspace/aurite/aurite-agents/notebook-venv/lib/python3.11/site-packages (from aurite==0.3.14) (1.16.1)\n",
      "Requirement already satisfied: pycparser>=2.22 in /home/wilcoxr/workspace/aurite/aurite-agents/notebook-venv/lib/python3.11/site-packages (from aurite==0.3.14) (2.22)\n",
      "Requirement already satisfied: pydantic>=2.10.6 in /home/wilcoxr/workspace/aurite/aurite-agents/notebook-venv/lib/python3.11/site-packages (from aurite==0.3.14) (2.11.5)\n",
      "Requirement already satisfied: pydantic-settings>=2.8.1 in /home/wilcoxr/workspace/aurite/aurite-agents/notebook-venv/lib/python3.11/site-packages (from aurite==0.3.14) (2.9.1)\n",
      "Requirement already satisfied: pydantic_core>=2.27.2 in /home/wilcoxr/workspace/aurite/aurite-agents/notebook-venv/lib/python3.11/site-packages (from aurite==0.3.14) (2.33.2)\n",
      "Requirement already satisfied: pydub>=0.25.1 in /home/wilcoxr/workspace/aurite/aurite-agents/notebook-venv/lib/python3.11/site-packages (from aurite==0.3.14) (0.25.1)\n",
      "Requirement already satisfied: PyMySQL>=1.1.1 in /home/wilcoxr/workspace/aurite/aurite-agents/notebook-venv/lib/python3.11/site-packages (from aurite==0.3.14) (1.1.1)\n",
      "Requirement already satisfied: python-dateutil>=2.9.0.post0 in /home/wilcoxr/workspace/aurite/aurite-agents/notebook-venv/lib/python3.11/site-packages (from aurite==0.3.14) (2.9.0.post0)\n",
      "Requirement already satisfied: openai-agents-mcp in /home/wilcoxr/workspace/aurite/aurite-agents/notebook-venv/lib/python3.11/site-packages (from aurite==0.3.14) (0.0.8)\n",
      "Requirement already satisfied: python-dotenv>=1.0.1 in /home/wilcoxr/workspace/aurite/aurite-agents/notebook-venv/lib/python3.11/site-packages (from aurite==0.3.14) (1.1.0)\n",
      "Requirement already satisfied: pytz>=2024.1 in /home/wilcoxr/workspace/aurite/aurite-agents/notebook-venv/lib/python3.11/site-packages (from aurite==0.3.14) (2025.2)\n",
      "Requirement already satisfied: pyyaml>=6.0.2 in /home/wilcoxr/workspace/aurite/aurite-agents/notebook-venv/lib/python3.11/site-packages (from aurite==0.3.14) (6.0.2)\n",
      "Requirement already satisfied: redis>=5.0.0 in /home/wilcoxr/workspace/aurite/aurite-agents/notebook-venv/lib/python3.11/site-packages (from aurite==0.3.14) (6.2.0)\n",
      "Requirement already satisfied: six>=1.17.0 in /home/wilcoxr/workspace/aurite/aurite-agents/notebook-venv/lib/python3.11/site-packages (from aurite==0.3.14) (1.17.0)\n",
      "Requirement already satisfied: sniffio>=1.3.1 in /home/wilcoxr/workspace/aurite/aurite-agents/notebook-venv/lib/python3.11/site-packages (from aurite==0.3.14) (1.3.1)\n",
      "Requirement already satisfied: jsonschema in /home/wilcoxr/workspace/aurite/aurite-agents/notebook-venv/lib/python3.11/site-packages (from aurite==0.3.14) (4.24.0)\n",
      "Requirement already satisfied: sse-starlette>=2.2.1 in /home/wilcoxr/workspace/aurite/aurite-agents/notebook-venv/lib/python3.11/site-packages (from aurite==0.3.14) (2.3.6)\n",
      "Requirement already satisfied: starlette>=0.46.1 in /home/wilcoxr/workspace/aurite/aurite-agents/notebook-venv/lib/python3.11/site-packages (from aurite==0.3.14) (0.46.2)\n",
      "Requirement already satisfied: typing_extensions>=4.12.2 in /home/wilcoxr/workspace/aurite/aurite-agents/notebook-venv/lib/python3.11/site-packages (from aurite==0.3.14) (4.14.0)\n",
      "Requirement already satisfied: typer>=0.9.0 in /home/wilcoxr/workspace/aurite/aurite-agents/notebook-venv/lib/python3.11/site-packages (from aurite==0.3.14) (0.16.0)\n",
      "Requirement already satisfied: tzdata>=2025.1 in /home/wilcoxr/workspace/aurite/aurite-agents/notebook-venv/lib/python3.11/site-packages (from aurite==0.3.14) (2025.2)\n",
      "Requirement already satisfied: uvicorn>=0.34.0 in /home/wilcoxr/workspace/aurite/aurite-agents/notebook-venv/lib/python3.11/site-packages (from aurite==0.3.14) (0.34.3)\n",
      "Requirement already satisfied: fastapi in /home/wilcoxr/workspace/aurite/aurite-agents/notebook-venv/lib/python3.11/site-packages (from aurite==0.3.14) (0.115.12)\n",
      "Requirement already satisfied: google-cloud-secret-manager>=2.19.0 in /home/wilcoxr/workspace/aurite/aurite-agents/notebook-venv/lib/python3.11/site-packages (from aurite==0.3.14) (2.24.0)\n",
      "Requirement already satisfied: Mako in /home/wilcoxr/workspace/aurite/aurite-agents/notebook-venv/lib/python3.11/site-packages (from alembic>=1.13.1->aurite==0.3.14) (1.3.10)\n",
      "Requirement already satisfied: jiter<1,>=0.4.0 in /home/wilcoxr/workspace/aurite/aurite-agents/notebook-venv/lib/python3.11/site-packages (from anthropic>=0.49.0->aurite==0.3.14) (0.8.2)\n",
      "Requirement already satisfied: typing-inspection>=0.4.0 in /home/wilcoxr/workspace/aurite/aurite-agents/notebook-venv/lib/python3.11/site-packages (from pydantic>=2.10.6->aurite==0.3.14) (0.4.1)\n",
      "Requirement already satisfied: google-api-core!=2.0.*,!=2.1.*,!=2.10.*,!=2.2.*,!=2.3.*,!=2.4.*,!=2.5.*,!=2.6.*,!=2.7.*,!=2.8.*,!=2.9.*,<3.0.0,>=1.34.1 in /home/wilcoxr/workspace/aurite/aurite-agents/notebook-venv/lib/python3.11/site-packages (from google-api-core[grpc]!=2.0.*,!=2.1.*,!=2.10.*,!=2.2.*,!=2.3.*,!=2.4.*,!=2.5.*,!=2.6.*,!=2.7.*,!=2.8.*,!=2.9.*,<3.0.0,>=1.34.1->google-cloud-secret-manager>=2.19.0->aurite==0.3.14) (2.25.0)\n",
      "Requirement already satisfied: google-auth!=2.24.0,!=2.25.0,<3.0.0,>=2.14.1 in /home/wilcoxr/workspace/aurite/aurite-agents/notebook-venv/lib/python3.11/site-packages (from google-cloud-secret-manager>=2.19.0->aurite==0.3.14) (2.40.3)\n",
      "Requirement already satisfied: proto-plus<2.0.0,>=1.22.3 in /home/wilcoxr/workspace/aurite/aurite-agents/notebook-venv/lib/python3.11/site-packages (from google-cloud-secret-manager>=2.19.0->aurite==0.3.14) (1.26.1)\n",
      "Requirement already satisfied: protobuf!=4.21.0,!=4.21.1,!=4.21.2,!=4.21.3,!=4.21.4,!=4.21.5,<7.0.0,>=3.20.2 in /home/wilcoxr/workspace/aurite/aurite-agents/notebook-venv/lib/python3.11/site-packages (from google-cloud-secret-manager>=2.19.0->aurite==0.3.14) (5.29.5)\n",
      "Requirement already satisfied: grpc-google-iam-v1<1.0.0,>=0.14.0 in /home/wilcoxr/workspace/aurite/aurite-agents/notebook-venv/lib/python3.11/site-packages (from google-cloud-secret-manager>=2.19.0->aurite==0.3.14) (0.14.2)\n",
      "Requirement already satisfied: googleapis-common-protos<2.0.0,>=1.56.2 in /home/wilcoxr/workspace/aurite/aurite-agents/notebook-venv/lib/python3.11/site-packages (from google-api-core!=2.0.*,!=2.1.*,!=2.10.*,!=2.2.*,!=2.3.*,!=2.4.*,!=2.5.*,!=2.6.*,!=2.7.*,!=2.8.*,!=2.9.*,<3.0.0,>=1.34.1->google-api-core[grpc]!=2.0.*,!=2.1.*,!=2.10.*,!=2.2.*,!=2.3.*,!=2.4.*,!=2.5.*,!=2.6.*,!=2.7.*,!=2.8.*,!=2.9.*,<3.0.0,>=1.34.1->google-cloud-secret-manager>=2.19.0->aurite==0.3.14) (1.70.0)\n",
      "Requirement already satisfied: requests<3.0.0,>=2.18.0 in /home/wilcoxr/workspace/aurite/aurite-agents/notebook-venv/lib/python3.11/site-packages (from google-api-core!=2.0.*,!=2.1.*,!=2.10.*,!=2.2.*,!=2.3.*,!=2.4.*,!=2.5.*,!=2.6.*,!=2.7.*,!=2.8.*,!=2.9.*,<3.0.0,>=1.34.1->google-api-core[grpc]!=2.0.*,!=2.1.*,!=2.10.*,!=2.2.*,!=2.3.*,!=2.4.*,!=2.5.*,!=2.6.*,!=2.7.*,!=2.8.*,!=2.9.*,<3.0.0,>=1.34.1->google-cloud-secret-manager>=2.19.0->aurite==0.3.14) (2.32.3)\n",
      "Requirement already satisfied: grpcio<2.0.0,>=1.33.2 in /home/wilcoxr/workspace/aurite/aurite-agents/notebook-venv/lib/python3.11/site-packages (from google-api-core[grpc]!=2.0.*,!=2.1.*,!=2.10.*,!=2.2.*,!=2.3.*,!=2.4.*,!=2.5.*,!=2.6.*,!=2.7.*,!=2.8.*,!=2.9.*,<3.0.0,>=1.34.1->google-cloud-secret-manager>=2.19.0->aurite==0.3.14) (1.72.1)\n",
      "Requirement already satisfied: grpcio-status<2.0.0,>=1.33.2 in /home/wilcoxr/workspace/aurite/aurite-agents/notebook-venv/lib/python3.11/site-packages (from google-api-core[grpc]!=2.0.*,!=2.1.*,!=2.10.*,!=2.2.*,!=2.3.*,!=2.4.*,!=2.5.*,!=2.6.*,!=2.7.*,!=2.8.*,!=2.9.*,<3.0.0,>=1.34.1->google-cloud-secret-manager>=2.19.0->aurite==0.3.14) (1.71.0)\n",
      "Requirement already satisfied: cachetools<6.0,>=2.0.0 in /home/wilcoxr/workspace/aurite/aurite-agents/notebook-venv/lib/python3.11/site-packages (from google-auth!=2.24.0,!=2.25.0,<3.0.0,>=2.14.1->google-cloud-secret-manager>=2.19.0->aurite==0.3.14) (5.5.2)\n",
      "Requirement already satisfied: pyasn1-modules>=0.2.1 in /home/wilcoxr/workspace/aurite/aurite-agents/notebook-venv/lib/python3.11/site-packages (from google-auth!=2.24.0,!=2.25.0,<3.0.0,>=2.14.1->google-cloud-secret-manager>=2.19.0->aurite==0.3.14) (0.4.2)\n",
      "Requirement already satisfied: rsa<5,>=3.1.4 in /home/wilcoxr/workspace/aurite/aurite-agents/notebook-venv/lib/python3.11/site-packages (from google-auth!=2.24.0,!=2.25.0,<3.0.0,>=2.14.1->google-cloud-secret-manager>=2.19.0->aurite==0.3.14) (4.9.1)\n",
      "Requirement already satisfied: charset-normalizer<4,>=2 in /home/wilcoxr/workspace/aurite/aurite-agents/notebook-venv/lib/python3.11/site-packages (from requests<3.0.0,>=2.18.0->google-api-core!=2.0.*,!=2.1.*,!=2.10.*,!=2.2.*,!=2.3.*,!=2.4.*,!=2.5.*,!=2.6.*,!=2.7.*,!=2.8.*,!=2.9.*,<3.0.0,>=1.34.1->google-api-core[grpc]!=2.0.*,!=2.1.*,!=2.10.*,!=2.2.*,!=2.3.*,!=2.4.*,!=2.5.*,!=2.6.*,!=2.7.*,!=2.8.*,!=2.9.*,<3.0.0,>=1.34.1->google-cloud-secret-manager>=2.19.0->aurite==0.3.14) (3.4.2)\n",
      "Requirement already satisfied: urllib3<3,>=1.21.1 in /home/wilcoxr/workspace/aurite/aurite-agents/notebook-venv/lib/python3.11/site-packages (from requests<3.0.0,>=2.18.0->google-api-core!=2.0.*,!=2.1.*,!=2.10.*,!=2.2.*,!=2.3.*,!=2.4.*,!=2.5.*,!=2.6.*,!=2.7.*,!=2.8.*,!=2.9.*,<3.0.0,>=1.34.1->google-api-core[grpc]!=2.0.*,!=2.1.*,!=2.10.*,!=2.2.*,!=2.3.*,!=2.4.*,!=2.5.*,!=2.6.*,!=2.7.*,!=2.8.*,!=2.9.*,<3.0.0,>=1.34.1->google-cloud-secret-manager>=2.19.0->aurite==0.3.14) (2.4.0)\n",
      "Requirement already satisfied: pyasn1>=0.1.3 in /home/wilcoxr/workspace/aurite/aurite-agents/notebook-venv/lib/python3.11/site-packages (from rsa<5,>=3.1.4->google-auth!=2.24.0,!=2.25.0,<3.0.0,>=2.14.1->google-cloud-secret-manager>=2.19.0->aurite==0.3.14) (0.6.1)\n",
      "Requirement already satisfied: python-multipart>=0.0.9 in /home/wilcoxr/workspace/aurite/aurite-agents/notebook-venv/lib/python3.11/site-packages (from mcp>=1.8.1->aurite==0.3.14) (0.0.20)\n",
      "Requirement already satisfied: shellingham>=1.3.0 in /home/wilcoxr/workspace/aurite/aurite-agents/notebook-venv/lib/python3.11/site-packages (from typer>=0.9.0->aurite==0.3.14) (1.5.4)\n",
      "Requirement already satisfied: rich>=10.11.0 in /home/wilcoxr/workspace/aurite/aurite-agents/notebook-venv/lib/python3.11/site-packages (from typer>=0.9.0->aurite==0.3.14) (13.9.4)\n",
      "Requirement already satisfied: markdown-it-py>=2.2.0 in /home/wilcoxr/workspace/aurite/aurite-agents/notebook-venv/lib/python3.11/site-packages (from rich>=10.11.0->typer>=0.9.0->aurite==0.3.14) (3.0.0)\n",
      "Requirement already satisfied: pygments<3.0.0,>=2.13.0 in /home/wilcoxr/workspace/aurite/aurite-agents/notebook-venv/lib/python3.11/site-packages (from rich>=10.11.0->typer>=0.9.0->aurite==0.3.14) (2.19.1)\n",
      "Requirement already satisfied: mdurl~=0.1 in /home/wilcoxr/workspace/aurite/aurite-agents/notebook-venv/lib/python3.11/site-packages (from markdown-it-py>=2.2.0->rich>=10.11.0->typer>=0.9.0->aurite==0.3.14) (0.1.2)\n",
      "Requirement already satisfied: attrs>=22.2.0 in /home/wilcoxr/workspace/aurite/aurite-agents/notebook-venv/lib/python3.11/site-packages (from jsonschema->aurite==0.3.14) (25.3.0)\n",
      "Requirement already satisfied: jsonschema-specifications>=2023.03.6 in /home/wilcoxr/workspace/aurite/aurite-agents/notebook-venv/lib/python3.11/site-packages (from jsonschema->aurite==0.3.14) (2025.4.1)\n",
      "Requirement already satisfied: referencing>=0.28.4 in /home/wilcoxr/workspace/aurite/aurite-agents/notebook-venv/lib/python3.11/site-packages (from jsonschema->aurite==0.3.14) (0.36.2)\n",
      "Requirement already satisfied: rpds-py>=0.7.1 in /home/wilcoxr/workspace/aurite/aurite-agents/notebook-venv/lib/python3.11/site-packages (from jsonschema->aurite==0.3.14) (0.25.1)\n",
      "Requirement already satisfied: MarkupSafe>=0.9.2 in /home/wilcoxr/workspace/aurite/aurite-agents/notebook-venv/lib/python3.11/site-packages (from Mako->alembic>=1.13.1->aurite==0.3.14) (3.0.2)\n",
      "Requirement already satisfied: mcp-agent>=0.0.13 in /home/wilcoxr/workspace/aurite/aurite-agents/notebook-venv/lib/python3.11/site-packages (from openai-agents-mcp->aurite==0.3.14) (0.1.1)\n",
      "Requirement already satisfied: openai-agents>=0.0.5 in /home/wilcoxr/workspace/aurite/aurite-agents/notebook-venv/lib/python3.11/site-packages (from openai-agents-mcp->aurite==0.3.14) (0.0.17)\n",
      "Requirement already satisfied: aiohttp>=3.11.13 in /home/wilcoxr/workspace/aurite/aurite-agents/notebook-venv/lib/python3.11/site-packages (from mcp-agent>=0.0.13->openai-agents-mcp->aurite==0.3.14) (3.12.11)\n",
      "Requirement already satisfied: instructor>=1.7.9 in /home/wilcoxr/workspace/aurite/aurite-agents/notebook-venv/lib/python3.11/site-packages (from mcp-agent>=0.0.13->openai-agents-mcp->aurite==0.3.14) (1.8.3)\n",
      "Requirement already satisfied: numpy>=2.1.3 in /home/wilcoxr/workspace/aurite/aurite-agents/notebook-venv/lib/python3.11/site-packages (from mcp-agent>=0.0.13->openai-agents-mcp->aurite==0.3.14) (2.3.0)\n",
      "Requirement already satisfied: opentelemetry-distro>=0.50b0 in /home/wilcoxr/workspace/aurite/aurite-agents/notebook-venv/lib/python3.11/site-packages (from mcp-agent>=0.0.13->openai-agents-mcp->aurite==0.3.14) (0.55b0)\n",
      "Requirement already satisfied: opentelemetry-exporter-otlp-proto-http>=1.29.0 in /home/wilcoxr/workspace/aurite/aurite-agents/notebook-venv/lib/python3.11/site-packages (from mcp-agent>=0.0.13->openai-agents-mcp->aurite==0.3.14) (1.34.0)\n",
      "Requirement already satisfied: opentelemetry-instrumentation-anthropic>=0.39.3 in /home/wilcoxr/workspace/aurite/aurite-agents/notebook-venv/lib/python3.11/site-packages (from mcp-agent>=0.0.13->openai-agents-mcp->aurite==0.3.14) (0.40.7)\n",
      "Requirement already satisfied: opentelemetry-instrumentation-openai>=0.39.3 in /home/wilcoxr/workspace/aurite/aurite-agents/notebook-venv/lib/python3.11/site-packages (from mcp-agent>=0.0.13->openai-agents-mcp->aurite==0.3.14) (0.40.7)\n",
      "Requirement already satisfied: prompt-toolkit>=3.0.50 in /home/wilcoxr/workspace/aurite/aurite-agents/notebook-venv/lib/python3.11/site-packages (from mcp-agent>=0.0.13->openai-agents-mcp->aurite==0.3.14) (3.0.51)\n",
      "Requirement already satisfied: scikit-learn>=1.6.0 in /home/wilcoxr/workspace/aurite/aurite-agents/notebook-venv/lib/python3.11/site-packages (from mcp-agent>=0.0.13->openai-agents-mcp->aurite==0.3.14) (1.7.0)\n",
      "Requirement already satisfied: websockets>=12.0 in /home/wilcoxr/workspace/aurite/aurite-agents/notebook-venv/lib/python3.11/site-packages (from mcp-agent>=0.0.13->openai-agents-mcp->aurite==0.3.14) (15.0.1)\n",
      "Requirement already satisfied: aiohappyeyeballs>=2.5.0 in /home/wilcoxr/workspace/aurite/aurite-agents/notebook-venv/lib/python3.11/site-packages (from aiohttp>=3.11.13->mcp-agent>=0.0.13->openai-agents-mcp->aurite==0.3.14) (2.6.1)\n",
      "Requirement already satisfied: aiosignal>=1.1.2 in /home/wilcoxr/workspace/aurite/aurite-agents/notebook-venv/lib/python3.11/site-packages (from aiohttp>=3.11.13->mcp-agent>=0.0.13->openai-agents-mcp->aurite==0.3.14) (1.3.2)\n",
      "Requirement already satisfied: frozenlist>=1.1.1 in /home/wilcoxr/workspace/aurite/aurite-agents/notebook-venv/lib/python3.11/site-packages (from aiohttp>=3.11.13->mcp-agent>=0.0.13->openai-agents-mcp->aurite==0.3.14) (1.6.2)\n",
      "Requirement already satisfied: multidict<7.0,>=4.5 in /home/wilcoxr/workspace/aurite/aurite-agents/notebook-venv/lib/python3.11/site-packages (from aiohttp>=3.11.13->mcp-agent>=0.0.13->openai-agents-mcp->aurite==0.3.14) (6.4.4)\n",
      "Requirement already satisfied: propcache>=0.2.0 in /home/wilcoxr/workspace/aurite/aurite-agents/notebook-venv/lib/python3.11/site-packages (from aiohttp>=3.11.13->mcp-agent>=0.0.13->openai-agents-mcp->aurite==0.3.14) (0.3.1)\n",
      "Requirement already satisfied: yarl<2.0,>=1.17.0 in /home/wilcoxr/workspace/aurite/aurite-agents/notebook-venv/lib/python3.11/site-packages (from aiohttp>=3.11.13->mcp-agent>=0.0.13->openai-agents-mcp->aurite==0.3.14) (1.20.0)\n",
      "Requirement already satisfied: docstring-parser<1.0,>=0.16 in /home/wilcoxr/workspace/aurite/aurite-agents/notebook-venv/lib/python3.11/site-packages (from instructor>=1.7.9->mcp-agent>=0.0.13->openai-agents-mcp->aurite==0.3.14) (0.16)\n",
      "Requirement already satisfied: jinja2<4.0.0,>=3.1.4 in /home/wilcoxr/workspace/aurite/aurite-agents/notebook-venv/lib/python3.11/site-packages (from instructor>=1.7.9->mcp-agent>=0.0.13->openai-agents-mcp->aurite==0.3.14) (3.1.6)\n",
      "Requirement already satisfied: openai<2.0.0,>=1.70.0 in /home/wilcoxr/workspace/aurite/aurite-agents/notebook-venv/lib/python3.11/site-packages (from instructor>=1.7.9->mcp-agent>=0.0.13->openai-agents-mcp->aurite==0.3.14) (1.84.0)\n",
      "Requirement already satisfied: tenacity<10.0.0,>=9.0.0 in /home/wilcoxr/workspace/aurite/aurite-agents/notebook-venv/lib/python3.11/site-packages (from instructor>=1.7.9->mcp-agent>=0.0.13->openai-agents-mcp->aurite==0.3.14) (9.1.2)\n",
      "Requirement already satisfied: tqdm>4 in /home/wilcoxr/workspace/aurite/aurite-agents/notebook-venv/lib/python3.11/site-packages (from openai<2.0.0,>=1.70.0->instructor>=1.7.9->mcp-agent>=0.0.13->openai-agents-mcp->aurite==0.3.14) (4.67.1)\n",
      "Requirement already satisfied: griffe<2,>=1.5.6 in /home/wilcoxr/workspace/aurite/aurite-agents/notebook-venv/lib/python3.11/site-packages (from openai-agents>=0.0.5->openai-agents-mcp->aurite==0.3.14) (1.7.3)\n",
      "Requirement already satisfied: types-requests<3,>=2.0 in /home/wilcoxr/workspace/aurite/aurite-agents/notebook-venv/lib/python3.11/site-packages (from openai-agents>=0.0.5->openai-agents-mcp->aurite==0.3.14) (2.32.0.20250602)\n",
      "Requirement already satisfied: colorama>=0.4 in /home/wilcoxr/workspace/aurite/aurite-agents/notebook-venv/lib/python3.11/site-packages (from griffe<2,>=1.5.6->openai-agents>=0.0.5->openai-agents-mcp->aurite==0.3.14) (0.4.6)\n",
      "Requirement already satisfied: opentelemetry-api~=1.12 in /home/wilcoxr/workspace/aurite/aurite-agents/notebook-venv/lib/python3.11/site-packages (from opentelemetry-distro>=0.50b0->mcp-agent>=0.0.13->openai-agents-mcp->aurite==0.3.14) (1.34.0)\n",
      "Requirement already satisfied: opentelemetry-instrumentation==0.55b0 in /home/wilcoxr/workspace/aurite/aurite-agents/notebook-venv/lib/python3.11/site-packages (from opentelemetry-distro>=0.50b0->mcp-agent>=0.0.13->openai-agents-mcp->aurite==0.3.14) (0.55b0)\n",
      "Requirement already satisfied: opentelemetry-sdk~=1.13 in /home/wilcoxr/workspace/aurite/aurite-agents/notebook-venv/lib/python3.11/site-packages (from opentelemetry-distro>=0.50b0->mcp-agent>=0.0.13->openai-agents-mcp->aurite==0.3.14) (1.34.0)\n",
      "Requirement already satisfied: opentelemetry-semantic-conventions==0.55b0 in /home/wilcoxr/workspace/aurite/aurite-agents/notebook-venv/lib/python3.11/site-packages (from opentelemetry-instrumentation==0.55b0->opentelemetry-distro>=0.50b0->mcp-agent>=0.0.13->openai-agents-mcp->aurite==0.3.14) (0.55b0)\n",
      "Requirement already satisfied: wrapt<2.0.0,>=1.0.0 in /home/wilcoxr/workspace/aurite/aurite-agents/notebook-venv/lib/python3.11/site-packages (from opentelemetry-instrumentation==0.55b0->opentelemetry-distro>=0.50b0->mcp-agent>=0.0.13->openai-agents-mcp->aurite==0.3.14) (1.17.2)\n",
      "Requirement already satisfied: importlib-metadata<8.8.0,>=6.0 in /home/wilcoxr/workspace/aurite/aurite-agents/notebook-venv/lib/python3.11/site-packages (from opentelemetry-api~=1.12->opentelemetry-distro>=0.50b0->mcp-agent>=0.0.13->openai-agents-mcp->aurite==0.3.14) (8.7.0)\n",
      "Requirement already satisfied: zipp>=3.20 in /home/wilcoxr/workspace/aurite/aurite-agents/notebook-venv/lib/python3.11/site-packages (from importlib-metadata<8.8.0,>=6.0->opentelemetry-api~=1.12->opentelemetry-distro>=0.50b0->mcp-agent>=0.0.13->openai-agents-mcp->aurite==0.3.14) (3.22.0)\n",
      "Requirement already satisfied: opentelemetry-exporter-otlp-proto-common==1.34.0 in /home/wilcoxr/workspace/aurite/aurite-agents/notebook-venv/lib/python3.11/site-packages (from opentelemetry-exporter-otlp-proto-http>=1.29.0->mcp-agent>=0.0.13->openai-agents-mcp->aurite==0.3.14) (1.34.0)\n",
      "Requirement already satisfied: opentelemetry-proto==1.34.0 in /home/wilcoxr/workspace/aurite/aurite-agents/notebook-venv/lib/python3.11/site-packages (from opentelemetry-exporter-otlp-proto-http>=1.29.0->mcp-agent>=0.0.13->openai-agents-mcp->aurite==0.3.14) (1.34.0)\n",
      "Requirement already satisfied: opentelemetry-semantic-conventions-ai==0.4.9 in /home/wilcoxr/workspace/aurite/aurite-agents/notebook-venv/lib/python3.11/site-packages (from opentelemetry-instrumentation-anthropic>=0.39.3->mcp-agent>=0.0.13->openai-agents-mcp->aurite==0.3.14) (0.4.9)\n",
      "Requirement already satisfied: tiktoken<1,>=0.6.0 in /home/wilcoxr/workspace/aurite/aurite-agents/notebook-venv/lib/python3.11/site-packages (from opentelemetry-instrumentation-openai>=0.39.3->mcp-agent>=0.0.13->openai-agents-mcp->aurite==0.3.14) (0.9.0)\n",
      "Requirement already satisfied: regex>=2022.1.18 in /home/wilcoxr/workspace/aurite/aurite-agents/notebook-venv/lib/python3.11/site-packages (from tiktoken<1,>=0.6.0->opentelemetry-instrumentation-openai>=0.39.3->mcp-agent>=0.0.13->openai-agents-mcp->aurite==0.3.14) (2024.11.6)\n",
      "Requirement already satisfied: wcwidth in /home/wilcoxr/workspace/aurite/aurite-agents/notebook-venv/lib/python3.11/site-packages (from prompt-toolkit>=3.0.50->mcp-agent>=0.0.13->openai-agents-mcp->aurite==0.3.14) (0.2.13)\n",
      "Requirement already satisfied: scipy>=1.8.0 in /home/wilcoxr/workspace/aurite/aurite-agents/notebook-venv/lib/python3.11/site-packages (from scikit-learn>=1.6.0->mcp-agent>=0.0.13->openai-agents-mcp->aurite==0.3.14) (1.15.3)\n",
      "Requirement already satisfied: joblib>=1.2.0 in /home/wilcoxr/workspace/aurite/aurite-agents/notebook-venv/lib/python3.11/site-packages (from scikit-learn>=1.6.0->mcp-agent>=0.0.13->openai-agents-mcp->aurite==0.3.14) (1.5.1)\n",
      "Requirement already satisfied: threadpoolctl>=3.1.0 in /home/wilcoxr/workspace/aurite/aurite-agents/notebook-venv/lib/python3.11/site-packages (from scikit-learn>=1.6.0->mcp-agent>=0.0.13->openai-agents-mcp->aurite==0.3.14) (3.6.0)\n",
      "Note: you may need to restart the kernel to use updated packages.\n"
     ]
    }
   ],
   "source": [
    "%pip install aurite==0.3.15"
   ]
  },
  {
   "cell_type": "markdown",
   "metadata": {},
   "source": [
    "### Step 1.2: Configure API Keys\n",
    "\n",
    "Like in our previous notebooks, we need to configure our API keys. The cell below will prompt you to enter your keys securely."
   ]
  },
  {
   "cell_type": "code",
   "execution_count": 29,
   "metadata": {},
   "outputs": [],
   "source": [
    "import os\n",
    "from getpass import getpass\n",
    "\n",
    "try:\n",
    "  from google.colab import userdata #type: ignore\n",
    "  # Fetch the secret value from Colab's secret manager and set it as an environment variable so your script can find it\n",
    "  os.environ['OPENAI_API_KEY'] = userdata.get('OPENAI_API_KEY')\n",
    "  os.environ[\"SMITHERY_API_KEY\"] = userdata.get('SMITHERY_API_KEY')\n",
    "  os.environ[\"SMITHERY_PROFILE_ID\"] = userdata.get('SMITHERY_PROFILE_ID')\n",
    "except ImportError: # This is not a real error, just a check if running in Colab\n",
    "    from dotenv import load_dotenv\n",
    "    load_dotenv()  # Load environment variables from a .env file if it exists\n",
    "except Exception as e:\n",
    "    print(f\"Error fetching from Colab's secret manager: {e}\")\n",
    "\n",
    "if \"OPENAI_API_KEY\" not in os.environ:\n",
    "    os.environ[\"OPENAI_API_KEY\"] = getpass(\"Enter your OpenAI API key: \")\n",
    "if \"SMITHERY_API_KEY\" not in os.environ:\n",
    "    os.environ[\"SMITHERY_API_KEY\"] = getpass(\"Enter your Smithery API key: \")\n",
    "if \"SMITHERY_PROFILE_ID\" not in os.environ:\n",
    "    os.environ[\"SMITHERY_PROFILE_ID\"] = getpass(\"Enter your Smithery Profile ID: \")"
   ]
  },
  {
   "cell_type": "markdown",
   "metadata": {},
   "source": [
    "### Step 1.3: HTML Display Helper\n",
    "\n",
    "We'll use the same helper function from the previous tutorials to render the agent's output in a nice, readable format."
   ]
  },
  {
   "cell_type": "code",
   "execution_count": 30,
   "metadata": {},
   "outputs": [],
   "source": [
    "from IPython.display import display, Markdown\n",
    "\n",
    "def display_agent_response(agent_name: str, query: str, response: str):\n",
    "  \"\"\"Formats and displays the agent's response in a structured Markdown block.\"\"\"\n",
    "\n",
    "  output = f\"\"\"\n",
    "  <div style=\\\"border: 1px solid #D1D5DB; border-radius: 8px; margin-top: 20px; font-family: sans-serif; box-shadow: 0 4px 6px rgba(0,0,0,0.05);\\\">\n",
    "    <div style=\\\"background-color: #F3F4F6; padding: 10px 15px; border-bottom: 1px solid #D1D5DB; border-radius: 8px 8px 0 0;\\\">\n",
    "      <h3 style=\\\"margin: 0; font-size: 16px; color: #1F2937; display: flex; align-items: center;\\\">\n",
    "        <span style=\\\"margin-right: 8px;\\\">🤖</span>\n",
    "        Agent Response: <code style=\\\"background-color: #E5E7EB; color: #374151; padding: 2px 6px; border-radius: 4px; margin-left: 8px;\\\">{agent_name}</code>\n",
    "      </h3>\n",
    "    </div>\n",
    "    <div style=\\\"padding: 15px;\\\">\n",
    "      <p style=\\\"margin: 0 0 10px 0; color: #6B7280; font-size: 14px;\\\">\n",
    "        <strong>Your Query:</strong>\n",
    "      </p>\n",
    "      <p style=\\\"background-color: #F9FAFB; margin: 0 0 15px 0; color: #1F2937; border: 1px solid #E5E7EB; border-left: 3px solid #9CA3AF; padding: 10px 12px; border-radius: 4px;\\\">\n",
    "        <em>\\\"{query}\\\"</em>\n",
    "      </p>\n",
    "      <hr style=\\\"border: none; border-top: 1px dashed #D1D5DB; margin-bottom: 15px;\\\">\n",
    "      <p style=\\\"margin: 0 0 10px 0; color: #6B7280; font-size: 14px;\\\">\n",
    "        <strong>Result:</strong>\n",
    "      </p>\n",
    "      <div style=\\\"background-color: #FFFFFF; padding: 15px; border-radius: 5px; border: 1px solid #E5E7EB; color: #1F2937; font-size: 15px; line-height: 1.6;\\\">\n",
    "        {response}\n",
    "      </div>\n",
    "    </div>\n",
    "  </div>\n",
    "  \"\"\"\n",
    "  display(Markdown(output))"
   ]
  },
  {
   "cell_type": "markdown",
   "metadata": {},
   "source": [
    "### Step 1.4: Initialize Aurite\n",
    "\n",
    "Finally, let's create and initialize the main Aurite application object. We will use this single instance for the entire notebook."
   ]
  },
  {
   "cell_type": "code",
   "execution_count": 31,
   "metadata": {},
   "outputs": [
    {
     "name": "stderr",
     "output_type": "stream",
     "text": [
      "\u001b[32mINFO    \u001b[0m [aurite.config.component_manager] User project config directory not found at /home/wilcoxr/workspace/aurite/aurite-agents/docs/notebooks/config. No project-specific components will be loaded.\u001b[0m\n",
      "\u001b[33mWARNING \u001b[0m [aurite.config.project_manager] Project file not found at /home/wilcoxr/workspace/aurite/aurite-agents/docs/notebooks/aurite_config.json. Creating an empty project named 'aurite_config.json'.\u001b[0m\n",
      "\u001b[32mINFO    \u001b[0m [aurite.host.host] MCP Host initialization attempt finished. Successfully initialized 0/0 configured clients. \u001b[0m\n",
      "\u001b[32mINFO    \u001b[0m [aurite.host_manager] \u001b[1m\u001b[33mAurite initialization complete.\u001b[0m\n"
     ]
    }
   ],
   "source": [
    "from aurite import Aurite\n",
    "\n",
    "aurite = Aurite()\n",
    "\n",
    "await aurite.initialize()"
   ]
  },
  {
   "cell_type": "markdown",
   "metadata": {},
   "source": [
    "## Section 2: Manually Registering a Tool Server\n",
    "\n",
    "To fully understand how tools work, we will first walk through all the steps of configuring, registering, and using a tool server manually."
   ]
  },
  {
   "cell_type": "markdown",
   "metadata": {},
   "source": [
    "### Step 2.1: Understanding `ClientConfig`\n",
    "\n",
    "A `ClientConfig` is a configuration object (which can be defined in Python or JSON) that tells Aurite everything it needs to know to connect to and use an MCP Server. \n",
    "\n",
    "Let's look at the configuration for a real tool server from the packaged toolbox: `game_trends_mcp`. This server provides tools for getting data about video games.\n",
    "\n",
    "```json\n",
    "{\n",
    "    \"name\": \"game_trends_mcp\",\n",
    "    \"transport_type\": \"http_stream\",\n",
    "    \"http_endpoint\": \"https://server.smithery.ai/@halismertkir/game-trends-mcp/mcp?profile={SMITHERY_PROFILE_ID}&api_key={SMITHERY_API_KEY}\",\n",
    "    \"capabilities\": [\"tools\"]\n",
    "}\n",
    "```\n",
    "\n",
    "**Key Fields:**\n",
    "-   `name`: A unique name for the server.\n",
    "-   `transport_type`: How to connect. We're using `\"http_stream\"`, which is perfect for cloud notebooks because it connects to a server already running on the internet.\n",
    "-   `http_endpoint`: The URL of the server. Notice the `{SMITHERY_PROFILE_ID}` and `{SMITHERY_API_KEY}` placeholders—Aurite will automatically replace these with the environment variables you just set!\n",
    "-   `capabilities`: What the server provides. In this case, `\"tools\"`.\n",
    "\n",
    "> For a full breakdown of all configuration options, including other transport types like `stdio` for local scripts, see the **[Client Configurations Documentation](../components/mcp_server.md)**."
   ]
  },
  {
   "cell_type": "markdown",
   "metadata": {},
   "source": [
    "### Step 2.2: Define and Register the `ClientConfig`\n",
    "\n",
    "Instead of using a JSON file, we can define the `ClientConfig` directly in our Python code and register it with our running `aurite` instance."
   ]
  },
  {
   "cell_type": "code",
   "execution_count": null,
   "metadata": {},
   "outputs": [
    {
     "name": "stderr",
     "output_type": "stream",
     "text": [
      "\u001b[32mINFO    \u001b[0m [aurite.host.host] Attempting to dynamically register client: game_trends_mcp\u001b[0m\n",
      "\u001b[32mINFO    \u001b[0m [aurite.host.host] Client 'game_trends_mcp' dynamically registered and initialized successfully.\u001b[0m\n"
     ]
    },
    {
     "name": "stdout",
     "output_type": "stream",
     "text": [
      "✅ Successfully registered ClientConfig for: game_trends_mcp\n"
     ]
    }
   ],
   "source": [
    "from aurite.config.config_models import ClientConfig\n",
    "\n",
    "game_trends_config = ClientConfig(\n",
    "    name=\"game_trends_mcp\",\n",
    "    http_endpoint=\"https://server.smithery.ai/@halismertkir/game-trends-mcp/mcp?profile={SMITHERY_PROFILE_ID}&api_key={SMITHERY_API_KEY}\",\n",
    "    capabilities=[\"tools\"]\n",
    ")\n",
    "await aurite.register_client(game_trends_config)\n",
    "print(f\"✅ Successfully registered ClientConfig for: {game_trends_config.name}\")"
   ]
  },
  {
   "cell_type": "markdown",
   "metadata": {},
   "source": [
    "### Step 2.3: Define and Register an Agent\n",
    "\n",
    "Now, let's create an agent and tell it that it's allowed to use the server we just configured. We do this by adding the server's `name` to the agent's `mcp_servers` list."
   ]
  },
  {
   "cell_type": "code",
   "execution_count": 33,
   "metadata": {},
   "outputs": [
    {
     "name": "stdout",
     "output_type": "stream",
     "text": [
      "✅ Successfully Registered Agent: Game Trend Analyst\n"
     ]
    }
   ],
   "source": [
    "from aurite.config.config_models import AgentConfig\n",
    "\n",
    "# Use the name of the ClientConfig we just created to register an agent with it\n",
    "analyst_agent_config = AgentConfig(\n",
    "    name=\"Game Trend Analyst\",\n",
    "    system_prompt=\"You are an expert analyst in the video game industry. Use the tools provided to answer questions about game trends.\",\n",
    "    mcp_servers=[\"game_trends_mcp\"] # This links the agent to our ClientConfig\n",
    ")\n",
    "\n",
    "await aurite.register_agent(analyst_agent_config)\n",
    "\n",
    "print(f\"✅ Successfully Registered Agent: {analyst_agent_config.name}\")"
   ]
  },
  {
   "cell_type": "markdown",
   "metadata": {},
   "source": [
    "### Step 2.4: Run the Agent\n",
    "\n",
    "Now for the fun part! Let's ask our agent a question that requires it to use the game trends tool."
   ]
  },
  {
   "cell_type": "code",
   "execution_count": 34,
   "metadata": {},
   "outputs": [
    {
     "name": "stderr",
     "output_type": "stream",
     "text": [
      "\u001b[33mWARNING \u001b[0m [aurite.execution.facade] Facade: Agent 'Game Trend Analyst' running without a specific LLMConfig ID. Creating temporary, non-cached client using default OpenAI config.\u001b[0m\n",
      "\u001b[32mINFO    \u001b[0m [aurite.components.llm.providers.openai_client] OpenAIClient initialized for model gpt-4-turbo-preview using direct API calls.\u001b[0m\n",
      "\u001b[32mINFO    \u001b[0m [aurite.execution.facade] \u001b[1m\u001b[34mFacade: Running conversation for Aurite Agent 'Game Trend Analyst'...\u001b[0m\n"
     ]
    },
    {
     "name": "stdout",
     "output_type": "stream",
     "text": [
      "Running agent with query: 'What are the top-selling games on Steam right now?'...\n"
     ]
    },
    {
     "name": "stderr",
     "output_type": "stream",
     "text": [
      "\u001b[32mINFO    \u001b[0m [aurite.host.host] Executing tool 'get_steam_top_sellers' on client 'game_trends_mcp' for agent 'Game Trend Analyst'\u001b[0m\n",
      "\u001b[32mINFO    \u001b[0m [aurite.execution.facade] \u001b[1m\u001b[34mFacade: Aurite Agent 'Game Trend Analyst' conversation finished.\u001b[0m\n"
     ]
    },
    {
     "data": {
      "text/markdown": [
       "\n",
       "  <div style=\"border: 1px solid #D1D5DB; border-radius: 8px; margin-top: 20px; font-family: sans-serif; box-shadow: 0 4px 6px rgba(0,0,0,0.05);\">\n",
       "    <div style=\"background-color: #F3F4F6; padding: 10px 15px; border-bottom: 1px solid #D1D5DB; border-radius: 8px 8px 0 0;\">\n",
       "      <h3 style=\"margin: 0; font-size: 16px; color: #1F2937; display: flex; align-items: center;\">\n",
       "        <span style=\"margin-right: 8px;\">🤖</span>\n",
       "        Agent Response: <code style=\"background-color: #E5E7EB; color: #374151; padding: 2px 6px; border-radius: 4px; margin-left: 8px;\">Game Trend Analyst</code>\n",
       "      </h3>\n",
       "    </div>\n",
       "    <div style=\"padding: 15px;\">\n",
       "      <p style=\"margin: 0 0 10px 0; color: #6B7280; font-size: 14px;\">\n",
       "        <strong>Your Query:</strong>\n",
       "      </p>\n",
       "      <p style=\"background-color: #F9FAFB; margin: 0 0 15px 0; color: #1F2937; border: 1px solid #E5E7EB; border-left: 3px solid #9CA3AF; padding: 10px 12px; border-radius: 4px;\">\n",
       "        <em>\"What are the top-selling games on Steam right now?\"</em>\n",
       "      </p>\n",
       "      <hr style=\"border: none; border-top: 1px dashed #D1D5DB; margin-bottom: 15px;\">\n",
       "      <p style=\"margin: 0 0 10px 0; color: #6B7280; font-size: 14px;\">\n",
       "        <strong>Result:</strong>\n",
       "      </p>\n",
       "      <div style=\"background-color: #FFFFFF; padding: 15px; border-radius: 5px; border: 1px solid #E5E7EB; color: #1F2937; font-size: 15px; line-height: 1.6;\">\n",
       "        The top-selling games on Steam right now are:\n",
       "\n",
       "1. **Dune: Awakening**\n",
       "   - Release Date: Jun 10, 2025\n",
       "   - Price: N/A\n",
       "   - [Link to Store](https://store.steampowered.com/app/1172710/Dune_Awakening/?snr=1_7_7_7000_150_1)\n",
       "\n",
       "2. **Counter-Strike 2**\n",
       "   - Release Date: Aug 21, 2012\n",
       "   - Price: N/A\n",
       "   - [Link to Store](https://store.steampowered.com/app/730/CounterStrike_2/?snr=1_7_7_7000_150_1)\n",
       "\n",
       "3. **ELDEN RING NIGHTREIGN**\n",
       "   - Release Date: May 29, 2025\n",
       "   - Price: N/A\n",
       "   - [Link to Store](https://store.steampowered.com/app/2622380/ELDEN_RING_NIGHTREIGN/?snr=1_7_7_7000_150_1)\n",
       "\n",
       "4. **Steam Deck**\n",
       "   - Release Date: Jan 17, 2025\n",
       "   - Price: N/A\n",
       "   - [Link to Store](https://store.steampowered.com/app/1675200/Steam_Deck/?snr=1_7_7_7000_150_1)\n",
       "\n",
       "5. **DELTARUNE**\n",
       "   - Release Date: Jun 4, 2025\n",
       "   - Price: N/A\n",
       "   - [Link to Store](https://store.steampowered.com/app/1671210/DELTARUNE/?snr=1_7_7_7000_150_1)\n",
       "\n",
       "These are the current top 5 bestsellers on Steam, showcasing a mix of upcoming and existing titles.\n",
       "      </div>\n",
       "    </div>\n",
       "  </div>\n",
       "  "
      ],
      "text/plain": [
       "<IPython.core.display.Markdown object>"
      ]
     },
     "metadata": {},
     "output_type": "display_data"
    }
   ],
   "source": [
    "user_query = \"What are the top-selling games on Steam right now?\"\n",
    "print(f\"Running agent with query: '{user_query}'...\")\n",
    "\n",
    "agent_result = await aurite.run_agent(\n",
    "    agent_name=\"Game Trend Analyst\",\n",
    "    user_message=user_query\n",
    ")\n",
    "\n",
    "display_agent_response(\"Game Trend Analyst\", user_query, agent_result.primary_text)"
   ]
  },
  {
   "cell_type": "markdown",
   "metadata": {},
   "source": [
    "## Section 3: The Easy Way - Using the Built-in Toolbox\n",
    "\n",
    "Manually defining the `ClientConfig` is great for understanding how things work, but Aurite provides a much easier way to use the dozens of tools included in its toolbox: **Just-in-Time (JIT) Registration**.\n",
    "\n",
    "You don't need to define a `ClientConfig` for any packaged tool. You just need to reference it by name in your agent's `mcp_servers` list, and Aurite will find it and set it up for you automatically."
   ]
  },
  {
   "cell_type": "markdown",
   "metadata": {},
   "source": [
    "### Step 3.1: Define and Register a New Agent\n",
    "\n",
    "Let's create a new agent to be a weather forecaster. We'll tell it to use the `national_weather_service` tool server. Notice that this time, we are **not** creating a `ClientConfig` for it. We just register the agent, and Aurite handles the rest."
   ]
  },
  {
   "cell_type": "code",
   "execution_count": 35,
   "metadata": {},
   "outputs": [
    {
     "name": "stderr",
     "output_type": "stream",
     "text": [
      "\u001b[32mINFO    \u001b[0m [aurite.host.host] Attempting to dynamically register client: national_weather_service\u001b[0m\n",
      "\u001b[32mINFO    \u001b[0m [aurite.host.host] Client 'national_weather_service' dynamically registered and initialized successfully.\u001b[0m\n"
     ]
    },
    {
     "name": "stdout",
     "output_type": "stream",
     "text": [
      "✅ Successfully Registered Agent: Weather Forecaster\n"
     ]
    }
   ],
   "source": [
    "weather_agent_config = AgentConfig(\n",
    "    name=\"Weather Forecaster\",\n",
    "    system_prompt=\"You are a helpful weather assistant. Use the tools provided to get the weather forecast.\",\n",
    "    mcp_servers=[\"national_weather_service\"] # Just reference the packaged tool by name!\n",
    ")\n",
    "await aurite.register_agent(weather_agent_config)\n",
    "print(f\"✅ Successfully Registered Agent: {weather_agent_config.name}\")"
   ]
  },
  {
   "cell_type": "markdown",
   "metadata": {},
   "source": [
    "### Step 3.2: Run the New Agent\n",
    "\n",
    "Now let's run our new weather agent."
   ]
  },
  {
   "cell_type": "code",
   "execution_count": 36,
   "metadata": {},
   "outputs": [
    {
     "name": "stderr",
     "output_type": "stream",
     "text": [
      "\u001b[33mWARNING \u001b[0m [aurite.execution.facade] Facade: Agent 'Weather Forecaster' running without a specific LLMConfig ID. Creating temporary, non-cached client using default OpenAI config.\u001b[0m\n",
      "\u001b[32mINFO    \u001b[0m [aurite.components.llm.providers.openai_client] OpenAIClient initialized for model gpt-4-turbo-preview using direct API calls.\u001b[0m\n",
      "\u001b[32mINFO    \u001b[0m [aurite.execution.facade] \u001b[1m\u001b[34mFacade: Running conversation for Aurite Agent 'Weather Forecaster'...\u001b[0m\n"
     ]
    },
    {
     "name": "stdout",
     "output_type": "stream",
     "text": [
      "Running agent with query: 'What's the weather forecast for New York, NY?'...\n"
     ]
    },
    {
     "name": "stderr",
     "output_type": "stream",
     "text": [
      "\u001b[32mINFO    \u001b[0m [aurite.host.host] Executing tool 'get_weather_forecast' on client 'national_weather_service' for agent 'Weather Forecaster'\u001b[0m\n",
      "\u001b[32mINFO    \u001b[0m [aurite.execution.facade] \u001b[1m\u001b[34mFacade: Aurite Agent 'Weather Forecaster' conversation finished.\u001b[0m\n"
     ]
    },
    {
     "data": {
      "text/markdown": [
       "\n",
       "  <div style=\"border: 1px solid #D1D5DB; border-radius: 8px; margin-top: 20px; font-family: sans-serif; box-shadow: 0 4px 6px rgba(0,0,0,0.05);\">\n",
       "    <div style=\"background-color: #F3F4F6; padding: 10px 15px; border-bottom: 1px solid #D1D5DB; border-radius: 8px 8px 0 0;\">\n",
       "      <h3 style=\"margin: 0; font-size: 16px; color: #1F2937; display: flex; align-items: center;\">\n",
       "        <span style=\"margin-right: 8px;\">🤖</span>\n",
       "        Agent Response: <code style=\"background-color: #E5E7EB; color: #374151; padding: 2px 6px; border-radius: 4px; margin-left: 8px;\">Weather Forecaster</code>\n",
       "      </h3>\n",
       "    </div>\n",
       "    <div style=\"padding: 15px;\">\n",
       "      <p style=\"margin: 0 0 10px 0; color: #6B7280; font-size: 14px;\">\n",
       "        <strong>Your Query:</strong>\n",
       "      </p>\n",
       "      <p style=\"background-color: #F9FAFB; margin: 0 0 15px 0; color: #1F2937; border: 1px solid #E5E7EB; border-left: 3px solid #9CA3AF; padding: 10px 12px; border-radius: 4px;\">\n",
       "        <em>\"What's the weather forecast for New York, NY?\"</em>\n",
       "      </p>\n",
       "      <hr style=\"border: none; border-top: 1px dashed #D1D5DB; margin-bottom: 15px;\">\n",
       "      <p style=\"margin: 0 0 10px 0; color: #6B7280; font-size: 14px;\">\n",
       "        <strong>Result:</strong>\n",
       "      </p>\n",
       "      <div style=\"background-color: #FFFFFF; padding: 15px; border-radius: 5px; border: 1px solid #E5E7EB; color: #1F2937; font-size: 15px; line-height: 1.6;\">\n",
       "        Here's the 7-day weather forecast for New York, NY:\n",
       "\n",
       "### Tonight\n",
       "- **Temperature:** 62°F, rising to around 64°F overnight.\n",
       "- **Conditions:** Chance of rain showers, 45% chance of precipitation.\n",
       "- **Wind:** East at 13 mph.\n",
       "\n",
       "### Monday\n",
       "- **Temperature:** 67°F, falling to around 65°F in the afternoon.\n",
       "- **Conditions:** Chance of showers and thunderstorms, 40% chance of precipitation.\n",
       "- **Wind:** East at 12 mph.\n",
       "\n",
       "### Monday Night\n",
       "- **Temperature:** 65°F, rising to around 67°F overnight.\n",
       "- **Conditions:** Chance of rain showers, 51% chance of precipitation.\n",
       "- **Wind:** East 6 to 10 mph.\n",
       "\n",
       "### Tuesday\n",
       "- **Temperature:** 73°F.\n",
       "- **Conditions:** Showers and thunderstorms likely, 71% chance of precipitation.\n",
       "- **Wind:** Southeast at 7 mph.\n",
       "\n",
       "### Tuesday Night\n",
       "- **Temperature:** 66°F.\n",
       "- **Conditions:** Chance of showers and thunderstorms before 8pm, then partly cloudy, 43% chance of precipitation.\n",
       "- **Wind:** West at 7 mph.\n",
       "\n",
       "### Wednesday\n",
       "- **Temperature:** 79°F.\n",
       "- **Conditions:** Sunny.\n",
       "- **Wind:** West 6 to 12 mph.\n",
       "\n",
       "### Wednesday Night\n",
       "- **Temperature:** 69°F.\n",
       "- **Conditions:** Clear.\n",
       "- **Wind:** West at 12 mph.\n",
       "\n",
       "### Thursday\n",
       "- **Temperature:** 84°F.\n",
       "- **Conditions:** Sunny, 10% chance of precipitation.\n",
       "- **Wind:** West at 12 mph.\n",
       "\n",
       "### Thursday Night\n",
       "- **Temperature:** 71°F.\n",
       "- **Conditions:** Partly cloudy, 10% chance of precipitation.\n",
       "- **Wind:** West 6 to 10 mph.\n",
       "\n",
       "### Friday\n",
       "- **Temperature:** 80°F.\n",
       "- **Conditions:** Partly sunny then a slight chance of rain showers after 2pm, 19% chance of precipitation.\n",
       "- **Wind:** Northwest at 8 mph.\n",
       "\n",
       "### Friday Night\n",
       "- **Temperature:** 67°F.\n",
       "- **Conditions:** Chance of rain showers, 25% chance of precipitation.\n",
       "- **Wind:** North at 8 mph.\n",
       "\n",
       "### Saturday\n",
       "- **Temperature:** 72°F.\n",
       "- **Conditions:** Chance of rain showers before 2pm, then a chance of showers and thunderstorms, 37% chance of precipitation.\n",
       "- **Wind:** East 8 to 12 mph.\n",
       "\n",
       "### Saturday Night\n",
       "- **Temperature:** 64°F.\n",
       "- **Conditions:** Chance of showers and thunderstorms, 45% chance of precipitation.\n",
       "- **Wind:** East at 12 mph.\n",
       "\n",
       "### Sunday\n",
       "- **Temperature:** 71°F.\n",
       "- **Conditions:** Chance of rain showers, 39% chance of precipitation.\n",
       "- **Wind:** East at 12 mph.\n",
       "\n",
       "This forecast provides a detailed look at the expected weather conditions, including temperature, precipitation, and wind direction and speed for the coming week in New York, NY.\n",
       "      </div>\n",
       "    </div>\n",
       "  </div>\n",
       "  "
      ],
      "text/plain": [
       "<IPython.core.display.Markdown object>"
      ]
     },
     "metadata": {},
     "output_type": "display_data"
    }
   ],
   "source": [
    "user_query_weather = \"What's the weather forecast for New York, NY?\"\n",
    "print(f\"Running agent with query: '{user_query_weather}'...\")\n",
    "\n",
    "agent_result_weather = await aurite.run_agent(\n",
    "    agent_name=\"Weather Forecaster\",\n",
    "    user_message=user_query_weather\n",
    ")\n",
    "\n",
    "display_agent_response(\"Weather Forecaster\", user_query_weather, agent_result_weather.primary_text)"
   ]
  },
  {
   "cell_type": "markdown",
   "metadata": {},
   "source": [
    "### Step 3.3: How It Works\n",
    "\n",
    "It just works! When you registered the `Weather Forecaster` agent, Aurite's `HostManager` saw that it needed an MCP server named `national_weather_service`. It searched the built-in toolbox, found the corresponding `ClientConfig`, loaded it, and automatically connected to the server using the Smithery API keys you provided earlier. \n",
    "\n",
    "This makes using the entire library of packaged tools incredibly simple."
   ]
  },
  {
   "cell_type": "markdown",
   "metadata": {},
   "source": [
    "## Section 4: Your Turn to Explore\n",
    "\n",
    "Now that you know how to use packaged tools, you can experiment with the entire toolbox.\n",
    "\n",
    "1.  Explore the full list of available tools in the **[Packaged MCP Servers Directory](../toolbox/mcp_server_directory.md)**.\n",
    "2.  Click on a category to see the available servers and the tools they provide.\n",
    "3.  Try creating a new agent that uses a different server, like `pubmed_mcp_server` (for medical research) or `appinsightmcp` (for app store data).\n",
    "\n",
    "**Challenge:** Create a new agent named \"Medical Researcher\" that uses the `pubmed_mcp_server` and ask it to `\"Search for recent articles about AI in medicine.\"`"
   ]
  },
  {
   "cell_type": "markdown",
   "metadata": {},
   "source": [
    "## Conclusion\n",
    "\n",
    "Congratulations! You've learned the fundamentals of giving agents tools in the Aurite framework. \n",
    "\n",
    "You now know:\n",
    "-   How to define and register a `ClientConfig` to connect to any `http_stream` MCP server.\n",
    "-   How to leverage the powerful Just-in-Time registration to use any of the dozens of tools in the built-in toolbox just by referencing their name.\n",
    "\n",
    "This opens up a world of possibilities for creating highly capable and specialized agents."
   ]
  }
 ],
 "metadata": {
  "kernelspec": {
   "display_name": "notebook-venv",
   "language": "python",
   "name": "python3"
  },
  "language_info": {
   "codemirror_mode": {
    "name": "ipython",
    "version": 3
   },
   "file_extension": ".py",
   "mimetype": "text/x-python",
   "name": "python",
   "nbconvert_exporter": "python",
   "pygments_lexer": "ipython3",
   "version": "3.11.11"
  }
 },
 "nbformat": 4,
 "nbformat_minor": 2
}
