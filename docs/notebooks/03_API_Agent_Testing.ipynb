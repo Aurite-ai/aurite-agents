{
 "cells": [
  {
   "cell_type": "markdown",
   "metadata": {},
   "source": [
    "# Aurite API Agent: Functional Testing\n",
    "\n",
    "This notebook is for functionally testing the `Aurite API Agent`. This agent uses an MCP server that wraps the framework's own API, allowing it to create and execute other components."
   ]
  },
  {
   "cell_type": "markdown",
   "metadata": {},
   "source": [
    "## 1. Setup\n",
    "### Install the `aurite` Python package\n",
    "First, ensure you have the `aurite-agents` package installed. If you are running this from the source repository, you can install it in editable mode with `pip install -e .` from the root directory."
   ]
  },
  {
   "cell_type": "code",
   "execution_count": null,
   "metadata": {},
   "outputs": [],
   "source": [
    "%pip install -q -U \"aurite-agents[default]\""
   ]
  },
  {
   "cell_type": "markdown",
   "metadata": {},
   "source": [
    "### Configure Your API Key\n",
    "The `Aurite API Agent` needs an API key to communicate with the framework's API. For security, we'll load this from an environment variable."
   ]
  },
  {
   "cell_type": "code",
   "execution_count": null,
   "metadata": {},
   "outputs": [],
   "source": [
    "import os\n",
    "from getpass import getpass\n",
    "\n",
    "try:\n",
    "    from dotenv import load_dotenv\n",
    "    load_dotenv()  # Load environment variables from a .env file if it exists\n",
    "except ImportError:\n",
    "    print(\"dotenv not installed, skipping. Please ensure API_KEY is set manually.\")\n",
    "\n",
    "if \"API_KEY\" not in os.environ:\n",
    "    os.environ[\"API_KEY\"] = getpass(\"Enter your Aurite API key: \")"
   ]
  },
  {
   "cell_type": "markdown",
   "metadata": {},
   "source": [
    "## 2. Initialize Aurite & Define Components\n",
    "\n",
    "Next, we'll initialize the `Aurite` framework. Instead of loading from a file, we will define our `ClientConfig` and `AgentConfig` directly in Python."
   ]
  },
  {
   "cell_type": "code",
   "execution_count": null,
   "metadata": {},
   "outputs": [],
   "source": [
    "from aurite import Aurite, AgentConfig, ClientConfig\n",
    "\n",
    "aurite = Aurite()\n",
    "\n",
    "# This command starts up the necessary background services.\n",
    "await aurite.initialize()"
   ]
  },
  {
   "cell_type": "markdown",
   "metadata": {},
   "source": [
    "### Define the API MCP Server\n",
    "\n",
    "Here, we define the configuration for our API-wrapping MCP server. We use an absolute path to the server script."
   ]
  },
  {
   "cell_type": "code",
   "execution_count": null,
   "metadata": {},
   "outputs": [],
   "source": [
    "api_server_config = ClientConfig(\n",
    "    name=\"api_mcp_server\",\n",
    "    server_path=\"/home/wilcoxr/workspace/aurite/aurite-agents/src/aurite/components/servers/orchestration/api_mcp_server.py\",\n",
    "    capabilities=[\"tools\"],\n",
    "    timeout=30.0\n",
    ")\n",
    "\n",
    "await aurite.register_client(api_server_config)\n",
    "print(\"✅ API MCP Server registered successfully!\")"
   ]
  },
  {
   "cell_type": "markdown",
   "metadata": {},
   "source": [
    "### Define the Aurite API Agent\n",
    "\n",
    "Now, we create the agent that will use our new server. Its system prompt instructs it to use the tools provided."
   ]
  },
  {
   "cell_type": "code",
   "execution_count": null,
   "metadata": {},
   "outputs": [],
   "source": [
    "api_agent_config = AgentConfig(\n",
    "    name=\"Aurite API Agent\",\n",
    "    llm_config_id=\"anthropic_claude_3_haiku\", # Assumes a default LLM is available\n",
    "    mcp_servers=[\"api_mcp_server\"],\n",
    "    system_prompt=\"You are an agent that can interact with the Aurite framework's API. Use the available tools to manage components. CRITICAL: You must use the exact tool names provided.\"\n",
    ")\n",
    "\n",
    "await aurite.register_agent(api_agent_config)\n",
    "print(\"✅ Aurite API Agent registered successfully!\")"
   ]
  },
  {
   "cell_type": "markdown",
   "metadata": {},
   "source": [
    "### Helper for Displaying Output"
   ]
  },
  {
   "cell_type": "code",
   "execution_count": null,
   "metadata": {},
   "outputs": [],
   "source": [
    "from IPython.display import display, Markdown\n",
    "import json\n",
    "\n",
    "def display_agent_response(agent_name: str, query: str, response: str):\n",
    "    \"\"\"Formats and displays the agent's response in a structured Markdown block.\"\"\"\n",
    "    \n",
    "    # Try to pretty-print if the response is a JSON string\n",
    "    try:\n",
    "        parsed_json = json.loads(response)\n",
    "        formatted_response = f\"```json\\n{json.dumps(parsed_json, indent=2)}\\n```\"\n",
    "    except (json.JSONDecodeError, TypeError):\n",
    "        formatted_response = response\n",
    "\n",
    "    output = f\"\"\"\n",
    "    <div style=\\\"border: 1px solid #D1D5DB; border-radius: 8px; margin-top: 20px; font-family: sans-serif; box-shadow: 0 4px 6px rgba(0,0,0,0.05);\\\">\n",
    "      <div style=\\\"background-color: #F3F4F6; padding: 10px 15px; border-bottom: 1px solid #D1D5DB; border-radius: 8px 8px 0 0;\\\">\n",
    "        <h3 style=\\\"margin: 0; font-size: 16px; color: #1F2937; display: flex; align-items: center;\\\">\n",
    "          <span style=\\\"margin-right: 8px;\\\">🤖</span>\n",
    "          Agent Response: <code style=\\\"background-color: #E5E7EB; color: #374151; padding: 2px 6px; border-radius: 4px; margin-left: 8px;\\\">{agent_name}</code>\n",
    "        </h3>\n",
    "      </div>\n",
    "      <div style=\\\"padding: 15px;\\\">\n",
    "        <p style=\\\"margin: 0 0 10px 0; color: #6B7280; font-size: 14px;\\\">\n",
    "          <strong>Your Query:</strong>\n",
    "        </p>\n",
    "        <p style=\\\"background-color: #F9FAFB; margin: 0 0 15px 0; color: #1F2937; border: 1px solid #E5E7EB; border-left: 3px solid #9CA3AF; padding: 10px 12px; border-radius: 4px;\\\">\n",
    "          <em>\\\"{query}\\\"</em>\n",
    "        </p>\n",
    "        <hr style=\\\"border: none; border-top: 1px dashed #D1D5DB; margin-bottom: 15px;\\\">\n",
    "        <p style=\\\"margin: 0 0 10px 0; color: #6B7280; font-size: 14px;\\\">\n",
    "          <strong>Result:</strong>\n",
    "        </p>\n",
    "        <div style=\\\"background-color: #FFFFFF; padding: 15px; border-radius: 5px; border: 1px solid #E5E7EB; color: #1F2937; font-size: 15px; line-height: 1.6;\\\">\n",
    "          {formatted_response}\n",
    "        </div>\n",
    "      </div>\n",
    "    </div>\n",
    "    \"\"\"\n",
    "    display(Markdown(output))"
   ]
  },
  {
   "cell_type": "markdown",
   "metadata": {},
   "source": [
    "## 3. Run the Test Case\n",
    "\n",
    "Now, we'll run the agent with a two-step command: first create a new agent, then execute it."
   ]
  },
  {
   "cell_type": "code",
   "execution_count": null,
   "metadata": {},
   "outputs": [],
   "source": [
    "user_message = \"First, create an agent named 'notebook-test-agent' with the system prompt 'I am a test agent created from a notebook.' Then, execute that agent with the input 'Say hello.'\"\n",
    "\n",
    "# Run the agent with our query\n",
    "agent_result = await aurite.run_agent(\n",
    "    agent_name=\"Aurite API Agent\",\n",
    "    user_message=user_message\n",
    ")\n",
    "\n",
    "# Display the final response\n",
    "display_agent_response(\n",
    "    agent_name=\"Aurite API Agent\",\n",
    "    query=user_message,\n",
    "    response=agent_result.primary_text\n",
    ")"
   ]
  }
 ],
 "metadata": {
  "kernelspec": {
   "display_name": "Python 3",
   "language": "python",
   "name": "python3"
  },
  "language_info": {
   "name": "python",
   "version": "3.11.1"
  }
 },
 "nbformat": 4,
 "nbformat_minor": 2
}
