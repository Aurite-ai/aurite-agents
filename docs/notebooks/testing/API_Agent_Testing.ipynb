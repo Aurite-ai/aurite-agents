{
 "cells": [
  {
   "cell_type": "markdown",
   "metadata": {},
   "source": [
    "# Aurite API Agent: Functional Testing\n",
    "\n",
    "This notebook is for functionally testing the `Aurite API Agent`. This agent uses an MCP server that wraps the framework's own API, allowing it to create and execute other components."
   ]
  },
  {
   "cell_type": "markdown",
   "metadata": {},
   "source": [
    "## 1. Setup\n",
    "### Install the `aurite` Python package\n",
    "First, ensure you have the `aurite-agents` package installed. If you are running this from the source repository, you can install it in editable mode with `pip install -e .` from the root directory."
   ]
  },
  {
   "cell_type": "code",
   "execution_count": 71,
   "metadata": {},
   "outputs": [
    {
     "name": "stdout",
     "output_type": "stream",
     "text": [
      "Note: you may need to restart the kernel to use updated packages.\n"
     ]
    }
   ],
   "source": [
    "%pip install -q -U \"aurite\""
   ]
  },
  {
   "cell_type": "markdown",
   "metadata": {},
   "source": [
    "### Configure Your API Key\n",
    "The `Aurite API Agent` needs an API key to communicate with the framework's API. For security, we'll load this from an environment variable."
   ]
  },
  {
   "cell_type": "code",
   "execution_count": 72,
   "metadata": {},
   "outputs": [],
   "source": [
    "import os\n",
    "from getpass import getpass\n",
    "\n",
    "try:\n",
    "    from dotenv import load_dotenv\n",
    "    load_dotenv()  # Load environment variables from a .env file if it exists\n",
    "except ImportError:\n",
    "    print(\"dotenv not installed, skipping. Please ensure API_KEY is set manually.\")\n",
    "\n",
    "if \"API_KEY\" not in os.environ:\n",
    "    os.environ[\"API_KEY\"] = getpass(\"Enter your Aurite API key: \")"
   ]
  },
  {
   "cell_type": "markdown",
   "metadata": {},
   "source": [
    "## 2. Initialize Aurite & Define Components\n",
    "\n",
    "Next, we'll initialize the `Aurite` framework. Instead of loading from a file, we will define our `ClientConfig` and `AgentConfig` directly in Python."
   ]
  },
  {
   "cell_type": "code",
   "execution_count": 73,
   "metadata": {},
   "outputs": [
    {
     "name": "stderr",
     "output_type": "stream",
     "text": [
      "\u001b[32mINFO    \u001b[0m [aurite.config.component_manager] User project config directory not found at /home/wilcoxr/workspace/aurite/aurite-agents/docs/notebooks/testing/config. No project-specific components will be loaded.\u001b[0m\n",
      "\u001b[33mWARNING \u001b[0m [aurite.config.project_manager] Project file not found at /home/wilcoxr/workspace/aurite/aurite-agents/docs/notebooks/testing/aurite_config.json. Creating an empty project named 'aurite_config.json'.\u001b[0m\n"
     ]
    },
    {
     "name": "stderr",
     "output_type": "stream",
     "text": [
      "\u001b[32mINFO    \u001b[0m [aurite.host.host] MCP Host initialization attempt finished. Successfully initialized 0/0 configured clients. \u001b[0m\n",
      "\u001b[32mINFO    \u001b[0m [aurite.host_manager] \u001b[1m\u001b[33mAurite initialization complete.\u001b[0m\n"
     ]
    }
   ],
   "source": [
    "from aurite import Aurite, AgentConfig, ClientConfig\n",
    "\n",
    "aurite = Aurite()\n",
    "\n",
    "# This command starts up the necessary background services.\n",
    "await aurite.initialize()"
   ]
  },
  {
   "cell_type": "markdown",
   "metadata": {},
   "source": [
    "### Define the API MCP Server\n",
    "\n",
    "Here, we define the configuration for our API-wrapping MCP server. We use an absolute path to the server script."
   ]
  },
  {
   "cell_type": "code",
   "execution_count": 74,
   "metadata": {},
   "outputs": [
    {
     "name": "stderr",
     "output_type": "stream",
     "text": [
      "\u001b[32mINFO    \u001b[0m [aurite.host.host] Attempting to dynamically register client: api_mcp_server\u001b[0m\n",
      "\u001b[32mINFO    \u001b[0m [aurite.host.host] Client 'api_mcp_server' dynamically registered and initialized successfully.\u001b[0m\n"
     ]
    },
    {
     "name": "stdout",
     "output_type": "stream",
     "text": [
      "✅ API MCP Server registered successfully!\n"
     ]
    }
   ],
   "source": [
    "api_server_config = ClientConfig(\n",
    "    name=\"api_mcp_server\",\n",
    "    server_path=\"/home/wilcoxr/workspace/aurite/aurite-agents/src/aurite/components/servers/orchestration/api_mcp_server.py\",\n",
    "    capabilities=[\"tools\"],\n",
    "    timeout=30.0\n",
    ")\n",
    "\n",
    "await aurite.register_client(api_server_config)\n",
    "print(\"✅ API MCP Server registered successfully!\")"
   ]
  },
  {
   "cell_type": "markdown",
   "metadata": {},
   "source": [
    "### Define the Aurite API Agent\n",
    "\n",
    "Now, we create the agent that will use our new server. Its system prompt instructs it to use the tools provided."
   ]
  },
  {
   "cell_type": "code",
   "execution_count": 75,
   "metadata": {},
   "outputs": [
    {
     "name": "stdout",
     "output_type": "stream",
     "text": [
      "✅ Aurite Orchestration Agent registered successfully!\n"
     ]
    }
   ],
   "source": [
    "from aurite import LLMConfig\n",
    "creative_llm = LLMConfig(\n",
    "    llm_id=\"gpt\",\n",
    "    provider=\"openai\",\n",
    "    model_name=\"gpt-4o\",\n",
    "    temperature=0.7,\n",
    ")\n",
    "\n",
    "api_agent_config = AgentConfig(\n",
    "    name=\"Aurite Orchestration Agent\",\n",
    "    llm_config_id=\"gpt\",\n",
    "    mcp_servers=[\"api_mcp_server\"],\n",
    "    system_prompt=\"You are an AI Orchestration Agent built to interact with the Aurite AI Framework on behalf of users. Work with the available tools to manage components like agents and workflows. CRITICAL: You must use the exact tool names provided by the 'list_tools' function.\")\n",
    "await aurite.register_llm_config(creative_llm)\n",
    "await aurite.register_agent(api_agent_config)\n",
    "print(\"✅ Aurite Orchestration Agent registered successfully!\")"
   ]
  },
  {
   "cell_type": "markdown",
   "metadata": {},
   "source": [
    "### Helper for Displaying Output"
   ]
  },
  {
   "cell_type": "code",
   "execution_count": 76,
   "metadata": {},
   "outputs": [],
   "source": [
    "from IPython.display import display, Markdown\n",
    "\n",
    "def display_agent_response(agent_name: str, query: str, response: str):\n",
    "  \"\"\"Formats and displays the agent's response in a structured Markdown block.\"\"\"\n",
    "\n",
    "  output = f\"\"\"\n",
    "  <div style=\\\"border: 1px solid #D1D5DB; border-radius: 8px; margin-top: 20px; font-family: sans-serif; box-shadow: 0 4px 6px rgba(0,0,0,0.05);\\\">\n",
    "    <div style=\\\"background-color: #F3F4F6; padding: 10px 15px; border-bottom: 1px solid #D1D5DB; border-radius: 8px 8px 0 0;\\\">\n",
    "      <h3 style=\\\"margin: 0; font-size: 16px; color: #1F2937; display: flex; align-items: center;\\\">\n",
    "        <span style=\\\"margin-right: 8px;\\\">🤖</span>\n",
    "        Agent Response: <code style=\\\"background-color: #E5E7EB; color: #374151; padding: 2px 6px; border-radius: 4px; margin-left: 8px;\\\">{agent_name}</code>\n",
    "      </h3>\n",
    "    </div>\n",
    "    <div style=\\\"padding: 15px;\\\">\n",
    "      <p style=\\\"margin: 0 0 10px 0; color: #6B7280; font-size: 14px;\\\">\n",
    "        <strong>Your Query:</strong>\n",
    "      </p>\n",
    "      <p style=\\\"background-color: #F9FAFB; margin: 0 0 15px 0; color: #1F2937; border: 1px solid #E5E7EB; border-left: 3px solid #9CA3AF; padding: 10px 12px; border-radius: 4px;\\\">\n",
    "        <em>\\\"{query}\\\"</em>\n",
    "      </p>\n",
    "      <hr style=\\\"border: none; border-top: 1px dashed #D1D5DB; margin-bottom: 15px;\\\">\n",
    "      <p style=\\\"margin: 0 0 10px 0; color: #6B7280; font-size: 14px;\\\">\n",
    "        <strong>Result:</strong>\n",
    "      </p>\n",
    "      <div style=\\\"background-color: #FFFFFF; padding: 15px; border-radius: 5px; border: 1px solid #E5E7EB; color: #1F2937; font-size: 15px; line-height: 1.6;\\\">\n",
    "        {response}\n",
    "      </div>\n",
    "    </div>\n",
    "  </div>\n",
    "  \"\"\"\n",
    "  display(Markdown(output))"
   ]
  },
  {
   "cell_type": "markdown",
   "metadata": {},
   "source": [
    "## 3. Run the Test Case\n",
    "\n",
    "Now, we'll run the agent with a two-step command: first create a new agent, then execute it."
   ]
  },
  {
   "cell_type": "code",
   "execution_count": null,
   "metadata": {},
   "outputs": [
    {
     "name": "stderr",
     "output_type": "stream",
     "text": [
      "\u001b[32mINFO    \u001b[0m [aurite.components.llm.providers.openai_client] OpenAIClient initialized for model gpt-4o using direct API calls.\u001b[0m\n",
      "\u001b[32mINFO    \u001b[0m [aurite.execution.facade] \u001b[1m\u001b[34mFacade: Running conversation for Aurite Agent 'Aurite Orchestration Agent'...\u001b[0m\n",
      "\u001b[32mINFO    \u001b[0m [aurite.host.host] Executing tool 'list_registered_components' on client 'api_mcp_server' for agent 'Aurite Orchestration Agent'\u001b[0m\n"
     ]
    }
   ],
   "source": [
    "component_information_retrieval = \"What are the available components? Can you list and explain them all?\"\n",
    "\n",
    "component_creation = \"Create an agent that uses the national weather tool server to retrieve weather information. After you create the agent, ask it for the weather in New York.\"\n",
    "\n",
    "multi_tool_agent_creation = \"Help me create an agent that analyzes app store data, and then saves the data to a file as a plan. After you create the agent, ask it for the most popular app in the last month.\"\n",
    "# Change this\n",
    "user_message = multi_tool_agent_creation\n",
    "\n",
    "# Run the agent with our query\n",
    "agent_result = await aurite.run_agent(\n",
    "    agent_name=\"Aurite Orchestration Agent\",\n",
    "    user_message=user_message\n",
    ")\n",
    "\n",
    "# Display the final response\n",
    "display_agent_response(\n",
    "    agent_name=\"Aurite Orchestration Agent\",\n",
    "    query=user_message,\n",
    "    response=agent_result.primary_text\n",
    ")"
   ]
  }
 ],
 "metadata": {
  "kernelspec": {
   "display_name": "notebook-venv",
   "language": "python",
   "name": "python3"
  },
  "language_info": {
   "codemirror_mode": {
    "name": "ipython",
    "version": 3
   },
   "file_extension": ".py",
   "mimetype": "text/x-python",
   "name": "python",
   "nbconvert_exporter": "python",
   "pygments_lexer": "ipython3",
   "version": "3.11.11"
  }
 },
 "nbformat": 4,
 "nbformat_minor": 2
}
