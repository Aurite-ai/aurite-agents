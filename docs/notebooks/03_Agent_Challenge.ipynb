{
 "cells": [
  {
   "cell_type": "markdown",
   "metadata": {},
   "source": [
    "# Optional Assignment: Agent Tooling Challenge\n",
    "\n",
    "This **optional assignment** provides a hands-on opportunity to build agents that use a variety of powerful, pre-packaged tools. You will choose from the challenges below, each requiring you to configure and run a new agent to solve a specific problem using tools from the Aurite toolbox.\n",
    "\n",
    "**Learning Objectives:**\n",
    "*   Build confidence in using different tool servers from the built-in toolbox.\n",
    "*   Practice writing effective system prompts that guide an agent to select and use the correct tools.\n",
    "*   Gain experience with the end-to-end workflow of defining, registering, and running a tool-equipped agent."
   ]
  },
  {
   "cell_type": "markdown",
   "metadata": {},
   "source": [
    "## Section 1: Setup\n",
    "\n",
    "First, let's set up the environment. These cells are the same as in the previous tutorial."
   ]
  },
  {
   "cell_type": "code",
   "execution_count": 1,
   "metadata": {},
   "outputs": [
    {
     "name": "stdout",
     "output_type": "stream",
     "text": [
      "Requirement already satisfied: aurite in /home/wilcoxr/workspace/aurite/aurite-agents/notebook-venv/lib/python3.11/site-packages (0.3.13)\n",
      "Requirement already satisfied: mcp>=1.8.1 in /home/wilcoxr/workspace/aurite/aurite-agents/notebook-venv/lib/python3.11/site-packages (from aurite) (1.9.3)\n",
      "Requirement already satisfied: httpx>=0.28.1 in /home/wilcoxr/workspace/aurite/aurite-agents/notebook-venv/lib/python3.11/site-packages (from aurite) (0.28.1)\n",
      "Requirement already satisfied: anyio>=4.8.0 in /home/wilcoxr/workspace/aurite/aurite-agents/notebook-venv/lib/python3.11/site-packages (from aurite) (4.9.0)\n",
      "Requirement already satisfied: sqlalchemy>=2.0.39 in /home/wilcoxr/workspace/aurite/aurite-agents/notebook-venv/lib/python3.11/site-packages (from aurite) (2.0.41)\n",
      "Requirement already satisfied: anthropic>=0.49.0 in /home/wilcoxr/workspace/aurite/aurite-agents/notebook-venv/lib/python3.11/site-packages (from aurite) (0.52.2)\n",
      "Requirement already satisfied: annotated-types>=0.7.0 in /home/wilcoxr/workspace/aurite/aurite-agents/notebook-venv/lib/python3.11/site-packages (from aurite) (0.7.0)\n",
      "Requirement already satisfied: certifi>=2025.1.31 in /home/wilcoxr/workspace/aurite/aurite-agents/notebook-venv/lib/python3.11/site-packages (from aurite) (2025.4.26)\n",
      "Requirement already satisfied: cffi>=1.17.1 in /home/wilcoxr/workspace/aurite/aurite-agents/notebook-venv/lib/python3.11/site-packages (from aurite) (1.17.1)\n",
      "Requirement already satisfied: click>=8.1.8 in /home/wilcoxr/workspace/aurite/aurite-agents/notebook-venv/lib/python3.11/site-packages (from aurite) (8.2.1)\n",
      "Requirement already satisfied: cryptography<44,>=41.0.5 in /home/wilcoxr/workspace/aurite/aurite-agents/notebook-venv/lib/python3.11/site-packages (from aurite) (43.0.3)\n",
      "Requirement already satisfied: distro>=1.9.0 in /home/wilcoxr/workspace/aurite/aurite-agents/notebook-venv/lib/python3.11/site-packages (from aurite) (1.9.0)\n",
      "Requirement already satisfied: greenlet>=3.1.1 in /home/wilcoxr/workspace/aurite/aurite-agents/notebook-venv/lib/python3.11/site-packages (from aurite) (3.2.3)\n",
      "Requirement already satisfied: h11>=0.14.0 in /home/wilcoxr/workspace/aurite/aurite-agents/notebook-venv/lib/python3.11/site-packages (from aurite) (0.16.0)\n",
      "Requirement already satisfied: httpcore>=1.0.7 in /home/wilcoxr/workspace/aurite/aurite-agents/notebook-venv/lib/python3.11/site-packages (from aurite) (1.0.9)\n",
      "Requirement already satisfied: httpx-sse>=0.4.0 in /home/wilcoxr/workspace/aurite/aurite-agents/notebook-venv/lib/python3.11/site-packages (from aurite) (0.4.0)\n",
      "Requirement already satisfied: idna>=3.10 in /home/wilcoxr/workspace/aurite/aurite-agents/notebook-venv/lib/python3.11/site-packages (from aurite) (3.10)\n",
      "Requirement already satisfied: iniconfig>=2.0.0 in /home/wilcoxr/workspace/aurite/aurite-agents/notebook-venv/lib/python3.11/site-packages (from aurite) (2.1.0)\n",
      "Requirement already satisfied: packaging>=24.2 in /home/wilcoxr/workspace/aurite/aurite-agents/notebook-venv/lib/python3.11/site-packages (from aurite) (25.0)\n",
      "Requirement already satisfied: colorlog>=6.0.0 in /home/wilcoxr/workspace/aurite/aurite-agents/notebook-venv/lib/python3.11/site-packages (from aurite) (6.9.0)\n",
      "Requirement already satisfied: termcolor>=3.0.0 in /home/wilcoxr/workspace/aurite/aurite-agents/notebook-venv/lib/python3.11/site-packages (from aurite) (3.1.0)\n",
      "Requirement already satisfied: pluggy>=1.5.0 in /home/wilcoxr/workspace/aurite/aurite-agents/notebook-venv/lib/python3.11/site-packages (from aurite) (1.6.0)\n",
      "Requirement already satisfied: psycopg2-binary>=2.9.10 in /home/wilcoxr/workspace/aurite/aurite-agents/notebook-venv/lib/python3.11/site-packages (from aurite) (2.9.10)\n",
      "Requirement already satisfied: alembic>=1.13.1 in /home/wilcoxr/workspace/aurite/aurite-agents/notebook-venv/lib/python3.11/site-packages (from aurite) (1.16.1)\n",
      "Requirement already satisfied: pycparser>=2.22 in /home/wilcoxr/workspace/aurite/aurite-agents/notebook-venv/lib/python3.11/site-packages (from aurite) (2.22)\n",
      "Requirement already satisfied: pydantic>=2.10.6 in /home/wilcoxr/workspace/aurite/aurite-agents/notebook-venv/lib/python3.11/site-packages (from aurite) (2.11.5)\n",
      "Requirement already satisfied: pydantic-settings>=2.8.1 in /home/wilcoxr/workspace/aurite/aurite-agents/notebook-venv/lib/python3.11/site-packages (from aurite) (2.9.1)\n",
      "Requirement already satisfied: pydantic_core>=2.27.2 in /home/wilcoxr/workspace/aurite/aurite-agents/notebook-venv/lib/python3.11/site-packages (from aurite) (2.33.2)\n",
      "Requirement already satisfied: pydub>=0.25.1 in /home/wilcoxr/workspace/aurite/aurite-agents/notebook-venv/lib/python3.11/site-packages (from aurite) (0.25.1)\n",
      "Requirement already satisfied: PyMySQL>=1.1.1 in /home/wilcoxr/workspace/aurite/aurite-agents/notebook-venv/lib/python3.11/site-packages (from aurite) (1.1.1)\n",
      "Requirement already satisfied: python-dateutil>=2.9.0.post0 in /home/wilcoxr/workspace/aurite/aurite-agents/notebook-venv/lib/python3.11/site-packages (from aurite) (2.9.0.post0)\n",
      "Requirement already satisfied: openai-agents-mcp in /home/wilcoxr/workspace/aurite/aurite-agents/notebook-venv/lib/python3.11/site-packages (from aurite) (0.0.8)\n",
      "Requirement already satisfied: python-dotenv>=1.0.1 in /home/wilcoxr/workspace/aurite/aurite-agents/notebook-venv/lib/python3.11/site-packages (from aurite) (1.1.0)\n",
      "Requirement already satisfied: pytz>=2024.1 in /home/wilcoxr/workspace/aurite/aurite-agents/notebook-venv/lib/python3.11/site-packages (from aurite) (2025.2)\n",
      "Requirement already satisfied: pyyaml>=6.0.2 in /home/wilcoxr/workspace/aurite/aurite-agents/notebook-venv/lib/python3.11/site-packages (from aurite) (6.0.2)\n",
      "Requirement already satisfied: redis>=5.0.0 in /home/wilcoxr/workspace/aurite/aurite-agents/notebook-venv/lib/python3.11/site-packages (from aurite) (6.2.0)\n",
      "Requirement already satisfied: six>=1.17.0 in /home/wilcoxr/workspace/aurite/aurite-agents/notebook-venv/lib/python3.11/site-packages (from aurite) (1.17.0)\n",
      "Requirement already satisfied: sniffio>=1.3.1 in /home/wilcoxr/workspace/aurite/aurite-agents/notebook-venv/lib/python3.11/site-packages (from aurite) (1.3.1)\n",
      "Requirement already satisfied: jsonschema in /home/wilcoxr/workspace/aurite/aurite-agents/notebook-venv/lib/python3.11/site-packages (from aurite) (4.24.0)\n",
      "Requirement already satisfied: sse-starlette>=2.2.1 in /home/wilcoxr/workspace/aurite/aurite-agents/notebook-venv/lib/python3.11/site-packages (from aurite) (2.3.6)\n",
      "Requirement already satisfied: starlette>=0.46.1 in /home/wilcoxr/workspace/aurite/aurite-agents/notebook-venv/lib/python3.11/site-packages (from aurite) (0.46.2)\n",
      "Requirement already satisfied: typing_extensions>=4.12.2 in /home/wilcoxr/workspace/aurite/aurite-agents/notebook-venv/lib/python3.11/site-packages (from aurite) (4.14.0)\n",
      "Requirement already satisfied: typer>=0.9.0 in /home/wilcoxr/workspace/aurite/aurite-agents/notebook-venv/lib/python3.11/site-packages (from aurite) (0.16.0)\n",
      "Requirement already satisfied: tzdata>=2025.1 in /home/wilcoxr/workspace/aurite/aurite-agents/notebook-venv/lib/python3.11/site-packages (from aurite) (2025.2)\n",
      "Requirement already satisfied: uvicorn>=0.34.0 in /home/wilcoxr/workspace/aurite/aurite-agents/notebook-venv/lib/python3.11/site-packages (from aurite) (0.34.3)\n",
      "Requirement already satisfied: fastapi in /home/wilcoxr/workspace/aurite/aurite-agents/notebook-venv/lib/python3.11/site-packages (from aurite) (0.115.12)\n",
      "Requirement already satisfied: google-cloud-secret-manager>=2.19.0 in /home/wilcoxr/workspace/aurite/aurite-agents/notebook-venv/lib/python3.11/site-packages (from aurite) (2.24.0)\n",
      "Requirement already satisfied: Mako in /home/wilcoxr/workspace/aurite/aurite-agents/notebook-venv/lib/python3.11/site-packages (from alembic>=1.13.1->aurite) (1.3.10)\n",
      "Requirement already satisfied: jiter<1,>=0.4.0 in /home/wilcoxr/workspace/aurite/aurite-agents/notebook-venv/lib/python3.11/site-packages (from anthropic>=0.49.0->aurite) (0.8.2)\n",
      "Requirement already satisfied: typing-inspection>=0.4.0 in /home/wilcoxr/workspace/aurite/aurite-agents/notebook-venv/lib/python3.11/site-packages (from pydantic>=2.10.6->aurite) (0.4.1)\n",
      "Requirement already satisfied: google-api-core!=2.0.*,!=2.1.*,!=2.10.*,!=2.2.*,!=2.3.*,!=2.4.*,!=2.5.*,!=2.6.*,!=2.7.*,!=2.8.*,!=2.9.*,<3.0.0,>=1.34.1 in /home/wilcoxr/workspace/aurite/aurite-agents/notebook-venv/lib/python3.11/site-packages (from google-api-core[grpc]!=2.0.*,!=2.1.*,!=2.10.*,!=2.2.*,!=2.3.*,!=2.4.*,!=2.5.*,!=2.6.*,!=2.7.*,!=2.8.*,!=2.9.*,<3.0.0,>=1.34.1->google-cloud-secret-manager>=2.19.0->aurite) (2.25.0)\n",
      "Requirement already satisfied: google-auth!=2.24.0,!=2.25.0,<3.0.0,>=2.14.1 in /home/wilcoxr/workspace/aurite/aurite-agents/notebook-venv/lib/python3.11/site-packages (from google-cloud-secret-manager>=2.19.0->aurite) (2.40.3)\n",
      "Requirement already satisfied: proto-plus<2.0.0,>=1.22.3 in /home/wilcoxr/workspace/aurite/aurite-agents/notebook-venv/lib/python3.11/site-packages (from google-cloud-secret-manager>=2.19.0->aurite) (1.26.1)\n",
      "Requirement already satisfied: protobuf!=4.21.0,!=4.21.1,!=4.21.2,!=4.21.3,!=4.21.4,!=4.21.5,<7.0.0,>=3.20.2 in /home/wilcoxr/workspace/aurite/aurite-agents/notebook-venv/lib/python3.11/site-packages (from google-cloud-secret-manager>=2.19.0->aurite) (5.29.5)\n",
      "Requirement already satisfied: grpc-google-iam-v1<1.0.0,>=0.14.0 in /home/wilcoxr/workspace/aurite/aurite-agents/notebook-venv/lib/python3.11/site-packages (from google-cloud-secret-manager>=2.19.0->aurite) (0.14.2)\n",
      "Requirement already satisfied: googleapis-common-protos<2.0.0,>=1.56.2 in /home/wilcoxr/workspace/aurite/aurite-agents/notebook-venv/lib/python3.11/site-packages (from google-api-core!=2.0.*,!=2.1.*,!=2.10.*,!=2.2.*,!=2.3.*,!=2.4.*,!=2.5.*,!=2.6.*,!=2.7.*,!=2.8.*,!=2.9.*,<3.0.0,>=1.34.1->google-api-core[grpc]!=2.0.*,!=2.1.*,!=2.10.*,!=2.2.*,!=2.3.*,!=2.4.*,!=2.5.*,!=2.6.*,!=2.7.*,!=2.8.*,!=2.9.*,<3.0.0,>=1.34.1->google-cloud-secret-manager>=2.19.0->aurite) (1.70.0)\n",
      "Requirement already satisfied: requests<3.0.0,>=2.18.0 in /home/wilcoxr/workspace/aurite/aurite-agents/notebook-venv/lib/python3.11/site-packages (from google-api-core!=2.0.*,!=2.1.*,!=2.10.*,!=2.2.*,!=2.3.*,!=2.4.*,!=2.5.*,!=2.6.*,!=2.7.*,!=2.8.*,!=2.9.*,<3.0.0,>=1.34.1->google-api-core[grpc]!=2.0.*,!=2.1.*,!=2.10.*,!=2.2.*,!=2.3.*,!=2.4.*,!=2.5.*,!=2.6.*,!=2.7.*,!=2.8.*,!=2.9.*,<3.0.0,>=1.34.1->google-cloud-secret-manager>=2.19.0->aurite) (2.32.3)\n",
      "Requirement already satisfied: grpcio<2.0.0,>=1.33.2 in /home/wilcoxr/workspace/aurite/aurite-agents/notebook-venv/lib/python3.11/site-packages (from google-api-core[grpc]!=2.0.*,!=2.1.*,!=2.10.*,!=2.2.*,!=2.3.*,!=2.4.*,!=2.5.*,!=2.6.*,!=2.7.*,!=2.8.*,!=2.9.*,<3.0.0,>=1.34.1->google-cloud-secret-manager>=2.19.0->aurite) (1.72.1)\n",
      "Requirement already satisfied: grpcio-status<2.0.0,>=1.33.2 in /home/wilcoxr/workspace/aurite/aurite-agents/notebook-venv/lib/python3.11/site-packages (from google-api-core[grpc]!=2.0.*,!=2.1.*,!=2.10.*,!=2.2.*,!=2.3.*,!=2.4.*,!=2.5.*,!=2.6.*,!=2.7.*,!=2.8.*,!=2.9.*,<3.0.0,>=1.34.1->google-cloud-secret-manager>=2.19.0->aurite) (1.71.0)\n",
      "Requirement already satisfied: cachetools<6.0,>=2.0.0 in /home/wilcoxr/workspace/aurite/aurite-agents/notebook-venv/lib/python3.11/site-packages (from google-auth!=2.24.0,!=2.25.0,<3.0.0,>=2.14.1->google-cloud-secret-manager>=2.19.0->aurite) (5.5.2)\n",
      "Requirement already satisfied: pyasn1-modules>=0.2.1 in /home/wilcoxr/workspace/aurite/aurite-agents/notebook-venv/lib/python3.11/site-packages (from google-auth!=2.24.0,!=2.25.0,<3.0.0,>=2.14.1->google-cloud-secret-manager>=2.19.0->aurite) (0.4.2)\n",
      "Requirement already satisfied: rsa<5,>=3.1.4 in /home/wilcoxr/workspace/aurite/aurite-agents/notebook-venv/lib/python3.11/site-packages (from google-auth!=2.24.0,!=2.25.0,<3.0.0,>=2.14.1->google-cloud-secret-manager>=2.19.0->aurite) (4.9.1)\n",
      "Requirement already satisfied: charset-normalizer<4,>=2 in /home/wilcoxr/workspace/aurite/aurite-agents/notebook-venv/lib/python3.11/site-packages (from requests<3.0.0,>=2.18.0->google-api-core!=2.0.*,!=2.1.*,!=2.10.*,!=2.2.*,!=2.3.*,!=2.4.*,!=2.5.*,!=2.6.*,!=2.7.*,!=2.8.*,!=2.9.*,<3.0.0,>=1.34.1->google-api-core[grpc]!=2.0.*,!=2.1.*,!=2.10.*,!=2.2.*,!=2.3.*,!=2.4.*,!=2.5.*,!=2.6.*,!=2.7.*,!=2.8.*,!=2.9.*,<3.0.0,>=1.34.1->google-cloud-secret-manager>=2.19.0->aurite) (3.4.2)\n",
      "Requirement already satisfied: urllib3<3,>=1.21.1 in /home/wilcoxr/workspace/aurite/aurite-agents/notebook-venv/lib/python3.11/site-packages (from requests<3.0.0,>=2.18.0->google-api-core!=2.0.*,!=2.1.*,!=2.10.*,!=2.2.*,!=2.3.*,!=2.4.*,!=2.5.*,!=2.6.*,!=2.7.*,!=2.8.*,!=2.9.*,<3.0.0,>=1.34.1->google-api-core[grpc]!=2.0.*,!=2.1.*,!=2.10.*,!=2.2.*,!=2.3.*,!=2.4.*,!=2.5.*,!=2.6.*,!=2.7.*,!=2.8.*,!=2.9.*,<3.0.0,>=1.34.1->google-cloud-secret-manager>=2.19.0->aurite) (2.4.0)\n",
      "Requirement already satisfied: pyasn1>=0.1.3 in /home/wilcoxr/workspace/aurite/aurite-agents/notebook-venv/lib/python3.11/site-packages (from rsa<5,>=3.1.4->google-auth!=2.24.0,!=2.25.0,<3.0.0,>=2.14.1->google-cloud-secret-manager>=2.19.0->aurite) (0.6.1)\n",
      "Requirement already satisfied: python-multipart>=0.0.9 in /home/wilcoxr/workspace/aurite/aurite-agents/notebook-venv/lib/python3.11/site-packages (from mcp>=1.8.1->aurite) (0.0.20)\n",
      "Requirement already satisfied: shellingham>=1.3.0 in /home/wilcoxr/workspace/aurite/aurite-agents/notebook-venv/lib/python3.11/site-packages (from typer>=0.9.0->aurite) (1.5.4)\n",
      "Requirement already satisfied: rich>=10.11.0 in /home/wilcoxr/workspace/aurite/aurite-agents/notebook-venv/lib/python3.11/site-packages (from typer>=0.9.0->aurite) (13.9.4)\n",
      "Requirement already satisfied: markdown-it-py>=2.2.0 in /home/wilcoxr/workspace/aurite/aurite-agents/notebook-venv/lib/python3.11/site-packages (from rich>=10.11.0->typer>=0.9.0->aurite) (3.0.0)\n",
      "Requirement already satisfied: pygments<3.0.0,>=2.13.0 in /home/wilcoxr/workspace/aurite/aurite-agents/notebook-venv/lib/python3.11/site-packages (from rich>=10.11.0->typer>=0.9.0->aurite) (2.19.1)\n",
      "Requirement already satisfied: mdurl~=0.1 in /home/wilcoxr/workspace/aurite/aurite-agents/notebook-venv/lib/python3.11/site-packages (from markdown-it-py>=2.2.0->rich>=10.11.0->typer>=0.9.0->aurite) (0.1.2)\n",
      "Requirement already satisfied: attrs>=22.2.0 in /home/wilcoxr/workspace/aurite/aurite-agents/notebook-venv/lib/python3.11/site-packages (from jsonschema->aurite) (25.3.0)\n",
      "Requirement already satisfied: jsonschema-specifications>=2023.03.6 in /home/wilcoxr/workspace/aurite/aurite-agents/notebook-venv/lib/python3.11/site-packages (from jsonschema->aurite) (2025.4.1)\n",
      "Requirement already satisfied: referencing>=0.28.4 in /home/wilcoxr/workspace/aurite/aurite-agents/notebook-venv/lib/python3.11/site-packages (from jsonschema->aurite) (0.36.2)\n",
      "Requirement already satisfied: rpds-py>=0.7.1 in /home/wilcoxr/workspace/aurite/aurite-agents/notebook-venv/lib/python3.11/site-packages (from jsonschema->aurite) (0.25.1)\n",
      "Requirement already satisfied: MarkupSafe>=0.9.2 in /home/wilcoxr/workspace/aurite/aurite-agents/notebook-venv/lib/python3.11/site-packages (from Mako->alembic>=1.13.1->aurite) (3.0.2)\n",
      "Requirement already satisfied: mcp-agent>=0.0.13 in /home/wilcoxr/workspace/aurite/aurite-agents/notebook-venv/lib/python3.11/site-packages (from openai-agents-mcp->aurite) (0.1.1)\n",
      "Requirement already satisfied: openai-agents>=0.0.5 in /home/wilcoxr/workspace/aurite/aurite-agents/notebook-venv/lib/python3.11/site-packages (from openai-agents-mcp->aurite) (0.0.17)\n",
      "Requirement already satisfied: aiohttp>=3.11.13 in /home/wilcoxr/workspace/aurite/aurite-agents/notebook-venv/lib/python3.11/site-packages (from mcp-agent>=0.0.13->openai-agents-mcp->aurite) (3.12.11)\n",
      "Requirement already satisfied: instructor>=1.7.9 in /home/wilcoxr/workspace/aurite/aurite-agents/notebook-venv/lib/python3.11/site-packages (from mcp-agent>=0.0.13->openai-agents-mcp->aurite) (1.8.3)\n",
      "Requirement already satisfied: numpy>=2.1.3 in /home/wilcoxr/workspace/aurite/aurite-agents/notebook-venv/lib/python3.11/site-packages (from mcp-agent>=0.0.13->openai-agents-mcp->aurite) (2.3.0)\n",
      "Requirement already satisfied: opentelemetry-distro>=0.50b0 in /home/wilcoxr/workspace/aurite/aurite-agents/notebook-venv/lib/python3.11/site-packages (from mcp-agent>=0.0.13->openai-agents-mcp->aurite) (0.55b0)\n",
      "Requirement already satisfied: opentelemetry-exporter-otlp-proto-http>=1.29.0 in /home/wilcoxr/workspace/aurite/aurite-agents/notebook-venv/lib/python3.11/site-packages (from mcp-agent>=0.0.13->openai-agents-mcp->aurite) (1.34.0)\n",
      "Requirement already satisfied: opentelemetry-instrumentation-anthropic>=0.39.3 in /home/wilcoxr/workspace/aurite/aurite-agents/notebook-venv/lib/python3.11/site-packages (from mcp-agent>=0.0.13->openai-agents-mcp->aurite) (0.40.7)\n",
      "Requirement already satisfied: opentelemetry-instrumentation-openai>=0.39.3 in /home/wilcoxr/workspace/aurite/aurite-agents/notebook-venv/lib/python3.11/site-packages (from mcp-agent>=0.0.13->openai-agents-mcp->aurite) (0.40.7)\n",
      "Requirement already satisfied: prompt-toolkit>=3.0.50 in /home/wilcoxr/workspace/aurite/aurite-agents/notebook-venv/lib/python3.11/site-packages (from mcp-agent>=0.0.13->openai-agents-mcp->aurite) (3.0.51)\n",
      "Requirement already satisfied: scikit-learn>=1.6.0 in /home/wilcoxr/workspace/aurite/aurite-agents/notebook-venv/lib/python3.11/site-packages (from mcp-agent>=0.0.13->openai-agents-mcp->aurite) (1.7.0)\n",
      "Requirement already satisfied: websockets>=12.0 in /home/wilcoxr/workspace/aurite/aurite-agents/notebook-venv/lib/python3.11/site-packages (from mcp-agent>=0.0.13->openai-agents-mcp->aurite) (15.0.1)\n",
      "Requirement already satisfied: aiohappyeyeballs>=2.5.0 in /home/wilcoxr/workspace/aurite/aurite-agents/notebook-venv/lib/python3.11/site-packages (from aiohttp>=3.11.13->mcp-agent>=0.0.13->openai-agents-mcp->aurite) (2.6.1)\n",
      "Requirement already satisfied: aiosignal>=1.1.2 in /home/wilcoxr/workspace/aurite/aurite-agents/notebook-venv/lib/python3.11/site-packages (from aiohttp>=3.11.13->mcp-agent>=0.0.13->openai-agents-mcp->aurite) (1.3.2)\n",
      "Requirement already satisfied: frozenlist>=1.1.1 in /home/wilcoxr/workspace/aurite/aurite-agents/notebook-venv/lib/python3.11/site-packages (from aiohttp>=3.11.13->mcp-agent>=0.0.13->openai-agents-mcp->aurite) (1.6.2)\n",
      "Requirement already satisfied: multidict<7.0,>=4.5 in /home/wilcoxr/workspace/aurite/aurite-agents/notebook-venv/lib/python3.11/site-packages (from aiohttp>=3.11.13->mcp-agent>=0.0.13->openai-agents-mcp->aurite) (6.4.4)\n",
      "Requirement already satisfied: propcache>=0.2.0 in /home/wilcoxr/workspace/aurite/aurite-agents/notebook-venv/lib/python3.11/site-packages (from aiohttp>=3.11.13->mcp-agent>=0.0.13->openai-agents-mcp->aurite) (0.3.1)\n",
      "Requirement already satisfied: yarl<2.0,>=1.17.0 in /home/wilcoxr/workspace/aurite/aurite-agents/notebook-venv/lib/python3.11/site-packages (from aiohttp>=3.11.13->mcp-agent>=0.0.13->openai-agents-mcp->aurite) (1.20.0)\n",
      "Requirement already satisfied: docstring-parser<1.0,>=0.16 in /home/wilcoxr/workspace/aurite/aurite-agents/notebook-venv/lib/python3.11/site-packages (from instructor>=1.7.9->mcp-agent>=0.0.13->openai-agents-mcp->aurite) (0.16)\n",
      "Requirement already satisfied: jinja2<4.0.0,>=3.1.4 in /home/wilcoxr/workspace/aurite/aurite-agents/notebook-venv/lib/python3.11/site-packages (from instructor>=1.7.9->mcp-agent>=0.0.13->openai-agents-mcp->aurite) (3.1.6)\n",
      "Requirement already satisfied: openai<2.0.0,>=1.70.0 in /home/wilcoxr/workspace/aurite/aurite-agents/notebook-venv/lib/python3.11/site-packages (from instructor>=1.7.9->mcp-agent>=0.0.13->openai-agents-mcp->aurite) (1.84.0)\n",
      "Requirement already satisfied: tenacity<10.0.0,>=9.0.0 in /home/wilcoxr/workspace/aurite/aurite-agents/notebook-venv/lib/python3.11/site-packages (from instructor>=1.7.9->mcp-agent>=0.0.13->openai-agents-mcp->aurite) (9.1.2)\n",
      "Requirement already satisfied: tqdm>4 in /home/wilcoxr/workspace/aurite/aurite-agents/notebook-venv/lib/python3.11/site-packages (from openai<2.0.0,>=1.70.0->instructor>=1.7.9->mcp-agent>=0.0.13->openai-agents-mcp->aurite) (4.67.1)\n",
      "Requirement already satisfied: griffe<2,>=1.5.6 in /home/wilcoxr/workspace/aurite/aurite-agents/notebook-venv/lib/python3.11/site-packages (from openai-agents>=0.0.5->openai-agents-mcp->aurite) (1.7.3)\n",
      "Requirement already satisfied: types-requests<3,>=2.0 in /home/wilcoxr/workspace/aurite/aurite-agents/notebook-venv/lib/python3.11/site-packages (from openai-agents>=0.0.5->openai-agents-mcp->aurite) (2.32.0.20250602)\n",
      "Requirement already satisfied: colorama>=0.4 in /home/wilcoxr/workspace/aurite/aurite-agents/notebook-venv/lib/python3.11/site-packages (from griffe<2,>=1.5.6->openai-agents>=0.0.5->openai-agents-mcp->aurite) (0.4.6)\n",
      "Requirement already satisfied: opentelemetry-api~=1.12 in /home/wilcoxr/workspace/aurite/aurite-agents/notebook-venv/lib/python3.11/site-packages (from opentelemetry-distro>=0.50b0->mcp-agent>=0.0.13->openai-agents-mcp->aurite) (1.34.0)\n",
      "Requirement already satisfied: opentelemetry-instrumentation==0.55b0 in /home/wilcoxr/workspace/aurite/aurite-agents/notebook-venv/lib/python3.11/site-packages (from opentelemetry-distro>=0.50b0->mcp-agent>=0.0.13->openai-agents-mcp->aurite) (0.55b0)\n",
      "Requirement already satisfied: opentelemetry-sdk~=1.13 in /home/wilcoxr/workspace/aurite/aurite-agents/notebook-venv/lib/python3.11/site-packages (from opentelemetry-distro>=0.50b0->mcp-agent>=0.0.13->openai-agents-mcp->aurite) (1.34.0)\n",
      "Requirement already satisfied: opentelemetry-semantic-conventions==0.55b0 in /home/wilcoxr/workspace/aurite/aurite-agents/notebook-venv/lib/python3.11/site-packages (from opentelemetry-instrumentation==0.55b0->opentelemetry-distro>=0.50b0->mcp-agent>=0.0.13->openai-agents-mcp->aurite) (0.55b0)\n",
      "Requirement already satisfied: wrapt<2.0.0,>=1.0.0 in /home/wilcoxr/workspace/aurite/aurite-agents/notebook-venv/lib/python3.11/site-packages (from opentelemetry-instrumentation==0.55b0->opentelemetry-distro>=0.50b0->mcp-agent>=0.0.13->openai-agents-mcp->aurite) (1.17.2)\n",
      "Requirement already satisfied: importlib-metadata<8.8.0,>=6.0 in /home/wilcoxr/workspace/aurite/aurite-agents/notebook-venv/lib/python3.11/site-packages (from opentelemetry-api~=1.12->opentelemetry-distro>=0.50b0->mcp-agent>=0.0.13->openai-agents-mcp->aurite) (8.7.0)\n",
      "Requirement already satisfied: zipp>=3.20 in /home/wilcoxr/workspace/aurite/aurite-agents/notebook-venv/lib/python3.11/site-packages (from importlib-metadata<8.8.0,>=6.0->opentelemetry-api~=1.12->opentelemetry-distro>=0.50b0->mcp-agent>=0.0.13->openai-agents-mcp->aurite) (3.22.0)\n",
      "Requirement already satisfied: opentelemetry-exporter-otlp-proto-common==1.34.0 in /home/wilcoxr/workspace/aurite/aurite-agents/notebook-venv/lib/python3.11/site-packages (from opentelemetry-exporter-otlp-proto-http>=1.29.0->mcp-agent>=0.0.13->openai-agents-mcp->aurite) (1.34.0)\n",
      "Requirement already satisfied: opentelemetry-proto==1.34.0 in /home/wilcoxr/workspace/aurite/aurite-agents/notebook-venv/lib/python3.11/site-packages (from opentelemetry-exporter-otlp-proto-http>=1.29.0->mcp-agent>=0.0.13->openai-agents-mcp->aurite) (1.34.0)\n",
      "Requirement already satisfied: opentelemetry-semantic-conventions-ai==0.4.9 in /home/wilcoxr/workspace/aurite/aurite-agents/notebook-venv/lib/python3.11/site-packages (from opentelemetry-instrumentation-anthropic>=0.39.3->mcp-agent>=0.0.13->openai-agents-mcp->aurite) (0.4.9)\n",
      "Requirement already satisfied: tiktoken<1,>=0.6.0 in /home/wilcoxr/workspace/aurite/aurite-agents/notebook-venv/lib/python3.11/site-packages (from opentelemetry-instrumentation-openai>=0.39.3->mcp-agent>=0.0.13->openai-agents-mcp->aurite) (0.9.0)\n",
      "Requirement already satisfied: regex>=2022.1.18 in /home/wilcoxr/workspace/aurite/aurite-agents/notebook-venv/lib/python3.11/site-packages (from tiktoken<1,>=0.6.0->opentelemetry-instrumentation-openai>=0.39.3->mcp-agent>=0.0.13->openai-agents-mcp->aurite) (2024.11.6)\n",
      "Requirement already satisfied: wcwidth in /home/wilcoxr/workspace/aurite/aurite-agents/notebook-venv/lib/python3.11/site-packages (from prompt-toolkit>=3.0.50->mcp-agent>=0.0.13->openai-agents-mcp->aurite) (0.2.13)\n",
      "Requirement already satisfied: scipy>=1.8.0 in /home/wilcoxr/workspace/aurite/aurite-agents/notebook-venv/lib/python3.11/site-packages (from scikit-learn>=1.6.0->mcp-agent>=0.0.13->openai-agents-mcp->aurite) (1.15.3)\n",
      "Requirement already satisfied: joblib>=1.2.0 in /home/wilcoxr/workspace/aurite/aurite-agents/notebook-venv/lib/python3.11/site-packages (from scikit-learn>=1.6.0->mcp-agent>=0.0.13->openai-agents-mcp->aurite) (1.5.1)\n",
      "Requirement already satisfied: threadpoolctl>=3.1.0 in /home/wilcoxr/workspace/aurite/aurite-agents/notebook-venv/lib/python3.11/site-packages (from scikit-learn>=1.6.0->mcp-agent>=0.0.13->openai-agents-mcp->aurite) (3.6.0)\n",
      "Note: you may need to restart the kernel to use updated packages.\n"
     ]
    }
   ],
   "source": [
    "%pip install aurite"
   ]
  },
  {
   "cell_type": "markdown",
   "metadata": {},
   "source": [
    "### Set Environment Variables"
   ]
  },
  {
   "cell_type": "code",
   "execution_count": null,
   "metadata": {},
   "outputs": [],
   "source": [
    "import os\n",
    "from getpass import getpass\n",
    "\n",
    "try:\n",
    "  from google.colab import userdata #type: ignore\n",
    "  # Fetch the secret value from Colab's secret manager and set it as an environment variable so your script can find it\n",
    "  os.environ['OPENAI_API_KEY'] = userdata.get('OPENAI_API_KEY')\n",
    "  os.environ[\"SMITHERY_API_KEY\"] = userdata.get('SMITHERY_API_KEY')\n",
    "  os.environ[\"SMITHERY_PROFILE_ID\"] = userdata.get('SMITHERY_PROFILE_ID')\n",
    "except ImportError: # This is not a real error, just a check if running in Colab\n",
    "    from dotenv import load_dotenv\n",
    "    load_dotenv()  # Load environment variables from a .env file if it exists\n",
    "except Exception as e:\n",
    "    print(f\"Error fetching from Colab's secret manager: {e}\")\n",
    "\n",
    "if \"OPENAI_API_KEY\" not in os.environ:\n",
    "    os.environ[\"OPENAI_API_KEY\"] = getpass(\"Enter your OpenAI API key: \")\n",
    "if \"SMITHERY_API_KEY\" not in os.environ:\n",
    "    os.environ[\"SMITHERY_API_KEY\"] = getpass(\"Enter your Smithery API key: \")\n",
    "if \"SMITHERY_PROFILE_ID\" not in os.environ:\n",
    "    os.environ[\"SMITHERY_PROFILE_ID\"] = getpass(\"Enter your Smithery Profile ID: \")"
   ]
  },
  {
   "cell_type": "markdown",
   "metadata": {},
   "source": [
    "### Create HTML Display Function"
   ]
  },
  {
   "cell_type": "code",
   "execution_count": 3,
   "metadata": {},
   "outputs": [],
   "source": [
    "from IPython.display import display, Markdown\n",
    "\n",
    "def display_agent_response(agent_name: str, query: str, response: str):\n",
    "  \"\"\"Formats and displays the agent's response in a structured Markdown block.\"\"\"\n",
    "\n",
    "  output = f\"\"\"\n",
    "  <div style=\\\"border: 1px solid #D1D5DB; border-radius: 8px; margin-top: 20px; font-family: sans-serif; box-shadow: 0 4px 6px rgba(0,0,0,0.05);\\\">\n",
    "    <div style=\\\"background-color: #F3F4F6; padding: 10px 15px; border-bottom: 1px solid #D1D5DB; border-radius: 8px 8px 0 0;\\\">\n",
    "      <h3 style=\\\"margin: 0; font-size: 16px; color: #1F2937; display: flex; align-items: center;\\\">\n",
    "        <span style=\\\"margin-right: 8px;\\\">🤖</span>\n",
    "        Agent Response: <code style=\\\"background-color: #E5E7EB; color: #374151; padding: 2px 6px; border-radius: 4px; margin-left: 8px;\\\">{agent_name}</code>\n",
    "      </h3>\n",
    "    </div>\n",
    "    <div style=\\\"padding: 15px;\\\">\n",
    "      <p style=\\\"margin: 0 0 10px 0; color: #6B7280; font-size: 14px;\\\">\n",
    "        <strong>Your Query:</strong>\n",
    "      </p>\n",
    "      <p style=\\\"background-color: #F9FAFB; margin: 0 0 15px 0; color: #1F2937; border: 1px solid #E5E7EB; border-left: 3px solid #9CA3AF; padding: 10px 12px; border-radius: 4px;\\\">\n",
    "        <em>\\\"{query}\\\"</em>\n",
    "      </p>\n",
    "      <hr style=\\\"border: none; border-top: 1px dashed #D1D5DB; margin-bottom: 15px;\\\">\n",
    "      <p style=\\\"margin: 0 0 10px 0; color: #6B7280; font-size: 14px;\\\">\n",
    "        <strong>Result:</strong>\n",
    "      </p>\n",
    "      <div style=\\\"background-color: #FFFFFF; padding: 15px; border-radius: 5px; border: 1px solid #E5E7EB; color: #1F2937; font-size: 15px; line-height: 1.6;\\\">\n",
    "        {response}\n",
    "      </div>\n",
    "    </div>\n",
    "  </div>\n",
    "  \"\"\"\n",
    "  display(Markdown(output))"
   ]
  },
  {
   "cell_type": "markdown",
   "metadata": {},
   "source": [
    "### Initialize Aurite"
   ]
  },
  {
   "cell_type": "code",
   "execution_count": 4,
   "metadata": {},
   "outputs": [
    {
     "name": "stderr",
     "output_type": "stream",
     "text": [
      "\u001b[32mINFO    \u001b[0m [aurite.config.component_manager] User project config directory not found at /home/wilcoxr/workspace/aurite/aurite-agents/docs/notebooks/config. No project-specific components will be loaded.\u001b[0m\n",
      "\u001b[33mWARNING \u001b[0m [aurite.config.project_manager] Project file not found at /home/wilcoxr/workspace/aurite/aurite-agents/docs/notebooks/aurite_config.json. Creating an empty project named 'aurite_config.json'.\u001b[0m\n",
      "\u001b[32mINFO    \u001b[0m [aurite.host.host] MCP Host initialization attempt finished. Successfully initialized 0/0 configured clients. \u001b[0m\n",
      "\u001b[32mINFO    \u001b[0m [aurite.host_manager] \u001b[1m\u001b[33mAurite initialization complete.\u001b[0m\n"
     ]
    }
   ],
   "source": [
    "from aurite import Aurite\n",
    "from aurite.config.config_models import AgentConfig\n",
    "\n",
    "aurite = Aurite()\n",
    "await aurite.initialize()"
   ]
  },
  {
   "cell_type": "markdown",
   "metadata": {},
   "source": [
    "---"
   ]
  },
  {
   "cell_type": "markdown",
   "metadata": {},
   "source": [
    "## Section 2: The Challenges\n",
    "\n",
    "Your task is to complete **one or more** of the following challenges. For each challenge, you will create a new agent by defining an `AgentConfig`, registering it, and then running it with a specific query. The key is to select the correct `mcp_servers` from the toolbox and write a system prompt that clearly instructs the agent on its goal and how to use its tools.\n",
    "\n",
    "**Reference:** You can find the full list of tools in the **[Packaged MCP Servers Directory](../toolbox/mcp_server_directory.md)**."
   ]
  },
  {
   "cell_type": "markdown",
   "metadata": {},
   "source": [
    "### Challenge A: The File Organizer Agent"
   ]
  },
  {
   "cell_type": "markdown",
   "metadata": {},
   "source": [
    "*   **Goal:** Create an agent that can manage files on a local computer.\n",
    "*   **Tool Server:** `desktop_commander`\n",
    "*   **Task:**\n",
    "    1.  Create an agent named \"File Organizer\".\n",
    "    2.  Write a system prompt that instructs the agent its job is to manage files and directories.\n",
    "    3.  Give the agent a query that asks it to first **create a new directory** named `my-agent-creations` and then **write a file** inside that new directory named `hello_world.txt` with the content \"Hello from my Aurite agent!\".\n",
    "*   **Hint:** The agent will need to use two tools in sequence: `create_directory` and then `write_file`. Your prompt should guide it to understand this two-step process."
   ]
  },
  {
   "cell_type": "code",
   "execution_count": 5,
   "metadata": {},
   "outputs": [],
   "source": [
    "# Your code for Challenge A here\n",
    "# 1. Define your AgentConfig\n",
    "\n",
    "# 2. Register your agent\n",
    "\n",
    "# 3. Define your user query\n",
    "\n",
    "# 4. Run the agent\n",
    "\n",
    "# 5. Display the result"
   ]
  },
  {
   "cell_type": "markdown",
   "metadata": {},
   "source": [
    "### Challenge B: The AI Research Assistant"
   ]
  },
  {
   "cell_type": "markdown",
   "metadata": {},
   "source": [
    "*   **Goal:** Create an agent that can find academic papers.\n",
    "*   **Tool Server:** `paper_search`\n",
    "*   **Task:**\n",
    "    1.  Create an agent named \"Research Assistant\".\n",
    "    2.  Write a system prompt that defines its role as an academic researcher who specializes in searching arXiv.\n",
    "    3.  Give the agent a query asking it to **find recent research papers on the topic of \\\"Large Language Model Agents\\\" using the arXiv search tool**.\n",
    "*   **Hint:** The `paper_search` server has a specific tool called `search_arxiv`. Your prompt should guide the agent to use this tool."
   ]
  },
  {
   "cell_type": "code",
   "execution_count": 6,
   "metadata": {},
   "outputs": [],
   "source": [
    "# Your code for Challenge B here"
   ]
  },
  {
   "cell_type": "markdown",
   "metadata": {},
   "source": [
    "### Challenge C: The App Store Analyst"
   ]
  },
  {
   "cell_type": "markdown",
   "metadata": {},
   "source": [
    "*   **Goal:** Create an agent that can provide insights about mobile applications.\n",
    "*   **Tool Server:** `appinsightmcp`\n",
    "*   **Task:**\n",
    "    1.  Create an agent named \"App Store Analyst\".\n",
    "    2.  Write a system prompt that explains its job is to find and report on mobile apps.\n",
    "    3.  Give the agent a query asking it to **\"find the top 5 free social media apps on the Google Play store\"**.\n",
    "*   **Hint:** The `appinsightmcp` server has many tools. Review its documentation to see which tool is best for finding top apps in a specific category. Your prompt should guide the agent toward this tool."
   ]
  },
  {
   "cell_type": "code",
   "execution_count": 7,
   "metadata": {},
   "outputs": [],
   "source": [
    "# Your code for Challenge C here"
   ]
  }
 ],
 "metadata": {
  "kernelspec": {
   "display_name": "notebook-venv",
   "language": "python",
   "name": "python3"
  },
  "language_info": {
   "codemirror_mode": {
    "name": "ipython",
    "version": 3
   },
   "file_extension": ".py",
   "mimetype": "text/x-python",
   "name": "python",
   "nbconvert_exporter": "python",
   "pygments_lexer": "ipython3",
   "version": "3.11.11"
  }
 },
 "nbformat": 4,
 "nbformat_minor": 2
}
