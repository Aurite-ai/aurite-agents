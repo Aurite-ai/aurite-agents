{
 "cells": [
  {
   "cell_type": "markdown",
   "metadata": {},
   "source": [
    "# Optional Assignment: Agent Tooling Challenge (Solutions)\n",
    "\n",
    "This notebook contains the complete solutions for the challenges presented in the `03_Agent_Challenge.ipynb` notebook."
   ]
  },
  {
   "cell_type": "markdown",
   "metadata": {},
   "source": [
    "## Section 1: Setup\n",
    "\n",
    "First, let's set up the environment. These cells are the same as in the previous tutorial."
   ]
  },
  {
   "cell_type": "code",
   "execution_count": null,
   "metadata": {},
   "outputs": [],
   "source": [
    "%pip install aurite"
   ]
  },
  {
   "cell_type": "code",
   "execution_count": null,
   "metadata": {},
   "outputs": [],
   "source": [
    "import os\n",
    "from getpass import getpass\n",
    "\n",
    "if \"OPENAI_API_KEY\" not in os.environ:\n",
    "    os.environ[\"OPENAI_API_KEY\"] = getpass(\"Enter your OpenAI API key: \")\n",
    "if \"SMITHERY_API_KEY\" not in os.environ:\n",
    "    os.environ[\"SMITHERY_API_KEY\"] = getpass(\"Enter your Smithery API key: \")\n",
    "if \"SMITHERY_PROFILE_ID\" not in os.environ:\n",
    "    os.environ[\"SMITHERY_PROFILE_ID\"] = getpass(\"Enter your Smithery Profile ID: \")"
   ]
  },
  {
   "cell_type": "code",
   "execution_count": null,
   "metadata": {},
   "outputs": [],
   "source": [
    "from IPython.display import display, Markdown\n",
    "\n",
    "def display_agent_response(agent_name: str, query: str, response: str):\n",
    "  \"\"\"Formats and displays the agent's response in a structured Markdown block.\"\"\"\n",
    "\n",
    "  output = f\"\"\"\n",
    "  <div style=\\\"border: 1px solid #D1D5DB; border-radius: 8px; margin-top: 20px; font-family: sans-serif; box-shadow: 0 4px 6px rgba(0,0,0,0.05);\\\">\n",
    "    <div style=\\\"background-color: #F3F4F6; padding: 10px 15px; border-bottom: 1px solid #D1D5DB; border-radius: 8px 8px 0 0;\\\">\n",
    "      <h3 style=\\\"margin: 0; font-size: 16px; color: #1F2937; display: flex; align-items: center;\\\">\n",
    "        <span style=\\\"margin-right: 8px;\\\">🤖</span>\n",
    "        Agent Response: <code style=\\\"background-color: #E5E7EB; color: #374151; padding: 2px 6px; border-radius: 4px; margin-left: 8px;\\\">{agent_name}</code>\n",
    "      </h3>\n",
    "    </div>\n",
    "    <div style=\\\"padding: 15px;\\\">\n",
    "      <p style=\\\"margin: 0 0 10px 0; color: #6B7280; font-size: 14px;\\\">\n",
    "        <strong>Your Query:</strong>\n",
    "      </p>\n",
    "      <p style=\\\"background-color: #F9FAFB; margin: 0 0 15px 0; color: #1F2937; border: 1px solid #E5E7EB; border-left: 3px solid #9CA3AF; padding: 10px 12px; border-radius: 4px;\\\">\n",
    "        <em>\\\"{query}\\\"</em>\n",
    "      </p>\n",
    "      <hr style=\\\"border: none; border-top: 1px dashed #D1D5DB; margin-bottom: 15px;\\\">\n",
    "      <p style=\\\"margin: 0 0 10px 0; color: #6B7280; font-size: 14px;\\\">\n",
    "        <strong>Result:</strong>\n",
    "      </p>\n",
    "      <div style=\\\"background-color: #FFFFFF; padding: 15px; border-radius: 5px; border: 1px solid #E5E7EB; color: #1F2937; font-size: 15px; line-height: 1.6;\\\">\n",
    "        {response}\n",
    "      </div>\n",
    "    </div>\n",
    "  </div>\n",
    "  \"\"\"\n",
    "  display(Markdown(output))"
   ]
  },
  {
   "cell_type": "code",
   "execution_count": null,
   "metadata": {},
   "outputs": [],
   "source": [
    "from aurite import Aurite\n",
    "from aurite.config.config_models import AgentConfig\n",
    "\n",
    "aurite = Aurite()\n",
    "await aurite.initialize()"
   ]
  },
  {
   "cell_type": "markdown",
   "metadata": {},
   "source": [
    "---"
   ]
  },
  {
   "cell_type": "markdown",
   "metadata": {},
   "source": [
    "## Section 2: The Challenges\n"
   ]
  },
  {
   "cell_type": "markdown",
   "metadata": {},
   "source": [
    "### Challenge A: The File Organizer Agent"
   ]
  },
  {
   "cell_type": "code",
   "execution_count": null,
   "metadata": {},
   "outputs": [],
   "source": [
    "organizer_config = AgentConfig(\n",
    "    name=\"File Organizer\",\n",
    "    system_prompt=\"You are a file organizing agent. Your job is to manage files and directories based on the user's request. You must follow instructions precisely, including performing steps in the correct order.\",\n",
    "    mcp_servers=[\"desktop_commander\"]\n",
    ")\n",
    "\n",
    "await aurite.register_agent(organizer_config)\n",
    "\n",
    "organizer_query = \"First, create a new directory named my-agent-creations. Second, write a file inside that new directory named hello_world.txt with the content 'Hello from my Aurite agent!'\"\n",
    "\n",
    "organizer_result = await aurite.run_agent(\n",
    "    agent_name=\"File Organizer\",\n",
    "    user_message=organizer_query\n",
    ")\n",
    "\n",
    "display_agent_response(\"File Organizer\", organizer_query, organizer_result.primary_text)"
   ]
  },
  {
   "cell_type": "markdown",
   "metadata": {},
   "source": [
    "### Challenge B: The AI Research Assistant"
   ]
  },
  {
   "cell_type": "code",
   "execution_count": null,
   "metadata": {},
   "outputs": [],
   "source": [
    "researcher_config = AgentConfig(\n",
    "    name=\"Research Assistant\",\n",
    "    system_prompt=\"You are a helpful research assistant. Your goal is to find relevant academic papers using the best available tool. Prioritize using the research_paper_search tool for academic topics.\",\n",
    "    mcp_servers=[\"exa_search\"]\n",
    ")\n",
    "\n",
    "await aurite.register_agent(researcher_config)\n",
    "\n",
    "researcher_query = \"Find recent research papers on the topic of 'Large Language Model Agents'.\"\n",
    "\n",
    "researcher_result = await aurite.run_agent(\n",
    "    agent_name=\"Research Assistant\",\n",
    "    user_message=researcher_query\n",
    ")\n",
    "\n",
    "display_agent_response(\"Research Assistant\", researcher_query, researcher_result.primary_text)"
   ]
  },
  {
   "cell_type": "markdown",
   "metadata": {},
   "source": [
    "### Challenge C: The App Store Analyst"
   ]
  },
  {
   "cell_type": "code",
   "execution_count": null,
   "metadata": {},
   "outputs": [],
   "source": [
    "app_analyst_config = AgentConfig(\n",
    "    name=\"App Store Analyst\",\n",
    "    system_prompt='''You are an expert App Store analyst. Your job is to find and report on mobile apps from the Google Play store or the Apple App Store. Use the tools provided to answer the user's query. When asked for lists of apps, use the `google-play-list` tool and specify the correct category and collection.''',\n",
    "    mcp_servers=[\"appinsightmcp\"]\n",
    ")\n",
    "\n",
    "await aurite.register_agent(app_analyst_config)\n",
    "\n",
    "app_analyst_query = \"Find the top 5 free social media apps on the Google Play store.\"\n",
    "\n",
    "app_analyst_result = await aurite.run_agent(\n",
    "    agent_name=\"App Store Analyst\",\n",
    "    user_message=app_analyst_query\n",
    ")\n",
    "\n",
    "display_agent_response(\"App Store Analyst\", app_analyst_query, app_analyst_result.primary_text)"
   ]
  }
 ],
 "metadata": {
  "kernelspec": {
   "display_name": "notebook-venv",
   "language": "python",
   "name": "python3"
  },
  "language_info": {
   "codemirror_mode": {
    "name": "ipython",
    "version": 3
   },
   "file_extension": ".py",
   "mimetype": "text/x-python",
   "name": "python",
   "nbconvert_exporter": "python",
   "pygments_lexer": "ipython3",
   "version": "3.11.11"
  }
 },
 "nbformat": 4,
 "nbformat_minor": 2
}
