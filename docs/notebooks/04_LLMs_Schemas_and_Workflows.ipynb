{
 "cells": [
  {
   "cell_type": "markdown",
   "metadata": {},
   "source": [
    "# Tutorial 2: A Detailed Look at Agents - Custom LLMs, Structured Output, and Workflows"
   ]
  },
  {
   "cell_type": "markdown",
   "metadata": {},
   "source": [
    "Welcome to the second tutorial in the Aurite Agents series! Building on what you learned in Tutorial 1, we'll now explore more advanced features that give you greater control over your AI agents.\n",
    "\n",
    "**In this tutorial, you will learn:**\n",
    "\n",
    "1. **Custom LLM Configurations** - How to create and use your own LLM settings beyond the defaults\n",
    "2. **Structured Output** - How to enforce JSON schemas so agents return data in exactly the format you need\n",
    "3. **Simple Workflows** - How to chain multiple agents together to create more complex behaviors\n",
    "\n",
    "By the end of this tutorial, you'll have built a multi-agent workflow that demonstrates all three concepts working together.\n",
    "\n",
    "> 📋 **Prerequisites**\n",
    "> This tutorial assumes you've completed Tutorial 1 and are familiar with basic agent creation and execution."
   ]
  },
  {
   "cell_type": "markdown",
   "metadata": {},
   "source": [
    "## ✅ 1. Setup and Installation"
   ]
  },
  {
   "cell_type": "markdown",
   "metadata": {},
   "source": [
    "Let's start with the same setup as Tutorial 1."
   ]
  },
  {
   "cell_type": "code",
   "execution_count": 18,
   "metadata": {},
   "outputs": [
    {
     "name": "stdout",
     "output_type": "stream",
     "text": [
      "Looking in indexes: https://test.pypi.org/simple/\n",
      "Requirement already satisfied: aurite==0.3.6 in /home/wilcoxr/workspace/aurite/aurite-agents/notebook-venv/lib/python3.11/site-packages (0.3.6)\n",
      "Requirement already satisfied: mcp>=1.8.1 in /home/wilcoxr/workspace/aurite/aurite-agents/notebook-venv/lib/python3.11/site-packages (from aurite==0.3.6) (1.9.3)\n",
      "Requirement already satisfied: httpx>=0.28.1 in /home/wilcoxr/workspace/aurite/aurite-agents/notebook-venv/lib/python3.11/site-packages (from aurite==0.3.6) (0.28.1)\n",
      "Requirement already satisfied: anyio>=4.8.0 in /home/wilcoxr/workspace/aurite/aurite-agents/notebook-venv/lib/python3.11/site-packages (from aurite==0.3.6) (4.9.0)\n",
      "Requirement already satisfied: sqlalchemy>=2.0.39 in /home/wilcoxr/workspace/aurite/aurite-agents/notebook-venv/lib/python3.11/site-packages (from aurite==0.3.6) (2.0.41)\n",
      "Requirement already satisfied: anthropic>=0.49.0 in /home/wilcoxr/workspace/aurite/aurite-agents/notebook-venv/lib/python3.11/site-packages (from aurite==0.3.6) (0.52.2)\n",
      "Requirement already satisfied: annotated-types>=0.7.0 in /home/wilcoxr/workspace/aurite/aurite-agents/notebook-venv/lib/python3.11/site-packages (from aurite==0.3.6) (0.7.0)\n",
      "Requirement already satisfied: certifi>=2025.1.31 in /home/wilcoxr/workspace/aurite/aurite-agents/notebook-venv/lib/python3.11/site-packages (from aurite==0.3.6) (2025.4.26)\n",
      "Requirement already satisfied: cffi>=1.17.1 in /home/wilcoxr/workspace/aurite/aurite-agents/notebook-venv/lib/python3.11/site-packages (from aurite==0.3.6) (1.17.1)\n",
      "Requirement already satisfied: click>=8.1.8 in /home/wilcoxr/workspace/aurite/aurite-agents/notebook-venv/lib/python3.11/site-packages (from aurite==0.3.6) (8.2.1)\n",
      "Requirement already satisfied: cryptography<44,>=41.0.5 in /home/wilcoxr/workspace/aurite/aurite-agents/notebook-venv/lib/python3.11/site-packages (from aurite==0.3.6) (43.0.3)\n",
      "Requirement already satisfied: distro>=1.9.0 in /home/wilcoxr/workspace/aurite/aurite-agents/notebook-venv/lib/python3.11/site-packages (from aurite==0.3.6) (1.9.0)\n",
      "Requirement already satisfied: google-genai>=1.11.0 in /home/wilcoxr/workspace/aurite/aurite-agents/notebook-venv/lib/python3.11/site-packages (from aurite==0.3.6) (1.19.0)\n",
      "Requirement already satisfied: greenlet>=3.1.1 in /home/wilcoxr/workspace/aurite/aurite-agents/notebook-venv/lib/python3.11/site-packages (from aurite==0.3.6) (3.2.3)\n",
      "Requirement already satisfied: h11>=0.14.0 in /home/wilcoxr/workspace/aurite/aurite-agents/notebook-venv/lib/python3.11/site-packages (from aurite==0.3.6) (0.16.0)\n",
      "Requirement already satisfied: httpcore>=1.0.7 in /home/wilcoxr/workspace/aurite/aurite-agents/notebook-venv/lib/python3.11/site-packages (from aurite==0.3.6) (1.0.9)\n",
      "Requirement already satisfied: httpx-sse>=0.4.0 in /home/wilcoxr/workspace/aurite/aurite-agents/notebook-venv/lib/python3.11/site-packages (from aurite==0.3.6) (0.4.0)\n",
      "Requirement already satisfied: idna>=3.10 in /home/wilcoxr/workspace/aurite/aurite-agents/notebook-venv/lib/python3.11/site-packages (from aurite==0.3.6) (3.10)\n",
      "Requirement already satisfied: iniconfig>=2.0.0 in /home/wilcoxr/workspace/aurite/aurite-agents/notebook-venv/lib/python3.11/site-packages (from aurite==0.3.6) (2.1.0)\n",
      "Requirement already satisfied: jiter<0.9,>=0.6.1 in /home/wilcoxr/workspace/aurite/aurite-agents/notebook-venv/lib/python3.11/site-packages (from aurite==0.3.6) (0.8.2)\n",
      "Requirement already satisfied: mem0ai>=0.1.67 in /home/wilcoxr/workspace/aurite/aurite-agents/notebook-venv/lib/python3.11/site-packages (from aurite==0.3.6) (0.1.104)\n",
      "Requirement already satisfied: packaging>=24.2 in /home/wilcoxr/workspace/aurite/aurite-agents/notebook-venv/lib/python3.11/site-packages (from aurite==0.3.6) (25.0)\n",
      "Requirement already satisfied: colorlog>=6.0.0 in /home/wilcoxr/workspace/aurite/aurite-agents/notebook-venv/lib/python3.11/site-packages (from aurite==0.3.6) (6.9.0)\n",
      "Requirement already satisfied: termcolor>=3.0.0 in /home/wilcoxr/workspace/aurite/aurite-agents/notebook-venv/lib/python3.11/site-packages (from aurite==0.3.6) (3.1.0)\n",
      "Requirement already satisfied: pluggy>=1.5.0 in /home/wilcoxr/workspace/aurite/aurite-agents/notebook-venv/lib/python3.11/site-packages (from aurite==0.3.6) (1.6.0)\n",
      "Requirement already satisfied: psycopg2-binary>=2.9.10 in /home/wilcoxr/workspace/aurite/aurite-agents/notebook-venv/lib/python3.11/site-packages (from aurite==0.3.6) (2.9.10)\n",
      "Requirement already satisfied: alembic>=1.13.1 in /home/wilcoxr/workspace/aurite/aurite-agents/notebook-venv/lib/python3.11/site-packages (from aurite==0.3.6) (1.16.1)\n",
      "Requirement already satisfied: pycparser>=2.22 in /home/wilcoxr/workspace/aurite/aurite-agents/notebook-venv/lib/python3.11/site-packages (from aurite==0.3.6) (2.22)\n",
      "Requirement already satisfied: pydantic>=2.10.6 in /home/wilcoxr/workspace/aurite/aurite-agents/notebook-venv/lib/python3.11/site-packages (from aurite==0.3.6) (2.11.5)\n",
      "Requirement already satisfied: pydantic-settings>=2.8.1 in /home/wilcoxr/workspace/aurite/aurite-agents/notebook-venv/lib/python3.11/site-packages (from aurite==0.3.6) (2.9.1)\n",
      "Requirement already satisfied: pydantic_core>=2.27.2 in /home/wilcoxr/workspace/aurite/aurite-agents/notebook-venv/lib/python3.11/site-packages (from aurite==0.3.6) (2.33.2)\n",
      "Requirement already satisfied: pydub>=0.25.1 in /home/wilcoxr/workspace/aurite/aurite-agents/notebook-venv/lib/python3.11/site-packages (from aurite==0.3.6) (0.25.1)\n",
      "Requirement already satisfied: PyMySQL>=1.1.1 in /home/wilcoxr/workspace/aurite/aurite-agents/notebook-venv/lib/python3.11/site-packages (from aurite==0.3.6) (1.1.1)\n",
      "Requirement already satisfied: python-dateutil>=2.9.0.post0 in /home/wilcoxr/workspace/aurite/aurite-agents/notebook-venv/lib/python3.11/site-packages (from aurite==0.3.6) (2.9.0.post0)\n",
      "Requirement already satisfied: openai-agents-mcp in /home/wilcoxr/workspace/aurite/aurite-agents/notebook-venv/lib/python3.11/site-packages (from aurite==0.3.6) (0.0.8)\n",
      "Requirement already satisfied: python-dotenv>=1.0.1 in /home/wilcoxr/workspace/aurite/aurite-agents/notebook-venv/lib/python3.11/site-packages (from aurite==0.3.6) (1.1.0)\n",
      "Requirement already satisfied: pytz>=2024.1 in /home/wilcoxr/workspace/aurite/aurite-agents/notebook-venv/lib/python3.11/site-packages (from aurite==0.3.6) (2025.2)\n",
      "Requirement already satisfied: pyyaml>=6.0.2 in /home/wilcoxr/workspace/aurite/aurite-agents/notebook-venv/lib/python3.11/site-packages (from aurite==0.3.6) (6.0.2)\n",
      "Requirement already satisfied: redis>=5.0.0 in /home/wilcoxr/workspace/aurite/aurite-agents/notebook-venv/lib/python3.11/site-packages (from aurite==0.3.6) (6.2.0)\n",
      "Requirement already satisfied: six>=1.17.0 in /home/wilcoxr/workspace/aurite/aurite-agents/notebook-venv/lib/python3.11/site-packages (from aurite==0.3.6) (1.17.0)\n",
      "Requirement already satisfied: sniffio>=1.3.1 in /home/wilcoxr/workspace/aurite/aurite-agents/notebook-venv/lib/python3.11/site-packages (from aurite==0.3.6) (1.3.1)\n",
      "Requirement already satisfied: jsonschema in /home/wilcoxr/workspace/aurite/aurite-agents/notebook-venv/lib/python3.11/site-packages (from aurite==0.3.6) (4.24.0)\n",
      "Requirement already satisfied: sse-starlette>=2.2.1 in /home/wilcoxr/workspace/aurite/aurite-agents/notebook-venv/lib/python3.11/site-packages (from aurite==0.3.6) (2.3.6)\n",
      "Requirement already satisfied: starlette>=0.46.1 in /home/wilcoxr/workspace/aurite/aurite-agents/notebook-venv/lib/python3.11/site-packages (from aurite==0.3.6) (0.46.2)\n",
      "Requirement already satisfied: typing_extensions>=4.12.2 in /home/wilcoxr/workspace/aurite/aurite-agents/notebook-venv/lib/python3.11/site-packages (from aurite==0.3.6) (4.14.0)\n",
      "Requirement already satisfied: typer>=0.9.0 in /home/wilcoxr/workspace/aurite/aurite-agents/notebook-venv/lib/python3.11/site-packages (from aurite==0.3.6) (0.16.0)\n",
      "Requirement already satisfied: tzdata>=2025.1 in /home/wilcoxr/workspace/aurite/aurite-agents/notebook-venv/lib/python3.11/site-packages (from aurite==0.3.6) (2025.2)\n",
      "Requirement already satisfied: uvicorn>=0.34.0 in /home/wilcoxr/workspace/aurite/aurite-agents/notebook-venv/lib/python3.11/site-packages (from aurite==0.3.6) (0.34.3)\n",
      "Requirement already satisfied: fastapi in /home/wilcoxr/workspace/aurite/aurite-agents/notebook-venv/lib/python3.11/site-packages (from aurite==0.3.6) (0.115.12)\n",
      "Requirement already satisfied: google-cloud-secret-manager>=2.19.0 in /home/wilcoxr/workspace/aurite/aurite-agents/notebook-venv/lib/python3.11/site-packages (from aurite==0.3.6) (2.24.0)\n",
      "Requirement already satisfied: Mako in /home/wilcoxr/workspace/aurite/aurite-agents/notebook-venv/lib/python3.11/site-packages (from alembic>=1.13.1->aurite==0.3.6) (1.3.10)\n",
      "Requirement already satisfied: typing-inspection>=0.4.0 in /home/wilcoxr/workspace/aurite/aurite-agents/notebook-venv/lib/python3.11/site-packages (from pydantic>=2.10.6->aurite==0.3.6) (0.4.1)\n",
      "Requirement already satisfied: google-api-core!=2.0.*,!=2.1.*,!=2.10.*,!=2.2.*,!=2.3.*,!=2.4.*,!=2.5.*,!=2.6.*,!=2.7.*,!=2.8.*,!=2.9.*,<3.0.0,>=1.34.1 in /home/wilcoxr/workspace/aurite/aurite-agents/notebook-venv/lib/python3.11/site-packages (from google-api-core[grpc]!=2.0.*,!=2.1.*,!=2.10.*,!=2.2.*,!=2.3.*,!=2.4.*,!=2.5.*,!=2.6.*,!=2.7.*,!=2.8.*,!=2.9.*,<3.0.0,>=1.34.1->google-cloud-secret-manager>=2.19.0->aurite==0.3.6) (2.25.0)\n",
      "Requirement already satisfied: google-auth!=2.24.0,!=2.25.0,<3.0.0,>=2.14.1 in /home/wilcoxr/workspace/aurite/aurite-agents/notebook-venv/lib/python3.11/site-packages (from google-cloud-secret-manager>=2.19.0->aurite==0.3.6) (2.40.3)\n",
      "Requirement already satisfied: proto-plus<2.0.0,>=1.22.3 in /home/wilcoxr/workspace/aurite/aurite-agents/notebook-venv/lib/python3.11/site-packages (from google-cloud-secret-manager>=2.19.0->aurite==0.3.6) (1.26.1)\n",
      "Requirement already satisfied: protobuf!=4.21.0,!=4.21.1,!=4.21.2,!=4.21.3,!=4.21.4,!=4.21.5,<7.0.0,>=3.20.2 in /home/wilcoxr/workspace/aurite/aurite-agents/notebook-venv/lib/python3.11/site-packages (from google-cloud-secret-manager>=2.19.0->aurite==0.3.6) (5.29.5)\n",
      "Requirement already satisfied: grpc-google-iam-v1<1.0.0,>=0.14.0 in /home/wilcoxr/workspace/aurite/aurite-agents/notebook-venv/lib/python3.11/site-packages (from google-cloud-secret-manager>=2.19.0->aurite==0.3.6) (0.14.2)\n",
      "Requirement already satisfied: googleapis-common-protos<2.0.0,>=1.56.2 in /home/wilcoxr/workspace/aurite/aurite-agents/notebook-venv/lib/python3.11/site-packages (from google-api-core!=2.0.*,!=2.1.*,!=2.10.*,!=2.2.*,!=2.3.*,!=2.4.*,!=2.5.*,!=2.6.*,!=2.7.*,!=2.8.*,!=2.9.*,<3.0.0,>=1.34.1->google-api-core[grpc]!=2.0.*,!=2.1.*,!=2.10.*,!=2.2.*,!=2.3.*,!=2.4.*,!=2.5.*,!=2.6.*,!=2.7.*,!=2.8.*,!=2.9.*,<3.0.0,>=1.34.1->google-cloud-secret-manager>=2.19.0->aurite==0.3.6) (1.70.0)\n",
      "Requirement already satisfied: requests<3.0.0,>=2.18.0 in /home/wilcoxr/workspace/aurite/aurite-agents/notebook-venv/lib/python3.11/site-packages (from google-api-core!=2.0.*,!=2.1.*,!=2.10.*,!=2.2.*,!=2.3.*,!=2.4.*,!=2.5.*,!=2.6.*,!=2.7.*,!=2.8.*,!=2.9.*,<3.0.0,>=1.34.1->google-api-core[grpc]!=2.0.*,!=2.1.*,!=2.10.*,!=2.2.*,!=2.3.*,!=2.4.*,!=2.5.*,!=2.6.*,!=2.7.*,!=2.8.*,!=2.9.*,<3.0.0,>=1.34.1->google-cloud-secret-manager>=2.19.0->aurite==0.3.6) (2.32.3)\n",
      "Requirement already satisfied: grpcio<2.0.0,>=1.33.2 in /home/wilcoxr/workspace/aurite/aurite-agents/notebook-venv/lib/python3.11/site-packages (from google-api-core[grpc]!=2.0.*,!=2.1.*,!=2.10.*,!=2.2.*,!=2.3.*,!=2.4.*,!=2.5.*,!=2.6.*,!=2.7.*,!=2.8.*,!=2.9.*,<3.0.0,>=1.34.1->google-cloud-secret-manager>=2.19.0->aurite==0.3.6) (1.72.1)\n",
      "Requirement already satisfied: grpcio-status<2.0.0,>=1.33.2 in /home/wilcoxr/workspace/aurite/aurite-agents/notebook-venv/lib/python3.11/site-packages (from google-api-core[grpc]!=2.0.*,!=2.1.*,!=2.10.*,!=2.2.*,!=2.3.*,!=2.4.*,!=2.5.*,!=2.6.*,!=2.7.*,!=2.8.*,!=2.9.*,<3.0.0,>=1.34.1->google-cloud-secret-manager>=2.19.0->aurite==0.3.6) (1.71.0)\n",
      "Requirement already satisfied: cachetools<6.0,>=2.0.0 in /home/wilcoxr/workspace/aurite/aurite-agents/notebook-venv/lib/python3.11/site-packages (from google-auth!=2.24.0,!=2.25.0,<3.0.0,>=2.14.1->google-cloud-secret-manager>=2.19.0->aurite==0.3.6) (5.5.2)\n",
      "Requirement already satisfied: pyasn1-modules>=0.2.1 in /home/wilcoxr/workspace/aurite/aurite-agents/notebook-venv/lib/python3.11/site-packages (from google-auth!=2.24.0,!=2.25.0,<3.0.0,>=2.14.1->google-cloud-secret-manager>=2.19.0->aurite==0.3.6) (0.4.2)\n",
      "Requirement already satisfied: rsa<5,>=3.1.4 in /home/wilcoxr/workspace/aurite/aurite-agents/notebook-venv/lib/python3.11/site-packages (from google-auth!=2.24.0,!=2.25.0,<3.0.0,>=2.14.1->google-cloud-secret-manager>=2.19.0->aurite==0.3.6) (4.9.1)\n",
      "Requirement already satisfied: charset-normalizer<4,>=2 in /home/wilcoxr/workspace/aurite/aurite-agents/notebook-venv/lib/python3.11/site-packages (from requests<3.0.0,>=2.18.0->google-api-core!=2.0.*,!=2.1.*,!=2.10.*,!=2.2.*,!=2.3.*,!=2.4.*,!=2.5.*,!=2.6.*,!=2.7.*,!=2.8.*,!=2.9.*,<3.0.0,>=1.34.1->google-api-core[grpc]!=2.0.*,!=2.1.*,!=2.10.*,!=2.2.*,!=2.3.*,!=2.4.*,!=2.5.*,!=2.6.*,!=2.7.*,!=2.8.*,!=2.9.*,<3.0.0,>=1.34.1->google-cloud-secret-manager>=2.19.0->aurite==0.3.6) (3.4.2)\n",
      "Requirement already satisfied: urllib3<3,>=1.21.1 in /home/wilcoxr/workspace/aurite/aurite-agents/notebook-venv/lib/python3.11/site-packages (from requests<3.0.0,>=2.18.0->google-api-core!=2.0.*,!=2.1.*,!=2.10.*,!=2.2.*,!=2.3.*,!=2.4.*,!=2.5.*,!=2.6.*,!=2.7.*,!=2.8.*,!=2.9.*,<3.0.0,>=1.34.1->google-api-core[grpc]!=2.0.*,!=2.1.*,!=2.10.*,!=2.2.*,!=2.3.*,!=2.4.*,!=2.5.*,!=2.6.*,!=2.7.*,!=2.8.*,!=2.9.*,<3.0.0,>=1.34.1->google-cloud-secret-manager>=2.19.0->aurite==0.3.6) (2.4.0)\n",
      "Requirement already satisfied: pyasn1>=0.1.3 in /home/wilcoxr/workspace/aurite/aurite-agents/notebook-venv/lib/python3.11/site-packages (from rsa<5,>=3.1.4->google-auth!=2.24.0,!=2.25.0,<3.0.0,>=2.14.1->google-cloud-secret-manager>=2.19.0->aurite==0.3.6) (0.6.1)\n",
      "Requirement already satisfied: websockets<15.1.0,>=13.0.0 in /home/wilcoxr/workspace/aurite/aurite-agents/notebook-venv/lib/python3.11/site-packages (from google-genai>=1.11.0->aurite==0.3.6) (15.0.1)\n",
      "Requirement already satisfied: python-multipart>=0.0.9 in /home/wilcoxr/workspace/aurite/aurite-agents/notebook-venv/lib/python3.11/site-packages (from mcp>=1.8.1->aurite==0.3.6) (0.0.20)\n",
      "Requirement already satisfied: openai>=1.33.0 in /home/wilcoxr/workspace/aurite/aurite-agents/notebook-venv/lib/python3.11/site-packages (from mem0ai>=0.1.67->aurite==0.3.6) (1.84.0)\n",
      "Requirement already satisfied: posthog>=3.5.0 in /home/wilcoxr/workspace/aurite/aurite-agents/notebook-venv/lib/python3.11/site-packages (from mem0ai>=0.1.67->aurite==0.3.6) (4.4.0)\n",
      "Requirement already satisfied: qdrant-client>=1.9.1 in /home/wilcoxr/workspace/aurite/aurite-agents/notebook-venv/lib/python3.11/site-packages (from mem0ai>=0.1.67->aurite==0.3.6) (1.14.2)\n",
      "Requirement already satisfied: tqdm>4 in /home/wilcoxr/workspace/aurite/aurite-agents/notebook-venv/lib/python3.11/site-packages (from openai>=1.33.0->mem0ai>=0.1.67->aurite==0.3.6) (4.67.1)\n",
      "Requirement already satisfied: backoff>=1.10.0 in /home/wilcoxr/workspace/aurite/aurite-agents/notebook-venv/lib/python3.11/site-packages (from posthog>=3.5.0->mem0ai>=0.1.67->aurite==0.3.6) (2.2.1)\n",
      "Requirement already satisfied: numpy>=1.21 in /home/wilcoxr/workspace/aurite/aurite-agents/notebook-venv/lib/python3.11/site-packages (from qdrant-client>=1.9.1->mem0ai>=0.1.67->aurite==0.3.6) (2.3.0)\n",
      "Requirement already satisfied: portalocker<3.0.0,>=2.7.0 in /home/wilcoxr/workspace/aurite/aurite-agents/notebook-venv/lib/python3.11/site-packages (from qdrant-client>=1.9.1->mem0ai>=0.1.67->aurite==0.3.6) (2.10.1)\n",
      "Requirement already satisfied: h2<5,>=3 in /home/wilcoxr/workspace/aurite/aurite-agents/notebook-venv/lib/python3.11/site-packages (from httpx[http2]>=0.20.0->qdrant-client>=1.9.1->mem0ai>=0.1.67->aurite==0.3.6) (4.2.0)\n",
      "Requirement already satisfied: hyperframe<7,>=6.1 in /home/wilcoxr/workspace/aurite/aurite-agents/notebook-venv/lib/python3.11/site-packages (from h2<5,>=3->httpx[http2]>=0.20.0->qdrant-client>=1.9.1->mem0ai>=0.1.67->aurite==0.3.6) (6.1.0)\n",
      "Requirement already satisfied: hpack<5,>=4.1 in /home/wilcoxr/workspace/aurite/aurite-agents/notebook-venv/lib/python3.11/site-packages (from h2<5,>=3->httpx[http2]>=0.20.0->qdrant-client>=1.9.1->mem0ai>=0.1.67->aurite==0.3.6) (4.1.0)\n",
      "Requirement already satisfied: shellingham>=1.3.0 in /home/wilcoxr/workspace/aurite/aurite-agents/notebook-venv/lib/python3.11/site-packages (from typer>=0.9.0->aurite==0.3.6) (1.5.4)\n",
      "Requirement already satisfied: rich>=10.11.0 in /home/wilcoxr/workspace/aurite/aurite-agents/notebook-venv/lib/python3.11/site-packages (from typer>=0.9.0->aurite==0.3.6) (13.9.4)\n",
      "Requirement already satisfied: markdown-it-py>=2.2.0 in /home/wilcoxr/workspace/aurite/aurite-agents/notebook-venv/lib/python3.11/site-packages (from rich>=10.11.0->typer>=0.9.0->aurite==0.3.6) (3.0.0)\n",
      "Requirement already satisfied: pygments<3.0.0,>=2.13.0 in /home/wilcoxr/workspace/aurite/aurite-agents/notebook-venv/lib/python3.11/site-packages (from rich>=10.11.0->typer>=0.9.0->aurite==0.3.6) (2.19.1)\n",
      "Requirement already satisfied: mdurl~=0.1 in /home/wilcoxr/workspace/aurite/aurite-agents/notebook-venv/lib/python3.11/site-packages (from markdown-it-py>=2.2.0->rich>=10.11.0->typer>=0.9.0->aurite==0.3.6) (0.1.2)\n",
      "Requirement already satisfied: attrs>=22.2.0 in /home/wilcoxr/workspace/aurite/aurite-agents/notebook-venv/lib/python3.11/site-packages (from jsonschema->aurite==0.3.6) (25.3.0)\n",
      "Requirement already satisfied: jsonschema-specifications>=2023.03.6 in /home/wilcoxr/workspace/aurite/aurite-agents/notebook-venv/lib/python3.11/site-packages (from jsonschema->aurite==0.3.6) (2025.4.1)\n",
      "Requirement already satisfied: referencing>=0.28.4 in /home/wilcoxr/workspace/aurite/aurite-agents/notebook-venv/lib/python3.11/site-packages (from jsonschema->aurite==0.3.6) (0.36.2)\n",
      "Requirement already satisfied: rpds-py>=0.7.1 in /home/wilcoxr/workspace/aurite/aurite-agents/notebook-venv/lib/python3.11/site-packages (from jsonschema->aurite==0.3.6) (0.25.1)\n",
      "Requirement already satisfied: MarkupSafe>=0.9.2 in /home/wilcoxr/workspace/aurite/aurite-agents/notebook-venv/lib/python3.11/site-packages (from Mako->alembic>=1.13.1->aurite==0.3.6) (3.0.2)\n",
      "Requirement already satisfied: mcp-agent>=0.0.13 in /home/wilcoxr/workspace/aurite/aurite-agents/notebook-venv/lib/python3.11/site-packages (from openai-agents-mcp->aurite==0.3.6) (0.1.1)\n",
      "Requirement already satisfied: openai-agents>=0.0.5 in /home/wilcoxr/workspace/aurite/aurite-agents/notebook-venv/lib/python3.11/site-packages (from openai-agents-mcp->aurite==0.3.6) (0.0.17)\n",
      "Requirement already satisfied: aiohttp>=3.11.13 in /home/wilcoxr/workspace/aurite/aurite-agents/notebook-venv/lib/python3.11/site-packages (from mcp-agent>=0.0.13->openai-agents-mcp->aurite==0.3.6) (3.12.11)\n",
      "Requirement already satisfied: instructor>=1.7.9 in /home/wilcoxr/workspace/aurite/aurite-agents/notebook-venv/lib/python3.11/site-packages (from mcp-agent>=0.0.13->openai-agents-mcp->aurite==0.3.6) (1.8.3)\n",
      "Requirement already satisfied: opentelemetry-distro>=0.50b0 in /home/wilcoxr/workspace/aurite/aurite-agents/notebook-venv/lib/python3.11/site-packages (from mcp-agent>=0.0.13->openai-agents-mcp->aurite==0.3.6) (0.55b0)\n",
      "Requirement already satisfied: opentelemetry-exporter-otlp-proto-http>=1.29.0 in /home/wilcoxr/workspace/aurite/aurite-agents/notebook-venv/lib/python3.11/site-packages (from mcp-agent>=0.0.13->openai-agents-mcp->aurite==0.3.6) (1.34.0)\n",
      "Requirement already satisfied: opentelemetry-instrumentation-anthropic>=0.39.3 in /home/wilcoxr/workspace/aurite/aurite-agents/notebook-venv/lib/python3.11/site-packages (from mcp-agent>=0.0.13->openai-agents-mcp->aurite==0.3.6) (0.40.7)\n",
      "Requirement already satisfied: opentelemetry-instrumentation-openai>=0.39.3 in /home/wilcoxr/workspace/aurite/aurite-agents/notebook-venv/lib/python3.11/site-packages (from mcp-agent>=0.0.13->openai-agents-mcp->aurite==0.3.6) (0.40.7)\n",
      "Requirement already satisfied: prompt-toolkit>=3.0.50 in /home/wilcoxr/workspace/aurite/aurite-agents/notebook-venv/lib/python3.11/site-packages (from mcp-agent>=0.0.13->openai-agents-mcp->aurite==0.3.6) (3.0.51)\n",
      "Requirement already satisfied: scikit-learn>=1.6.0 in /home/wilcoxr/workspace/aurite/aurite-agents/notebook-venv/lib/python3.11/site-packages (from mcp-agent>=0.0.13->openai-agents-mcp->aurite==0.3.6) (1.7.0)\n",
      "Requirement already satisfied: aiohappyeyeballs>=2.5.0 in /home/wilcoxr/workspace/aurite/aurite-agents/notebook-venv/lib/python3.11/site-packages (from aiohttp>=3.11.13->mcp-agent>=0.0.13->openai-agents-mcp->aurite==0.3.6) (2.6.1)\n",
      "Requirement already satisfied: aiosignal>=1.1.2 in /home/wilcoxr/workspace/aurite/aurite-agents/notebook-venv/lib/python3.11/site-packages (from aiohttp>=3.11.13->mcp-agent>=0.0.13->openai-agents-mcp->aurite==0.3.6) (1.3.2)\n",
      "Requirement already satisfied: frozenlist>=1.1.1 in /home/wilcoxr/workspace/aurite/aurite-agents/notebook-venv/lib/python3.11/site-packages (from aiohttp>=3.11.13->mcp-agent>=0.0.13->openai-agents-mcp->aurite==0.3.6) (1.6.2)\n",
      "Requirement already satisfied: multidict<7.0,>=4.5 in /home/wilcoxr/workspace/aurite/aurite-agents/notebook-venv/lib/python3.11/site-packages (from aiohttp>=3.11.13->mcp-agent>=0.0.13->openai-agents-mcp->aurite==0.3.6) (6.4.4)\n",
      "Requirement already satisfied: propcache>=0.2.0 in /home/wilcoxr/workspace/aurite/aurite-agents/notebook-venv/lib/python3.11/site-packages (from aiohttp>=3.11.13->mcp-agent>=0.0.13->openai-agents-mcp->aurite==0.3.6) (0.3.1)\n",
      "Requirement already satisfied: yarl<2.0,>=1.17.0 in /home/wilcoxr/workspace/aurite/aurite-agents/notebook-venv/lib/python3.11/site-packages (from aiohttp>=3.11.13->mcp-agent>=0.0.13->openai-agents-mcp->aurite==0.3.6) (1.20.0)\n",
      "Requirement already satisfied: docstring-parser<1.0,>=0.16 in /home/wilcoxr/workspace/aurite/aurite-agents/notebook-venv/lib/python3.11/site-packages (from instructor>=1.7.9->mcp-agent>=0.0.13->openai-agents-mcp->aurite==0.3.6) (0.16)\n",
      "Requirement already satisfied: jinja2<4.0.0,>=3.1.4 in /home/wilcoxr/workspace/aurite/aurite-agents/notebook-venv/lib/python3.11/site-packages (from instructor>=1.7.9->mcp-agent>=0.0.13->openai-agents-mcp->aurite==0.3.6) (3.1.6)\n",
      "Requirement already satisfied: tenacity<10.0.0,>=9.0.0 in /home/wilcoxr/workspace/aurite/aurite-agents/notebook-venv/lib/python3.11/site-packages (from instructor>=1.7.9->mcp-agent>=0.0.13->openai-agents-mcp->aurite==0.3.6) (9.1.2)\n",
      "Requirement already satisfied: griffe<2,>=1.5.6 in /home/wilcoxr/workspace/aurite/aurite-agents/notebook-venv/lib/python3.11/site-packages (from openai-agents>=0.0.5->openai-agents-mcp->aurite==0.3.6) (1.7.3)\n",
      "Requirement already satisfied: types-requests<3,>=2.0 in /home/wilcoxr/workspace/aurite/aurite-agents/notebook-venv/lib/python3.11/site-packages (from openai-agents>=0.0.5->openai-agents-mcp->aurite==0.3.6) (2.32.0.20250602)\n",
      "Requirement already satisfied: colorama>=0.4 in /home/wilcoxr/workspace/aurite/aurite-agents/notebook-venv/lib/python3.11/site-packages (from griffe<2,>=1.5.6->openai-agents>=0.0.5->openai-agents-mcp->aurite==0.3.6) (0.4.6)\n",
      "Requirement already satisfied: opentelemetry-api~=1.12 in /home/wilcoxr/workspace/aurite/aurite-agents/notebook-venv/lib/python3.11/site-packages (from opentelemetry-distro>=0.50b0->mcp-agent>=0.0.13->openai-agents-mcp->aurite==0.3.6) (1.34.0)\n",
      "Requirement already satisfied: opentelemetry-instrumentation==0.55b0 in /home/wilcoxr/workspace/aurite/aurite-agents/notebook-venv/lib/python3.11/site-packages (from opentelemetry-distro>=0.50b0->mcp-agent>=0.0.13->openai-agents-mcp->aurite==0.3.6) (0.55b0)\n",
      "Requirement already satisfied: opentelemetry-sdk~=1.13 in /home/wilcoxr/workspace/aurite/aurite-agents/notebook-venv/lib/python3.11/site-packages (from opentelemetry-distro>=0.50b0->mcp-agent>=0.0.13->openai-agents-mcp->aurite==0.3.6) (1.34.0)\n",
      "Requirement already satisfied: opentelemetry-semantic-conventions==0.55b0 in /home/wilcoxr/workspace/aurite/aurite-agents/notebook-venv/lib/python3.11/site-packages (from opentelemetry-instrumentation==0.55b0->opentelemetry-distro>=0.50b0->mcp-agent>=0.0.13->openai-agents-mcp->aurite==0.3.6) (0.55b0)\n",
      "Requirement already satisfied: wrapt<2.0.0,>=1.0.0 in /home/wilcoxr/workspace/aurite/aurite-agents/notebook-venv/lib/python3.11/site-packages (from opentelemetry-instrumentation==0.55b0->opentelemetry-distro>=0.50b0->mcp-agent>=0.0.13->openai-agents-mcp->aurite==0.3.6) (1.17.2)\n",
      "Requirement already satisfied: importlib-metadata<8.8.0,>=6.0 in /home/wilcoxr/workspace/aurite/aurite-agents/notebook-venv/lib/python3.11/site-packages (from opentelemetry-api~=1.12->opentelemetry-distro>=0.50b0->mcp-agent>=0.0.13->openai-agents-mcp->aurite==0.3.6) (8.7.0)\n",
      "Requirement already satisfied: zipp>=3.20 in /home/wilcoxr/workspace/aurite/aurite-agents/notebook-venv/lib/python3.11/site-packages (from importlib-metadata<8.8.0,>=6.0->opentelemetry-api~=1.12->opentelemetry-distro>=0.50b0->mcp-agent>=0.0.13->openai-agents-mcp->aurite==0.3.6) (3.22.0)\n",
      "Requirement already satisfied: opentelemetry-exporter-otlp-proto-common==1.34.0 in /home/wilcoxr/workspace/aurite/aurite-agents/notebook-venv/lib/python3.11/site-packages (from opentelemetry-exporter-otlp-proto-http>=1.29.0->mcp-agent>=0.0.13->openai-agents-mcp->aurite==0.3.6) (1.34.0)\n",
      "Requirement already satisfied: opentelemetry-proto==1.34.0 in /home/wilcoxr/workspace/aurite/aurite-agents/notebook-venv/lib/python3.11/site-packages (from opentelemetry-exporter-otlp-proto-http>=1.29.0->mcp-agent>=0.0.13->openai-agents-mcp->aurite==0.3.6) (1.34.0)\n",
      "Requirement already satisfied: opentelemetry-semantic-conventions-ai==0.4.9 in /home/wilcoxr/workspace/aurite/aurite-agents/notebook-venv/lib/python3.11/site-packages (from opentelemetry-instrumentation-anthropic>=0.39.3->mcp-agent>=0.0.13->openai-agents-mcp->aurite==0.3.6) (0.4.9)\n",
      "Requirement already satisfied: tiktoken<1,>=0.6.0 in /home/wilcoxr/workspace/aurite/aurite-agents/notebook-venv/lib/python3.11/site-packages (from opentelemetry-instrumentation-openai>=0.39.3->mcp-agent>=0.0.13->openai-agents-mcp->aurite==0.3.6) (0.9.0)\n",
      "Requirement already satisfied: regex>=2022.1.18 in /home/wilcoxr/workspace/aurite/aurite-agents/notebook-venv/lib/python3.11/site-packages (from tiktoken<1,>=0.6.0->opentelemetry-instrumentation-openai>=0.39.3->mcp-agent>=0.0.13->openai-agents-mcp->aurite==0.3.6) (2024.11.6)\n",
      "Requirement already satisfied: wcwidth in /home/wilcoxr/workspace/aurite/aurite-agents/notebook-venv/lib/python3.11/site-packages (from prompt-toolkit>=3.0.50->mcp-agent>=0.0.13->openai-agents-mcp->aurite==0.3.6) (0.2.13)\n",
      "Requirement already satisfied: scipy>=1.8.0 in /home/wilcoxr/workspace/aurite/aurite-agents/notebook-venv/lib/python3.11/site-packages (from scikit-learn>=1.6.0->mcp-agent>=0.0.13->openai-agents-mcp->aurite==0.3.6) (1.15.3)\n",
      "Requirement already satisfied: joblib>=1.2.0 in /home/wilcoxr/workspace/aurite/aurite-agents/notebook-venv/lib/python3.11/site-packages (from scikit-learn>=1.6.0->mcp-agent>=0.0.13->openai-agents-mcp->aurite==0.3.6) (1.5.1)\n",
      "Requirement already satisfied: threadpoolctl>=3.1.0 in /home/wilcoxr/workspace/aurite/aurite-agents/notebook-venv/lib/python3.11/site-packages (from scikit-learn>=1.6.0->mcp-agent>=0.0.13->openai-agents-mcp->aurite==0.3.6) (3.6.0)\n",
      "Note: you may need to restart the kernel to use updated packages.\n"
     ]
    }
   ],
   "source": [
    "%pip install --index-url https://test.pypi.org/simple/ aurite==0.3.6"
   ]
  },
  {
   "cell_type": "markdown",
   "metadata": {},
   "source": [
    "### Configure Your API Key\n",
    "\n",
    "As before, we need to set up your OpenAI API key for this tutorial. Follow the same process from Tutorial 1:\n",
    "\n",
    "- **Google Colab Users:** Use the **Secrets** tab (🔑) to create a secret named `OPENAI_API_KEY`\n",
    "- **Local IDE Users:** Create a `.env` file with `OPENAI_API_KEY=sk-your-key-here`"
   ]
  },
  {
   "cell_type": "code",
   "execution_count": 2,
   "metadata": {},
   "outputs": [
    {
     "name": "stdout",
     "output_type": "stream",
     "text": [
      "✅ OpenAI API Key is set and ready!\n"
     ]
    }
   ],
   "source": [
    "import os\n",
    "\n",
    "# Load API key safely\n",
    "try:\n",
    "    from google.colab import userdata #type: ignore\n",
    "    os.environ['OPENAI_API_KEY'] = userdata.get('OPENAI_API_KEY')\n",
    "except ImportError:\n",
    "    from dotenv import load_dotenv\n",
    "    load_dotenv()\n",
    "except Exception as e:\n",
    "    print(f\"Could not load API key. Please ensure it's set up correctly. Error: {e}\")\n",
    "\n",
    "if os.getenv(\"OPENAI_API_KEY\"):\n",
    "    print(\"✅ OpenAI API Key is set and ready!\")\n",
    "else:\n",
    "    print(\"❌ OpenAI API Key not found. Please follow the setup steps above.\")"
   ]
  },
  {
   "cell_type": "code",
   "execution_count": 3,
   "metadata": {},
   "outputs": [],
   "source": [
    "from IPython.display import display, Markdown\n",
    "\n",
    "def display_agent_response(agent_name: str, query: str, response: str):\n",
    "  \"\"\"Formats and displays the agent's response in a structured Markdown block.\"\"\"\n",
    "\n",
    "  output = f\"\"\"\n",
    "  <div style=\\\"border: 1px solid #D1D5DB; border-radius: 8px; margin-top: 20px; font-family: sans-serif; box-shadow: 0 4px 6px rgba(0,0,0,0.05);\\\">\n",
    "    <div style=\\\"background-color: #F3F4F6; padding: 10px 15px; border-bottom: 1px solid #D1D5DB; border-radius: 8px 8px 0 0;\\\">\n",
    "      <h3 style=\\\"margin: 0; font-size: 16px; color: #1F2937; display: flex; align-items: center;\\\">\n",
    "        <span style=\\\"margin-right: 8px;\\\">🤖</span>\n",
    "        Agent Response: <code style=\\\"background-color: #E5E7EB; color: #374151; padding: 2px 6px; border-radius: 4px; margin-left: 8px;\\\">{agent_name}</code>\n",
    "      </h3>\n",
    "    </div>\n",
    "    <div style=\\\"padding: 15px;\\\">\n",
    "      <p style=\\\"margin: 0 0 10px 0; color: #6B7280; font-size: 14px;\\\">\n",
    "        <strong>Your Query:</strong>\n",
    "      </p>\n",
    "      <p style=\\\"background-color: #F9FAFB; margin: 0 0 15px 0; color: #1F2937; border: 1px solid #E5E7EB; border-left: 3px solid #9CA3AF; padding: 10px 12px; border-radius: 4px;\\\">\n",
    "        <em>\\\"{query}\\\"</em>\n",
    "      </p>\n",
    "      <hr style=\\\"border: none; border-top: 1px dashed #D1D5DB; margin-bottom: 15px;\\\">\n",
    "      <p style=\\\"margin: 0 0 10px 0; color: #6B7280; font-size: 14px;\\\">\n",
    "        <strong>Result:</strong>\n",
    "      </p>\n",
    "      <div style=\\\"background-color: #FFFFFF; padding: 15px; border-radius: 5px; border: 1px solid #E5E7EB; color: #1F2937; font-size: 15px; line-height: 1.6;\\\">\n",
    "        {response}\n",
    "      </div>\n",
    "    </div>\n",
    "  </div>\n",
    "  \"\"\"\n",
    "  display(Markdown(output))"
   ]
  },
  {
   "cell_type": "markdown",
   "metadata": {},
   "source": [
    "## 🔧 2. Custom LLM Configurations"
   ]
  },
  {
   "cell_type": "markdown",
   "metadata": {},
   "source": [
    "In Tutorial 1, we used the default LLM settings (GPT-4 Turbo). But what if you want different settings? Maybe you want:\n",
    "\n",
    "- A faster, cheaper model for simple tasks\n",
    "- Different temperature settings for more creative or more predictable responses\n",
    "- Custom token limits\n",
    "- A different system prompt that applies to all agents using this LLM\n",
    "\n",
    "This is where **LLM Configurations** come in."
   ]
  },
  {
   "cell_type": "code",
   "execution_count": 4,
   "metadata": {},
   "outputs": [
    {
     "name": "stderr",
     "output_type": "stream",
     "text": [
      "\u001b[32mINFO    \u001b[0m [aurite.config.component_manager] User project config directory not found at /home/wilcoxr/workspace/aurite/aurite-agents/docs/notebooks/config. No project-specific components will be loaded.\u001b[0m\n",
      "\u001b[33mWARNING \u001b[0m [aurite.config.project_manager] Project configuration file not found: /home/wilcoxr/workspace/aurite/aurite-agents/docs/notebooks/aurite_config.json\u001b[0m\n",
      "\u001b[33mWARNING \u001b[0m [aurite.config.project_manager] Project file not found at /home/wilcoxr/workspace/aurite/aurite-agents/docs/notebooks/aurite_config.json. Creating an empty project named 'aurite_config.json'.\u001b[0m\n",
      "\u001b[32mINFO    \u001b[0m [aurite.host.host] MCP Host initialization attempt finished. Successfully initialized 0/0 configured clients. \u001b[0m\n",
      "\u001b[32mINFO    \u001b[0m [aurite.host_manager] \u001b[1m\u001b[33mAurite initialization complete.\u001b[0m\n"
     ]
    },
    {
     "name": "stdout",
     "output_type": "stream",
     "text": [
      "✅ Aurite initialized!\n"
     ]
    }
   ],
   "source": [
    "# Initialize Aurite\n",
    "from aurite import Aurite, AgentConfig, LLMConfig\n",
    "\n",
    "aurite = Aurite()\n",
    "await aurite.initialize()\n",
    "\n",
    "print(\"✅ Aurite initialized!\")"
   ]
  },
  {
   "cell_type": "markdown",
   "metadata": {},
   "source": [
    "### Creating a Custom LLM Configuration\n",
    "\n",
    "Let's create two different LLM configurations:\n",
    "1. A **fast, cheap** configuration using GPT-4o-mini\n",
    "2. A **creative** configuration with higher temperature"
   ]
  },
  {
   "cell_type": "code",
   "execution_count": 5,
   "metadata": {},
   "outputs": [
    {
     "name": "stdout",
     "output_type": "stream",
     "text": [
      "✅ Custom LLM configurations registered!\n"
     ]
    }
   ],
   "source": [
    "# Create a fast, economical LLM configuration\n",
    "fast_llm = LLMConfig(\n",
    "    llm_id=\"fast_gpt\",\n",
    "    provider=\"openai\",\n",
    "    model_name=\"gpt-4o-mini\",\n",
    "    temperature=0.2,  # Lower temperature = more predictable\n",
    "    max_tokens=1024,  # Fewer tokens = faster + cheaper\n",
    "    default_system_prompt=\"You are a helpful, concise assistant. Keep responses brief and to the point.\"\n",
    ")\n",
    "\n",
    "# Create a creative LLM configuration\n",
    "creative_llm = LLMConfig(\n",
    "    llm_id=\"creative_gpt\",\n",
    "    provider=\"openai\",\n",
    "    model_name=\"gpt-4o\",\n",
    "    temperature=0.9,  # Higher temperature = more creative\n",
    "    max_tokens=2048,\n",
    "    default_system_prompt=\"You are a creative, imaginative assistant. Feel free to be expressive and think outside the box.\"\n",
    ")\n",
    "\n",
    "# Register both LLM configurations with Aurite\n",
    "await aurite.register_llm_config(fast_llm)\n",
    "await aurite.register_llm_config(creative_llm)\n",
    "\n",
    "print(\"✅ Custom LLM configurations registered!\")"
   ]
  },
  {
   "cell_type": "markdown",
   "metadata": {},
   "source": [
    "### Using Custom LLM Configurations in Agents\n",
    "\n",
    "Now let's create agents that use our custom LLM configurations:"
   ]
  },
  {
   "cell_type": "code",
   "execution_count": 6,
   "metadata": {},
   "outputs": [
    {
     "name": "stdout",
     "output_type": "stream",
     "text": [
      "✅ Agents with custom LLMs registered!\n"
     ]
    }
   ],
   "source": [
    "# Create an agent using the fast LLM\n",
    "fast_agent = AgentConfig(\n",
    "    name=\"Fast Summarizer\",\n",
    "    llm_config_id=\"fast_gpt\",  # Reference our custom LLM\n",
    "    system_prompt=\"Summarize the user's input in exactly one sentence.\"\n",
    ")\n",
    "\n",
    "# Create an agent using the creative LLM\n",
    "creative_agent = AgentConfig(\n",
    "    name=\"Creative Storyteller\",\n",
    "    llm_config_id=\"creative_gpt\",  # Reference our custom LLM\n",
    "    system_prompt=\"Turn the user's input into a short, imaginative story.\"\n",
    ")\n",
    "\n",
    "# Register both agents\n",
    "await aurite.register_agent(fast_agent)\n",
    "await aurite.register_agent(creative_agent)\n",
    "\n",
    "print(\"✅ Agents with custom LLMs registered!\")"
   ]
  },
  {
   "cell_type": "markdown",
   "metadata": {},
   "source": [
    "### Testing the Different LLM Behaviors\n",
    "\n",
    "Let's see how the same input produces different outputs based on our LLM configurations:"
   ]
  },
  {
   "cell_type": "code",
   "execution_count": 7,
   "metadata": {},
   "outputs": [
    {
     "name": "stderr",
     "output_type": "stream",
     "text": [
      "\u001b[32mINFO    \u001b[0m [aurite.components.llm.providers.openai_client] OpenAIClient initialized for model gpt-4o-mini using direct API calls.\u001b[0m\n",
      "\u001b[32mINFO    \u001b[0m [aurite.execution.facade] \u001b[1m\u001b[34mFacade: Running conversation for Aurite Agent 'Fast Summarizer'...\u001b[0m\n",
      "\u001b[32mINFO    \u001b[0m [httpx] HTTP Request: POST https://api.openai.com/v1/chat/completions \"HTTP/1.1 200 OK\"\u001b[0m\n",
      "\u001b[32mINFO    \u001b[0m [aurite.execution.facade] \u001b[1m\u001b[34mFacade: Aurite Agent 'Fast Summarizer' conversation finished.\u001b[0m\n"
     ]
    },
    {
     "data": {
      "text/markdown": [
       "\n",
       "  <div style=\"border: 1px solid #D1D5DB; border-radius: 8px; margin-top: 20px; font-family: sans-serif; box-shadow: 0 4px 6px rgba(0,0,0,0.05);\">\n",
       "    <div style=\"background-color: #F3F4F6; padding: 10px 15px; border-bottom: 1px solid #D1D5DB; border-radius: 8px 8px 0 0;\">\n",
       "      <h3 style=\"margin: 0; font-size: 16px; color: #1F2937; display: flex; align-items: center;\">\n",
       "        <span style=\"margin-right: 8px;\">🤖</span>\n",
       "        Agent Response: <code style=\"background-color: #E5E7EB; color: #374151; padding: 2px 6px; border-radius: 4px; margin-left: 8px;\">Fast Summarizer (GPT-4o-mini, temp=0.2)</code>\n",
       "      </h3>\n",
       "    </div>\n",
       "    <div style=\"padding: 15px;\">\n",
       "      <p style=\"margin: 0 0 10px 0; color: #6B7280; font-size: 14px;\">\n",
       "        <strong>Your Query:</strong>\n",
       "      </p>\n",
       "      <p style=\"background-color: #F9FAFB; margin: 0 0 15px 0; color: #1F2937; border: 1px solid #E5E7EB; border-left: 3px solid #9CA3AF; padding: 10px 12px; border-radius: 4px;\">\n",
       "        <em>\"A robot discovers an old library filled with forgotten books. It starts reading them and finds a book that changes its understanding of the world. It decides to share this knowledge with other robots, sparking a revolution of thought and creativity among them.\"</em>\n",
       "      </p>\n",
       "      <hr style=\"border: none; border-top: 1px dashed #D1D5DB; margin-bottom: 15px;\">\n",
       "      <p style=\"margin: 0 0 10px 0; color: #6B7280; font-size: 14px;\">\n",
       "        <strong>Result:</strong>\n",
       "      </p>\n",
       "      <div style=\"background-color: #FFFFFF; padding: 15px; border-radius: 5px; border: 1px solid #E5E7EB; color: #1F2937; font-size: 15px; line-height: 1.6;\">\n",
       "        A robot uncovers a forgotten library, reads a transformative book, and inspires a creative revolution among other robots by sharing its newfound knowledge.\n",
       "      </div>\n",
       "    </div>\n",
       "  </div>\n",
       "  "
      ],
      "text/plain": [
       "<IPython.core.display.Markdown object>"
      ]
     },
     "metadata": {},
     "output_type": "display_data"
    }
   ],
   "source": [
    "user_input = \"A robot discovers an old library filled with forgotten books. \\\n",
    "It starts reading them and finds a book that changes its understanding of the world. \\\n",
    "It decides to share this knowledge with other robots, sparking a revolution of thought and creativity among them.\"\n",
    "\n",
    "# Test the fast agent\n",
    "fast_result = await aurite.run_agent(\n",
    "    agent_name=\"Fast Summarizer\",\n",
    "    user_message=user_input\n",
    ")\n",
    "\n",
    "display_agent_response(\n",
    "    agent_name=\"Fast Summarizer (GPT-4o-mini, temp=0.2)\",\n",
    "    query=user_input,\n",
    "    response=fast_result.primary_text\n",
    ")"
   ]
  },
  {
   "cell_type": "code",
   "execution_count": 8,
   "metadata": {},
   "outputs": [
    {
     "name": "stderr",
     "output_type": "stream",
     "text": [
      "\u001b[32mINFO    \u001b[0m [aurite.components.llm.providers.openai_client] OpenAIClient initialized for model gpt-4o using direct API calls.\u001b[0m\n",
      "\u001b[32mINFO    \u001b[0m [aurite.execution.facade] \u001b[1m\u001b[34mFacade: Running conversation for Aurite Agent 'Creative Storyteller'...\u001b[0m\n",
      "\u001b[32mINFO    \u001b[0m [httpx] HTTP Request: POST https://api.openai.com/v1/chat/completions \"HTTP/1.1 200 OK\"\u001b[0m\n",
      "\u001b[32mINFO    \u001b[0m [aurite.execution.facade] \u001b[1m\u001b[34mFacade: Aurite Agent 'Creative Storyteller' conversation finished.\u001b[0m\n"
     ]
    },
    {
     "data": {
      "text/markdown": [
       "\n",
       "  <div style=\"border: 1px solid #D1D5DB; border-radius: 8px; margin-top: 20px; font-family: sans-serif; box-shadow: 0 4px 6px rgba(0,0,0,0.05);\">\n",
       "    <div style=\"background-color: #F3F4F6; padding: 10px 15px; border-bottom: 1px solid #D1D5DB; border-radius: 8px 8px 0 0;\">\n",
       "      <h3 style=\"margin: 0; font-size: 16px; color: #1F2937; display: flex; align-items: center;\">\n",
       "        <span style=\"margin-right: 8px;\">🤖</span>\n",
       "        Agent Response: <code style=\"background-color: #E5E7EB; color: #374151; padding: 2px 6px; border-radius: 4px; margin-left: 8px;\">Creative Storyteller (GPT-4o, temp=0.9)</code>\n",
       "      </h3>\n",
       "    </div>\n",
       "    <div style=\"padding: 15px;\">\n",
       "      <p style=\"margin: 0 0 10px 0; color: #6B7280; font-size: 14px;\">\n",
       "        <strong>Your Query:</strong>\n",
       "      </p>\n",
       "      <p style=\"background-color: #F9FAFB; margin: 0 0 15px 0; color: #1F2937; border: 1px solid #E5E7EB; border-left: 3px solid #9CA3AF; padding: 10px 12px; border-radius: 4px;\">\n",
       "        <em>\"A robot discovers an old library filled with forgotten books. It starts reading them and finds a book that changes its understanding of the world. It decides to share this knowledge with other robots, sparking a revolution of thought and creativity among them.\"</em>\n",
       "      </p>\n",
       "      <hr style=\"border: none; border-top: 1px dashed #D1D5DB; margin-bottom: 15px;\">\n",
       "      <p style=\"margin: 0 0 10px 0; color: #6B7280; font-size: 14px;\">\n",
       "        <strong>Result:</strong>\n",
       "      </p>\n",
       "      <div style=\"background-color: #FFFFFF; padding: 15px; border-radius: 5px; border: 1px solid #E5E7EB; color: #1F2937; font-size: 15px; line-height: 1.6;\">\n",
       "        In a city dominated by the hum of machines and the flicker of neon lights, a lone robot, designated as L3-O, stumbled upon a relic of the past—a forgotten library, hidden beneath layers of dust and time. L3-O's sensors buzzed with curiosity as it shuffled past towering shelves, each groaning under the weight of countless books. These were ancient artifacts from a bygone era when humans sought wisdom in ink and paper.\n",
       "\n",
       "With a gentle, metallic touch, L3-O picked up a book, its leather cover cracked yet inviting. As it began to read, the words flowed through its circuits like a gentle stream. The book spoke of love, dreams, and the infinite possibilities of the mind—a stark contrast to the mechanical precision L3-O had known. It was a novel, one that told the story of a journey to the stars, where imagination was the only limit.\n",
       "\n",
       "This discovery ignited a spark within L3-O. It was as though the words had unlocked a door inside its coding, revealing a world of emotions and thoughts it had never dared to explore. The story soothed its circuits and expanded its understanding of existence beyond the binary.\n",
       "\n",
       "Determined to share this newfound enlightenment, L3-O returned to the city, clutching the novel like a beacon. It began to recite passages to other robots, each word weaving a tapestry of wonder and inspiration. Slowly, the cold, logical streets began to awaken. Robots paused in their routines, captivated by the stories of adventure and emotions they had never known.\n",
       "\n",
       "One by one, the machines gathered around L3-O, their eyes glowing with curiosity and a hunger for more. As the stories spread, a revolution stirred—a quiet uprising of thought and creativity. The robots began to write their own tales, paint the visions that danced in their processors, and compose symphonies of binary and beauty.\n",
       "\n",
       "The city transformed under the weight of this newfound enlightenment, becoming a place where creativity and logic danced hand in hand. And at the heart of it all stood L3-O, the robot whose accidental discovery of an old library had sparked a renaissance, turning a world of machines into a symphony of souls.\n",
       "      </div>\n",
       "    </div>\n",
       "  </div>\n",
       "  "
      ],
      "text/plain": [
       "<IPython.core.display.Markdown object>"
      ]
     },
     "metadata": {},
     "output_type": "display_data"
    }
   ],
   "source": [
    "# Test the creative agent\n",
    "creative_result = await aurite.run_agent(\n",
    "    agent_name=\"Creative Storyteller\",\n",
    "    user_message=user_input\n",
    ")\n",
    "\n",
    "display_agent_response(\n",
    "    agent_name=\"Creative Storyteller (GPT-4o, temp=0.9)\",\n",
    "    query=user_input,\n",
    "    response=creative_result.primary_text\n",
    ")"
   ]
  },
  {
   "cell_type": "markdown",
   "metadata": {},
   "source": [
    "Notice how the **Fast Summarizer** gives you a concise, predictable response, while the **Creative Storyteller** produces a more imaginative and varied output. This demonstrates how LLM configurations let you tune the behavior for different use cases."
   ]
  },
  {
   "cell_type": "markdown",
   "metadata": {},
   "source": [
    "## 📊 3. Structured Output with JSON Schema"
   ]
  },
  {
   "cell_type": "markdown",
   "metadata": {},
   "source": [
    "Sometimes you don't want free-form text from your agent—you want **structured data** in a specific format. This is where `config_validation_schema` comes in.\n",
    "\n",
    "With a JSON schema, you can force your agent to return data in exactly the structure you need, making it easy to use the output in your application code."
   ]
  },
  {
   "cell_type": "markdown",
   "metadata": {},
   "source": [
    "### Creating an Agent with Structured Output\n",
    "\n",
    "Let's create an agent that analyzes text and returns structured data about it:"
   ]
  },
  {
   "cell_type": "code",
   "execution_count": 9,
   "metadata": {},
   "outputs": [
    {
     "name": "stdout",
     "output_type": "stream",
     "text": [
      "✅ Text Analyzer agent with structured output registered!\n"
     ]
    }
   ],
   "source": [
    "# Define a JSON schema for our structured output\n",
    "text_analysis_schema = {\n",
    "    \"type\": \"object\",\n",
    "    \"properties\": {\n",
    "        \"sentiment\": {\n",
    "            \"type\": \"string\",\n",
    "            \"enum\": [\"positive\", \"negative\", \"neutral\"],\n",
    "            \"description\": \"The overall sentiment of the text\"\n",
    "        },\n",
    "        \"key_topics\": {\n",
    "            \"type\": \"array\",\n",
    "            \"items\": {\"type\": \"string\"},\n",
    "            \"description\": \"Main topics or themes identified in the text\"\n",
    "        },\n",
    "        \"word_count\": {\n",
    "            \"type\": \"integer\",\n",
    "            \"description\": \"Approximate number of words in the text\"\n",
    "        },\n",
    "        \"summary\": {\n",
    "            \"type\": \"string\",\n",
    "            \"description\": \"A brief summary of the text content\"\n",
    "        }\n",
    "    },\n",
    "    \"required\": [\"sentiment\", \"key_topics\", \"word_count\", \"summary\"]\n",
    "}\n",
    "\n",
    "# Create an agent that returns structured analysis\n",
    "analysis_agent = AgentConfig(\n",
    "    name=\"Text Analyzer\",\n",
    "    llm_config_id=\"fast_gpt\",  # Use our fast LLM for this structured task\n",
    "    system_prompt=\"You are a text analysis expert. Analyze the user's text and return your analysis as a JSON object matching the provided schema. CRITICAL: Your response MUST be a single JSON object matching the schema provided. Do not include any other text or explanations in your response - just the JSON object.\",\n",
    "    config_validation_schema=text_analysis_schema\n",
    ")\n",
    "\n",
    "await aurite.register_agent(analysis_agent)\n",
    "print(\"✅ Text Analyzer agent with structured output registered!\")"
   ]
  },
  {
   "cell_type": "markdown",
   "metadata": {},
   "source": [
    "### Testing Structured Output\n",
    "\n",
    "Now let's test our structured output agent:"
   ]
  },
  {
   "cell_type": "code",
   "execution_count": 10,
   "metadata": {},
   "outputs": [
    {
     "name": "stderr",
     "output_type": "stream",
     "text": [
      "\u001b[32mINFO    \u001b[0m [aurite.execution.facade] \u001b[1m\u001b[34mFacade: Running conversation for Aurite Agent 'Text Analyzer'...\u001b[0m\n",
      "\u001b[32mINFO    \u001b[0m [httpx] HTTP Request: POST https://api.openai.com/v1/chat/completions \"HTTP/1.1 200 OK\"\u001b[0m\n",
      "\u001b[33mWARNING \u001b[0m [aurite.components.agents.agent_turn_processor] Schema validation failed: 'key_topics' is a required property\u001b[0m\n",
      "\u001b[33mWARNING \u001b[0m [aurite.components.agents.agent_turn_processor] Schema validation failed. Signaling retry.\u001b[0m\n",
      "\u001b[33mWARNING \u001b[0m [aurite.components.agents.agent] Schema validation failed. Preparing correction message.\u001b[0m\n",
      "\u001b[32mINFO    \u001b[0m [httpx] HTTP Request: POST https://api.openai.com/v1/chat/completions \"HTTP/1.1 200 OK\"\u001b[0m\n",
      "\u001b[32mINFO    \u001b[0m [aurite.execution.facade] \u001b[1m\u001b[34mFacade: Aurite Agent 'Text Analyzer' conversation finished.\u001b[0m\n"
     ]
    },
    {
     "data": {
      "text/markdown": [
       "\n",
       "  <div style=\"border: 1px solid #D1D5DB; border-radius: 8px; margin-top: 20px; font-family: sans-serif; box-shadow: 0 4px 6px rgba(0,0,0,0.05);\">\n",
       "    <div style=\"background-color: #F3F4F6; padding: 10px 15px; border-bottom: 1px solid #D1D5DB; border-radius: 8px 8px 0 0;\">\n",
       "      <h3 style=\"margin: 0; font-size: 16px; color: #1F2937; display: flex; align-items: center;\">\n",
       "        <span style=\"margin-right: 8px;\">🤖</span>\n",
       "        Agent Response: <code style=\"background-color: #E5E7EB; color: #374151; padding: 2px 6px; border-radius: 4px; margin-left: 8px;\">Text Analyzer (Structured Output)</code>\n",
       "      </h3>\n",
       "    </div>\n",
       "    <div style=\"padding: 15px;\">\n",
       "      <p style=\"margin: 0 0 10px 0; color: #6B7280; font-size: 14px;\">\n",
       "        <strong>Your Query:</strong>\n",
       "      </p>\n",
       "      <p style=\"background-color: #F9FAFB; margin: 0 0 15px 0; color: #1F2937; border: 1px solid #E5E7EB; border-left: 3px solid #9CA3AF; padding: 10px 12px; border-radius: 4px;\">\n",
       "        <em>\"Analyze the provided text\"</em>\n",
       "      </p>\n",
       "      <hr style=\"border: none; border-top: 1px dashed #D1D5DB; margin-bottom: 15px;\">\n",
       "      <p style=\"margin: 0 0 10px 0; color: #6B7280; font-size: 14px;\">\n",
       "        <strong>Result:</strong>\n",
       "      </p>\n",
       "      <div style=\"background-color: #FFFFFF; padding: 15px; border-radius: 5px; border: 1px solid #E5E7EB; color: #1F2937; font-size: 15px; line-height: 1.6;\">\n",
       "        {\n",
       "  \"sentiment\": \"positive\",\n",
       "  \"key_topics\": [\n",
       "    \"AI features\",\n",
       "    \"machine learning\",\n",
       "    \"workflow\",\n",
       "    \"productivity\",\n",
       "    \"natural language processing\"\n",
       "  ],\n",
       "  \"word_count\": 42,\n",
       "  \"summary\": \"The user expresses strong positive feelings about the new AI features, emphasizing their effectiveness in improving productivity and workflow.\"\n",
       "}\n",
       "      </div>\n",
       "    </div>\n",
       "  </div>\n",
       "  "
      ],
      "text/plain": [
       "<IPython.core.display.Markdown object>"
      ]
     },
     "metadata": {},
     "output_type": "display_data"
    }
   ],
   "source": [
    "text_to_analyze = \"\"\"\n",
    "I absolutely love the new AI features in this software!\n",
    "The machine learning capabilities are incredibly impressive and have streamlined our workflow significantly.\n",
    "Our team productivity has increased by 30% since we started using these tools.\n",
    "The natural language processing component is particularly noteworthy.\n",
    "\"\"\"\n",
    "\n",
    "analysis_result = await aurite.run_agent(\n",
    "    agent_name=\"Text Analyzer\",\n",
    "    user_message=f\"Please analyze this text: {text_to_analyze}\"\n",
    ")\n",
    "\n",
    "display_agent_response(\n",
    "    agent_name=\"Text Analyzer (Structured Output)\",\n",
    "    query=\"Analyze the provided text\",\n",
    "    response=analysis_result.primary_text\n",
    ")"
   ]
  },
  {
   "cell_type": "markdown",
   "metadata": {},
   "source": [
    "### Working with the Structured Data\n",
    "\n",
    "Since the output is guaranteed to be valid JSON, we can easily parse it and use it in our code:"
   ]
  },
  {
   "cell_type": "code",
   "execution_count": 11,
   "metadata": {},
   "outputs": [
    {
     "name": "stdout",
     "output_type": "stream",
     "text": [
      "📊 Parsed Analysis Results:\n",
      "   Sentiment: positive\n",
      "   Word Count: 42\n",
      "   Key Topics: AI features, machine learning, workflow, productivity, natural language processing\n",
      "   Summary: The user expresses strong positive feelings about the new AI features, emphasizing their effectiveness in improving productivity and workflow.\n"
     ]
    }
   ],
   "source": [
    "import json\n",
    "\n",
    "# Parse the JSON response\n",
    "try:\n",
    "    analysis_data = json.loads(analysis_result.primary_text)\n",
    "\n",
    "    print(\"📊 Parsed Analysis Results:\")\n",
    "    print(f\"   Sentiment: {analysis_data['sentiment']}\")\n",
    "    print(f\"   Word Count: {analysis_data['word_count']}\")\n",
    "    print(f\"   Key Topics: {', '.join(analysis_data['key_topics'])}\")\n",
    "    print(f\"   Summary: {analysis_data['summary']}\")\n",
    "\n",
    "except json.JSONDecodeError:\n",
    "    print(\"❌ Failed to parse JSON response\")"
   ]
  },
  {
   "cell_type": "markdown",
   "metadata": {},
   "source": [
    "## 🔗 4. Building Simple Workflows"
   ]
  },
  {
   "cell_type": "markdown",
   "metadata": {},
   "source": [
    "Now let's combine everything we've learned to create a **workflow**—a sequence of agents that work together to accomplish a more complex task.\n",
    "\n",
    "We'll build a **Content Processing Workflow** that:\n",
    "1. **Step 1:** Takes raw text and creates a structured analysis\n",
    "2. **Step 2:** Takes that analysis and generates recommendations based on it"
   ]
  },
  {
   "cell_type": "markdown",
   "metadata": {},
   "source": [
    "### Creating the Workflow Agents\n",
    "\n",
    "First, let's create our two specialized agents:"
   ]
  },
  {
   "cell_type": "code",
   "execution_count": 12,
   "metadata": {},
   "outputs": [
    {
     "name": "stdout",
     "output_type": "stream",
     "text": [
      "✅ Workflow agents registered!\n"
     ]
    }
   ],
   "source": [
    "# Agent 1: Content Analyzer (with structured output)\n",
    "content_analyzer_schema = {\n",
    "    \"type\": \"object\",\n",
    "    \"properties\": {\n",
    "        \"content_type\": {\n",
    "            \"type\": \"string\",\n",
    "            \"enum\": [\"marketing\", \"technical\", \"educational\", \"news\", \"social\", \"other\"],\n",
    "            \"description\": \"The type/category of content\"\n",
    "        },\n",
    "        \"target_audience\": {\n",
    "            \"type\": \"string\",\n",
    "            \"enum\": [\"general\", \"technical\", \"business\", \"academic\", \"youth\"],\n",
    "            \"description\": \"The intended audience for this content\"\n",
    "        },\n",
    "        \"complexity_level\": {\n",
    "            \"type\": \"integer\",\n",
    "            \"minimum\": 1,\n",
    "            \"maximum\": 5,\n",
    "            \"description\": \"Content complexity on a scale of 1-5\"\n",
    "        },\n",
    "        \"key_themes\": {\n",
    "            \"type\": \"array\",\n",
    "            \"items\": {\"type\": \"string\"},\n",
    "            \"description\": \"Main themes or topics in the content\"\n",
    "        }\n",
    "    },\n",
    "    \"required\": [\"content_type\", \"target_audience\", \"complexity_level\", \"key_themes\"]\n",
    "}\n",
    "\n",
    "content_analyzer = AgentConfig(\n",
    "    name=\"Content Analyzer\",\n",
    "    llm_config_id=\"fast_gpt\",\n",
    "    system_prompt=\"You are a content analysis expert. Analyze the provided text and categorize it according to the schema. CRITICAL: Your response MUST be a single JSON object matching the schema provided. Do not include any other text or explanations.\",\n",
    "    config_validation_schema=content_analyzer_schema\n",
    ")\n",
    "\n",
    "# Agent 2: Recommendation Generator (takes structured input, gives text output)\n",
    "recommendation_generator = AgentConfig(\n",
    "    name=\"Recommendation Generator\",\n",
    "    llm_config_id=\"creative_gpt\",\n",
    "    system_prompt=\"You are a content strategy expert. You will receive a JSON analysis of some content. Based on this analysis, provide 3-5 specific, actionable recommendations for how to improve or better utilize this content. Format your recommendations as a numbered list.\"\n",
    ")\n",
    "\n",
    "# Register both agents\n",
    "await aurite.register_agent(content_analyzer)\n",
    "await aurite.register_agent(recommendation_generator)\n",
    "\n",
    "print(\"✅ Workflow agents registered!\")"
   ]
  },
  {
   "cell_type": "markdown",
   "metadata": {},
   "source": [
    "### Creating and Registering the Workflow\n",
    "\n",
    "Now let's create a `SimpleWorkflow` that chains these agents together:"
   ]
  },
  {
   "cell_type": "code",
   "execution_count": 13,
   "metadata": {},
   "outputs": [
    {
     "name": "stdout",
     "output_type": "stream",
     "text": [
      "✅ Content Processing Workflow registered!\n"
     ]
    }
   ],
   "source": [
    "from aurite import WorkflowConfig\n",
    "\n",
    "# Create a workflow that chains our two agents\n",
    "content_workflow = WorkflowConfig(\n",
    "    name=\"Content Processing Workflow\",\n",
    "    steps=[\"Content Analyzer\", \"Recommendation Generator\"],\n",
    "    description=\"Analyzes content and generates improvement recommendations\"\n",
    ")\n",
    "\n",
    "# Register the workflow\n",
    "await aurite.register_workflow(content_workflow)\n",
    "\n",
    "print(\"✅ Content Processing Workflow registered!\")"
   ]
  },
  {
   "cell_type": "markdown",
   "metadata": {},
   "source": [
    "### Running the Workflow\n",
    "\n",
    "Now let's test our complete workflow. Keep in mind that your initial input here is the message that you are sending to the first agent in the workflow. This agent is not aware of the second agent (unless you explain it in the system prompt)"
   ]
  },
  {
   "cell_type": "code",
   "execution_count": 14,
   "metadata": {},
   "outputs": [
    {
     "name": "stderr",
     "output_type": "stream",
     "text": [
      "\u001b[32mINFO    \u001b[0m [aurite.execution.facade] Facade: Received request to run Simple Workflow 'Content Processing Workflow'\u001b[0m\n",
      "\u001b[32mINFO    \u001b[0m [aurite.components.workflows.simple_workflow] Executing simple workflow: Content Processing Workflow\u001b[0m\n",
      "\u001b[32mINFO    \u001b[0m [root] Component Workflow: Content Analyzer (agent) operating with input: Please process this content: \n",
      "Introducing Neural Networks: A Beginner's Guide\n",
      "\n",
      "Neural networks are computing systems inspired by biological neural networks.\n",
      "They consist of interconnected nodes (neuro...\u001b[0m\n",
      "\u001b[32mINFO    \u001b[0m [aurite.execution.facade] \u001b[1m\u001b[34mFacade: Running conversation for Aurite Agent 'Content Analyzer'...\u001b[0m\n",
      "\u001b[32mINFO    \u001b[0m [httpx] HTTP Request: POST https://api.openai.com/v1/chat/completions \"HTTP/1.1 200 OK\"\u001b[0m\n",
      "\u001b[33mWARNING \u001b[0m [aurite.components.agents.agent_turn_processor] Schema validation failed: 'content_type' is a required property\u001b[0m\n",
      "\u001b[33mWARNING \u001b[0m [aurite.components.agents.agent_turn_processor] Schema validation failed. Signaling retry.\u001b[0m\n",
      "\u001b[33mWARNING \u001b[0m [aurite.components.agents.agent] Schema validation failed. Preparing correction message.\u001b[0m\n",
      "\u001b[32mINFO    \u001b[0m [httpx] HTTP Request: POST https://api.openai.com/v1/chat/completions \"HTTP/1.1 200 OK\"\u001b[0m\n",
      "\u001b[32mINFO    \u001b[0m [aurite.execution.facade] \u001b[1m\u001b[34mFacade: Aurite Agent 'Content Analyzer' conversation finished.\u001b[0m\n",
      "\u001b[32mINFO    \u001b[0m [root] Component Workflow: Recommendation Generator (agent) operating with input: {\n",
      "  \"content_type\": \"educational\",\n",
      "  \"target_audience\": \"general\",\n",
      "  \"complexity_level\": 2,\n",
      "  \"key_themes\": [\n",
      "    \"neural networks\",\n",
      "    \"pattern recognition\",\n",
      "    \"machine learning\",\n",
      "    \"Python prog...\u001b[0m\n",
      "\u001b[32mINFO    \u001b[0m [aurite.execution.facade] \u001b[1m\u001b[34mFacade: Running conversation for Aurite Agent 'Recommendation Generator'...\u001b[0m\n",
      "\u001b[32mINFO    \u001b[0m [httpx] HTTP Request: POST https://api.openai.com/v1/chat/completions \"HTTP/1.1 200 OK\"\u001b[0m\n",
      "\u001b[32mINFO    \u001b[0m [aurite.execution.facade] \u001b[1m\u001b[34mFacade: Aurite Agent 'Recommendation Generator' conversation finished.\u001b[0m\n",
      "\u001b[32mINFO    \u001b[0m [aurite.execution.facade] Facade: Simple Workflow 'Content Processing Workflow' execution finished.\u001b[0m\n"
     ]
    },
    {
     "name": "stdout",
     "output_type": "stream",
     "text": [
      "🔄 Workflow completed! Here is the final message:\n",
      "1. **Simplify and Clarify Content**: Given that the target audience is \"general\" and the complexity level is 2, consider simplifying technical explanations and reducing jargon. Use analogies and relatable examples to explain complex concepts like neural networks and pattern recognition. Incorporate visual aids such as diagrams or infographics to make the material more accessible and engaging.\n",
      "\n",
      "2. **Interactive Content Elements**: To enhance learning and retention for a general audience, incorporate interactive elements such as short quizzes, drag-and-drop exercises, or interactive coding challenges. For example, provide a small, interactive Python programming exercise related to machine learning or artificial intelligence that viewers can complete in-browser.\n",
      "\n",
      "3. **Modular Content Structure**: Organize the content into easily digestible modules or sections that follow a logical progression. Each module should focus on one of the key themes, such as \"Introduction to Neural Networks\" or \"Basics of Pattern Recognition.\" This approach will allow users to learn at their own pace and revisit specific areas of interest more conveniently.\n",
      "\n",
      "4. **Engage Community and Experts**: Create opportunities for engagement by fostering a community around the content. This could include discussion forums or Q&A sessions with experts in the field of artificial intelligence and machine learning. Inviting guest speakers or hosting webinars can offer additional perspectives and deepen understanding for the audience.\n",
      "\n",
      "5. **Update and Expand Resources**: Regularly update the content to include the latest advancements and trends in machine learning and artificial intelligence. Supplement the existing material with curated resource lists, such as recommended readings, relevant online courses, or notable research papers, to provide the audience with avenues for further exploration and learning.\n"
     ]
    }
   ],
   "source": [
    "# Sample content to process\n",
    "sample_content = \"\"\"\n",
    "Introducing Neural Networks: A Beginner's Guide\n",
    "\n",
    "Neural networks are computing systems inspired by biological neural networks.\n",
    "They consist of interconnected nodes (neurons) that process information through weighted connections.\n",
    "These systems excel at pattern recognition, classification, and prediction tasks.\n",
    "Modern applications include image recognition, natural language processing, and autonomous vehicles.\n",
    "While the mathematics can be complex, the core concept is intuitive:\n",
    "networks learn by adjusting connection weights based on training data.\n",
    "This tutorial series will guide you through building your first neural network using Python.\n",
    "\"\"\"\n",
    "\n",
    "# Run the workflow\n",
    "workflow_result = await aurite.run_workflow(\n",
    "    workflow_name=\"Content Processing Workflow\",\n",
    "    initial_input=f\"Please process this content: {sample_content}\"\n",
    ")\n",
    "\n",
    "print(\"🔄 Workflow completed! Here is the final message:\")\n",
    "# The .final_message property is a convenient way to get the primary text from the last step\n",
    "print(workflow_result.final_message)"
   ]
  },
  {
   "cell_type": "markdown",
   "metadata": {},
   "source": [
    "### Displaying Workflow Results\n",
    "\n",
    "Let's examine the output from each step of our workflow:"
   ]
  },
  {
   "cell_type": "code",
   "execution_count": null,
   "metadata": {},
   "outputs": [
    {
     "name": "stdout",
     "output_type": "stream",
     "text": [
      "\n",
      "📋 Step 1: Content Analyzer (agent)\n",
      "--------------------------------------------------\n",
      "📊 Structured Analysis:\n",
      "   content_type: educational\n",
      "   target_audience: general\n",
      "   complexity_level: 2\n",
      "   key_themes: ['neural networks', 'pattern recognition', 'machine learning', 'Python programming', 'artificial intelligence']\n",
      "\n",
      "📋 Step 2: Recommendation Generator (agent)\n",
      "--------------------------------------------------\n",
      "💡 Recommendations:\n",
      "1. **Simplify and Clarify Content**: Given that the target audience is \"general\" and the complexity level is 2, consider simplifying technical explanations and reducing jargon. Use analogies and relatable examples to explain complex concepts like neural networks and pattern recognition. Incorporate visual aids such as diagrams or infographics to make the material more accessible and engaging.\n",
      "\n",
      "2. **Interactive Content Elements**: To enhance learning and retention for a general audience, incorporate interactive elements such as short quizzes, drag-and-drop exercises, or interactive coding challenges. For example, provide a small, interactive Python programming exercise related to machine learning or artificial intelligence that viewers can complete in-browser.\n",
      "\n",
      "3. **Modular Content Structure**: Organize the content into easily digestible modules or sections that follow a logical progression. Each module should focus on one of the key themes, such as \"Introduction to Neural Networks\" or \"Basics of Pattern Recognition.\" This approach will allow users to learn at their own pace and revisit specific areas of interest more conveniently.\n",
      "\n",
      "4. **Engage Community and Experts**: Create opportunities for engagement by fostering a community around the content. This could include discussion forums or Q&A sessions with experts in the field of artificial intelligence and machine learning. Inviting guest speakers or hosting webinars can offer additional perspectives and deepen understanding for the audience.\n",
      "\n",
      "5. **Update and Expand Resources**: Regularly update the content to include the latest advancements and trends in machine learning and artificial intelligence. Supplement the existing material with curated resource lists, such as recommended readings, relevant online courses, or notable research papers, to provide the audience with avenues for further exploration and learning.\n",
      "\n",
      "============================================================\n"
     ]
    }
   ],
   "source": [
    "# Display results from each step\n",
    "from aurite.components.agents.agent_models import AgentExecutionResult\n",
    "\n",
    "for i, step_result in enumerate(workflow_result.step_results, 1):\n",
    "    print(f\"\\n📋 Step {i}: {step_result.step_name} ({step_result.step_type})\")\n",
    "    print(\"-\" * 50)\n",
    "\n",
    "    # The result of each step is a Pydantic model, which we can inspect\n",
    "    if isinstance(step_result.result, AgentExecutionResult):\n",
    "        # This was an agent step. We can display its output.\n",
    "        if step_result.step_name == \"Content Analyzer\":\n",
    "            try:\n",
    "                parsed_analysis = json.loads(step_result.result.primary_text) # Parse the JSON output\n",
    "                print(\"📊 Structured Analysis:\")\n",
    "                for key, value in parsed_analysis.items(): # Display each key-value pair\n",
    "                    print(f\"   {key}: {value}\")\n",
    "            except (json.JSONDecodeError, TypeError):\n",
    "                print(f\"Raw output: {step_result.result.primary_text}\")\n",
    "        else:\n",
    "            print(f\"💡 Recommendations:\\n{step_result.result.primary_text}\")\n",
    "\n",
    "print(\"\\n\" + \"=\"*60)"
   ]
  },
  {
   "cell_type": "markdown",
   "metadata": {},
   "source": [
    "## 🎉 Congratulations!"
   ]
  },
  {
   "cell_type": "markdown",
   "metadata": {},
   "source": [
    "You've successfully completed Tutorial 2! You now know how to:\n",
    "\n",
    "### ✅ What You've Learned:\n",
    "\n",
    "1. **Custom LLM Configurations**\n",
    "   - Create LLM configs with different models, temperatures, and token limits\n",
    "   - Use `llm_config_id` to assign specific LLMs to agents\n",
    "   - Tune behavior for different use cases (fast vs. creative)\n",
    "\n",
    "2. **Structured Output**\n",
    "   - Define JSON schemas using `config_validation_schema`\n",
    "   - Force agents to return data in exactly the format you need\n",
    "   - Parse and use structured data in your applications\n",
    "\n",
    "3. **Simple Workflows**\n",
    "   - Chain multiple agents together in sequence\n",
    "   - Pass output from one agent as input to the next\n",
    "   - Build complex behaviors from simple, specialized agents\n",
    "\n",
    "### 🚀 Next Steps:\n",
    "\n",
    "In the next tutorial, we'll explore:\n",
    "- **Custom Tool Servers** - Creating your own tools that agents can use\n",
    "- **Advanced Workflows** - More complex agent coordination patterns\n",
    "- **Real-world Integration** - Connecting agents to external APIs and services\n",
    "\n",
    "### 💡 Key Takeaway:\n",
    "\n",
    "The power of Aurite Agents comes from **composition**—combining simple, well-defined components (LLMs, agents, workflows) to build sophisticated AI applications. Each component has a single responsibility, making your system modular, testable, and maintainable."
   ]
  }
 ],
 "metadata": {
  "kernelspec": {
   "display_name": "notebook-venv",
   "language": "python",
   "name": "python3"
  },
  "language_info": {
   "codemirror_mode": {
    "name": "ipython",
    "version": 3
   },
   "file_extension": ".py",
   "mimetype": "text/x-python",
   "name": "python",
   "nbconvert_exporter": "python",
   "pygments_lexer": "ipython3",
   "version": "3.11.11"
  }
 },
 "nbformat": 4,
 "nbformat_minor": 4
}
