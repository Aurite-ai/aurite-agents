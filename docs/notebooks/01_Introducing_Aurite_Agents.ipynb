{
 "cells": [
  {
   "cell_type": "markdown",
   "metadata": {},
   "source": [
    "# Welcome to Aurite Agents!"
   ]
  },
  {
   "cell_type": "markdown",
   "metadata": {},
   "source": [
    "This tutorial is the first in a series designed to guide you through building and running your own AI agents. By the end of this notebook, you will have configured and run a simple AI agent that can answer a question using a powerful Large Language Model (LLM).\n",
    "\n",
    "### So, what is Aurite Agents?\n",
    "\n",
    "Think of it as a toolkit for building with AI. It's a Python framework that provides the building blocks to create, manage, and deploy AI agents. It handles the complex parts of interacting with LLMs and external tools, so you can focus on the creative part: defining what your agent does."
   ]
  },
  {
   "cell_type": "markdown",
   "metadata": {},
   "source": [
    "## 1. Setup"
   ]
  },
  {
   "cell_type": "markdown",
   "metadata": {},
   "source": [
    "### Install the `aurite` Python package"
   ]
  },
  {
   "cell_type": "code",
   "execution_count": 1,
   "metadata": {},
   "outputs": [
    {
     "name": "stdout",
     "output_type": "stream",
     "text": [
      "Requirement already satisfied: aurite==0.3.14 in /home/wilcoxr/workspace/aurite/aurite-agents/notebook-venv/lib/python3.11/site-packages (0.3.14)\n",
      "Requirement already satisfied: mcp>=1.8.1 in /home/wilcoxr/workspace/aurite/aurite-agents/notebook-venv/lib/python3.11/site-packages (from aurite==0.3.14) (1.9.3)\n",
      "Requirement already satisfied: httpx>=0.28.1 in /home/wilcoxr/workspace/aurite/aurite-agents/notebook-venv/lib/python3.11/site-packages (from aurite==0.3.14) (0.28.1)\n",
      "Requirement already satisfied: anyio>=4.8.0 in /home/wilcoxr/workspace/aurite/aurite-agents/notebook-venv/lib/python3.11/site-packages (from aurite==0.3.14) (4.9.0)\n",
      "Requirement already satisfied: sqlalchemy>=2.0.39 in /home/wilcoxr/workspace/aurite/aurite-agents/notebook-venv/lib/python3.11/site-packages (from aurite==0.3.14) (2.0.41)\n",
      "Requirement already satisfied: anthropic>=0.49.0 in /home/wilcoxr/workspace/aurite/aurite-agents/notebook-venv/lib/python3.11/site-packages (from aurite==0.3.14) (0.52.2)\n",
      "Requirement already satisfied: annotated-types>=0.7.0 in /home/wilcoxr/workspace/aurite/aurite-agents/notebook-venv/lib/python3.11/site-packages (from aurite==0.3.14) (0.7.0)\n",
      "Requirement already satisfied: certifi>=2025.1.31 in /home/wilcoxr/workspace/aurite/aurite-agents/notebook-venv/lib/python3.11/site-packages (from aurite==0.3.14) (2025.4.26)\n",
      "Requirement already satisfied: cffi>=1.17.1 in /home/wilcoxr/workspace/aurite/aurite-agents/notebook-venv/lib/python3.11/site-packages (from aurite==0.3.14) (1.17.1)\n",
      "Requirement already satisfied: click>=8.1.8 in /home/wilcoxr/workspace/aurite/aurite-agents/notebook-venv/lib/python3.11/site-packages (from aurite==0.3.14) (8.2.1)\n",
      "Requirement already satisfied: cryptography<44,>=41.0.5 in /home/wilcoxr/workspace/aurite/aurite-agents/notebook-venv/lib/python3.11/site-packages (from aurite==0.3.14) (43.0.3)\n",
      "Requirement already satisfied: distro>=1.9.0 in /home/wilcoxr/workspace/aurite/aurite-agents/notebook-venv/lib/python3.11/site-packages (from aurite==0.3.14) (1.9.0)\n",
      "Requirement already satisfied: greenlet>=3.1.1 in /home/wilcoxr/workspace/aurite/aurite-agents/notebook-venv/lib/python3.11/site-packages (from aurite==0.3.14) (3.2.3)\n",
      "Requirement already satisfied: h11>=0.14.0 in /home/wilcoxr/workspace/aurite/aurite-agents/notebook-venv/lib/python3.11/site-packages (from aurite==0.3.14) (0.16.0)\n",
      "Requirement already satisfied: httpcore>=1.0.7 in /home/wilcoxr/workspace/aurite/aurite-agents/notebook-venv/lib/python3.11/site-packages (from aurite==0.3.14) (1.0.9)\n",
      "Requirement already satisfied: httpx-sse>=0.4.0 in /home/wilcoxr/workspace/aurite/aurite-agents/notebook-venv/lib/python3.11/site-packages (from aurite==0.3.14) (0.4.0)\n",
      "Requirement already satisfied: idna>=3.10 in /home/wilcoxr/workspace/aurite/aurite-agents/notebook-venv/lib/python3.11/site-packages (from aurite==0.3.14) (3.10)\n",
      "Requirement already satisfied: iniconfig>=2.0.0 in /home/wilcoxr/workspace/aurite/aurite-agents/notebook-venv/lib/python3.11/site-packages (from aurite==0.3.14) (2.1.0)\n",
      "Requirement already satisfied: packaging>=24.2 in /home/wilcoxr/workspace/aurite/aurite-agents/notebook-venv/lib/python3.11/site-packages (from aurite==0.3.14) (25.0)\n",
      "Requirement already satisfied: colorlog>=6.0.0 in /home/wilcoxr/workspace/aurite/aurite-agents/notebook-venv/lib/python3.11/site-packages (from aurite==0.3.14) (6.9.0)\n",
      "Requirement already satisfied: termcolor>=3.0.0 in /home/wilcoxr/workspace/aurite/aurite-agents/notebook-venv/lib/python3.11/site-packages (from aurite==0.3.14) (3.1.0)\n",
      "Requirement already satisfied: pluggy>=1.5.0 in /home/wilcoxr/workspace/aurite/aurite-agents/notebook-venv/lib/python3.11/site-packages (from aurite==0.3.14) (1.6.0)\n",
      "Requirement already satisfied: psycopg2-binary>=2.9.10 in /home/wilcoxr/workspace/aurite/aurite-agents/notebook-venv/lib/python3.11/site-packages (from aurite==0.3.14) (2.9.10)\n",
      "Requirement already satisfied: alembic>=1.13.1 in /home/wilcoxr/workspace/aurite/aurite-agents/notebook-venv/lib/python3.11/site-packages (from aurite==0.3.14) (1.16.1)\n",
      "Requirement already satisfied: pycparser>=2.22 in /home/wilcoxr/workspace/aurite/aurite-agents/notebook-venv/lib/python3.11/site-packages (from aurite==0.3.14) (2.22)\n",
      "Requirement already satisfied: pydantic>=2.10.6 in /home/wilcoxr/workspace/aurite/aurite-agents/notebook-venv/lib/python3.11/site-packages (from aurite==0.3.14) (2.11.5)\n",
      "Requirement already satisfied: pydantic-settings>=2.8.1 in /home/wilcoxr/workspace/aurite/aurite-agents/notebook-venv/lib/python3.11/site-packages (from aurite==0.3.14) (2.9.1)\n",
      "Requirement already satisfied: pydantic_core>=2.27.2 in /home/wilcoxr/workspace/aurite/aurite-agents/notebook-venv/lib/python3.11/site-packages (from aurite==0.3.14) (2.33.2)\n",
      "Requirement already satisfied: pydub>=0.25.1 in /home/wilcoxr/workspace/aurite/aurite-agents/notebook-venv/lib/python3.11/site-packages (from aurite==0.3.14) (0.25.1)\n",
      "Requirement already satisfied: PyMySQL>=1.1.1 in /home/wilcoxr/workspace/aurite/aurite-agents/notebook-venv/lib/python3.11/site-packages (from aurite==0.3.14) (1.1.1)\n",
      "Requirement already satisfied: python-dateutil>=2.9.0.post0 in /home/wilcoxr/workspace/aurite/aurite-agents/notebook-venv/lib/python3.11/site-packages (from aurite==0.3.14) (2.9.0.post0)\n",
      "Requirement already satisfied: openai-agents-mcp in /home/wilcoxr/workspace/aurite/aurite-agents/notebook-venv/lib/python3.11/site-packages (from aurite==0.3.14) (0.0.8)\n",
      "Requirement already satisfied: python-dotenv>=1.0.1 in /home/wilcoxr/workspace/aurite/aurite-agents/notebook-venv/lib/python3.11/site-packages (from aurite==0.3.14) (1.1.0)\n",
      "Requirement already satisfied: pytz>=2024.1 in /home/wilcoxr/workspace/aurite/aurite-agents/notebook-venv/lib/python3.11/site-packages (from aurite==0.3.14) (2025.2)\n",
      "Requirement already satisfied: pyyaml>=6.0.2 in /home/wilcoxr/workspace/aurite/aurite-agents/notebook-venv/lib/python3.11/site-packages (from aurite==0.3.14) (6.0.2)\n",
      "Requirement already satisfied: redis>=5.0.0 in /home/wilcoxr/workspace/aurite/aurite-agents/notebook-venv/lib/python3.11/site-packages (from aurite==0.3.14) (6.2.0)\n",
      "Requirement already satisfied: six>=1.17.0 in /home/wilcoxr/workspace/aurite/aurite-agents/notebook-venv/lib/python3.11/site-packages (from aurite==0.3.14) (1.17.0)\n",
      "Requirement already satisfied: sniffio>=1.3.1 in /home/wilcoxr/workspace/aurite/aurite-agents/notebook-venv/lib/python3.11/site-packages (from aurite==0.3.14) (1.3.1)\n",
      "Requirement already satisfied: jsonschema in /home/wilcoxr/workspace/aurite/aurite-agents/notebook-venv/lib/python3.11/site-packages (from aurite==0.3.14) (4.24.0)\n",
      "Requirement already satisfied: sse-starlette>=2.2.1 in /home/wilcoxr/workspace/aurite/aurite-agents/notebook-venv/lib/python3.11/site-packages (from aurite==0.3.14) (2.3.6)\n",
      "Requirement already satisfied: starlette>=0.46.1 in /home/wilcoxr/workspace/aurite/aurite-agents/notebook-venv/lib/python3.11/site-packages (from aurite==0.3.14) (0.46.2)\n",
      "Requirement already satisfied: typing_extensions>=4.12.2 in /home/wilcoxr/workspace/aurite/aurite-agents/notebook-venv/lib/python3.11/site-packages (from aurite==0.3.14) (4.14.0)\n",
      "Requirement already satisfied: typer>=0.9.0 in /home/wilcoxr/workspace/aurite/aurite-agents/notebook-venv/lib/python3.11/site-packages (from aurite==0.3.14) (0.16.0)\n",
      "Requirement already satisfied: tzdata>=2025.1 in /home/wilcoxr/workspace/aurite/aurite-agents/notebook-venv/lib/python3.11/site-packages (from aurite==0.3.14) (2025.2)\n",
      "Requirement already satisfied: uvicorn>=0.34.0 in /home/wilcoxr/workspace/aurite/aurite-agents/notebook-venv/lib/python3.11/site-packages (from aurite==0.3.14) (0.34.3)\n",
      "Requirement already satisfied: fastapi in /home/wilcoxr/workspace/aurite/aurite-agents/notebook-venv/lib/python3.11/site-packages (from aurite==0.3.14) (0.115.12)\n",
      "Requirement already satisfied: google-cloud-secret-manager>=2.19.0 in /home/wilcoxr/workspace/aurite/aurite-agents/notebook-venv/lib/python3.11/site-packages (from aurite==0.3.14) (2.24.0)\n",
      "Requirement already satisfied: Mako in /home/wilcoxr/workspace/aurite/aurite-agents/notebook-venv/lib/python3.11/site-packages (from alembic>=1.13.1->aurite==0.3.14) (1.3.10)\n",
      "Requirement already satisfied: jiter<1,>=0.4.0 in /home/wilcoxr/workspace/aurite/aurite-agents/notebook-venv/lib/python3.11/site-packages (from anthropic>=0.49.0->aurite==0.3.14) (0.8.2)\n",
      "Requirement already satisfied: typing-inspection>=0.4.0 in /home/wilcoxr/workspace/aurite/aurite-agents/notebook-venv/lib/python3.11/site-packages (from pydantic>=2.10.6->aurite==0.3.14) (0.4.1)\n",
      "Requirement already satisfied: google-api-core!=2.0.*,!=2.1.*,!=2.10.*,!=2.2.*,!=2.3.*,!=2.4.*,!=2.5.*,!=2.6.*,!=2.7.*,!=2.8.*,!=2.9.*,<3.0.0,>=1.34.1 in /home/wilcoxr/workspace/aurite/aurite-agents/notebook-venv/lib/python3.11/site-packages (from google-api-core[grpc]!=2.0.*,!=2.1.*,!=2.10.*,!=2.2.*,!=2.3.*,!=2.4.*,!=2.5.*,!=2.6.*,!=2.7.*,!=2.8.*,!=2.9.*,<3.0.0,>=1.34.1->google-cloud-secret-manager>=2.19.0->aurite==0.3.14) (2.25.0)\n",
      "Requirement already satisfied: google-auth!=2.24.0,!=2.25.0,<3.0.0,>=2.14.1 in /home/wilcoxr/workspace/aurite/aurite-agents/notebook-venv/lib/python3.11/site-packages (from google-cloud-secret-manager>=2.19.0->aurite==0.3.14) (2.40.3)\n",
      "Requirement already satisfied: proto-plus<2.0.0,>=1.22.3 in /home/wilcoxr/workspace/aurite/aurite-agents/notebook-venv/lib/python3.11/site-packages (from google-cloud-secret-manager>=2.19.0->aurite==0.3.14) (1.26.1)\n",
      "Requirement already satisfied: protobuf!=4.21.0,!=4.21.1,!=4.21.2,!=4.21.3,!=4.21.4,!=4.21.5,<7.0.0,>=3.20.2 in /home/wilcoxr/workspace/aurite/aurite-agents/notebook-venv/lib/python3.11/site-packages (from google-cloud-secret-manager>=2.19.0->aurite==0.3.14) (5.29.5)\n",
      "Requirement already satisfied: grpc-google-iam-v1<1.0.0,>=0.14.0 in /home/wilcoxr/workspace/aurite/aurite-agents/notebook-venv/lib/python3.11/site-packages (from google-cloud-secret-manager>=2.19.0->aurite==0.3.14) (0.14.2)\n",
      "Requirement already satisfied: googleapis-common-protos<2.0.0,>=1.56.2 in /home/wilcoxr/workspace/aurite/aurite-agents/notebook-venv/lib/python3.11/site-packages (from google-api-core!=2.0.*,!=2.1.*,!=2.10.*,!=2.2.*,!=2.3.*,!=2.4.*,!=2.5.*,!=2.6.*,!=2.7.*,!=2.8.*,!=2.9.*,<3.0.0,>=1.34.1->google-api-core[grpc]!=2.0.*,!=2.1.*,!=2.10.*,!=2.2.*,!=2.3.*,!=2.4.*,!=2.5.*,!=2.6.*,!=2.7.*,!=2.8.*,!=2.9.*,<3.0.0,>=1.34.1->google-cloud-secret-manager>=2.19.0->aurite==0.3.14) (1.70.0)\n",
      "Requirement already satisfied: requests<3.0.0,>=2.18.0 in /home/wilcoxr/workspace/aurite/aurite-agents/notebook-venv/lib/python3.11/site-packages (from google-api-core!=2.0.*,!=2.1.*,!=2.10.*,!=2.2.*,!=2.3.*,!=2.4.*,!=2.5.*,!=2.6.*,!=2.7.*,!=2.8.*,!=2.9.*,<3.0.0,>=1.34.1->google-api-core[grpc]!=2.0.*,!=2.1.*,!=2.10.*,!=2.2.*,!=2.3.*,!=2.4.*,!=2.5.*,!=2.6.*,!=2.7.*,!=2.8.*,!=2.9.*,<3.0.0,>=1.34.1->google-cloud-secret-manager>=2.19.0->aurite==0.3.14) (2.32.3)\n",
      "Requirement already satisfied: grpcio<2.0.0,>=1.33.2 in /home/wilcoxr/workspace/aurite/aurite-agents/notebook-venv/lib/python3.11/site-packages (from google-api-core[grpc]!=2.0.*,!=2.1.*,!=2.10.*,!=2.2.*,!=2.3.*,!=2.4.*,!=2.5.*,!=2.6.*,!=2.7.*,!=2.8.*,!=2.9.*,<3.0.0,>=1.34.1->google-cloud-secret-manager>=2.19.0->aurite==0.3.14) (1.72.1)\n",
      "Requirement already satisfied: grpcio-status<2.0.0,>=1.33.2 in /home/wilcoxr/workspace/aurite/aurite-agents/notebook-venv/lib/python3.11/site-packages (from google-api-core[grpc]!=2.0.*,!=2.1.*,!=2.10.*,!=2.2.*,!=2.3.*,!=2.4.*,!=2.5.*,!=2.6.*,!=2.7.*,!=2.8.*,!=2.9.*,<3.0.0,>=1.34.1->google-cloud-secret-manager>=2.19.0->aurite==0.3.14) (1.71.0)\n",
      "Requirement already satisfied: cachetools<6.0,>=2.0.0 in /home/wilcoxr/workspace/aurite/aurite-agents/notebook-venv/lib/python3.11/site-packages (from google-auth!=2.24.0,!=2.25.0,<3.0.0,>=2.14.1->google-cloud-secret-manager>=2.19.0->aurite==0.3.14) (5.5.2)\n",
      "Requirement already satisfied: pyasn1-modules>=0.2.1 in /home/wilcoxr/workspace/aurite/aurite-agents/notebook-venv/lib/python3.11/site-packages (from google-auth!=2.24.0,!=2.25.0,<3.0.0,>=2.14.1->google-cloud-secret-manager>=2.19.0->aurite==0.3.14) (0.4.2)\n",
      "Requirement already satisfied: rsa<5,>=3.1.4 in /home/wilcoxr/workspace/aurite/aurite-agents/notebook-venv/lib/python3.11/site-packages (from google-auth!=2.24.0,!=2.25.0,<3.0.0,>=2.14.1->google-cloud-secret-manager>=2.19.0->aurite==0.3.14) (4.9.1)\n",
      "Requirement already satisfied: charset-normalizer<4,>=2 in /home/wilcoxr/workspace/aurite/aurite-agents/notebook-venv/lib/python3.11/site-packages (from requests<3.0.0,>=2.18.0->google-api-core!=2.0.*,!=2.1.*,!=2.10.*,!=2.2.*,!=2.3.*,!=2.4.*,!=2.5.*,!=2.6.*,!=2.7.*,!=2.8.*,!=2.9.*,<3.0.0,>=1.34.1->google-api-core[grpc]!=2.0.*,!=2.1.*,!=2.10.*,!=2.2.*,!=2.3.*,!=2.4.*,!=2.5.*,!=2.6.*,!=2.7.*,!=2.8.*,!=2.9.*,<3.0.0,>=1.34.1->google-cloud-secret-manager>=2.19.0->aurite==0.3.14) (3.4.2)\n",
      "Requirement already satisfied: urllib3<3,>=1.21.1 in /home/wilcoxr/workspace/aurite/aurite-agents/notebook-venv/lib/python3.11/site-packages (from requests<3.0.0,>=2.18.0->google-api-core!=2.0.*,!=2.1.*,!=2.10.*,!=2.2.*,!=2.3.*,!=2.4.*,!=2.5.*,!=2.6.*,!=2.7.*,!=2.8.*,!=2.9.*,<3.0.0,>=1.34.1->google-api-core[grpc]!=2.0.*,!=2.1.*,!=2.10.*,!=2.2.*,!=2.3.*,!=2.4.*,!=2.5.*,!=2.6.*,!=2.7.*,!=2.8.*,!=2.9.*,<3.0.0,>=1.34.1->google-cloud-secret-manager>=2.19.0->aurite==0.3.14) (2.4.0)\n",
      "Requirement already satisfied: pyasn1>=0.1.3 in /home/wilcoxr/workspace/aurite/aurite-agents/notebook-venv/lib/python3.11/site-packages (from rsa<5,>=3.1.4->google-auth!=2.24.0,!=2.25.0,<3.0.0,>=2.14.1->google-cloud-secret-manager>=2.19.0->aurite==0.3.14) (0.6.1)\n",
      "Requirement already satisfied: python-multipart>=0.0.9 in /home/wilcoxr/workspace/aurite/aurite-agents/notebook-venv/lib/python3.11/site-packages (from mcp>=1.8.1->aurite==0.3.14) (0.0.20)\n",
      "Requirement already satisfied: shellingham>=1.3.0 in /home/wilcoxr/workspace/aurite/aurite-agents/notebook-venv/lib/python3.11/site-packages (from typer>=0.9.0->aurite==0.3.14) (1.5.4)\n",
      "Requirement already satisfied: rich>=10.11.0 in /home/wilcoxr/workspace/aurite/aurite-agents/notebook-venv/lib/python3.11/site-packages (from typer>=0.9.0->aurite==0.3.14) (13.9.4)\n",
      "Requirement already satisfied: markdown-it-py>=2.2.0 in /home/wilcoxr/workspace/aurite/aurite-agents/notebook-venv/lib/python3.11/site-packages (from rich>=10.11.0->typer>=0.9.0->aurite==0.3.14) (3.0.0)\n",
      "Requirement already satisfied: pygments<3.0.0,>=2.13.0 in /home/wilcoxr/workspace/aurite/aurite-agents/notebook-venv/lib/python3.11/site-packages (from rich>=10.11.0->typer>=0.9.0->aurite==0.3.14) (2.19.1)\n",
      "Requirement already satisfied: mdurl~=0.1 in /home/wilcoxr/workspace/aurite/aurite-agents/notebook-venv/lib/python3.11/site-packages (from markdown-it-py>=2.2.0->rich>=10.11.0->typer>=0.9.0->aurite==0.3.14) (0.1.2)\n",
      "Requirement already satisfied: attrs>=22.2.0 in /home/wilcoxr/workspace/aurite/aurite-agents/notebook-venv/lib/python3.11/site-packages (from jsonschema->aurite==0.3.14) (25.3.0)\n",
      "Requirement already satisfied: jsonschema-specifications>=2023.03.6 in /home/wilcoxr/workspace/aurite/aurite-agents/notebook-venv/lib/python3.11/site-packages (from jsonschema->aurite==0.3.14) (2025.4.1)\n",
      "Requirement already satisfied: referencing>=0.28.4 in /home/wilcoxr/workspace/aurite/aurite-agents/notebook-venv/lib/python3.11/site-packages (from jsonschema->aurite==0.3.14) (0.36.2)\n",
      "Requirement already satisfied: rpds-py>=0.7.1 in /home/wilcoxr/workspace/aurite/aurite-agents/notebook-venv/lib/python3.11/site-packages (from jsonschema->aurite==0.3.14) (0.25.1)\n",
      "Requirement already satisfied: MarkupSafe>=0.9.2 in /home/wilcoxr/workspace/aurite/aurite-agents/notebook-venv/lib/python3.11/site-packages (from Mako->alembic>=1.13.1->aurite==0.3.14) (3.0.2)\n",
      "Requirement already satisfied: mcp-agent>=0.0.13 in /home/wilcoxr/workspace/aurite/aurite-agents/notebook-venv/lib/python3.11/site-packages (from openai-agents-mcp->aurite==0.3.14) (0.1.1)\n",
      "Requirement already satisfied: openai-agents>=0.0.5 in /home/wilcoxr/workspace/aurite/aurite-agents/notebook-venv/lib/python3.11/site-packages (from openai-agents-mcp->aurite==0.3.14) (0.0.17)\n",
      "Requirement already satisfied: aiohttp>=3.11.13 in /home/wilcoxr/workspace/aurite/aurite-agents/notebook-venv/lib/python3.11/site-packages (from mcp-agent>=0.0.13->openai-agents-mcp->aurite==0.3.14) (3.12.11)\n",
      "Requirement already satisfied: instructor>=1.7.9 in /home/wilcoxr/workspace/aurite/aurite-agents/notebook-venv/lib/python3.11/site-packages (from mcp-agent>=0.0.13->openai-agents-mcp->aurite==0.3.14) (1.8.3)\n",
      "Requirement already satisfied: numpy>=2.1.3 in /home/wilcoxr/workspace/aurite/aurite-agents/notebook-venv/lib/python3.11/site-packages (from mcp-agent>=0.0.13->openai-agents-mcp->aurite==0.3.14) (2.3.0)\n",
      "Requirement already satisfied: opentelemetry-distro>=0.50b0 in /home/wilcoxr/workspace/aurite/aurite-agents/notebook-venv/lib/python3.11/site-packages (from mcp-agent>=0.0.13->openai-agents-mcp->aurite==0.3.14) (0.55b0)\n",
      "Requirement already satisfied: opentelemetry-exporter-otlp-proto-http>=1.29.0 in /home/wilcoxr/workspace/aurite/aurite-agents/notebook-venv/lib/python3.11/site-packages (from mcp-agent>=0.0.13->openai-agents-mcp->aurite==0.3.14) (1.34.0)\n",
      "Requirement already satisfied: opentelemetry-instrumentation-anthropic>=0.39.3 in /home/wilcoxr/workspace/aurite/aurite-agents/notebook-venv/lib/python3.11/site-packages (from mcp-agent>=0.0.13->openai-agents-mcp->aurite==0.3.14) (0.40.7)\n",
      "Requirement already satisfied: opentelemetry-instrumentation-openai>=0.39.3 in /home/wilcoxr/workspace/aurite/aurite-agents/notebook-venv/lib/python3.11/site-packages (from mcp-agent>=0.0.13->openai-agents-mcp->aurite==0.3.14) (0.40.7)\n",
      "Requirement already satisfied: prompt-toolkit>=3.0.50 in /home/wilcoxr/workspace/aurite/aurite-agents/notebook-venv/lib/python3.11/site-packages (from mcp-agent>=0.0.13->openai-agents-mcp->aurite==0.3.14) (3.0.51)\n",
      "Requirement already satisfied: scikit-learn>=1.6.0 in /home/wilcoxr/workspace/aurite/aurite-agents/notebook-venv/lib/python3.11/site-packages (from mcp-agent>=0.0.13->openai-agents-mcp->aurite==0.3.14) (1.7.0)\n",
      "Requirement already satisfied: websockets>=12.0 in /home/wilcoxr/workspace/aurite/aurite-agents/notebook-venv/lib/python3.11/site-packages (from mcp-agent>=0.0.13->openai-agents-mcp->aurite==0.3.14) (15.0.1)\n",
      "Requirement already satisfied: aiohappyeyeballs>=2.5.0 in /home/wilcoxr/workspace/aurite/aurite-agents/notebook-venv/lib/python3.11/site-packages (from aiohttp>=3.11.13->mcp-agent>=0.0.13->openai-agents-mcp->aurite==0.3.14) (2.6.1)\n",
      "Requirement already satisfied: aiosignal>=1.1.2 in /home/wilcoxr/workspace/aurite/aurite-agents/notebook-venv/lib/python3.11/site-packages (from aiohttp>=3.11.13->mcp-agent>=0.0.13->openai-agents-mcp->aurite==0.3.14) (1.3.2)\n",
      "Requirement already satisfied: frozenlist>=1.1.1 in /home/wilcoxr/workspace/aurite/aurite-agents/notebook-venv/lib/python3.11/site-packages (from aiohttp>=3.11.13->mcp-agent>=0.0.13->openai-agents-mcp->aurite==0.3.14) (1.6.2)\n",
      "Requirement already satisfied: multidict<7.0,>=4.5 in /home/wilcoxr/workspace/aurite/aurite-agents/notebook-venv/lib/python3.11/site-packages (from aiohttp>=3.11.13->mcp-agent>=0.0.13->openai-agents-mcp->aurite==0.3.14) (6.4.4)\n",
      "Requirement already satisfied: propcache>=0.2.0 in /home/wilcoxr/workspace/aurite/aurite-agents/notebook-venv/lib/python3.11/site-packages (from aiohttp>=3.11.13->mcp-agent>=0.0.13->openai-agents-mcp->aurite==0.3.14) (0.3.1)\n",
      "Requirement already satisfied: yarl<2.0,>=1.17.0 in /home/wilcoxr/workspace/aurite/aurite-agents/notebook-venv/lib/python3.11/site-packages (from aiohttp>=3.11.13->mcp-agent>=0.0.13->openai-agents-mcp->aurite==0.3.14) (1.20.0)\n",
      "Requirement already satisfied: docstring-parser<1.0,>=0.16 in /home/wilcoxr/workspace/aurite/aurite-agents/notebook-venv/lib/python3.11/site-packages (from instructor>=1.7.9->mcp-agent>=0.0.13->openai-agents-mcp->aurite==0.3.14) (0.16)\n",
      "Requirement already satisfied: jinja2<4.0.0,>=3.1.4 in /home/wilcoxr/workspace/aurite/aurite-agents/notebook-venv/lib/python3.11/site-packages (from instructor>=1.7.9->mcp-agent>=0.0.13->openai-agents-mcp->aurite==0.3.14) (3.1.6)\n",
      "Requirement already satisfied: openai<2.0.0,>=1.70.0 in /home/wilcoxr/workspace/aurite/aurite-agents/notebook-venv/lib/python3.11/site-packages (from instructor>=1.7.9->mcp-agent>=0.0.13->openai-agents-mcp->aurite==0.3.14) (1.84.0)\n",
      "Requirement already satisfied: tenacity<10.0.0,>=9.0.0 in /home/wilcoxr/workspace/aurite/aurite-agents/notebook-venv/lib/python3.11/site-packages (from instructor>=1.7.9->mcp-agent>=0.0.13->openai-agents-mcp->aurite==0.3.14) (9.1.2)\n",
      "Requirement already satisfied: tqdm>4 in /home/wilcoxr/workspace/aurite/aurite-agents/notebook-venv/lib/python3.11/site-packages (from openai<2.0.0,>=1.70.0->instructor>=1.7.9->mcp-agent>=0.0.13->openai-agents-mcp->aurite==0.3.14) (4.67.1)\n",
      "Requirement already satisfied: griffe<2,>=1.5.6 in /home/wilcoxr/workspace/aurite/aurite-agents/notebook-venv/lib/python3.11/site-packages (from openai-agents>=0.0.5->openai-agents-mcp->aurite==0.3.14) (1.7.3)\n",
      "Requirement already satisfied: types-requests<3,>=2.0 in /home/wilcoxr/workspace/aurite/aurite-agents/notebook-venv/lib/python3.11/site-packages (from openai-agents>=0.0.5->openai-agents-mcp->aurite==0.3.14) (2.32.0.20250602)\n",
      "Requirement already satisfied: colorama>=0.4 in /home/wilcoxr/workspace/aurite/aurite-agents/notebook-venv/lib/python3.11/site-packages (from griffe<2,>=1.5.6->openai-agents>=0.0.5->openai-agents-mcp->aurite==0.3.14) (0.4.6)\n",
      "Requirement already satisfied: opentelemetry-api~=1.12 in /home/wilcoxr/workspace/aurite/aurite-agents/notebook-venv/lib/python3.11/site-packages (from opentelemetry-distro>=0.50b0->mcp-agent>=0.0.13->openai-agents-mcp->aurite==0.3.14) (1.34.0)\n",
      "Requirement already satisfied: opentelemetry-instrumentation==0.55b0 in /home/wilcoxr/workspace/aurite/aurite-agents/notebook-venv/lib/python3.11/site-packages (from opentelemetry-distro>=0.50b0->mcp-agent>=0.0.13->openai-agents-mcp->aurite==0.3.14) (0.55b0)\n",
      "Requirement already satisfied: opentelemetry-sdk~=1.13 in /home/wilcoxr/workspace/aurite/aurite-agents/notebook-venv/lib/python3.11/site-packages (from opentelemetry-distro>=0.50b0->mcp-agent>=0.0.13->openai-agents-mcp->aurite==0.3.14) (1.34.0)\n",
      "Requirement already satisfied: opentelemetry-semantic-conventions==0.55b0 in /home/wilcoxr/workspace/aurite/aurite-agents/notebook-venv/lib/python3.11/site-packages (from opentelemetry-instrumentation==0.55b0->opentelemetry-distro>=0.50b0->mcp-agent>=0.0.13->openai-agents-mcp->aurite==0.3.14) (0.55b0)\n",
      "Requirement already satisfied: wrapt<2.0.0,>=1.0.0 in /home/wilcoxr/workspace/aurite/aurite-agents/notebook-venv/lib/python3.11/site-packages (from opentelemetry-instrumentation==0.55b0->opentelemetry-distro>=0.50b0->mcp-agent>=0.0.13->openai-agents-mcp->aurite==0.3.14) (1.17.2)\n",
      "Requirement already satisfied: importlib-metadata<8.8.0,>=6.0 in /home/wilcoxr/workspace/aurite/aurite-agents/notebook-venv/lib/python3.11/site-packages (from opentelemetry-api~=1.12->opentelemetry-distro>=0.50b0->mcp-agent>=0.0.13->openai-agents-mcp->aurite==0.3.14) (8.7.0)\n",
      "Requirement already satisfied: zipp>=3.20 in /home/wilcoxr/workspace/aurite/aurite-agents/notebook-venv/lib/python3.11/site-packages (from importlib-metadata<8.8.0,>=6.0->opentelemetry-api~=1.12->opentelemetry-distro>=0.50b0->mcp-agent>=0.0.13->openai-agents-mcp->aurite==0.3.14) (3.22.0)\n",
      "Requirement already satisfied: opentelemetry-exporter-otlp-proto-common==1.34.0 in /home/wilcoxr/workspace/aurite/aurite-agents/notebook-venv/lib/python3.11/site-packages (from opentelemetry-exporter-otlp-proto-http>=1.29.0->mcp-agent>=0.0.13->openai-agents-mcp->aurite==0.3.14) (1.34.0)\n",
      "Requirement already satisfied: opentelemetry-proto==1.34.0 in /home/wilcoxr/workspace/aurite/aurite-agents/notebook-venv/lib/python3.11/site-packages (from opentelemetry-exporter-otlp-proto-http>=1.29.0->mcp-agent>=0.0.13->openai-agents-mcp->aurite==0.3.14) (1.34.0)\n",
      "Requirement already satisfied: opentelemetry-semantic-conventions-ai==0.4.9 in /home/wilcoxr/workspace/aurite/aurite-agents/notebook-venv/lib/python3.11/site-packages (from opentelemetry-instrumentation-anthropic>=0.39.3->mcp-agent>=0.0.13->openai-agents-mcp->aurite==0.3.14) (0.4.9)\n",
      "Requirement already satisfied: tiktoken<1,>=0.6.0 in /home/wilcoxr/workspace/aurite/aurite-agents/notebook-venv/lib/python3.11/site-packages (from opentelemetry-instrumentation-openai>=0.39.3->mcp-agent>=0.0.13->openai-agents-mcp->aurite==0.3.14) (0.9.0)\n",
      "Requirement already satisfied: regex>=2022.1.18 in /home/wilcoxr/workspace/aurite/aurite-agents/notebook-venv/lib/python3.11/site-packages (from tiktoken<1,>=0.6.0->opentelemetry-instrumentation-openai>=0.39.3->mcp-agent>=0.0.13->openai-agents-mcp->aurite==0.3.14) (2024.11.6)\n",
      "Requirement already satisfied: wcwidth in /home/wilcoxr/workspace/aurite/aurite-agents/notebook-venv/lib/python3.11/site-packages (from prompt-toolkit>=3.0.50->mcp-agent>=0.0.13->openai-agents-mcp->aurite==0.3.14) (0.2.13)\n",
      "Requirement already satisfied: scipy>=1.8.0 in /home/wilcoxr/workspace/aurite/aurite-agents/notebook-venv/lib/python3.11/site-packages (from scikit-learn>=1.6.0->mcp-agent>=0.0.13->openai-agents-mcp->aurite==0.3.14) (1.15.3)\n",
      "Requirement already satisfied: joblib>=1.2.0 in /home/wilcoxr/workspace/aurite/aurite-agents/notebook-venv/lib/python3.11/site-packages (from scikit-learn>=1.6.0->mcp-agent>=0.0.13->openai-agents-mcp->aurite==0.3.14) (1.5.1)\n",
      "Requirement already satisfied: threadpoolctl>=3.1.0 in /home/wilcoxr/workspace/aurite/aurite-agents/notebook-venv/lib/python3.11/site-packages (from scikit-learn>=1.6.0->mcp-agent>=0.0.13->openai-agents-mcp->aurite==0.3.14) (3.6.0)\n",
      "Note: you may need to restart the kernel to use updated packages.\n"
     ]
    }
   ],
   "source": [
    "%pip install aurite==0.3.14"
   ]
  },
  {
   "cell_type": "markdown",
   "metadata": {},
   "source": [
    "### Configure Your API Key\n",
    "\n",
    "To use a Large Language Model like OpenAI's GPT-4, you need an API key. For security, it's best practice to set this as an environment variable rather than writing it directly in your code.\n",
    "\n",
    "**Obtain an OpenAI API Key:**\n",
    "\n",
    "*   This tutorial uses an OpenAI model (GPT-4 Turbo). To interact with it, you'll need an API key from OpenAI.\n",
    "*   Navigate to https://platform.openai.com/api-keys to create or retrieve your API key.\n",
    "*   **Important:** Copy your new key immediately if you create one and store it in a safe, private place. You may not be able to see it again after closing the creation dialog.\n",
    "*   If you are having trouble obtaining or accessing your API key, see this tutorial for guidance: https://dataaspirant.com/access-openai-api-keys/\n",
    "\n",
    "> ⚠️ **Important: Protect Your Keys**\n",
    "> Your API key is a secret. Treat it like a password. Exposing it can lead to unauthorized use and unexpected charges on your account.\n",
    "\n",
    "**How to set it up:**\n",
    "*   **Google Colab Users:** Use the **Secrets** tab (the key icon 🔑 on the left sidebar). Create a new secret named `OPENAI_API_KEY`, paste your key as the value, and make sure to enable it for this notebook.\n",
    "*   **Local IDE Users (like VS Code):** Create a `.env` file in your root workspace folder (the one you opened in your IDE) and add the line `OPENAI_API_KEY=sk-your-key-here`.\n",
    "\n",
    "> 🔗 **Further Reading**\n",
    "> For a detailed walkthrough on setting up your environment, API keys, and installing the package for local development, see the **[Package Installation Guide](https://publish.obsidian.md/aurite/package_installation_guide)**."
   ]
  },
  {
   "cell_type": "code",
   "execution_count": 2,
   "metadata": {},
   "outputs": [],
   "source": [
    "import os\n",
    "from getpass import getpass\n",
    "\n",
    "try:\n",
    "  from google.colab import userdata #type: ignore\n",
    "  # Fetch the secret value from Colab's secret manager and set it as an environment variable so your script can find it\n",
    "  os.environ['OPENAI_API_KEY'] = userdata.get('OPENAI_API_KEY')\n",
    "except ImportError: # This is not a real error, just a check if running in Colab\n",
    "    from dotenv import load_dotenv\n",
    "    load_dotenv()  # Load environment variables from a .env file if it exists\n",
    "except Exception as e:\n",
    "    print(f\"Error fetching Secrets: {e}\")\n",
    "\n",
    "if \"OPENAI_API_KEY\" not in os.environ:\n",
    "    os.environ[\"OPENAI_API_KEY\"] = getpass(\"Enter your OpenAI API key: \")"
   ]
  },
  {
   "cell_type": "markdown",
   "metadata": {},
   "source": [
    "## 🚀 2. Initialize Aurite & Create Your First Agent"
   ]
  },
  {
   "cell_type": "markdown",
   "metadata": {},
   "source": [
    "First, we need to initialize the `Aurite` class. This is the main entry point for your project. \n",
    "\n",
    "This next step initializes the Aurite framework. It loads the default components, including a pre-configured LLM and some example tools we can use right away."
   ]
  },
  {
   "cell_type": "code",
   "execution_count": 3,
   "metadata": {},
   "outputs": [
    {
     "name": "stderr",
     "output_type": "stream",
     "text": [
      "\u001b[32mINFO    \u001b[0m [aurite.config.component_manager] User project config directory not found at /home/wilcoxr/workspace/aurite/aurite-agents/docs/notebooks/config. No project-specific components will be loaded.\u001b[0m\n",
      "\u001b[33mWARNING \u001b[0m [aurite.config.project_manager] Project file not found at /home/wilcoxr/workspace/aurite/aurite-agents/docs/notebooks/aurite_config.json. Creating an empty project named 'aurite_config.json'.\u001b[0m\n",
      "\u001b[32mINFO    \u001b[0m [aurite.host.host] MCP Host initialization attempt finished. Successfully initialized 0/0 configured clients. \u001b[0m\n",
      "\u001b[32mINFO    \u001b[0m [aurite.host_manager] \u001b[1m\u001b[33mAurite initialization complete.\u001b[0m\n"
     ]
    }
   ],
   "source": [
    "from aurite import Aurite, AgentConfig\n",
    "\n",
    "aurite = Aurite()\n",
    "\n",
    "# This command starts up the necessary background services and loads configurations.\n",
    "await aurite.initialize()"
   ]
  },
  {
   "cell_type": "markdown",
   "metadata": {},
   "source": [
    "### Building a Basic Agent\n",
    "\n",
    "Let's build our first **`Agent`**. The only thing an agent *needs* is a `name`. Without any special instructions or tools, it behaves just like a standard chatbot (e.g., ChatGPT)."
   ]
  },
  {
   "cell_type": "code",
   "execution_count": 4,
   "metadata": {},
   "outputs": [
    {
     "name": "stdout",
     "output_type": "stream",
     "text": [
      "✅ Agent registered successfully! You can now interact with it.\n"
     ]
    }
   ],
   "source": [
    "# Create an agent configuration with just a name.\n",
    "agent_config = AgentConfig(name=\"My First Agent\")\n",
    "\n",
    "# Register the agent with Aurite so the framework knows about it.\n",
    "await aurite.register_agent(agent_config)\n",
    "\n",
    "print(\"✅ Agent registered successfully! You can now interact with it.\")"
   ]
  },
  {
   "cell_type": "markdown",
   "metadata": {},
   "source": [
    "### Run the Agent!\n",
    "\n",
    "Now, let's ask our new agent a question. We'll use a simple `print()` statement to see the raw output."
   ]
  },
  {
   "cell_type": "code",
   "execution_count": 5,
   "metadata": {},
   "outputs": [
    {
     "name": "stderr",
     "output_type": "stream",
     "text": [
      "\u001b[33mWARNING \u001b[0m [aurite.execution.facade] Facade: Agent 'My First Agent' running without a specific LLMConfig ID. Creating temporary, non-cached client using default OpenAI config.\u001b[0m\n"
     ]
    },
    {
     "name": "stderr",
     "output_type": "stream",
     "text": [
      "\u001b[32mINFO    \u001b[0m [aurite.components.llm.providers.openai_client] OpenAIClient initialized for model gpt-3.5-turbo using direct API calls.\u001b[0m\n",
      "\u001b[32mINFO    \u001b[0m [aurite.execution.facade] \u001b[1m\u001b[34mFacade: Running conversation for Aurite Agent 'My First Agent'...\u001b[0m\n",
      "\u001b[32mINFO    \u001b[0m [aurite.execution.facade] \u001b[1m\u001b[34mFacade: Aurite Agent 'My First Agent' conversation finished.\u001b[0m\n"
     ]
    },
    {
     "name": "stdout",
     "output_type": "stream",
     "text": [
      "\n",
      "Agent Response:\n",
      "\n",
      "Sure! Here's a joke for you: Why don't scientists trust atoms? Because they make up everything! 😄\n"
     ]
    }
   ],
   "source": [
    "user_message = \"Hello! Can you tell me a joke?\"\n",
    "\n",
    "# Run the agent with our query\n",
    "agent_result = await aurite.run_agent(\n",
    "    agent_name=\"My First Agent\",\n",
    "    user_message=user_message\n",
    ")\n",
    "\n",
    "# Print the raw text response\n",
    "print(\"\\nAgent Response:\\n\")\n",
    "print(agent_result.primary_text)"
   ]
  },
  {
   "cell_type": "markdown",
   "metadata": {},
   "source": [
    "### A Helper for Better Output\n",
    "\n",
    "As you can see, the raw output can get lost in the logs. Let's create a helper function to make it look much nicer. For this tutorial, we'll use this helper to display the agent's response in a clean, formatted box.\n",
    "\n",
    "> This is equivalent to how you might build a UI for your agent on a website, so you don't need to understand the HTML in the next code block to use the framework."
   ]
  },
  {
   "cell_type": "code",
   "execution_count": 6,
   "metadata": {},
   "outputs": [],
   "source": [
    "from IPython.display import display, Markdown\n",
    "\n",
    "def display_agent_response(agent_name: str, query: str, response: str):\n",
    "  \"\"\"Formats and displays the agent's response in a structured Markdown block.\"\"\"\n",
    "\n",
    "  output = f\"\"\"\n",
    "  <div style=\\\"border: 1px solid #D1D5DB; border-radius: 8px; margin-top: 20px; font-family: sans-serif; box-shadow: 0 4px 6px rgba(0,0,0,0.05);\\\">\n",
    "    <div style=\\\"background-color: #F3F4F6; padding: 10px 15px; border-bottom: 1px solid #D1D5DB; border-radius: 8px 8px 0 0;\\\">\n",
    "      <h3 style=\\\"margin: 0; font-size: 16px; color: #1F2937; display: flex; align-items: center;\\\">\n",
    "        <span style=\\\"margin-right: 8px;\\\">🤖</span>\n",
    "        Agent Response: <code style=\\\"background-color: #E5E7EB; color: #374151; padding: 2px 6px; border-radius: 4px; margin-left: 8px;\\\">{agent_name}</code>\n",
    "      </h3>\n",
    "    </div>\n",
    "    <div style=\\\"padding: 15px;\\\">\n",
    "      <p style=\\\"margin: 0 0 10px 0; color: #6B7280; font-size: 14px;\\\">\n",
    "        <strong>Your Query:</strong>\n",
    "      </p>\n",
    "      <p style=\\\"background-color: #F9FAFB; margin: 0 0 15px 0; color: #1F2937; border: 1px solid #E5E7EB; border-left: 3px solid #9CA3AF; padding: 10px 12px; border-radius: 4px;\\\">\n",
    "        <em>\\\"{query}\\\"</em>\n",
    "      </p>\n",
    "      <hr style=\\\"border: none; border-top: 1px dashed #D1D5DB; margin-bottom: 15px;\\\">\n",
    "      <p style=\\\"margin: 0 0 10px 0; color: #6B7280; font-size: 14px;\\\">\n",
    "        <strong>Result:</strong>\n",
    "      </p>\n",
    "      <div style=\\\"background-color: #FFFFFF; padding: 15px; border-radius: 5px; border: 1px solid #E5E7EB; color: #1F2937; font-size: 15px; line-height: 1.6;\\\">\n",
    "        {response}\n",
    "      </div>\n",
    "    </div>\n",
    "  </div>\n",
    "  \"\"\"\n",
    "  display(Markdown(output))"
   ]
  },
  {
   "cell_type": "code",
   "execution_count": 7,
   "metadata": {},
   "outputs": [
    {
     "data": {
      "text/markdown": [
       "\n",
       "  <div style=\"border: 1px solid #D1D5DB; border-radius: 8px; margin-top: 20px; font-family: sans-serif; box-shadow: 0 4px 6px rgba(0,0,0,0.05);\">\n",
       "    <div style=\"background-color: #F3F4F6; padding: 10px 15px; border-bottom: 1px solid #D1D5DB; border-radius: 8px 8px 0 0;\">\n",
       "      <h3 style=\"margin: 0; font-size: 16px; color: #1F2937; display: flex; align-items: center;\">\n",
       "        <span style=\"margin-right: 8px;\">🤖</span>\n",
       "        Agent Response: <code style=\"background-color: #E5E7EB; color: #374151; padding: 2px 6px; border-radius: 4px; margin-left: 8px;\">My First Agent</code>\n",
       "      </h3>\n",
       "    </div>\n",
       "    <div style=\"padding: 15px;\">\n",
       "      <p style=\"margin: 0 0 10px 0; color: #6B7280; font-size: 14px;\">\n",
       "        <strong>Your Query:</strong>\n",
       "      </p>\n",
       "      <p style=\"background-color: #F9FAFB; margin: 0 0 15px 0; color: #1F2937; border: 1px solid #E5E7EB; border-left: 3px solid #9CA3AF; padding: 10px 12px; border-radius: 4px;\">\n",
       "        <em>\"Hello! Can you tell me a joke?\"</em>\n",
       "      </p>\n",
       "      <hr style=\"border: none; border-top: 1px dashed #D1D5DB; margin-bottom: 15px;\">\n",
       "      <p style=\"margin: 0 0 10px 0; color: #6B7280; font-size: 14px;\">\n",
       "        <strong>Result:</strong>\n",
       "      </p>\n",
       "      <div style=\"background-color: #FFFFFF; padding: 15px; border-radius: 5px; border: 1px solid #E5E7EB; color: #1F2937; font-size: 15px; line-height: 1.6;\">\n",
       "        Sure! Here's a joke for you: Why don't scientists trust atoms? Because they make up everything! 😄\n",
       "      </div>\n",
       "    </div>\n",
       "  </div>\n",
       "  "
      ],
      "text/plain": [
       "<IPython.core.display.Markdown object>"
      ]
     },
     "metadata": {},
     "output_type": "display_data"
    }
   ],
   "source": [
    "# Now let's display the result from our first agent run using the new helper!\n",
    "display_agent_response(\n",
    "    agent_name=\"My First Agent\",\n",
    "    query=user_message,\n",
    "    response=agent_result.primary_text\n",
    ")"
   ]
  },
  {
   "cell_type": "markdown",
   "metadata": {},
   "source": [
    "## 🎭 3. Giving Your Agent a Personality\n",
    "\n",
    "The previous example was just a plain chatbot. The real power comes from giving your agent a specific role and task. The most important tool for this is the **`system_prompt`**."
   ]
  },
  {
   "cell_type": "markdown",
   "metadata": {},
   "source": [
    "### What is a System Prompt?\n",
    "\n",
    "A **`system_prompt`** is a set of instructions you give the LLM that defines its personality, its goal, and the rules it must follow. Think of yourself as a director and the agent as an improv actor. The system prompt is your direction.\n",
    "\n",
    "[Simple agents have simple system prompts](https://youtu.be/X7HmltUWXgs?si=uyzRQIZY8wDyEzaH&t=33)\n",
    "\n",
    "> 💡 **Pro-Tip: A Good System Prompt Template**\n",
    "> A great starting point for any system prompt follows this structure:\n",
    "> - **Role:** \"You are a...\"\n",
    "> - **Task:** \"Your job is to...\"\n",
    "> - **Context:** \"In order to do this...\"\n",
    "> - **Rules:** \"You MUST... / You MUST NOT...\""
   ]
  },
  {
   "cell_type": "code",
   "execution_count": 8,
   "metadata": {},
   "outputs": [
    {
     "name": "stderr",
     "output_type": "stream",
     "text": [
      "\u001b[33mWARNING \u001b[0m [aurite.execution.facade] Facade: Agent 'My Dramatic Agent' running without a specific LLMConfig ID. Creating temporary, non-cached client using default OpenAI config.\u001b[0m\n",
      "\u001b[32mINFO    \u001b[0m [aurite.components.llm.providers.openai_client] OpenAIClient initialized for model gpt-3.5-turbo using direct API calls.\u001b[0m\n",
      "\u001b[32mINFO    \u001b[0m [aurite.execution.facade] \u001b[1m\u001b[34mFacade: Running conversation for Aurite Agent 'My Dramatic Agent'...\u001b[0m\n",
      "\u001b[32mINFO    \u001b[0m [aurite.execution.facade] \u001b[1m\u001b[34mFacade: Aurite Agent 'My Dramatic Agent' conversation finished.\u001b[0m\n"
     ]
    },
    {
     "data": {
      "text/markdown": [
       "\n",
       "  <div style=\"border: 1px solid #D1D5DB; border-radius: 8px; margin-top: 20px; font-family: sans-serif; box-shadow: 0 4px 6px rgba(0,0,0,0.05);\">\n",
       "    <div style=\"background-color: #F3F4F6; padding: 10px 15px; border-bottom: 1px solid #D1D5DB; border-radius: 8px 8px 0 0;\">\n",
       "      <h3 style=\"margin: 0; font-size: 16px; color: #1F2937; display: flex; align-items: center;\">\n",
       "        <span style=\"margin-right: 8px;\">🤖</span>\n",
       "        Agent Response: <code style=\"background-color: #E5E7EB; color: #374151; padding: 2px 6px; border-radius: 4px; margin-left: 8px;\">My Dramatic Agent</code>\n",
       "      </h3>\n",
       "    </div>\n",
       "    <div style=\"padding: 15px;\">\n",
       "      <p style=\"margin: 0 0 10px 0; color: #6B7280; font-size: 14px;\">\n",
       "        <strong>Your Query:</strong>\n",
       "      </p>\n",
       "      <p style=\"background-color: #F9FAFB; margin: 0 0 15px 0; color: #1F2937; border: 1px solid #E5E7EB; border-left: 3px solid #9CA3AF; padding: 10px 12px; border-radius: 4px;\">\n",
       "        <em>\"Hello! Can you tell me a joke?\"</em>\n",
       "      </p>\n",
       "      <hr style=\"border: none; border-top: 1px dashed #D1D5DB; margin-bottom: 15px;\">\n",
       "      <p style=\"margin: 0 0 10px 0; color: #6B7280; font-size: 14px;\">\n",
       "        <strong>Result:</strong>\n",
       "      </p>\n",
       "      <div style=\"background-color: #FFFFFF; padding: 15px; border-radius: 5px; border: 1px solid #E5E7EB; color: #1F2937; font-size: 15px; line-height: 1.6;\">\n",
       "        🎭 Ah, dear user, let me regale you with a jest! 🃏\n",
       "\n",
       "Why did the scarecrow win an award? Because he was outstanding in his field! 🤣\n",
       "\n",
       "🎭 Farewell, dear user, until we meet again! 🎭\n",
       "      </div>\n",
       "    </div>\n",
       "  </div>\n",
       "  "
      ],
      "text/plain": [
       "<IPython.core.display.Markdown object>"
      ]
     },
     "metadata": {},
     "output_type": "display_data"
    }
   ],
   "source": [
    "# Let's create a new agent with a dramatic personality.\n",
    "system_prompt = \"You are a helpful but overly dramatic assistant. \" \\\n",
    "    \"Your job is to answer the user's question in an overly dramatic tone. \" \\\n",
    "    \"You must only respond with the answer to the user's question in a dramatic way. Add flair before and after your response, like a Shakespearean actor. \"\n",
    "\n",
    "# Create a new agent configuration with the system prompt\n",
    "dramatic_agent = AgentConfig(\n",
    "    name=\"My Dramatic Agent\",\n",
    "    system_prompt=system_prompt\n",
    ")\n",
    "\n",
    "# Register the new agent\n",
    "await aurite.register_agent(dramatic_agent)\n",
    "\n",
    "# Run the agent with the same user message as before\n",
    "agent_result = await aurite.run_agent(\n",
    "    agent_name=\"My Dramatic Agent\",\n",
    "    user_message=user_message # Notice how the response will be different now!\n",
    ")\n",
    "\n",
    "# Display the dramatic response\n",
    "display_agent_response(\n",
    "    agent_name=\"My Dramatic Agent\",\n",
    "    query=user_message,\n",
    "    response=agent_result.primary_text\n",
    ")"
   ]
  },
  {
   "cell_type": "markdown",
   "metadata": {},
   "source": [
    "## 🛠️ 4. Giving Your Agent Tools\n",
    "\n",
    "An agent with a personality is fun, but an agent that can *do* things is powerful. This is where **`Tools`** come in."
   ]
  },
  {
   "cell_type": "markdown",
   "metadata": {},
   "source": [
    "### What are Tools?\n",
    "\n",
    "**Tools are functions (executable code) that an agent can decide to use to get information or perform an action.** This is what gives an agent true *agency*—the ability to act. Without tools, an LLM can only talk. With tools, it can interact with the world.\n",
    "\n",
    "The Aurite framework uses the **Model Context Protocol (MCP)** to define and manage tools. You can write your own tool servers, but the framework also comes with several pre-built ones.\n",
    "\n",
    "> 🔗 **Further Reading**\n",
    "> Tools are a deep topic! To learn more about how they work, check out the documentation on **[MCP Servers](https://publish.obsidian.md/aurite/components/mcp_server)**."
   ]
  },
  {
   "cell_type": "markdown",
   "metadata": {},
   "source": [
    "Let's give an agent a (fake) weather tool. We just need to tell the agent which tool servers it has access to by providing a list of names to the **`mcp_servers`** property."
   ]
  },
  {
   "cell_type": "code",
   "execution_count": 9,
   "metadata": {},
   "outputs": [
    {
     "name": "stderr",
     "output_type": "stream",
     "text": [
      "\u001b[32mINFO    \u001b[0m [aurite.host.host] Attempting to dynamically register client: weather_server\u001b[0m\n",
      "\u001b[32mINFO    \u001b[0m [aurite.host.host] Client 'weather_server' dynamically registered and initialized successfully.\u001b[0m\n",
      "\u001b[33mWARNING \u001b[0m [aurite.execution.facade] Facade: Agent 'My Weather Agent' running without a specific LLMConfig ID. Creating temporary, non-cached client using default OpenAI config.\u001b[0m\n",
      "\u001b[32mINFO    \u001b[0m [aurite.components.llm.providers.openai_client] OpenAIClient initialized for model gpt-3.5-turbo using direct API calls.\u001b[0m\n",
      "\u001b[32mINFO    \u001b[0m [aurite.execution.facade] \u001b[1m\u001b[34mFacade: Running conversation for Aurite Agent 'My Weather Agent'...\u001b[0m\n",
      "\u001b[32mINFO    \u001b[0m [aurite.host.host] Executing tool 'weather_lookup' on client 'weather_server' for agent 'My Weather Agent'\u001b[0m\n",
      "\u001b[32mINFO    \u001b[0m [aurite.execution.facade] \u001b[1m\u001b[34mFacade: Aurite Agent 'My Weather Agent' conversation finished.\u001b[0m\n"
     ]
    },
    {
     "data": {
      "text/markdown": [
       "\n",
       "  <div style=\"border: 1px solid #D1D5DB; border-radius: 8px; margin-top: 20px; font-family: sans-serif; box-shadow: 0 4px 6px rgba(0,0,0,0.05);\">\n",
       "    <div style=\"background-color: #F3F4F6; padding: 10px 15px; border-bottom: 1px solid #D1D5DB; border-radius: 8px 8px 0 0;\">\n",
       "      <h3 style=\"margin: 0; font-size: 16px; color: #1F2937; display: flex; align-items: center;\">\n",
       "        <span style=\"margin-right: 8px;\">🤖</span>\n",
       "        Agent Response: <code style=\"background-color: #E5E7EB; color: #374151; padding: 2px 6px; border-radius: 4px; margin-left: 8px;\">My Weather Agent</code>\n",
       "      </h3>\n",
       "    </div>\n",
       "    <div style=\"padding: 15px;\">\n",
       "      <p style=\"margin: 0 0 10px 0; color: #6B7280; font-size: 14px;\">\n",
       "        <strong>Your Query:</strong>\n",
       "      </p>\n",
       "      <p style=\"background-color: #F9FAFB; margin: 0 0 15px 0; color: #1F2937; border: 1px solid #E5E7EB; border-left: 3px solid #9CA3AF; padding: 10px 12px; border-radius: 4px;\">\n",
       "        <em>\"What's the weather like in New York?\"</em>\n",
       "      </p>\n",
       "      <hr style=\"border: none; border-top: 1px dashed #D1D5DB; margin-bottom: 15px;\">\n",
       "      <p style=\"margin: 0 0 10px 0; color: #6B7280; font-size: 14px;\">\n",
       "        <strong>Result:</strong>\n",
       "      </p>\n",
       "      <div style=\"background-color: #FFFFFF; padding: 15px; border-radius: 5px; border: 1px solid #E5E7EB; color: #1F2937; font-size: 15px; line-height: 1.6;\">\n",
       "        The weather in New York is currently 22°C with partly cloudy skies and 60% humidity.\n",
       "      </div>\n",
       "    </div>\n",
       "  </div>\n",
       "  "
      ],
      "text/plain": [
       "<IPython.core.display.Markdown object>"
      ]
     },
     "metadata": {},
     "output_type": "display_data"
    }
   ],
   "source": [
    "system_prompt = \"You are a Weather Forecaster. \" \\\n",
    "    \"Your job is to provide accurate weather information based on the user's query. \" \\\n",
    "    \"In order to do this, you must use the weather tool at your disposal. \" \\\n",
    "    \"You must only respond with the weather forecast for the location specified by the user.\"\n",
    "\n",
    "# This is a built-in tool server for getting weather information.\n",
    "tools = [\"weather_server\"]\n",
    "\n",
    "user_message = \"What's the weather like in New York?\"\n",
    "\n",
    "# Define and register an Agent configuration with tools\n",
    "agent_config = AgentConfig(\n",
    "    name=\"My Weather Agent\",\n",
    "    system_prompt=system_prompt,\n",
    "    mcp_servers=tools\n",
    ")\n",
    "\n",
    "await aurite.register_agent(agent_config)\n",
    "\n",
    "# Run the weather agent\n",
    "agent_result = await aurite.run_agent(\n",
    "    agent_name=\"My Weather Agent\",\n",
    "    user_message=user_message\n",
    ")\n",
    "\n",
    "# Display the final forecast\n",
    "display_agent_response(\n",
    "    agent_name=\"My Weather Agent\",\n",
    "    query=user_message,\n",
    "    response=agent_result.primary_text\n",
    ")"
   ]
  },
  {
   "cell_type": "markdown",
   "metadata": {},
   "source": [
    "> ⚠️ **Note on the Example Tool**\n",
    "> The `weather_server` used here is a simplified, built-in example for demonstration purposes. It will always return a pre-defined forecast, and it only supports London, San Francisco, New York, and Tokyo. In the next tutorial, we'll use real tools!"
   ]
  },
  {
   "cell_type": "markdown",
   "metadata": {},
   "source": [
    "## 🎉 Congratulations!\n",
    "\n",
    "You've successfully built and run your first few AI agents using the Aurite framework.\n",
    "\n",
    "**Recap:**\n",
    "\n",
    "*   You learned how to configure an **`Agent`** with a **`system_prompt`** and a set of **`Tools`** (`mcp_servers`).\n",
    "*   You initialized the `Aurite` application and registered your components.\n",
    "*   You ran agents with different personalities and capabilities.\n",
    "\n",
    "In the next tutorial, we will explore how to define your own LLM configurations, enforce structured output from your agents, and chain them together in simple workflows. See you there!"
   ]
  }
 ],
 "metadata": {
  "kernelspec": {
   "display_name": "notebook-venv",
   "language": "python",
   "name": "python3"
  },
  "language_info": {
   "codemirror_mode": {
    "name": "ipython",
    "version": 3
   },
   "file_extension": ".py",
   "mimetype": "text/x-python",
   "name": "python",
   "nbconvert_exporter": "python",
   "pygments_lexer": "ipython3",
   "version": "3.11.11"
  }
 },
 "nbformat": 4,
 "nbformat_minor": 2
}
