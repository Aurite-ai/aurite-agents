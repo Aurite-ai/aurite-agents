{
 "cells": [
  {
   "cell_type": "markdown",
   "metadata": {},
   "source": [
    "# Introduction to Aurite Agents: Your First AI Agent\n",
    "\n",
    "Welcome to the Aurite Agents framework! This tutorial is the first in a series designed to guide you through building and running your own AI agents. \n",
    "\n",
    "**Goal:** By the end of this notebook, you will have configured and run a simple AI agent that can answer a question using a powerful Large Language Model (LLM).\n",
    "\n",
    "**What is Aurite Agents?** It's a Python framework that provides the building blocks to create, manage, and deploy AI agents. It handles the complex parts of interacting with LLMs and external tools, so you can focus on defining what your agent does.\n",
    "\n",
    "**Prerequisites:**\n",
    "\n",
    "*   Python 3.8+ installed (Google Colab uses Python 3.11)\n",
    "\n",
    "*   An API key from an LLM provider (we'll use OpenAI in this example)."
   ]
  },
  {
   "cell_type": "markdown",
   "metadata": {},
    "source": [
     "agent_config = AgentConfig(\n",
     "    name=\"Test Agent\",\n",
     "    mcp_servers=[\"test_server\"],\n",
     "    system_prompt=\"You are a helpful assistant.\",\n",
     "    auto=False,\n",
     "    config_validation_schema=None,\n",
     "    model=None,\n",
     "    temperature=None,\n",
     "    max_tokens=None,\n",
     "    exclude_components=None,\n",
     "    evaluation=None\n",
     ")"
    ]
  },
  {
   "cell_type": "code",
   "execution_count": 1,
   "metadata": {},
   "outputs": [
    {
     "name": "stdout",
     "output_type": "stream",
     "text": [
      "Requirement already satisfied: aurite in /home/wilcoxr/workspace/aurite/aurite-agents/.venv/lib/python3.11/site-packages (0.2.26)\n",
      "Requirement already satisfied: mcp>=1.8.1 in /home/wilcoxr/workspace/aurite/aurite-agents/.venv/lib/python3.11/site-packages (from aurite) (1.9.3)\n",
      "Requirement already satisfied: httpx>=0.28.1 in /home/wilcoxr/workspace/aurite/aurite-agents/.venv/lib/python3.11/site-packages (from aurite) (0.28.1)\n",
      "Requirement already satisfied: anyio>=4.8.0 in /home/wilcoxr/workspace/aurite/aurite-agents/.venv/lib/python3.11/site-packages (from aurite) (4.9.0)\n",
      "Requirement already satisfied: sqlalchemy>=2.0.39 in /home/wilcoxr/workspace/aurite/aurite-agents/.venv/lib/python3.11/site-packages (from aurite) (2.0.41)\n",
      "Requirement already satisfied: anthropic>=0.49.0 in /home/wilcoxr/workspace/aurite/aurite-agents/.venv/lib/python3.11/site-packages (from aurite) (0.52.2)\n",
      "Requirement already satisfied: annotated-types>=0.7.0 in /home/wilcoxr/workspace/aurite/aurite-agents/.venv/lib/python3.11/site-packages (from aurite) (0.7.0)\n",
      "Requirement already satisfied: certifi>=2025.1.31 in /home/wilcoxr/workspace/aurite/aurite-agents/.venv/lib/python3.11/site-packages (from aurite) (2025.4.26)\n",
      "Requirement already satisfied: cffi>=1.17.1 in /home/wilcoxr/workspace/aurite/aurite-agents/.venv/lib/python3.11/site-packages (from aurite) (1.17.1)\n",
      "Requirement already satisfied: click>=8.1.8 in /home/wilcoxr/workspace/aurite/aurite-agents/.venv/lib/python3.11/site-packages (from aurite) (8.2.1)\n",
      "Requirement already satisfied: cryptography<44,>=41.0.5 in /home/wilcoxr/workspace/aurite/aurite-agents/.venv/lib/python3.11/site-packages (from aurite) (43.0.3)\n",
      "Requirement already satisfied: distro>=1.9.0 in /home/wilcoxr/workspace/aurite/aurite-agents/.venv/lib/python3.11/site-packages (from aurite) (1.9.0)\n",
      "Requirement already satisfied: google-genai>=1.11.0 in /home/wilcoxr/workspace/aurite/aurite-agents/.venv/lib/python3.11/site-packages (from aurite) (1.19.0)\n",
      "Requirement already satisfied: greenlet>=3.1.1 in /home/wilcoxr/workspace/aurite/aurite-agents/.venv/lib/python3.11/site-packages (from aurite) (3.2.3)\n",
      "Requirement already satisfied: h11>=0.14.0 in /home/wilcoxr/workspace/aurite/aurite-agents/.venv/lib/python3.11/site-packages (from aurite) (0.16.0)\n",
      "Requirement already satisfied: httpcore>=1.0.7 in /home/wilcoxr/workspace/aurite/aurite-agents/.venv/lib/python3.11/site-packages (from aurite) (1.0.9)\n",
      "Requirement already satisfied: httpx-sse>=0.4.0 in /home/wilcoxr/workspace/aurite/aurite-agents/.venv/lib/python3.11/site-packages (from aurite) (0.4.0)\n",
      "Requirement already satisfied: idna>=3.10 in /home/wilcoxr/workspace/aurite/aurite-agents/.venv/lib/python3.11/site-packages (from aurite) (3.10)\n",
      "Requirement already satisfied: iniconfig>=2.0.0 in /home/wilcoxr/workspace/aurite/aurite-agents/.venv/lib/python3.11/site-packages (from aurite) (2.1.0)\n",
      "Requirement already satisfied: jiter<0.9,>=0.6.1 in /home/wilcoxr/workspace/aurite/aurite-agents/.venv/lib/python3.11/site-packages (from aurite) (0.8.2)\n",
      "Requirement already satisfied: mem0ai>=0.1.67 in /home/wilcoxr/workspace/aurite/aurite-agents/.venv/lib/python3.11/site-packages (from aurite) (0.1.104)\n",
      "Requirement already satisfied: packaging>=24.2 in /home/wilcoxr/workspace/aurite/aurite-agents/.venv/lib/python3.11/site-packages (from aurite) (25.0)\n",
      "Requirement already satisfied: colorlog>=6.0.0 in /home/wilcoxr/workspace/aurite/aurite-agents/.venv/lib/python3.11/site-packages (from aurite) (6.9.0)\n",
      "Requirement already satisfied: termcolor>=3.0.0 in /home/wilcoxr/workspace/aurite/aurite-agents/.venv/lib/python3.11/site-packages (from aurite) (3.1.0)\n",
      "Requirement already satisfied: pluggy>=1.5.0 in /home/wilcoxr/workspace/aurite/aurite-agents/.venv/lib/python3.11/site-packages (from aurite) (1.6.0)\n",
      "Requirement already satisfied: psycopg2-binary>=2.9.10 in /home/wilcoxr/workspace/aurite/aurite-agents/.venv/lib/python3.11/site-packages (from aurite) (2.9.10)\n",
      "Requirement already satisfied: alembic>=1.13.1 in /home/wilcoxr/workspace/aurite/aurite-agents/.venv/lib/python3.11/site-packages (from aurite) (1.16.1)\n",
      "Requirement already satisfied: pycparser>=2.22 in /home/wilcoxr/workspace/aurite/aurite-agents/.venv/lib/python3.11/site-packages (from aurite) (2.22)\n",
      "Requirement already satisfied: pydantic>=2.10.6 in /home/wilcoxr/workspace/aurite/aurite-agents/.venv/lib/python3.11/site-packages (from aurite) (2.11.5)\n",
      "Requirement already satisfied: pydantic-settings>=2.8.1 in /home/wilcoxr/workspace/aurite/aurite-agents/.venv/lib/python3.11/site-packages (from aurite) (2.9.1)\n",
      "Requirement already satisfied: pydantic_core>=2.27.2 in /home/wilcoxr/workspace/aurite/aurite-agents/.venv/lib/python3.11/site-packages (from aurite) (2.33.2)\n",
      "Requirement already satisfied: pydub>=0.25.1 in /home/wilcoxr/workspace/aurite/aurite-agents/.venv/lib/python3.11/site-packages (from aurite) (0.25.1)\n",
      "Requirement already satisfied: PyMySQL>=1.1.1 in /home/wilcoxr/workspace/aurite/aurite-agents/.venv/lib/python3.11/site-packages (from aurite) (1.1.1)\n",
      "Requirement already satisfied: python-dateutil>=2.9.0.post0 in /home/wilcoxr/workspace/aurite/aurite-agents/.venv/lib/python3.11/site-packages (from aurite) (2.9.0.post0)\n",
      "Requirement already satisfied: openai-agents-mcp in /home/wilcoxr/workspace/aurite/aurite-agents/.venv/lib/python3.11/site-packages (from aurite) (0.0.8)\n",
      "Requirement already satisfied: python-dotenv>=1.0.1 in /home/wilcoxr/workspace/aurite/aurite-agents/.venv/lib/python3.11/site-packages (from aurite) (1.1.0)\n",
      "Requirement already satisfied: pytz>=2024.1 in /home/wilcoxr/workspace/aurite/aurite-agents/.venv/lib/python3.11/site-packages (from aurite) (2025.2)\n",
      "Requirement already satisfied: pyyaml>=6.0.2 in /home/wilcoxr/workspace/aurite/aurite-agents/.venv/lib/python3.11/site-packages (from aurite) (6.0.2)\n",
      "Requirement already satisfied: redis>=5.0.0 in /home/wilcoxr/workspace/aurite/aurite-agents/.venv/lib/python3.11/site-packages (from aurite) (6.2.0)\n",
      "Requirement already satisfied: six>=1.17.0 in /home/wilcoxr/workspace/aurite/aurite-agents/.venv/lib/python3.11/site-packages (from aurite) (1.17.0)\n",
      "Requirement already satisfied: sniffio>=1.3.1 in /home/wilcoxr/workspace/aurite/aurite-agents/.venv/lib/python3.11/site-packages (from aurite) (1.3.1)\n",
      "Requirement already satisfied: jsonschema in /home/wilcoxr/workspace/aurite/aurite-agents/.venv/lib/python3.11/site-packages (from aurite) (4.24.0)\n",
      "Requirement already satisfied: sse-starlette>=2.2.1 in /home/wilcoxr/workspace/aurite/aurite-agents/.venv/lib/python3.11/site-packages (from aurite) (2.3.6)\n",
      "Requirement already satisfied: starlette>=0.46.1 in /home/wilcoxr/workspace/aurite/aurite-agents/.venv/lib/python3.11/site-packages (from aurite) (0.46.2)\n",
      "Requirement already satisfied: typing_extensions>=4.12.2 in /home/wilcoxr/workspace/aurite/aurite-agents/.venv/lib/python3.11/site-packages (from aurite) (4.14.0)\n",
      "Requirement already satisfied: typer>=0.9.0 in /home/wilcoxr/workspace/aurite/aurite-agents/.venv/lib/python3.11/site-packages (from aurite) (0.16.0)\n",
      "Requirement already satisfied: tzdata>=2025.1 in /home/wilcoxr/workspace/aurite/aurite-agents/.venv/lib/python3.11/site-packages (from aurite) (2025.2)\n",
      "Requirement already satisfied: uvicorn>=0.34.0 in /home/wilcoxr/workspace/aurite/aurite-agents/.venv/lib/python3.11/site-packages (from aurite) (0.34.3)\n",
      "Requirement already satisfied: fastapi in /home/wilcoxr/workspace/aurite/aurite-agents/.venv/lib/python3.11/site-packages (from aurite) (0.115.12)\n",
      "Requirement already satisfied: google-cloud-secret-manager>=2.19.0 in /home/wilcoxr/workspace/aurite/aurite-agents/.venv/lib/python3.11/site-packages (from aurite) (2.24.0)\n",
      "Requirement already satisfied: Mako in /home/wilcoxr/workspace/aurite/aurite-agents/.venv/lib/python3.11/site-packages (from alembic>=1.13.1->aurite) (1.3.10)\n",
      "Requirement already satisfied: google-api-core!=2.0.*,!=2.1.*,!=2.10.*,!=2.2.*,!=2.3.*,!=2.4.*,!=2.5.*,!=2.6.*,!=2.7.*,!=2.8.*,!=2.9.*,<3.0.0,>=1.34.1 in /home/wilcoxr/workspace/aurite/aurite-agents/.venv/lib/python3.11/site-packages (from google-api-core[grpc]!=2.0.*,!=2.1.*,!=2.10.*,!=2.2.*,!=2.3.*,!=2.4.*,!=2.5.*,!=2.6.*,!=2.7.*,!=2.8.*,!=2.9.*,<3.0.0,>=1.34.1->google-cloud-secret-manager>=2.19.0->aurite) (2.25.0)\n",
      "Requirement already satisfied: google-auth!=2.24.0,!=2.25.0,<3.0.0,>=2.14.1 in /home/wilcoxr/workspace/aurite/aurite-agents/.venv/lib/python3.11/site-packages (from google-cloud-secret-manager>=2.19.0->aurite) (2.40.3)\n",
      "Requirement already satisfied: proto-plus<2.0.0,>=1.22.3 in /home/wilcoxr/workspace/aurite/aurite-agents/.venv/lib/python3.11/site-packages (from google-cloud-secret-manager>=2.19.0->aurite) (1.26.1)\n",
      "Requirement already satisfied: protobuf!=4.21.0,!=4.21.1,!=4.21.2,!=4.21.3,!=4.21.4,!=4.21.5,<7.0.0,>=3.20.2 in /home/wilcoxr/workspace/aurite/aurite-agents/.venv/lib/python3.11/site-packages (from google-cloud-secret-manager>=2.19.0->aurite) (5.29.5)\n",
      "Requirement already satisfied: grpc-google-iam-v1<1.0.0,>=0.14.0 in /home/wilcoxr/workspace/aurite/aurite-agents/.venv/lib/python3.11/site-packages (from google-cloud-secret-manager>=2.19.0->aurite) (0.14.2)\n",
      "Requirement already satisfied: requests<3.0.0,>=2.28.1 in /home/wilcoxr/workspace/aurite/aurite-agents/.venv/lib/python3.11/site-packages (from google-genai>=1.11.0->aurite) (2.32.3)\n",
      "Requirement already satisfied: websockets<15.1.0,>=13.0.0 in /home/wilcoxr/workspace/aurite/aurite-agents/.venv/lib/python3.11/site-packages (from google-genai>=1.11.0->aurite) (15.0.1)\n",
      "Requirement already satisfied: python-multipart>=0.0.9 in /home/wilcoxr/workspace/aurite/aurite-agents/.venv/lib/python3.11/site-packages (from mcp>=1.8.1->aurite) (0.0.20)\n",
      "Requirement already satisfied: openai>=1.33.0 in /home/wilcoxr/workspace/aurite/aurite-agents/.venv/lib/python3.11/site-packages (from mem0ai>=0.1.67->aurite) (1.84.0)\n",
      "Requirement already satisfied: posthog>=3.5.0 in /home/wilcoxr/workspace/aurite/aurite-agents/.venv/lib/python3.11/site-packages (from mem0ai>=0.1.67->aurite) (4.4.0)\n",
      "Requirement already satisfied: qdrant-client>=1.9.1 in /home/wilcoxr/workspace/aurite/aurite-agents/.venv/lib/python3.11/site-packages (from mem0ai>=0.1.67->aurite) (1.14.2)\n",
      "Requirement already satisfied: typing-inspection>=0.4.0 in /home/wilcoxr/workspace/aurite/aurite-agents/.venv/lib/python3.11/site-packages (from pydantic>=2.10.6->aurite) (0.4.1)\n",
      "Requirement already satisfied: shellingham>=1.3.0 in /home/wilcoxr/workspace/aurite/aurite-agents/.venv/lib/python3.11/site-packages (from typer>=0.9.0->aurite) (1.5.4)\n",
      "Requirement already satisfied: rich>=10.11.0 in /home/wilcoxr/workspace/aurite/aurite-agents/.venv/lib/python3.11/site-packages (from typer>=0.9.0->aurite) (13.9.4)\n",
      "Requirement already satisfied: attrs>=22.2.0 in /home/wilcoxr/workspace/aurite/aurite-agents/.venv/lib/python3.11/site-packages (from jsonschema->aurite) (25.3.0)\n",
      "Requirement already satisfied: jsonschema-specifications>=2023.03.6 in /home/wilcoxr/workspace/aurite/aurite-agents/.venv/lib/python3.11/site-packages (from jsonschema->aurite) (2025.4.1)\n",
      "Requirement already satisfied: referencing>=0.28.4 in /home/wilcoxr/workspace/aurite/aurite-agents/.venv/lib/python3.11/site-packages (from jsonschema->aurite) (0.36.2)\n",
      "Requirement already satisfied: rpds-py>=0.7.1 in /home/wilcoxr/workspace/aurite/aurite-agents/.venv/lib/python3.11/site-packages (from jsonschema->aurite) (0.25.1)\n",
      "Requirement already satisfied: mcp-agent>=0.0.13 in /home/wilcoxr/workspace/aurite/aurite-agents/.venv/lib/python3.11/site-packages (from openai-agents-mcp->aurite) (0.1.1)\n",
      "Requirement already satisfied: openai-agents>=0.0.5 in /home/wilcoxr/workspace/aurite/aurite-agents/.venv/lib/python3.11/site-packages (from openai-agents-mcp->aurite) (0.0.17)\n",
      "Requirement already satisfied: googleapis-common-protos<2.0.0,>=1.56.2 in /home/wilcoxr/workspace/aurite/aurite-agents/.venv/lib/python3.11/site-packages (from google-api-core!=2.0.*,!=2.1.*,!=2.10.*,!=2.2.*,!=2.3.*,!=2.4.*,!=2.5.*,!=2.6.*,!=2.7.*,!=2.8.*,!=2.9.*,<3.0.0,>=1.34.1->google-api-core[grpc]!=2.0.*,!=2.1.*,!=2.10.*,!=2.2.*,!=2.3.*,!=2.4.*,!=2.5.*,!=2.6.*,!=2.7.*,!=2.8.*,!=2.9.*,<3.0.0,>=1.34.1->google-cloud-secret-manager>=2.19.0->aurite) (1.70.0)\n",
      "Requirement already satisfied: grpcio<2.0.0,>=1.33.2 in /home/wilcoxr/workspace/aurite/aurite-agents/.venv/lib/python3.11/site-packages (from google-api-core[grpc]!=2.0.*,!=2.1.*,!=2.10.*,!=2.2.*,!=2.3.*,!=2.4.*,!=2.5.*,!=2.6.*,!=2.7.*,!=2.8.*,!=2.9.*,<3.0.0,>=1.34.1->google-cloud-secret-manager>=2.19.0->aurite) (1.72.1)\n",
      "Requirement already satisfied: grpcio-status<2.0.0,>=1.33.2 in /home/wilcoxr/workspace/aurite/aurite-agents/.venv/lib/python3.11/site-packages (from google-api-core[grpc]!=2.0.*,!=2.1.*,!=2.10.*,!=2.2.*,!=2.3.*,!=2.4.*,!=2.5.*,!=2.6.*,!=2.7.*,!=2.8.*,!=2.9.*,<3.0.0,>=1.34.1->google-cloud-secret-manager>=2.19.0->aurite) (1.71.0)\n",
      "Requirement already satisfied: cachetools<6.0,>=2.0.0 in /home/wilcoxr/workspace/aurite/aurite-agents/.venv/lib/python3.11/site-packages (from google-auth!=2.24.0,!=2.25.0,<3.0.0,>=2.14.1->google-cloud-secret-manager>=2.19.0->aurite) (5.5.2)\n",
      "Requirement already satisfied: pyasn1-modules>=0.2.1 in /home/wilcoxr/workspace/aurite/aurite-agents/.venv/lib/python3.11/site-packages (from google-auth!=2.24.0,!=2.25.0,<3.0.0,>=2.14.1->google-cloud-secret-manager>=2.19.0->aurite) (0.4.2)\n",
      "Requirement already satisfied: rsa<5,>=3.1.4 in /home/wilcoxr/workspace/aurite/aurite-agents/.venv/lib/python3.11/site-packages (from google-auth!=2.24.0,!=2.25.0,<3.0.0,>=2.14.1->google-cloud-secret-manager>=2.19.0->aurite) (4.9.1)\n",
      "Requirement already satisfied: aiohttp>=3.11.13 in /home/wilcoxr/workspace/aurite/aurite-agents/.venv/lib/python3.11/site-packages (from mcp-agent>=0.0.13->openai-agents-mcp->aurite) (3.12.11)\n",
      "Requirement already satisfied: instructor>=1.7.9 in /home/wilcoxr/workspace/aurite/aurite-agents/.venv/lib/python3.11/site-packages (from mcp-agent>=0.0.13->openai-agents-mcp->aurite) (1.8.3)\n",
      "Requirement already satisfied: numpy>=2.1.3 in /home/wilcoxr/workspace/aurite/aurite-agents/.venv/lib/python3.11/site-packages (from mcp-agent>=0.0.13->openai-agents-mcp->aurite) (2.3.0)\n",
      "Requirement already satisfied: opentelemetry-distro>=0.50b0 in /home/wilcoxr/workspace/aurite/aurite-agents/.venv/lib/python3.11/site-packages (from mcp-agent>=0.0.13->openai-agents-mcp->aurite) (0.55b0)\n",
      "Requirement already satisfied: opentelemetry-exporter-otlp-proto-http>=1.29.0 in /home/wilcoxr/workspace/aurite/aurite-agents/.venv/lib/python3.11/site-packages (from mcp-agent>=0.0.13->openai-agents-mcp->aurite) (1.34.0)\n",
      "Requirement already satisfied: opentelemetry-instrumentation-anthropic>=0.39.3 in /home/wilcoxr/workspace/aurite/aurite-agents/.venv/lib/python3.11/site-packages (from mcp-agent>=0.0.13->openai-agents-mcp->aurite) (0.40.7)\n",
      "Requirement already satisfied: opentelemetry-instrumentation-openai>=0.39.3 in /home/wilcoxr/workspace/aurite/aurite-agents/.venv/lib/python3.11/site-packages (from mcp-agent>=0.0.13->openai-agents-mcp->aurite) (0.40.7)\n",
      "Requirement already satisfied: prompt-toolkit>=3.0.50 in /home/wilcoxr/workspace/aurite/aurite-agents/.venv/lib/python3.11/site-packages (from mcp-agent>=0.0.13->openai-agents-mcp->aurite) (3.0.51)\n",
      "Requirement already satisfied: scikit-learn>=1.6.0 in /home/wilcoxr/workspace/aurite/aurite-agents/.venv/lib/python3.11/site-packages (from mcp-agent>=0.0.13->openai-agents-mcp->aurite) (1.7.0)\n",
      "Requirement already satisfied: tqdm>4 in /home/wilcoxr/workspace/aurite/aurite-agents/.venv/lib/python3.11/site-packages (from openai>=1.33.0->mem0ai>=0.1.67->aurite) (4.67.1)\n",
      "Requirement already satisfied: griffe<2,>=1.5.6 in /home/wilcoxr/workspace/aurite/aurite-agents/.venv/lib/python3.11/site-packages (from openai-agents>=0.0.5->openai-agents-mcp->aurite) (1.7.3)\n",
      "Requirement already satisfied: types-requests<3,>=2.0 in /home/wilcoxr/workspace/aurite/aurite-agents/.venv/lib/python3.11/site-packages (from openai-agents>=0.0.5->openai-agents-mcp->aurite) (2.32.0.20250602)\n",
      "Requirement already satisfied: backoff>=1.10.0 in /home/wilcoxr/workspace/aurite/aurite-agents/.venv/lib/python3.11/site-packages (from posthog>=3.5.0->mem0ai>=0.1.67->aurite) (2.2.1)\n",
      "Requirement already satisfied: portalocker<3.0.0,>=2.7.0 in /home/wilcoxr/workspace/aurite/aurite-agents/.venv/lib/python3.11/site-packages (from qdrant-client>=1.9.1->mem0ai>=0.1.67->aurite) (2.10.1)\n",
      "Requirement already satisfied: urllib3<3,>=1.26.14 in /home/wilcoxr/workspace/aurite/aurite-agents/.venv/lib/python3.11/site-packages (from qdrant-client>=1.9.1->mem0ai>=0.1.67->aurite) (2.4.0)\n",
      "Requirement already satisfied: charset-normalizer<4,>=2 in /home/wilcoxr/workspace/aurite/aurite-agents/.venv/lib/python3.11/site-packages (from requests<3.0.0,>=2.28.1->google-genai>=1.11.0->aurite) (3.4.2)\n",
      "Requirement already satisfied: markdown-it-py>=2.2.0 in /home/wilcoxr/workspace/aurite/aurite-agents/.venv/lib/python3.11/site-packages (from rich>=10.11.0->typer>=0.9.0->aurite) (3.0.0)\n",
      "Requirement already satisfied: pygments<3.0.0,>=2.13.0 in /home/wilcoxr/workspace/aurite/aurite-agents/.venv/lib/python3.11/site-packages (from rich>=10.11.0->typer>=0.9.0->aurite) (2.19.1)\n",
      "Requirement already satisfied: MarkupSafe>=0.9.2 in /home/wilcoxr/workspace/aurite/aurite-agents/.venv/lib/python3.11/site-packages (from Mako->alembic>=1.13.1->aurite) (3.0.2)\n",
      "Requirement already satisfied: aiohappyeyeballs>=2.5.0 in /home/wilcoxr/workspace/aurite/aurite-agents/.venv/lib/python3.11/site-packages (from aiohttp>=3.11.13->mcp-agent>=0.0.13->openai-agents-mcp->aurite) (2.6.1)\n",
      "Requirement already satisfied: aiosignal>=1.1.2 in /home/wilcoxr/workspace/aurite/aurite-agents/.venv/lib/python3.11/site-packages (from aiohttp>=3.11.13->mcp-agent>=0.0.13->openai-agents-mcp->aurite) (1.3.2)\n",
      "Requirement already satisfied: frozenlist>=1.1.1 in /home/wilcoxr/workspace/aurite/aurite-agents/.venv/lib/python3.11/site-packages (from aiohttp>=3.11.13->mcp-agent>=0.0.13->openai-agents-mcp->aurite) (1.6.2)\n",
      "Requirement already satisfied: multidict<7.0,>=4.5 in /home/wilcoxr/workspace/aurite/aurite-agents/.venv/lib/python3.11/site-packages (from aiohttp>=3.11.13->mcp-agent>=0.0.13->openai-agents-mcp->aurite) (6.4.4)\n",
      "Requirement already satisfied: propcache>=0.2.0 in /home/wilcoxr/workspace/aurite/aurite-agents/.venv/lib/python3.11/site-packages (from aiohttp>=3.11.13->mcp-agent>=0.0.13->openai-agents-mcp->aurite) (0.3.1)\n",
      "Requirement already satisfied: yarl<2.0,>=1.17.0 in /home/wilcoxr/workspace/aurite/aurite-agents/.venv/lib/python3.11/site-packages (from aiohttp>=3.11.13->mcp-agent>=0.0.13->openai-agents-mcp->aurite) (1.20.0)\n",
      "Requirement already satisfied: colorama>=0.4 in /home/wilcoxr/workspace/aurite/aurite-agents/.venv/lib/python3.11/site-packages (from griffe<2,>=1.5.6->openai-agents>=0.0.5->openai-agents-mcp->aurite) (0.4.6)\n",
      "Requirement already satisfied: h2<5,>=3 in /home/wilcoxr/workspace/aurite/aurite-agents/.venv/lib/python3.11/site-packages (from httpx[http2]>=0.20.0->qdrant-client>=1.9.1->mem0ai>=0.1.67->aurite) (4.2.0)\n",
      "Requirement already satisfied: docstring-parser<1.0,>=0.16 in /home/wilcoxr/workspace/aurite/aurite-agents/.venv/lib/python3.11/site-packages (from instructor>=1.7.9->mcp-agent>=0.0.13->openai-agents-mcp->aurite) (0.16)\n",
      "Requirement already satisfied: jinja2<4.0.0,>=3.1.4 in /home/wilcoxr/workspace/aurite/aurite-agents/.venv/lib/python3.11/site-packages (from instructor>=1.7.9->mcp-agent>=0.0.13->openai-agents-mcp->aurite) (3.1.6)\n",
      "Requirement already satisfied: tenacity<10.0.0,>=9.0.0 in /home/wilcoxr/workspace/aurite/aurite-agents/.venv/lib/python3.11/site-packages (from instructor>=1.7.9->mcp-agent>=0.0.13->openai-agents-mcp->aurite) (9.1.2)\n",
      "Requirement already satisfied: mdurl~=0.1 in /home/wilcoxr/workspace/aurite/aurite-agents/.venv/lib/python3.11/site-packages (from markdown-it-py>=2.2.0->rich>=10.11.0->typer>=0.9.0->aurite) (0.1.2)\n",
      "Requirement already satisfied: opentelemetry-api~=1.12 in /home/wilcoxr/workspace/aurite/aurite-agents/.venv/lib/python3.11/site-packages (from opentelemetry-distro>=0.50b0->mcp-agent>=0.0.13->openai-agents-mcp->aurite) (1.34.0)\n",
      "Requirement already satisfied: opentelemetry-instrumentation==0.55b0 in /home/wilcoxr/workspace/aurite/aurite-agents/.venv/lib/python3.11/site-packages (from opentelemetry-distro>=0.50b0->mcp-agent>=0.0.13->openai-agents-mcp->aurite) (0.55b0)\n",
      "Requirement already satisfied: opentelemetry-sdk~=1.13 in /home/wilcoxr/workspace/aurite/aurite-agents/.venv/lib/python3.11/site-packages (from opentelemetry-distro>=0.50b0->mcp-agent>=0.0.13->openai-agents-mcp->aurite) (1.34.0)\n",
      "Requirement already satisfied: opentelemetry-semantic-conventions==0.55b0 in /home/wilcoxr/workspace/aurite/aurite-agents/.venv/lib/python3.11/site-packages (from opentelemetry-instrumentation==0.55b0->opentelemetry-distro>=0.50b0->mcp-agent>=0.0.13->openai-agents-mcp->aurite) (0.55b0)\n",
      "Requirement already satisfied: wrapt<2.0.0,>=1.0.0 in /home/wilcoxr/workspace/aurite/aurite-agents/.venv/lib/python3.11/site-packages (from opentelemetry-instrumentation==0.55b0->opentelemetry-distro>=0.50b0->mcp-agent>=0.0.13->openai-agents-mcp->aurite) (1.17.2)\n",
      "Requirement already satisfied: importlib-metadata<8.8.0,>=6.0 in /home/wilcoxr/workspace/aurite/aurite-agents/.venv/lib/python3.11/site-packages (from opentelemetry-api~=1.12->opentelemetry-distro>=0.50b0->mcp-agent>=0.0.13->openai-agents-mcp->aurite) (8.7.0)\n",
      "Requirement already satisfied: opentelemetry-exporter-otlp-proto-common==1.34.0 in /home/wilcoxr/workspace/aurite/aurite-agents/.venv/lib/python3.11/site-packages (from opentelemetry-exporter-otlp-proto-http>=1.29.0->mcp-agent>=0.0.13->openai-agents-mcp->aurite) (1.34.0)\n",
      "Requirement already satisfied: opentelemetry-proto==1.34.0 in /home/wilcoxr/workspace/aurite/aurite-agents/.venv/lib/python3.11/site-packages (from opentelemetry-exporter-otlp-proto-http>=1.29.0->mcp-agent>=0.0.13->openai-agents-mcp->aurite) (1.34.0)\n",
      "Requirement already satisfied: opentelemetry-semantic-conventions-ai==0.4.9 in /home/wilcoxr/workspace/aurite/aurite-agents/.venv/lib/python3.11/site-packages (from opentelemetry-instrumentation-anthropic>=0.39.3->mcp-agent>=0.0.13->openai-agents-mcp->aurite) (0.4.9)\n",
      "Requirement already satisfied: tiktoken<1,>=0.6.0 in /home/wilcoxr/workspace/aurite/aurite-agents/.venv/lib/python3.11/site-packages (from opentelemetry-instrumentation-openai>=0.39.3->mcp-agent>=0.0.13->openai-agents-mcp->aurite) (0.9.0)\n",
      "Requirement already satisfied: wcwidth in /home/wilcoxr/workspace/aurite/aurite-agents/.venv/lib/python3.11/site-packages (from prompt-toolkit>=3.0.50->mcp-agent>=0.0.13->openai-agents-mcp->aurite) (0.2.13)\n",
      "Requirement already satisfied: pyasn1<0.7.0,>=0.6.1 in /home/wilcoxr/workspace/aurite/aurite-agents/.venv/lib/python3.11/site-packages (from pyasn1-modules>=0.2.1->google-auth!=2.24.0,!=2.25.0,<3.0.0,>=2.14.1->google-cloud-secret-manager>=2.19.0->aurite) (0.6.1)\n",
      "Requirement already satisfied: scipy>=1.8.0 in /home/wilcoxr/workspace/aurite/aurite-agents/.venv/lib/python3.11/site-packages (from scikit-learn>=1.6.0->mcp-agent>=0.0.13->openai-agents-mcp->aurite) (1.15.3)\n",
      "Requirement already satisfied: joblib>=1.2.0 in /home/wilcoxr/workspace/aurite/aurite-agents/.venv/lib/python3.11/site-packages (from scikit-learn>=1.6.0->mcp-agent>=0.0.13->openai-agents-mcp->aurite) (1.5.1)\n",
      "Requirement already satisfied: threadpoolctl>=3.1.0 in /home/wilcoxr/workspace/aurite/aurite-agents/.venv/lib/python3.11/site-packages (from scikit-learn>=1.6.0->mcp-agent>=0.0.13->openai-agents-mcp->aurite) (3.6.0)\n",
      "Requirement already satisfied: hyperframe<7,>=6.1 in /home/wilcoxr/workspace/aurite/aurite-agents/.venv/lib/python3.11/site-packages (from h2<5,>=3->httpx[http2]>=0.20.0->qdrant-client>=1.9.1->mem0ai>=0.1.67->aurite) (6.1.0)\n",
      "Requirement already satisfied: hpack<5,>=4.1 in /home/wilcoxr/workspace/aurite/aurite-agents/.venv/lib/python3.11/site-packages (from h2<5,>=3->httpx[http2]>=0.20.0->qdrant-client>=1.9.1->mem0ai>=0.1.67->aurite) (4.1.0)\n",
      "Requirement already satisfied: regex>=2022.1.18 in /home/wilcoxr/workspace/aurite/aurite-agents/.venv/lib/python3.11/site-packages (from tiktoken<1,>=0.6.0->opentelemetry-instrumentation-openai>=0.39.3->mcp-agent>=0.0.13->openai-agents-mcp->aurite) (2024.11.6)\n",
      "Requirement already satisfied: zipp>=3.20 in /home/wilcoxr/workspace/aurite/aurite-agents/.venv/lib/python3.11/site-packages (from importlib-metadata<8.8.0,>=6.0->opentelemetry-api~=1.12->opentelemetry-distro>=0.50b0->mcp-agent>=0.0.13->openai-agents-mcp->aurite) (3.22.0)\n",
      "\n",
      "\u001b[1m[\u001b[0m\u001b[34;49mnotice\u001b[0m\u001b[1;39;49m]\u001b[0m\u001b[39;49m A new release of pip is available: \u001b[0m\u001b[31;49m24.0\u001b[0m\u001b[39;49m -> \u001b[0m\u001b[32;49m25.1.1\u001b[0m\n",
      "\u001b[1m[\u001b[0m\u001b[34;49mnotice\u001b[0m\u001b[1;39;49m]\u001b[0m\u001b[39;49m To update, run: \u001b[0m\u001b[32;49mpip install --upgrade pip\u001b[0m\n",
      "Note: you may need to restart the kernel to use updated packages.\n"
     ]
    }
   ],
   "source": [
    "%pip install aurite"
   ]
  },
  {
   "cell_type": "markdown",
   "metadata": {},
   "source": [
    "## 1. Setup and Imports\n",
    "\n",
    "First, let's install the required packages and import the necessary classes from the `aurite` library and other standard Python modules to prepare for the next steps."
   ]
  },
  {
   "cell_type": "code",
   "execution_count": 3,
   "metadata": {},
   "outputs": [
    {
     "name": "stderr",
     "output_type": "stream",
     "text": [
      "\u001b[33mWARNING \u001b[0m [aurite.config.component_manager] Duplicate component ID 'planning_server' (from file /home/wilcoxr/workspace/aurite/aurite-agents/.venv/lib/python3.11/site-packages/aurite/packaged/component_configs/mcp_servers/example_mcp_servers.json) for type 'mcp_servers'. Packaged default will be kept. User project component will override if loaded later with override flag.\u001b[0m\n",
      "\u001b[32mINFO    \u001b[0m [aurite.config.component_manager] User project config directory not found at /home/wilcoxr/workspace/aurite/aurite-agents/docs/notebooks/config. No project-specific components will be loaded.\u001b[0m\n",
      "\u001b[31mERROR   \u001b[0m [aurite.config.project_manager] Project configuration file not found: /home/wilcoxr/workspace/aurite/aurite-agents/docs/notebooks/aurite_config.json\u001b[0m\n",
      "\u001b[31mERROR   \u001b[0m [aurite.host_manager] Configuration file not found: /home/wilcoxr/workspace/aurite/aurite-agents/docs/notebooks/aurite_config.json - Project configuration file not found: /home/wilcoxr/workspace/aurite/aurite-agents/docs/notebooks/aurite_config.json\u001b[0m\n"
     ]
    },
    {
     "ename": "RuntimeError",
     "evalue": "Configuration file not found: /home/wilcoxr/workspace/aurite/aurite-agents/docs/notebooks/aurite_config.json",
     "output_type": "error",
     "traceback": [
      "\u001b[31m---------------------------------------------------------------------------\u001b[39m",
      "\u001b[31mFileNotFoundError\u001b[39m                         Traceback (most recent call last)",
      "\u001b[36mFile \u001b[39m\u001b[32m~/workspace/aurite/aurite-agents/.venv/lib/python3.11/site-packages/aurite/host_manager.py:208\u001b[39m, in \u001b[36mAurite.initialize\u001b[39m\u001b[34m(self)\u001b[39m\n\u001b[32m    207\u001b[39m \u001b[38;5;66;03m# load_project now sets active_project_config in project_manager\u001b[39;00m\n\u001b[32m--> \u001b[39m\u001b[32m208\u001b[39m \u001b[38;5;28;43mself\u001b[39;49m\u001b[43m.\u001b[49m\u001b[43mproject_manager\u001b[49m\u001b[43m.\u001b[49m\u001b[43mload_project\u001b[49m\u001b[43m(\u001b[49m\u001b[38;5;28;43mself\u001b[39;49m\u001b[43m.\u001b[49m\u001b[43mconfig_path\u001b[49m\u001b[43m)\u001b[49m\n\u001b[32m    209\u001b[39m active_project = \u001b[38;5;28mself\u001b[39m.project_manager.get_active_project_config()\n",
      "\u001b[36mFile \u001b[39m\u001b[32m~/workspace/aurite/aurite-agents/.venv/lib/python3.11/site-packages/aurite/config/project_manager.py:248\u001b[39m, in \u001b[36mProjectManager.load_project\u001b[39m\u001b[34m(self, project_config_file_path)\u001b[39m\n\u001b[32m    245\u001b[39m \u001b[38;5;66;03m# Parse the project file. This will use components already loaded into ComponentManager\u001b[39;00m\n\u001b[32m    246\u001b[39m \u001b[38;5;66;03m# (both packaged and project-specific) for resolving string references.\u001b[39;00m\n\u001b[32m    247\u001b[39m \u001b[38;5;66;03m# Inline definitions in the project file will use current_project_root for their path resolution.\u001b[39;00m\n\u001b[32m--> \u001b[39m\u001b[32m248\u001b[39m project_config = \u001b[38;5;28;43mself\u001b[39;49m\u001b[43m.\u001b[49m\u001b[43mparse_project_file\u001b[49m\u001b[43m(\u001b[49m\n\u001b[32m    249\u001b[39m \u001b[43m    \u001b[49m\u001b[43mproject_config_file_path\u001b[49m\n\u001b[32m    250\u001b[39m \u001b[43m\u001b[49m\u001b[43m)\u001b[49m  \u001b[38;5;66;03m# parse_project_file now handles current_project_root\u001b[39;00m\n\u001b[32m    252\u001b[39m \u001b[38;5;66;03m# Now set the parsed and validated project_config as the active one\u001b[39;00m\n",
      "\u001b[36mFile \u001b[39m\u001b[32m~/workspace/aurite/aurite-agents/.venv/lib/python3.11/site-packages/aurite/config/project_manager.py:193\u001b[39m, in \u001b[36mProjectManager.parse_project_file\u001b[39m\u001b[34m(self, project_config_file_path)\u001b[39m\n\u001b[32m    190\u001b[39m     logger.error(\n\u001b[32m    191\u001b[39m         \u001b[33mf\u001b[39m\u001b[33m\"\u001b[39m\u001b[33mProject configuration file not found: \u001b[39m\u001b[38;5;132;01m{\u001b[39;00mproject_config_file_path\u001b[38;5;132;01m}\u001b[39;00m\u001b[33m\"\u001b[39m\n\u001b[32m    192\u001b[39m     )\n\u001b[32m--> \u001b[39m\u001b[32m193\u001b[39m     \u001b[38;5;28;01mraise\u001b[39;00m \u001b[38;5;167;01mFileNotFoundError\u001b[39;00m(\n\u001b[32m    194\u001b[39m         \u001b[33mf\u001b[39m\u001b[33m\"\u001b[39m\u001b[33mProject configuration file not found: \u001b[39m\u001b[38;5;132;01m{\u001b[39;00mproject_config_file_path\u001b[38;5;132;01m}\u001b[39;00m\u001b[33m\"\u001b[39m\n\u001b[32m    195\u001b[39m     )\n\u001b[32m    197\u001b[39m \u001b[38;5;28;01mtry\u001b[39;00m:\n",
      "\u001b[31mFileNotFoundError\u001b[39m: Project configuration file not found: /home/wilcoxr/workspace/aurite/aurite-agents/docs/notebooks/aurite_config.json",
      "\nThe above exception was the direct cause of the following exception:\n",
      "\u001b[31mRuntimeError\u001b[39m                              Traceback (most recent call last)",
      "\u001b[36mCell\u001b[39m\u001b[36m \u001b[39m\u001b[32mIn[3]\u001b[39m\u001b[32m, line 8\u001b[39m\n\u001b[32m      5\u001b[39m aurite = Aurite()\n\u001b[32m      7\u001b[39m \u001b[38;5;66;03m# This next command will start up the MCP Tool servers, along with loading your project json file. \u001b[39;00m\n\u001b[32m----> \u001b[39m\u001b[32m8\u001b[39m \u001b[38;5;28;01mawait\u001b[39;00m aurite.initialize()\n",
      "\u001b[36mFile \u001b[39m\u001b[32m~/workspace/aurite/aurite-agents/.venv/lib/python3.11/site-packages/aurite/host_manager.py:357\u001b[39m, in \u001b[36mAurite.initialize\u001b[39m\u001b[34m(self)\u001b[39m\n\u001b[32m    355\u001b[39m \u001b[38;5;28;01mexcept\u001b[39;00m \u001b[38;5;167;01mFileNotFoundError\u001b[39;00m \u001b[38;5;28;01mas\u001b[39;00m e:\n\u001b[32m    356\u001b[39m     logger.error(\u001b[33mf\u001b[39m\u001b[33m\"\u001b[39m\u001b[33mConfiguration file not found: \u001b[39m\u001b[38;5;132;01m{\u001b[39;00m\u001b[38;5;28mself\u001b[39m.config_path\u001b[38;5;132;01m}\u001b[39;00m\u001b[33m - \u001b[39m\u001b[38;5;132;01m{\u001b[39;00me\u001b[38;5;132;01m}\u001b[39;00m\u001b[33m\"\u001b[39m)\n\u001b[32m--> \u001b[39m\u001b[32m357\u001b[39m     \u001b[38;5;28;01mraise\u001b[39;00m \u001b[38;5;167;01mRuntimeError\u001b[39;00m(\n\u001b[32m    358\u001b[39m         \u001b[33mf\u001b[39m\u001b[33m\"\u001b[39m\u001b[33mConfiguration file not found: \u001b[39m\u001b[38;5;132;01m{\u001b[39;00m\u001b[38;5;28mself\u001b[39m.config_path\u001b[38;5;132;01m}\u001b[39;00m\u001b[33m\"\u001b[39m\n\u001b[32m    359\u001b[39m     ) \u001b[38;5;28;01mfrom\u001b[39;00m\u001b[38;5;250m \u001b[39m\u001b[34;01me\u001b[39;00m\n\u001b[32m    360\u001b[39m \u001b[38;5;28;01mexcept\u001b[39;00m (\u001b[38;5;167;01mRuntimeError\u001b[39;00m, \u001b[38;5;167;01mValueError\u001b[39;00m, \u001b[38;5;167;01mTypeError\u001b[39;00m, \u001b[38;5;167;01mKeyError\u001b[39;00m) \u001b[38;5;28;01mas\u001b[39;00m e:\n\u001b[32m    361\u001b[39m     \u001b[38;5;66;03m# Catch errors from load_host_config_from_json or MCPHost instantiation\u001b[39;00m\n\u001b[32m    362\u001b[39m     logger.error(\u001b[33mf\u001b[39m\u001b[33m\"\u001b[39m\u001b[33mError during Aurite initialization: \u001b[39m\u001b[38;5;132;01m{\u001b[39;00me\u001b[38;5;132;01m}\u001b[39;00m\u001b[33m\"\u001b[39m, exc_info=\u001b[38;5;28;01mTrue\u001b[39;00m)\n",
      "\u001b[31mRuntimeError\u001b[39m: Configuration file not found: /home/wilcoxr/workspace/aurite/aurite-agents/docs/notebooks/aurite_config.json"
     ]
    }
   ],
   "source": [
    "from aurite import Aurite\n",
    "\n",
    "# This is the main entry point for your Aurite project.\n",
    "# You can use this class to register and execute LLMs, MCP Servers, Agents, Simple Workflows, and Custom Workflows.\n",
    "aurite = Aurite()\n",
    "\n",
    "# This next command will start up the MCP Tool servers, along with loading your project json file.\n",
    "await aurite.initialize()"
   ]
  },
  {
   "cell_type": "markdown",
   "metadata": {},
   "source": [
    "## 2. Configure Your API Key\n",
    "\n",
    "To use a Large Language Model like OpenAI's GPT-4, you need an API key. For security, it's best practice to set this as an environment variable rather than writing it directly in your code.\n",
    "\n",
    "**Action:** Replace `\"sk-...\"` with your actual OpenAI API key in the cell below."
   ]
  },
  {
   "cell_type": "code",
   "execution_count": 5,
   "metadata": {},
   "outputs": [],
   "source": [
    "import os\n",
    "\n",
    "# if this notebook is running in Google Colab, we can use the userdata module to fetch secrets\n",
    "# Note: This requires the user to have set up their secrets in Colab's secret manager.\n",
    "\n",
    "try:\n",
    "    from google.colab import userdata #type: ignore\n",
    "    # Fetch the secret value from Colab's secret manager and set it as an environment variable so your script can find it\n",
    "    os.environ['OPENAI_API_KEY'] = userdata.get('OPENAI_API_KEY')\n",
    "except ImportError: # This is not a real error, just a check if running in Colab\n",
    "    from dotenv import load_dotenv\n",
    "    load_dotenv()  # Load environment variables from a .env file if it exists\n",
    "except Exception as e:\n",
    "    print(f\"Error fetching OPENAI_API_KEY from Colab's secret manager: {e}\")"
   ]
  },
  {
   "cell_type": "markdown",
   "metadata": {},
   "source": [
    "## 3. The Building Blocks: Components\n",
    "\n",
    "The Aurite framework is built around components. Think of them as configurable building blocks. For our first agent, we need two components:\n",
    "\n",
    "1.  **LLM Component:** This represents the language model that will act as the agent's \"brain.\"\n",
    "\n",
    "2.  **Agent Component:** This defines the agent itself, including its purpose (via a system prompt) and which LLM it should use."
   ]
  },
  {
   "cell_type": "markdown",
   "metadata": {},
   "source": [
    "### Step 3.1: Configure the LLM\n",
    "\n",
    "We use the `LLMConfig` class to define our LLM. We give it a unique ID, specify the provider and model, and tell it which environment variable holds the API key."
   ]
  },
  {
   "cell_type": "code",
   "execution_count": null,
   "metadata": {},
   "outputs": [],
   "source": [
    "llm_config = LLMConfig(\n",
    "    llm_id=\"openai_gpt4_turbo\", # A unique name for this configuration\n",
    "    provider=\"openai\",\n",
    "    model_name=\"gpt-4-turbo-preview\",\n",
    "    api_key_env_var=\"OPENAI_API_KEY\", # The env var we just set\n",
    ")\n",
    "\n",
    "print(\"LLMConfig created:\", llm_config.llm_id)"
   ]
  },
  {
   "cell_type": "markdown",
   "metadata": {},
   "source": [
    "### Step 3.2: Configure the Agent\n",
    "\n",
    "Next, we use the `AgentConfig` class. We give our agent a name, a `system_prompt` that tells it how to behave, and link it to the LLM configuration we just created using the `llm_config_id`."
   ]
  },
  {
   "cell_type": "code",
   "execution_count": null,
   "metadata": {},
   "outputs": [],
   "source": [
    "from aurite import AgentConfig\n",
    "\n",
    "agent_config = AgentConfig(\n",
    "    name=\"My First Agent\", # A unique name for our agent\n",
    "    system_prompt=\"You are a helpful assistant. Your job is to answer the user's question clearly and concisely.\",\n",
    "    llm_config_id=\"openai_gpt4_turbo\", # Connects the agent to our LLM\n",
    ")\n",
    "\n",
    "print(\"AgentConfig created:\", agent_config.name)"
   ]
  },
  {
   "cell_type": "markdown",
   "metadata": {},
   "source": [
    "## 4. Initialize Aurite and Register Components\n",
    "\n",
    "Now we bring everything together. We create an instance of the main `Aurite` class. This object will manage all our components. We then `initialize` it and `register` the LLM and Agent configurations we defined."
   ]
  },
  {
   "cell_type": "code",
   "execution_count": null,
   "metadata": {},
   "outputs": [],
   "source": [
    "async def setup_aurite():\n",
    "    # Initialize the main Aurite application object\n",
    "    aurite = Aurite()\n",
    "    await aurite.initialize()\n",
    "\n",
    "    # Register our LLM and Agent configurations\n",
    "    await aurite.register_llm_config(llm_config)\n",
    "    await aurite.register_agent(agent_config)\n",
    "\n",
    "    print(\"Aurite initialized and components registered.\")\n",
    "    return aurite\n",
    "\n",
    "# In a notebook, we can run the async setup like this:\n",
    "aurite_app = await setup_aurite()"
   ]
  },
  {
   "cell_type": "markdown",
   "metadata": {},
   "source": [
    "## 5. Run the Agent!\n",
    "\n",
    "With everything set up, it's time for the fun part. We can now ask our agent a question. We'll use the `run_agent_stream` method from the `execution` facade. This method runs the agent and streams the response back token by token, just like ChatGPT."
   ]
  },
  {
   "cell_type": "code",
   "execution_count": null,
   "metadata": {},
   "outputs": [],
   "source": [
    "async def run_agent():\n",
    "    user_query = \"What is the mission of the Aurite project?\"\n",
    "    print(colored(f\"\\n--- Running Agent with Query: '{user_query}' ---\", \"yellow\", attrs=[\"bold\"]))\n",
    "\n",
    "    # Run the agent with the user's query\n",
    "    agent_result = await aurite_app.execution.run_agent_stream(\n",
    "        agent_name=\"My First Agent\",\n",
    "        user_message=user_query\n",
    "    )\n",
    "\n",
    "    response_text = agent_result.primary_text\n",
    "    print(colored(f\"\\nAgent's final response: {response_text}\", \"cyan\", attrs=[\"bold\"]))\n",
    "\n",
    "    # Don't forget to shut down the application to clean up resources\n",
    "    await aurite_app.shutdown()\n",
    "    print(\"\\nAurite shutdown complete.\")\n",
    "\n",
    "# Run the agent\n",
    "await run_agent()"
   ]
  },
  {
   "cell_type": "markdown",
   "metadata": {},
   "source": [
    "## Congratulations!\n",
    "\n",
    "You have successfully built and run your first AI agent using the Aurite framework. \n",
    "\n",
    "**Recap:**\n",
    "\n",
    "- You learned how to configure `LLMConfig` and `AgentConfig`.\n",
    "\n",
    "- You initialized the `Aurite` application and registered your components.\n",
    "\n",
    "- You ran the agent with a query and received a response.\n",
    "\n",
    "In the next tutorial, we will explore one of the most powerful features of Aurite: giving agents **tools** to interact with the outside world using the **Model Context Protocol (MCP)**."
   ]
  }
 ],
 }
