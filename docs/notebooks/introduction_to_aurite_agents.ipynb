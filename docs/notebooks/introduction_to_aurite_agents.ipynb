{
 "cells": [
  {
   "cell_type": "markdown",
   "metadata": {},
   "source": [
    "# Introduction to Aurite Agents: Your First AI Agent\n",
    "\n",
    "Welcome to the Aurite Agents framework! This tutorial is the first in a series designed to guide you through building and running your own AI agents. \n",
    "\n",
    "**Goal:** By the end of this notebook, you will have configured and run a simple AI agent that can answer a question using a powerful Large Language Model (LLM).\n",
    "\n",
    "**What is Aurite Agents?** It's a Python framework that provides the building blocks to create, manage, and deploy AI agents. It handles the complex parts of interacting with LLMs and external tools, so you can focus on defining what your agent does.\n",
    "\n",
    "**Prerequisites:**\n",
    "\n",
    "*   Python 3.8+ installed (Google Colab uses Python 3.11)\n",
    "\n",
    "*   An API key from an LLM provider (we'll use OpenAI in this example)."
   ]
  },
  {
   "cell_type": "markdown",
   "id": "0e9f49db",
   "metadata": {},
   "source": [
    "## 1. Install the aurite Python package"
   ]
  },
  {
   "cell_type": "code",
   "execution_count": 1,
   "metadata": {},
   "outputs": [
    {
     "name": "stdout",
     "output_type": "stream",
     "text": [
      "Collecting aurite\n",
      "  Downloading aurite-0.2.28-py3-none-any.whl.metadata (13 kB)\n",
      "Requirement already satisfied: mcp>=1.8.1 in /home/wilcoxr/workspace/aurite/aurite-agents/notebook-venv/lib/python3.11/site-packages (from aurite) (1.9.3)\n",
      "Requirement already satisfied: httpx>=0.28.1 in /home/wilcoxr/workspace/aurite/aurite-agents/notebook-venv/lib/python3.11/site-packages (from aurite) (0.28.1)\n",
      "Requirement already satisfied: anyio>=4.8.0 in /home/wilcoxr/workspace/aurite/aurite-agents/notebook-venv/lib/python3.11/site-packages (from aurite) (4.9.0)\n",
      "Requirement already satisfied: sqlalchemy>=2.0.39 in /home/wilcoxr/workspace/aurite/aurite-agents/notebook-venv/lib/python3.11/site-packages (from aurite) (2.0.41)\n",
      "Requirement already satisfied: anthropic>=0.49.0 in /home/wilcoxr/workspace/aurite/aurite-agents/notebook-venv/lib/python3.11/site-packages (from aurite) (0.52.2)\n",
      "Requirement already satisfied: annotated-types>=0.7.0 in /home/wilcoxr/workspace/aurite/aurite-agents/notebook-venv/lib/python3.11/site-packages (from aurite) (0.7.0)\n",
      "Requirement already satisfied: certifi>=2025.1.31 in /home/wilcoxr/workspace/aurite/aurite-agents/notebook-venv/lib/python3.11/site-packages (from aurite) (2025.4.26)\n",
      "Requirement already satisfied: cffi>=1.17.1 in /home/wilcoxr/workspace/aurite/aurite-agents/notebook-venv/lib/python3.11/site-packages (from aurite) (1.17.1)\n",
      "Requirement already satisfied: click>=8.1.8 in /home/wilcoxr/workspace/aurite/aurite-agents/notebook-venv/lib/python3.11/site-packages (from aurite) (8.2.1)\n",
      "Requirement already satisfied: cryptography<44,>=41.0.5 in /home/wilcoxr/workspace/aurite/aurite-agents/notebook-venv/lib/python3.11/site-packages (from aurite) (43.0.3)\n",
      "Requirement already satisfied: distro>=1.9.0 in /home/wilcoxr/workspace/aurite/aurite-agents/notebook-venv/lib/python3.11/site-packages (from aurite) (1.9.0)\n",
      "Requirement already satisfied: google-genai>=1.11.0 in /home/wilcoxr/workspace/aurite/aurite-agents/notebook-venv/lib/python3.11/site-packages (from aurite) (1.19.0)\n",
      "Requirement already satisfied: greenlet>=3.1.1 in /home/wilcoxr/workspace/aurite/aurite-agents/notebook-venv/lib/python3.11/site-packages (from aurite) (3.2.3)\n",
      "Requirement already satisfied: h11>=0.14.0 in /home/wilcoxr/workspace/aurite/aurite-agents/notebook-venv/lib/python3.11/site-packages (from aurite) (0.16.0)\n",
      "Requirement already satisfied: httpcore>=1.0.7 in /home/wilcoxr/workspace/aurite/aurite-agents/notebook-venv/lib/python3.11/site-packages (from aurite) (1.0.9)\n",
      "Requirement already satisfied: httpx-sse>=0.4.0 in /home/wilcoxr/workspace/aurite/aurite-agents/notebook-venv/lib/python3.11/site-packages (from aurite) (0.4.0)\n",
      "Requirement already satisfied: idna>=3.10 in /home/wilcoxr/workspace/aurite/aurite-agents/notebook-venv/lib/python3.11/site-packages (from aurite) (3.10)\n",
      "Requirement already satisfied: iniconfig>=2.0.0 in /home/wilcoxr/workspace/aurite/aurite-agents/notebook-venv/lib/python3.11/site-packages (from aurite) (2.1.0)\n",
      "Requirement already satisfied: jiter<0.9,>=0.6.1 in /home/wilcoxr/workspace/aurite/aurite-agents/notebook-venv/lib/python3.11/site-packages (from aurite) (0.8.2)\n",
      "Requirement already satisfied: mem0ai>=0.1.67 in /home/wilcoxr/workspace/aurite/aurite-agents/notebook-venv/lib/python3.11/site-packages (from aurite) (0.1.104)\n",
      "Requirement already satisfied: packaging>=24.2 in /home/wilcoxr/workspace/aurite/aurite-agents/notebook-venv/lib/python3.11/site-packages (from aurite) (25.0)\n",
      "Requirement already satisfied: colorlog>=6.0.0 in /home/wilcoxr/workspace/aurite/aurite-agents/notebook-venv/lib/python3.11/site-packages (from aurite) (6.9.0)\n",
      "Requirement already satisfied: termcolor>=3.0.0 in /home/wilcoxr/workspace/aurite/aurite-agents/notebook-venv/lib/python3.11/site-packages (from aurite) (3.1.0)\n",
      "Requirement already satisfied: pluggy>=1.5.0 in /home/wilcoxr/workspace/aurite/aurite-agents/notebook-venv/lib/python3.11/site-packages (from aurite) (1.6.0)\n",
      "Requirement already satisfied: psycopg2-binary>=2.9.10 in /home/wilcoxr/workspace/aurite/aurite-agents/notebook-venv/lib/python3.11/site-packages (from aurite) (2.9.10)\n",
      "Requirement already satisfied: alembic>=1.13.1 in /home/wilcoxr/workspace/aurite/aurite-agents/notebook-venv/lib/python3.11/site-packages (from aurite) (1.16.1)\n",
      "Requirement already satisfied: pycparser>=2.22 in /home/wilcoxr/workspace/aurite/aurite-agents/notebook-venv/lib/python3.11/site-packages (from aurite) (2.22)\n",
      "Requirement already satisfied: pydantic>=2.10.6 in /home/wilcoxr/workspace/aurite/aurite-agents/notebook-venv/lib/python3.11/site-packages (from aurite) (2.11.5)\n",
      "Requirement already satisfied: pydantic-settings>=2.8.1 in /home/wilcoxr/workspace/aurite/aurite-agents/notebook-venv/lib/python3.11/site-packages (from aurite) (2.9.1)\n",
      "Requirement already satisfied: pydantic_core>=2.27.2 in /home/wilcoxr/workspace/aurite/aurite-agents/notebook-venv/lib/python3.11/site-packages (from aurite) (2.33.2)\n",
      "Requirement already satisfied: pydub>=0.25.1 in /home/wilcoxr/workspace/aurite/aurite-agents/notebook-venv/lib/python3.11/site-packages (from aurite) (0.25.1)\n",
      "Requirement already satisfied: PyMySQL>=1.1.1 in /home/wilcoxr/workspace/aurite/aurite-agents/notebook-venv/lib/python3.11/site-packages (from aurite) (1.1.1)\n",
      "Requirement already satisfied: python-dateutil>=2.9.0.post0 in /home/wilcoxr/workspace/aurite/aurite-agents/notebook-venv/lib/python3.11/site-packages (from aurite) (2.9.0.post0)\n",
      "Requirement already satisfied: openai-agents-mcp in /home/wilcoxr/workspace/aurite/aurite-agents/notebook-venv/lib/python3.11/site-packages (from aurite) (0.0.8)\n",
      "Requirement already satisfied: python-dotenv>=1.0.1 in /home/wilcoxr/workspace/aurite/aurite-agents/notebook-venv/lib/python3.11/site-packages (from aurite) (1.1.0)\n",
      "Requirement already satisfied: pytz>=2024.1 in /home/wilcoxr/workspace/aurite/aurite-agents/notebook-venv/lib/python3.11/site-packages (from aurite) (2025.2)\n",
      "Requirement already satisfied: pyyaml>=6.0.2 in /home/wilcoxr/workspace/aurite/aurite-agents/notebook-venv/lib/python3.11/site-packages (from aurite) (6.0.2)\n",
      "Requirement already satisfied: redis>=5.0.0 in /home/wilcoxr/workspace/aurite/aurite-agents/notebook-venv/lib/python3.11/site-packages (from aurite) (6.2.0)\n",
      "Requirement already satisfied: six>=1.17.0 in /home/wilcoxr/workspace/aurite/aurite-agents/notebook-venv/lib/python3.11/site-packages (from aurite) (1.17.0)\n",
      "Requirement already satisfied: sniffio>=1.3.1 in /home/wilcoxr/workspace/aurite/aurite-agents/notebook-venv/lib/python3.11/site-packages (from aurite) (1.3.1)\n",
      "Requirement already satisfied: jsonschema in /home/wilcoxr/workspace/aurite/aurite-agents/notebook-venv/lib/python3.11/site-packages (from aurite) (4.24.0)\n",
      "Requirement already satisfied: sse-starlette>=2.2.1 in /home/wilcoxr/workspace/aurite/aurite-agents/notebook-venv/lib/python3.11/site-packages (from aurite) (2.3.6)\n",
      "Requirement already satisfied: starlette>=0.46.1 in /home/wilcoxr/workspace/aurite/aurite-agents/notebook-venv/lib/python3.11/site-packages (from aurite) (0.46.2)\n",
      "Requirement already satisfied: typing_extensions>=4.12.2 in /home/wilcoxr/workspace/aurite/aurite-agents/notebook-venv/lib/python3.11/site-packages (from aurite) (4.14.0)\n",
      "Requirement already satisfied: typer>=0.9.0 in /home/wilcoxr/workspace/aurite/aurite-agents/notebook-venv/lib/python3.11/site-packages (from aurite) (0.16.0)\n",
      "Requirement already satisfied: tzdata>=2025.1 in /home/wilcoxr/workspace/aurite/aurite-agents/notebook-venv/lib/python3.11/site-packages (from aurite) (2025.2)\n",
      "Requirement already satisfied: uvicorn>=0.34.0 in /home/wilcoxr/workspace/aurite/aurite-agents/notebook-venv/lib/python3.11/site-packages (from aurite) (0.34.3)\n",
      "Requirement already satisfied: fastapi in /home/wilcoxr/workspace/aurite/aurite-agents/notebook-venv/lib/python3.11/site-packages (from aurite) (0.115.12)\n",
      "Requirement already satisfied: google-cloud-secret-manager>=2.19.0 in /home/wilcoxr/workspace/aurite/aurite-agents/notebook-venv/lib/python3.11/site-packages (from aurite) (2.24.0)\n",
      "Requirement already satisfied: Mako in /home/wilcoxr/workspace/aurite/aurite-agents/notebook-venv/lib/python3.11/site-packages (from alembic>=1.13.1->aurite) (1.3.10)\n",
      "Requirement already satisfied: google-api-core!=2.0.*,!=2.1.*,!=2.10.*,!=2.2.*,!=2.3.*,!=2.4.*,!=2.5.*,!=2.6.*,!=2.7.*,!=2.8.*,!=2.9.*,<3.0.0,>=1.34.1 in /home/wilcoxr/workspace/aurite/aurite-agents/notebook-venv/lib/python3.11/site-packages (from google-api-core[grpc]!=2.0.*,!=2.1.*,!=2.10.*,!=2.2.*,!=2.3.*,!=2.4.*,!=2.5.*,!=2.6.*,!=2.7.*,!=2.8.*,!=2.9.*,<3.0.0,>=1.34.1->google-cloud-secret-manager>=2.19.0->aurite) (2.25.0)\n",
      "Requirement already satisfied: google-auth!=2.24.0,!=2.25.0,<3.0.0,>=2.14.1 in /home/wilcoxr/workspace/aurite/aurite-agents/notebook-venv/lib/python3.11/site-packages (from google-cloud-secret-manager>=2.19.0->aurite) (2.40.3)\n",
      "Requirement already satisfied: proto-plus<2.0.0,>=1.22.3 in /home/wilcoxr/workspace/aurite/aurite-agents/notebook-venv/lib/python3.11/site-packages (from google-cloud-secret-manager>=2.19.0->aurite) (1.26.1)\n",
      "Requirement already satisfied: protobuf!=4.21.0,!=4.21.1,!=4.21.2,!=4.21.3,!=4.21.4,!=4.21.5,<7.0.0,>=3.20.2 in /home/wilcoxr/workspace/aurite/aurite-agents/notebook-venv/lib/python3.11/site-packages (from google-cloud-secret-manager>=2.19.0->aurite) (5.29.5)\n",
      "Requirement already satisfied: grpc-google-iam-v1<1.0.0,>=0.14.0 in /home/wilcoxr/workspace/aurite/aurite-agents/notebook-venv/lib/python3.11/site-packages (from google-cloud-secret-manager>=2.19.0->aurite) (0.14.2)\n",
      "Requirement already satisfied: requests<3.0.0,>=2.28.1 in /home/wilcoxr/workspace/aurite/aurite-agents/notebook-venv/lib/python3.11/site-packages (from google-genai>=1.11.0->aurite) (2.32.3)\n",
      "Requirement already satisfied: websockets<15.1.0,>=13.0.0 in /home/wilcoxr/workspace/aurite/aurite-agents/notebook-venv/lib/python3.11/site-packages (from google-genai>=1.11.0->aurite) (15.0.1)\n",
      "Requirement already satisfied: python-multipart>=0.0.9 in /home/wilcoxr/workspace/aurite/aurite-agents/notebook-venv/lib/python3.11/site-packages (from mcp>=1.8.1->aurite) (0.0.20)\n",
      "Requirement already satisfied: openai>=1.33.0 in /home/wilcoxr/workspace/aurite/aurite-agents/notebook-venv/lib/python3.11/site-packages (from mem0ai>=0.1.67->aurite) (1.84.0)\n",
      "Requirement already satisfied: posthog>=3.5.0 in /home/wilcoxr/workspace/aurite/aurite-agents/notebook-venv/lib/python3.11/site-packages (from mem0ai>=0.1.67->aurite) (4.4.0)\n",
      "Requirement already satisfied: qdrant-client>=1.9.1 in /home/wilcoxr/workspace/aurite/aurite-agents/notebook-venv/lib/python3.11/site-packages (from mem0ai>=0.1.67->aurite) (1.14.2)\n",
      "Requirement already satisfied: typing-inspection>=0.4.0 in /home/wilcoxr/workspace/aurite/aurite-agents/notebook-venv/lib/python3.11/site-packages (from pydantic>=2.10.6->aurite) (0.4.1)\n",
      "Requirement already satisfied: shellingham>=1.3.0 in /home/wilcoxr/workspace/aurite/aurite-agents/notebook-venv/lib/python3.11/site-packages (from typer>=0.9.0->aurite) (1.5.4)\n",
      "Requirement already satisfied: rich>=10.11.0 in /home/wilcoxr/workspace/aurite/aurite-agents/notebook-venv/lib/python3.11/site-packages (from typer>=0.9.0->aurite) (13.9.4)\n",
      "Requirement already satisfied: attrs>=22.2.0 in /home/wilcoxr/workspace/aurite/aurite-agents/notebook-venv/lib/python3.11/site-packages (from jsonschema->aurite) (25.3.0)\n",
      "Requirement already satisfied: jsonschema-specifications>=2023.03.6 in /home/wilcoxr/workspace/aurite/aurite-agents/notebook-venv/lib/python3.11/site-packages (from jsonschema->aurite) (2025.4.1)\n",
      "Requirement already satisfied: referencing>=0.28.4 in /home/wilcoxr/workspace/aurite/aurite-agents/notebook-venv/lib/python3.11/site-packages (from jsonschema->aurite) (0.36.2)\n",
      "Requirement already satisfied: rpds-py>=0.7.1 in /home/wilcoxr/workspace/aurite/aurite-agents/notebook-venv/lib/python3.11/site-packages (from jsonschema->aurite) (0.25.1)\n",
      "Requirement already satisfied: mcp-agent>=0.0.13 in /home/wilcoxr/workspace/aurite/aurite-agents/notebook-venv/lib/python3.11/site-packages (from openai-agents-mcp->aurite) (0.1.1)\n",
      "Requirement already satisfied: openai-agents>=0.0.5 in /home/wilcoxr/workspace/aurite/aurite-agents/notebook-venv/lib/python3.11/site-packages (from openai-agents-mcp->aurite) (0.0.17)\n",
      "Requirement already satisfied: googleapis-common-protos<2.0.0,>=1.56.2 in /home/wilcoxr/workspace/aurite/aurite-agents/notebook-venv/lib/python3.11/site-packages (from google-api-core!=2.0.*,!=2.1.*,!=2.10.*,!=2.2.*,!=2.3.*,!=2.4.*,!=2.5.*,!=2.6.*,!=2.7.*,!=2.8.*,!=2.9.*,<3.0.0,>=1.34.1->google-api-core[grpc]!=2.0.*,!=2.1.*,!=2.10.*,!=2.2.*,!=2.3.*,!=2.4.*,!=2.5.*,!=2.6.*,!=2.7.*,!=2.8.*,!=2.9.*,<3.0.0,>=1.34.1->google-cloud-secret-manager>=2.19.0->aurite) (1.70.0)\n",
      "Requirement already satisfied: grpcio<2.0.0,>=1.33.2 in /home/wilcoxr/workspace/aurite/aurite-agents/notebook-venv/lib/python3.11/site-packages (from google-api-core[grpc]!=2.0.*,!=2.1.*,!=2.10.*,!=2.2.*,!=2.3.*,!=2.4.*,!=2.5.*,!=2.6.*,!=2.7.*,!=2.8.*,!=2.9.*,<3.0.0,>=1.34.1->google-cloud-secret-manager>=2.19.0->aurite) (1.72.1)\n",
      "Requirement already satisfied: grpcio-status<2.0.0,>=1.33.2 in /home/wilcoxr/workspace/aurite/aurite-agents/notebook-venv/lib/python3.11/site-packages (from google-api-core[grpc]!=2.0.*,!=2.1.*,!=2.10.*,!=2.2.*,!=2.3.*,!=2.4.*,!=2.5.*,!=2.6.*,!=2.7.*,!=2.8.*,!=2.9.*,<3.0.0,>=1.34.1->google-cloud-secret-manager>=2.19.0->aurite) (1.71.0)\n",
      "Requirement already satisfied: cachetools<6.0,>=2.0.0 in /home/wilcoxr/workspace/aurite/aurite-agents/notebook-venv/lib/python3.11/site-packages (from google-auth!=2.24.0,!=2.25.0,<3.0.0,>=2.14.1->google-cloud-secret-manager>=2.19.0->aurite) (5.5.2)\n",
      "Requirement already satisfied: pyasn1-modules>=0.2.1 in /home/wilcoxr/workspace/aurite/aurite-agents/notebook-venv/lib/python3.11/site-packages (from google-auth!=2.24.0,!=2.25.0,<3.0.0,>=2.14.1->google-cloud-secret-manager>=2.19.0->aurite) (0.4.2)\n",
      "Requirement already satisfied: rsa<5,>=3.1.4 in /home/wilcoxr/workspace/aurite/aurite-agents/notebook-venv/lib/python3.11/site-packages (from google-auth!=2.24.0,!=2.25.0,<3.0.0,>=2.14.1->google-cloud-secret-manager>=2.19.0->aurite) (4.9.1)\n",
      "Requirement already satisfied: aiohttp>=3.11.13 in /home/wilcoxr/workspace/aurite/aurite-agents/notebook-venv/lib/python3.11/site-packages (from mcp-agent>=0.0.13->openai-agents-mcp->aurite) (3.12.11)\n",
      "Requirement already satisfied: instructor>=1.7.9 in /home/wilcoxr/workspace/aurite/aurite-agents/notebook-venv/lib/python3.11/site-packages (from mcp-agent>=0.0.13->openai-agents-mcp->aurite) (1.8.3)\n",
      "Requirement already satisfied: numpy>=2.1.3 in /home/wilcoxr/workspace/aurite/aurite-agents/notebook-venv/lib/python3.11/site-packages (from mcp-agent>=0.0.13->openai-agents-mcp->aurite) (2.3.0)\n",
      "Requirement already satisfied: opentelemetry-distro>=0.50b0 in /home/wilcoxr/workspace/aurite/aurite-agents/notebook-venv/lib/python3.11/site-packages (from mcp-agent>=0.0.13->openai-agents-mcp->aurite) (0.55b0)\n",
      "Requirement already satisfied: opentelemetry-exporter-otlp-proto-http>=1.29.0 in /home/wilcoxr/workspace/aurite/aurite-agents/notebook-venv/lib/python3.11/site-packages (from mcp-agent>=0.0.13->openai-agents-mcp->aurite) (1.34.0)\n",
      "Requirement already satisfied: opentelemetry-instrumentation-anthropic>=0.39.3 in /home/wilcoxr/workspace/aurite/aurite-agents/notebook-venv/lib/python3.11/site-packages (from mcp-agent>=0.0.13->openai-agents-mcp->aurite) (0.40.7)\n",
      "Requirement already satisfied: opentelemetry-instrumentation-openai>=0.39.3 in /home/wilcoxr/workspace/aurite/aurite-agents/notebook-venv/lib/python3.11/site-packages (from mcp-agent>=0.0.13->openai-agents-mcp->aurite) (0.40.7)\n",
      "Requirement already satisfied: prompt-toolkit>=3.0.50 in /home/wilcoxr/workspace/aurite/aurite-agents/notebook-venv/lib/python3.11/site-packages (from mcp-agent>=0.0.13->openai-agents-mcp->aurite) (3.0.51)\n",
      "Requirement already satisfied: scikit-learn>=1.6.0 in /home/wilcoxr/workspace/aurite/aurite-agents/notebook-venv/lib/python3.11/site-packages (from mcp-agent>=0.0.13->openai-agents-mcp->aurite) (1.7.0)\n",
      "Requirement already satisfied: tqdm>4 in /home/wilcoxr/workspace/aurite/aurite-agents/notebook-venv/lib/python3.11/site-packages (from openai>=1.33.0->mem0ai>=0.1.67->aurite) (4.67.1)\n",
      "Requirement already satisfied: griffe<2,>=1.5.6 in /home/wilcoxr/workspace/aurite/aurite-agents/notebook-venv/lib/python3.11/site-packages (from openai-agents>=0.0.5->openai-agents-mcp->aurite) (1.7.3)\n",
      "Requirement already satisfied: types-requests<3,>=2.0 in /home/wilcoxr/workspace/aurite/aurite-agents/notebook-venv/lib/python3.11/site-packages (from openai-agents>=0.0.5->openai-agents-mcp->aurite) (2.32.0.20250602)\n",
      "Requirement already satisfied: backoff>=1.10.0 in /home/wilcoxr/workspace/aurite/aurite-agents/notebook-venv/lib/python3.11/site-packages (from posthog>=3.5.0->mem0ai>=0.1.67->aurite) (2.2.1)\n",
      "Requirement already satisfied: portalocker<3.0.0,>=2.7.0 in /home/wilcoxr/workspace/aurite/aurite-agents/notebook-venv/lib/python3.11/site-packages (from qdrant-client>=1.9.1->mem0ai>=0.1.67->aurite) (2.10.1)\n",
      "Requirement already satisfied: urllib3<3,>=1.26.14 in /home/wilcoxr/workspace/aurite/aurite-agents/notebook-venv/lib/python3.11/site-packages (from qdrant-client>=1.9.1->mem0ai>=0.1.67->aurite) (2.4.0)\n",
      "Requirement already satisfied: charset-normalizer<4,>=2 in /home/wilcoxr/workspace/aurite/aurite-agents/notebook-venv/lib/python3.11/site-packages (from requests<3.0.0,>=2.28.1->google-genai>=1.11.0->aurite) (3.4.2)\n",
      "Requirement already satisfied: markdown-it-py>=2.2.0 in /home/wilcoxr/workspace/aurite/aurite-agents/notebook-venv/lib/python3.11/site-packages (from rich>=10.11.0->typer>=0.9.0->aurite) (3.0.0)\n",
      "Requirement already satisfied: pygments<3.0.0,>=2.13.0 in /home/wilcoxr/workspace/aurite/aurite-agents/notebook-venv/lib/python3.11/site-packages (from rich>=10.11.0->typer>=0.9.0->aurite) (2.19.1)\n",
      "Requirement already satisfied: MarkupSafe>=0.9.2 in /home/wilcoxr/workspace/aurite/aurite-agents/notebook-venv/lib/python3.11/site-packages (from Mako->alembic>=1.13.1->aurite) (3.0.2)\n",
      "Requirement already satisfied: aiohappyeyeballs>=2.5.0 in /home/wilcoxr/workspace/aurite/aurite-agents/notebook-venv/lib/python3.11/site-packages (from aiohttp>=3.11.13->mcp-agent>=0.0.13->openai-agents-mcp->aurite) (2.6.1)\n",
      "Requirement already satisfied: aiosignal>=1.1.2 in /home/wilcoxr/workspace/aurite/aurite-agents/notebook-venv/lib/python3.11/site-packages (from aiohttp>=3.11.13->mcp-agent>=0.0.13->openai-agents-mcp->aurite) (1.3.2)\n",
      "Requirement already satisfied: frozenlist>=1.1.1 in /home/wilcoxr/workspace/aurite/aurite-agents/notebook-venv/lib/python3.11/site-packages (from aiohttp>=3.11.13->mcp-agent>=0.0.13->openai-agents-mcp->aurite) (1.6.2)\n",
      "Requirement already satisfied: multidict<7.0,>=4.5 in /home/wilcoxr/workspace/aurite/aurite-agents/notebook-venv/lib/python3.11/site-packages (from aiohttp>=3.11.13->mcp-agent>=0.0.13->openai-agents-mcp->aurite) (6.4.4)\n",
      "Requirement already satisfied: propcache>=0.2.0 in /home/wilcoxr/workspace/aurite/aurite-agents/notebook-venv/lib/python3.11/site-packages (from aiohttp>=3.11.13->mcp-agent>=0.0.13->openai-agents-mcp->aurite) (0.3.1)\n",
      "Requirement already satisfied: yarl<2.0,>=1.17.0 in /home/wilcoxr/workspace/aurite/aurite-agents/notebook-venv/lib/python3.11/site-packages (from aiohttp>=3.11.13->mcp-agent>=0.0.13->openai-agents-mcp->aurite) (1.20.0)\n",
      "Requirement already satisfied: colorama>=0.4 in /home/wilcoxr/workspace/aurite/aurite-agents/notebook-venv/lib/python3.11/site-packages (from griffe<2,>=1.5.6->openai-agents>=0.0.5->openai-agents-mcp->aurite) (0.4.6)\n",
      "Requirement already satisfied: h2<5,>=3 in /home/wilcoxr/workspace/aurite/aurite-agents/notebook-venv/lib/python3.11/site-packages (from httpx[http2]>=0.20.0->qdrant-client>=1.9.1->mem0ai>=0.1.67->aurite) (4.2.0)\n",
      "Requirement already satisfied: docstring-parser<1.0,>=0.16 in /home/wilcoxr/workspace/aurite/aurite-agents/notebook-venv/lib/python3.11/site-packages (from instructor>=1.7.9->mcp-agent>=0.0.13->openai-agents-mcp->aurite) (0.16)\n",
      "Requirement already satisfied: jinja2<4.0.0,>=3.1.4 in /home/wilcoxr/workspace/aurite/aurite-agents/notebook-venv/lib/python3.11/site-packages (from instructor>=1.7.9->mcp-agent>=0.0.13->openai-agents-mcp->aurite) (3.1.6)\n",
      "Requirement already satisfied: tenacity<10.0.0,>=9.0.0 in /home/wilcoxr/workspace/aurite/aurite-agents/notebook-venv/lib/python3.11/site-packages (from instructor>=1.7.9->mcp-agent>=0.0.13->openai-agents-mcp->aurite) (9.1.2)\n",
      "Requirement already satisfied: mdurl~=0.1 in /home/wilcoxr/workspace/aurite/aurite-agents/notebook-venv/lib/python3.11/site-packages (from markdown-it-py>=2.2.0->rich>=10.11.0->typer>=0.9.0->aurite) (0.1.2)\n",
      "Requirement already satisfied: opentelemetry-api~=1.12 in /home/wilcoxr/workspace/aurite/aurite-agents/notebook-venv/lib/python3.11/site-packages (from opentelemetry-distro>=0.50b0->mcp-agent>=0.0.13->openai-agents-mcp->aurite) (1.34.0)\n",
      "Requirement already satisfied: opentelemetry-instrumentation==0.55b0 in /home/wilcoxr/workspace/aurite/aurite-agents/notebook-venv/lib/python3.11/site-packages (from opentelemetry-distro>=0.50b0->mcp-agent>=0.0.13->openai-agents-mcp->aurite) (0.55b0)\n",
      "Requirement already satisfied: opentelemetry-sdk~=1.13 in /home/wilcoxr/workspace/aurite/aurite-agents/notebook-venv/lib/python3.11/site-packages (from opentelemetry-distro>=0.50b0->mcp-agent>=0.0.13->openai-agents-mcp->aurite) (1.34.0)\n",
      "Requirement already satisfied: opentelemetry-semantic-conventions==0.55b0 in /home/wilcoxr/workspace/aurite/aurite-agents/notebook-venv/lib/python3.11/site-packages (from opentelemetry-instrumentation==0.55b0->opentelemetry-distro>=0.50b0->mcp-agent>=0.0.13->openai-agents-mcp->aurite) (0.55b0)\n",
      "Requirement already satisfied: wrapt<2.0.0,>=1.0.0 in /home/wilcoxr/workspace/aurite/aurite-agents/notebook-venv/lib/python3.11/site-packages (from opentelemetry-instrumentation==0.55b0->opentelemetry-distro>=0.50b0->mcp-agent>=0.0.13->openai-agents-mcp->aurite) (1.17.2)\n",
      "Requirement already satisfied: importlib-metadata<8.8.0,>=6.0 in /home/wilcoxr/workspace/aurite/aurite-agents/notebook-venv/lib/python3.11/site-packages (from opentelemetry-api~=1.12->opentelemetry-distro>=0.50b0->mcp-agent>=0.0.13->openai-agents-mcp->aurite) (8.7.0)\n",
      "Requirement already satisfied: opentelemetry-exporter-otlp-proto-common==1.34.0 in /home/wilcoxr/workspace/aurite/aurite-agents/notebook-venv/lib/python3.11/site-packages (from opentelemetry-exporter-otlp-proto-http>=1.29.0->mcp-agent>=0.0.13->openai-agents-mcp->aurite) (1.34.0)\n",
      "Requirement already satisfied: opentelemetry-proto==1.34.0 in /home/wilcoxr/workspace/aurite/aurite-agents/notebook-venv/lib/python3.11/site-packages (from opentelemetry-exporter-otlp-proto-http>=1.29.0->mcp-agent>=0.0.13->openai-agents-mcp->aurite) (1.34.0)\n",
      "Requirement already satisfied: opentelemetry-semantic-conventions-ai==0.4.9 in /home/wilcoxr/workspace/aurite/aurite-agents/notebook-venv/lib/python3.11/site-packages (from opentelemetry-instrumentation-anthropic>=0.39.3->mcp-agent>=0.0.13->openai-agents-mcp->aurite) (0.4.9)\n",
      "Requirement already satisfied: tiktoken<1,>=0.6.0 in /home/wilcoxr/workspace/aurite/aurite-agents/notebook-venv/lib/python3.11/site-packages (from opentelemetry-instrumentation-openai>=0.39.3->mcp-agent>=0.0.13->openai-agents-mcp->aurite) (0.9.0)\n",
      "Requirement already satisfied: wcwidth in /home/wilcoxr/workspace/aurite/aurite-agents/notebook-venv/lib/python3.11/site-packages (from prompt-toolkit>=3.0.50->mcp-agent>=0.0.13->openai-agents-mcp->aurite) (0.2.13)\n",
      "Requirement already satisfied: pyasn1<0.7.0,>=0.6.1 in /home/wilcoxr/workspace/aurite/aurite-agents/notebook-venv/lib/python3.11/site-packages (from pyasn1-modules>=0.2.1->google-auth!=2.24.0,!=2.25.0,<3.0.0,>=2.14.1->google-cloud-secret-manager>=2.19.0->aurite) (0.6.1)\n",
      "Requirement already satisfied: scipy>=1.8.0 in /home/wilcoxr/workspace/aurite/aurite-agents/notebook-venv/lib/python3.11/site-packages (from scikit-learn>=1.6.0->mcp-agent>=0.0.13->openai-agents-mcp->aurite) (1.15.3)\n",
      "Requirement already satisfied: joblib>=1.2.0 in /home/wilcoxr/workspace/aurite/aurite-agents/notebook-venv/lib/python3.11/site-packages (from scikit-learn>=1.6.0->mcp-agent>=0.0.13->openai-agents-mcp->aurite) (1.5.1)\n",
      "Requirement already satisfied: threadpoolctl>=3.1.0 in /home/wilcoxr/workspace/aurite/aurite-agents/notebook-venv/lib/python3.11/site-packages (from scikit-learn>=1.6.0->mcp-agent>=0.0.13->openai-agents-mcp->aurite) (3.6.0)\n",
      "Requirement already satisfied: hyperframe<7,>=6.1 in /home/wilcoxr/workspace/aurite/aurite-agents/notebook-venv/lib/python3.11/site-packages (from h2<5,>=3->httpx[http2]>=0.20.0->qdrant-client>=1.9.1->mem0ai>=0.1.67->aurite) (6.1.0)\n",
      "Requirement already satisfied: hpack<5,>=4.1 in /home/wilcoxr/workspace/aurite/aurite-agents/notebook-venv/lib/python3.11/site-packages (from h2<5,>=3->httpx[http2]>=0.20.0->qdrant-client>=1.9.1->mem0ai>=0.1.67->aurite) (4.1.0)\n",
      "Requirement already satisfied: regex>=2022.1.18 in /home/wilcoxr/workspace/aurite/aurite-agents/notebook-venv/lib/python3.11/site-packages (from tiktoken<1,>=0.6.0->opentelemetry-instrumentation-openai>=0.39.3->mcp-agent>=0.0.13->openai-agents-mcp->aurite) (2024.11.6)\n",
      "Requirement already satisfied: zipp>=3.20 in /home/wilcoxr/workspace/aurite/aurite-agents/notebook-venv/lib/python3.11/site-packages (from importlib-metadata<8.8.0,>=6.0->opentelemetry-api~=1.12->opentelemetry-distro>=0.50b0->mcp-agent>=0.0.13->openai-agents-mcp->aurite) (3.22.0)\n",
      "Downloading aurite-0.2.28-py3-none-any.whl (344 kB)\n",
      "\u001b[2K   \u001b[90m━━━━━━━━━━━━━━━━━━━━━━━━━━━━━━━━━━━━━━━━\u001b[0m \u001b[32m344.4/344.4 kB\u001b[0m \u001b[31m4.5 MB/s\u001b[0m eta \u001b[36m0:00:00\u001b[0m00:01\u001b[0m0:01\u001b[0m\n",
      "\u001b[?25hInstalling collected packages: aurite\n",
      "Successfully installed aurite-0.2.28\n",
      "\n",
      "\u001b[1m[\u001b[0m\u001b[34;49mnotice\u001b[0m\u001b[1;39;49m]\u001b[0m\u001b[39;49m A new release of pip is available: \u001b[0m\u001b[31;49m24.0\u001b[0m\u001b[39;49m -> \u001b[0m\u001b[32;49m25.1.1\u001b[0m\n",
      "\u001b[1m[\u001b[0m\u001b[34;49mnotice\u001b[0m\u001b[1;39;49m]\u001b[0m\u001b[39;49m To update, run: \u001b[0m\u001b[32;49mpip install --upgrade pip\u001b[0m\n",
      "Note: you may need to restart the kernel to use updated packages.\n"
     ]
    }
   ],
   "source": [
    "%pip install aurite"
   ]
  },
  {
   "cell_type": "markdown",
   "metadata": {},
   "source": [
    "## 2. Configure Your API Key\n",
    "\n",
    "To use a Large Language Model like OpenAI's GPT-4, you need an API key. For security, it's best practice to set this as an environment variable rather than writing it directly in your code.\n",
    "\n",
    "**Google Colab Users:** Ensure your Google Colab **Secrets** tab (the key icon on the left sidebar) has an `OPENAI_API_KEY` set and enable it for this notebook.\n",
    "\n",
    "**IDE Users:** Ensure you have a .env file containing a valid `OPENAI_API_KEY` in your root vscode folder"
   ]
  },
  {
   "cell_type": "code",
   "execution_count": 5,
   "metadata": {},
   "outputs": [
    {
     "name": "stdout",
     "output_type": "stream",
     "text": [
      "✅ OpenAI API Key is set!\n"
     ]
    }
   ],
   "source": [
    "import os\n",
    "\n",
    "# if this notebook is running in Google Colab, we can use the userdata module to fetch secrets\n",
    "# Note: This requires the user to have set up their secrets in Colab's secret manager.\n",
    "\n",
    "try:\n",
    "    from google.colab import userdata #type: ignore\n",
    "    # Fetch the secret value from Colab's secret manager and set it as an environment variable so your script can find it\n",
    "    os.environ['OPENAI_API_KEY'] = userdata.get('OPENAI_API_KEY')\n",
    "except ImportError: # This is not a real error, just a check if running in Colab\n",
    "    from dotenv import load_dotenv\n",
    "    load_dotenv()  # Load environment variables from a .env file if it exists\n",
    "except Exception as e:\n",
    "    print(f\"Error fetching OPENAI_API_KEY from Colab's secret manager: {e}\")\n",
    "\n",
    "print(\"✅ OpenAI API Key is set!\")"
   ]
  },
  {
   "cell_type": "markdown",
   "metadata": {},
   "source": [
    "## 3. Initialize Aurite\n",
    "\n",
    "This is the main class you will be working with. You can use the `Aurite` class to register and execute LLMs, MCP Servers, Agents, and Simple/Custom Workflows.\n",
    "\n",
    "The `initialize()` method will become more relevant later when you learn about `Project Files`, but for now this method will simply load the built-in configurations provided by the package."
   ]
  },
  {
   "cell_type": "code",
   "execution_count": 9,
   "metadata": {},
   "outputs": [
    {
     "name": "stderr",
     "output_type": "stream",
     "text": [
      "\u001b[33mWARNING \u001b[0m [aurite.config.component_manager] Duplicate component ID 'planning_server' (from file /home/wilcoxr/workspace/aurite/aurite-agents/notebook-venv/lib/python3.11/site-packages/aurite/packaged/component_configs/mcp_servers/example_mcp_servers.json) for type 'mcp_servers'. Packaged default will be kept. User project component will override if loaded later with override flag.\u001b[0m\n",
      "\u001b[32mINFO    \u001b[0m [aurite.config.project_manager] \u001b[1m\u001b[33mProject 'DefaultMCPHost' successfully loaded from `/home/wilcoxr/workspace/aurite/aurite-agents/aurite_config.json`.\u001b[0m\n",
      "\u001b[32mINFO    \u001b[0m [aurite.host.host] MCP Host initialization attempt finished. Successfully initialized 2/2 configured clients. \u001b[0m\n",
      "\u001b[32mINFO    \u001b[0m [aurite.host_manager] \u001b[1m\u001b[33mAurite initialization complete.\u001b[0m\n"
     ]
    }
   ],
   "source": [
    "from aurite import Aurite\n",
    "\n",
    "# This is the main entry point for your Aurite project.\n",
    "# You can use this class to register and execute LLMs, MCP Servers, Agents, Simple Workflows, and Custom Workflows.\n",
    "aurite = Aurite()\n",
    "\n",
    "# This next command will start up the MCP Tool servers, along with loading your project json file.\n",
    "await aurite.initialize()\n",
    "\n"
   ]
  },
  {
   "cell_type": "markdown",
   "metadata": {},
   "source": [
    "## 3. The Building Blocks: Components\n",
    "\n",
    "The Aurite framework is built around components. Think of them as configurable building blocks.\n",
    "\n",
    "You can define and register components within your Python code, or using json configuration files (explained in tutorial 2).\n",
    "\n",
    "Once registered, components can be referenced by their name/id. This will allow you to use components as pieces of other components, and to easily execute them."
   ]
  },
  {
   "cell_type": "markdown",
   "id": "d0133105",
   "metadata": {},
   "source": [
    "### 3.1 Building Your First Agent \n",
    "\n",
    "The first and most important component that we will work with is the **`Agent`** component.\n",
    "\n",
    "In order to create an agent, the only required variable is a `Name` (so we can register and execute the agent).\n",
    "\n",
    "Since our agent has no tools, and no system prompt, we have essentially created ChatGPT."
   ]
  },
  {
   "cell_type": "code",
   "execution_count": null,
   "metadata": {},
   "outputs": [],
   "source": [
    "from aurite import AgentConfig\n",
    "\n",
    "# Create an agent configuration with the name \"MyAgent\"\n",
    "agent_config = AgentConfig(name=\"MyAgent\")\n",
    "\n",
    "# Let's register the agent with Aurite.\n",
    "await aurite.register_agent(agent_config)"
   ]
  },
  {
   "cell_type": "markdown",
   "id": "ecc2683f",
   "metadata": {},
   "source": [
    "#### Execute Your First Agent\n",
    "\n",
    "Let's execute our minimal agent now using the Aurite class.\n"
   ]
  },
  {
   "cell_type": "markdown",
   "metadata": {},
   "source": [
    "## 5. Run the Agent!\n",
    "\n",
    "With everything set up, it's time for the fun part. We can now ask our agent a question. We'll use the `run_agent_stream` method from the `execution` facade. This method runs the agent and streams the response back token by token, just like ChatGPT."
   ]
  },
  {
   "cell_type": "code",
   "execution_count": null,
   "metadata": {},
   "outputs": [],
   "source": [
    "async def run_agent():\n",
    "    user_query = \"What is the mission of the Aurite project?\"\n",
    "    print(f\"\\n--- Running Agent with Query: '{user_query}' ---\")\n",
    "\n",
    "    # Run the agent with the user's query\n",
    "    agent_result = await aurite.execution.run_agent(\n",
    "        agent_name=\"MyAgent\",\n",
    "        user_message=user_query\n",
    "    )\n",
    "\n",
    "    response_text = agent_result.primary_text\n",
    "    print(f\"\\nAgent's final response: {response_text}\")\n",
    "\n",
    "    # Don't forget to shut down the application to clean up resources\n",
    "    await aurite.shutdown()\n",
    "    print(\"\\nAurite shutdown complete.\")\n",
    "\n",
    "# Run the agent\n",
    "await run_agent()"
   ]
  },
  {
   "cell_type": "code",
   "execution_count": null,
   "id": "7e5254a1",
   "metadata": {},
   "outputs": [],
   "source": [
    "from aurite import AgentConfig\n",
    "\n",
    "agent_config = AgentConfig(\n",
    "    name=\"My First Agent\", # A unique name for our agent\n",
    "    system_prompt=\"You are a helpful assistant. Your job is to answer the user's question clearly and concisely.\",\n",
    "    llm_config_id=\"openai_gpt4_turbo\", # Connects the agent to our LLM\n",
    ")\n",
    "\n",
    "print(\"AgentConfig created:\", agent_config.name)"
   ]
  },
  {
   "cell_type": "markdown",
   "metadata": {},
   "source": [
    "## Congratulations!\n",
    "\n",
    "You have successfully built and run your first AI agent using the Aurite framework. \n",
    "\n",
    "**Recap:**\n",
    "\n",
    "- You learned how to configure `LLMConfig` and `AgentConfig`.\n",
    "\n",
    "- You initialized the `Aurite` application and registered your components.\n",
    "\n",
    "- You ran the agent with a query and received a response.\n",
    "\n",
    "In the next tutorial, we will explore one of the most powerful features of Aurite: giving agents **tools** to interact with the outside world using the **Model Context Protocol (MCP)**."
   ]
  }
 ],
 "metadata": {
  "kernelspec": {
   "display_name": "notebook-venv",
   "language": "python",
   "name": "python3"
  },
  "language_info": {
   "codemirror_mode": {
    "name": "ipython",
    "version": 3
   },
   "file_extension": ".py",
   "mimetype": "text/x-python",
   "name": "python",
   "nbconvert_exporter": "python",
   "pygments_lexer": "ipython3",
   "version": "3.11.11"
  }
 },
 "nbformat": 4,
 "nbformat_minor": 5
}
