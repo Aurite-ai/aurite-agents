{
 "cells": [
  {
   "cell_type": "markdown",
   "metadata": {},
   "source": [
    "# Customer Support Bot Project Template\n",
    "\n",
    "Welcome to the Customer Support Bot project! This notebook will help you build \"Chip\", a friendly AI customer support assistant for the fictional company \"GadgetCo\" that helps customers with their Smart-Widget device.\n",
    "\n",
    "## Learning Objectives\n",
    "\n",
    "By completing this project, you will learn:\n",
    "- How to create detailed system prompts for AI agents\n",
    "- How to use multiple MCP servers in a single agent\n",
    "- How to design conditional tool usage logic\n",
    "- How to work with local file storage for knowledge bases\n",
    "- How to integrate external search capabilities\n",
    "\n",
    "## Project Overview\n",
    "\n",
    "You'll build \"Chip\", a customer support agent that:\n",
    "1. First checks internal company documents (FAQ and manual)\n",
    "2. Falls back to external search if needed\n",
    "3. Maintains a friendly, professional persona\n",
    "4. Never guesses - escalates to humans when uncertain\n",
    "\n",
    "This notebook will set up the knowledge base files and explain the approach. You'll implement the agent yourself!"
   ]
  },
  {
   "cell_type": "markdown",
   "metadata": {},
   "source": [
    "## Section 1: Setup\n",
    "\n",
    "First, let's install the Aurite package and configure our environment."
   ]
  },
  {
   "cell_type": "code",
   "execution_count": 1,
   "metadata": {},
   "outputs": [
    {
     "name": "stdout",
     "output_type": "stream",
     "text": [
      "\u001b[33mWARNING: Requirement '/home/wilcoxr/workspace/aurite/aurite-agents/dist/aurite-0.3.17-py3-none-any.whl' looks like a filename, but the file does not exist\u001b[0m\u001b[33m\n",
      "\u001b[0mProcessing /home/wilcoxr/workspace/aurite/aurite-agents/dist/aurite-0.3.17-py3-none-any.whl\n",
      "\u001b[31mERROR: Could not install packages due to an OSError: [Errno 2] No such file or directory: '/home/wilcoxr/workspace/aurite/aurite-agents/dist/aurite-0.3.17-py3-none-any.whl'\n",
      "\u001b[0m\u001b[31m\n",
      "\u001b[0m\n",
      "\u001b[1m[\u001b[0m\u001b[34;49mnotice\u001b[0m\u001b[1;39;49m]\u001b[0m\u001b[39;49m A new release of pip is available: \u001b[0m\u001b[31;49m24.0\u001b[0m\u001b[39;49m -> \u001b[0m\u001b[32;49m25.1.1\u001b[0m\n",
      "\u001b[1m[\u001b[0m\u001b[34;49mnotice\u001b[0m\u001b[1;39;49m]\u001b[0m\u001b[39;49m To update, run: \u001b[0m\u001b[32;49mpip install --upgrade pip\u001b[0m\n",
      "Note: you may need to restart the kernel to use updated packages.\n"
     ]
    }
   ],
   "source": [
    "# Install the Aurite package\n",
    "%pip install /home/wilcoxr/workspace/aurite/aurite-agents/dist/aurite-0.3.17-py3-none-any.whl --force-reinstall"
   ]
  },
  {
   "cell_type": "code",
   "execution_count": 2,
   "metadata": {},
   "outputs": [
    {
     "name": "stdout",
     "output_type": "stream",
     "text": [
      "✅ Set AURITE_PROJECT_DIR to: /home/wilcoxr/workspace/aurite/aurite-agents/docs/notebooks/customer_support_docs\n"
     ]
    }
   ],
   "source": [
    "# Configure API Keys\n",
    "import os\n",
    "from getpass import getpass\n",
    "\n",
    "try:\n",
    "  from google.colab import userdata #type: ignore\n",
    "  # Fetch the secret value from Colab's secret manager and set it as an environment variable so your script can find it\n",
    "  os.environ['OPENAI_API_KEY'] = userdata.get('OPENAI_API_KEY')\n",
    "  os.environ[\"SMITHERY_API_KEY\"] = userdata.get('SMITHERY_API_KEY')\n",
    "  os.environ[\"SMITHERY_PROFILE_ID\"] = userdata.get('SMITHERY_PROFILE_ID')\n",
    "except ImportError: # This is not a real error, just a check if running in Colab\n",
    "    from dotenv import load_dotenv\n",
    "    load_dotenv()  # Load environment variables from a .env file if it exists\n",
    "except Exception as e:\n",
    "    print(f\"Error fetching from Colab's secret manager: {e}\")\n",
    "\n",
    "if \"OPENAI_API_KEY\" not in os.environ:\n",
    "    os.environ[\"OPENAI_API_KEY\"] = getpass(\"Enter your OpenAI API key: \")\n",
    "if \"SMITHERY_API_KEY\" not in os.environ:\n",
    "    os.environ[\"SMITHERY_API_KEY\"] = getpass(\"Enter your Smithery API key: \")\n",
    "if \"SMITHERY_PROFILE_ID\" not in os.environ:\n",
    "    os.environ[\"SMITHERY_PROFILE_ID\"] = getpass(\"Enter your Smithery Profile ID: \")\n",
    "\n",
    "# Set up a dedicated directory for our knowledge base files\n",
    "# and configure the file storage server to use it.\n",
    "from pathlib import Path\n",
    "\n",
    "# Create a dedicated directory for the knowledge base\n",
    "docs_dir = Path(\"customer_support_docs\")\n",
    "docs_dir.mkdir(exist_ok=True)\n",
    "\n",
    "# Set the environment variable to this new directory.\n",
    "# The local_file_storage server will use this path as its root.\n",
    "os.environ['AURITE_PROJECT_DIR'] = str(docs_dir.resolve())\n",
    "\n",
    "print(f\"✅ Set AURITE_PROJECT_DIR to: {os.environ['AURITE_PROJECT_DIR']}\")"
   ]
  },
  {
   "cell_type": "code",
   "execution_count": 3,
   "metadata": {},
   "outputs": [],
   "source": [
    "# Helper function for displaying agent responses\n",
    "from IPython.display import display, Markdown\n",
    "\n",
    "def display_agent_response(agent_name: str, query: str, response: str):\n",
    "  \"\"\"Formats and displays the agent's response in a structured Markdown block.\"\"\"\n",
    "\n",
    "  output = f\"\"\"\n",
    "  <div style=\"border: 1px solid #D1D5DB; border-radius: 8px; margin-top: 20px; font-family: sans-serif; box-shadow: 0 4px 6px rgba(0,0,0,0.05);\">\n",
    "    <div style=\"background-color: #F3F4F6; padding: 10px 15px; border-bottom: 1px solid #D1D5DB; border-radius: 8px 8px 0 0;\">\n",
    "      <h3 style=\"margin: 0; font-size: 16px; color: #1F2937; display: flex; align-items: center;\">\n",
    "        <span style=\"margin-right: 8px;\">🤖</span>\n",
    "        Agent Response: <code style=\"background-color: #E5E7EB; color: #374151; padding: 2px 6px; border-radius: 4px; margin-left: 8px;\">{agent_name}</code>\n",
    "      </h3>\n",
    "    </div>\n",
    "    <div style=\"padding: 15px;\">\n",
    "      <p style=\"margin: 0 0 10px 0; color: #6B7280; font-size: 14px;\">\n",
    "        <strong>Your Query:</strong>\n",
    "      </p>\n",
    "      <p style=\"background-color: #F9FAFB; margin: 0 0 15px 0; color: #1F2937; border: 1px solid #E5E7EB; border-left: 3px solid #9CA3AF; padding: 10px 12px; border-radius: 4px;\">\n",
    "        <em>\\\"{query}\\\"</em>\n",
    "      </p>\n",
    "      <hr style=\"border: none; border-top: 1px dashed #D1D5DB; margin-bottom: 15px;\">\n",
    "      <p style=\"margin: 0 0 10px 0; color: #6B7280; font-size: 14px;\">\n",
    "        <strong>Result:</strong>\n",
    "      </p>\n",
    "      <div style=\"background-color: #FFFFFF; padding: 15px; border-radius: 5px; border: 1px solid #E5E7EB; color: #1F2937; font-size: 15px; line-height: 1.6;\">\n",
    "        {response}\n",
    "      </div>\n",
    "    </div>\n",
    "  </div>\n",
    "  \"\"\"\n",
    "  display(Markdown(output))"
   ]
  },
  {
   "cell_type": "code",
   "execution_count": 4,
   "metadata": {},
   "outputs": [
    {
     "name": "stderr",
     "output_type": "stream",
     "text": [
      "\u001b[32mINFO    \u001b[0m [aurite.config.component_manager] User project config directory not found at /home/wilcoxr/workspace/aurite/aurite-agents/docs/notebooks/config. No project-specific components will be loaded.\u001b[0m\n",
      "\u001b[33mWARNING \u001b[0m [aurite.config.project_manager] Project file not found at /home/wilcoxr/workspace/aurite/aurite-agents/docs/notebooks/aurite_config.json. Creating an empty project named 'aurite_config.json'.\u001b[0m\n",
      "\u001b[32mINFO    \u001b[0m [aurite.host.host] MCP Host initialization attempt finished. Successfully initialized 0/0 configured clients. \u001b[0m\n",
      "\u001b[32mINFO    \u001b[0m [aurite.host_manager] \u001b[1m\u001b[33mAurite initialization complete.\u001b[0m\n"
     ]
    },
    {
     "name": "stdout",
     "output_type": "stream",
     "text": [
      "✅ Aurite initialized successfully!\n"
     ]
    }
   ],
   "source": [
    "# Initialize Aurite\n",
    "from aurite import Aurite\n",
    "\n",
    "aurite = Aurite()\n",
    "await aurite.initialize()\n",
    "print(\"✅ Aurite initialized successfully!\")"
   ]
  },
  {
   "cell_type": "markdown",
   "metadata": {},
   "source": [
    "## Section 2: Create the GadgetCo Knowledge Base\n",
    "\n",
    "Let's create the company files that your support bot will reference. These files represent the internal knowledge base that a real customer support agent would have access to."
   ]
  },
  {
   "cell_type": "code",
   "execution_count": 5,
   "metadata": {},
   "outputs": [
    {
     "name": "stdout",
     "output_type": "stream",
     "text": [
      "✅ Created customer_support_docs/faq.md\n",
      "   - 1973 characters\n",
      "   - Contains answers to common customer questions\n"
     ]
    }
   ],
   "source": [
    "# Create the FAQ document\n",
    "faq_content = \"\"\"# GadgetCo Smart-Widget FAQ\n",
    "\n",
    "## General Questions\n",
    "\n",
    "**Q: What is the Smart-Widget?**\n",
    "A: The Smart-Widget is GadgetCo's flagship IoT device that combines home automation, health monitoring, and entertainment features in one sleek package.\n",
    "\n",
    "**Q: How do I set up my Smart-Widget?**\n",
    "A: Please refer to the setup guide in the Smart-Widget manual. The basic steps are: 1) Download the GadgetCo app, 2) Create an account, 3) Follow the in-app setup wizard.\n",
    "\n",
    "**Q: What's the warranty period?**\n",
    "A: All Smart-Widget devices come with a 2-year manufacturer warranty covering defects and malfunctions under normal use.\n",
    "\n",
    "**Q: Can I return my Smart-Widget?**\n",
    "A: Yes! We offer a 30-day return policy for unopened items and a 14-day return policy for opened items in original condition.\n",
    "\n",
    "## Troubleshooting\n",
    "\n",
    "**Q: My Smart-Widget won't connect to WiFi. What should I do?**\n",
    "A: Try these steps: 1) Ensure your WiFi password is correct, 2) Move the device closer to your router, 3) Restart both the device and your router, 4) Check if your network supports 2.4GHz (required for Smart-Widget).\n",
    "\n",
    "**Q: The device isn't responding to voice commands.**\n",
    "A: Check that: 1) The microphone isn't muted (blue light should be on), 2) You're within 10 feet of the device, 3) There's no loud background noise, 4) Voice recognition is enabled in the app settings.\n",
    "\n",
    "**Q: My Smart-Widget keeps disconnecting from the app.**\n",
    "A: This usually indicates a network issue. Try: 1) Checking your internet connection, 2) Restarting the Smart-Widget, 3) Updating the GadgetCo app, 4) Re-pairing the device in the app.\n",
    "\n",
    "## Technical Specifications\n",
    "\n",
    "**Q: What are the Smart-Widget's technical specs?**\n",
    "A: Please refer to the technical specifications section in the Smart-Widget manual for detailed information.\n",
    "\n",
    "**Q: Is the Smart-Widget compatible with other smart home systems?**\n",
    "A: Yes! The Smart-Widget supports integration with Amazon Alexa, Google Assistant, and Apple HomeKit. Setup instructions are in the manual.\n",
    "\"\"\"\n",
    "\n",
    "faq_path = docs_dir / \"faq.md\"\n",
    "with open(faq_path, \"w\") as f:\n",
    "    f.write(faq_content)\n",
    "\n",
    "print(f\"✅ Created {faq_path}\")\n",
    "print(f\"   - {len(faq_content)} characters\")\n",
    "print(f\"   - Contains answers to common customer questions\")\n"
   ]
  },
  {
   "cell_type": "code",
   "execution_count": 6,
   "metadata": {},
   "outputs": [
    {
     "name": "stdout",
     "output_type": "stream",
     "text": [
      "✅ Created customer_support_docs/manuals/smart_widget_manual.txt\n",
      "   - 4526 characters\n",
      "   - Contains detailed technical information and troubleshooting\n",
      "\n",
      "📁 Knowledge base files created:\n",
      "   - faq.md\n",
      "   - manuals/smart_widget_manual.txt\n"
     ]
    }
   ],
   "source": [
    "# Create the manuals directory and Smart-Widget manual\n",
    "manuals_dir = docs_dir / \"manuals\"\n",
    "manuals_dir.mkdir(exist_ok=True)\n",
    "\n",
    "manual_content = \"\"\"# Smart-Widget User Manual\n",
    "\n",
    "## Table of Contents\n",
    "1. [Getting Started](#getting-started)\n",
    "2. [Setup Instructions](#setup-instructions)\n",
    "3. [Features](#features)\n",
    "4. [Technical Specifications](#technical-specifications)\n",
    "5. [Troubleshooting](#troubleshooting)\n",
    "6. [Smart Home Integration](#smart-home-integration)\n",
    "\n",
    "## Getting Started\n",
    "\n",
    "Congratulations on your purchase of the GadgetCo Smart-Widget! This manual will guide you through setup and usage.\n",
    "\n",
    "### What's in the Box\n",
    "- Smart-Widget device\n",
    "- Power adapter\n",
    "- Quick start guide\n",
    "- Warranty card\n",
    "\n",
    "### Initial Setup Requirements\n",
    "- Smartphone or tablet (iOS 12+ or Android 8+)\n",
    "- WiFi network (2.4GHz required)\n",
    "- GadgetCo account (free)\n",
    "\n",
    "## Setup Instructions\n",
    "\n",
    "### Step 1: Download the App\n",
    "Download the \"GadgetCo Home\" app from the App Store or Google Play Store.\n",
    "\n",
    "### Step 2: Create Account\n",
    "Open the app and create your free GadgetCo account using your email address.\n",
    "\n",
    "### Step 3: Power On Device\n",
    "Connect the Smart-Widget to power using the included adapter. The device will show a pulsing blue light when ready for setup.\n",
    "\n",
    "### Step 4: Add Device\n",
    "In the app, tap \"Add Device\" and follow the setup wizard. The app will guide you through WiFi connection and device pairing.\n",
    "\n",
    "### Step 5: Customize Settings\n",
    "Once connected, customize your device name, location, and preferences in the app.\n",
    "\n",
    "## Features\n",
    "\n",
    "### Voice Control\n",
    "The Smart-Widget responds to the wake word \"Hey Widget\" followed by your command. Supported commands include:\n",
    "- \"What's the weather?\"\n",
    "- \"Set a timer for 10 minutes\"\n",
    "- \"Play my morning playlist\"\n",
    "- \"Turn on the living room lights\"\n",
    "\n",
    "### Health Monitoring\n",
    "The device can track:\n",
    "- Room temperature and humidity\n",
    "- Air quality index\n",
    "- Sleep patterns (when placed in bedroom)\n",
    "- Activity reminders\n",
    "\n",
    "### Entertainment\n",
    "- Stream music from Spotify, Apple Music, or Amazon Music\n",
    "- Built-in speakers with 360-degree sound\n",
    "- Podcast and audiobook support\n",
    "- Multi-room audio (with multiple devices)\n",
    "\n",
    "### Home Automation\n",
    "Control compatible smart home devices:\n",
    "- Smart lights and switches\n",
    "- Thermostats\n",
    "- Security cameras\n",
    "- Door locks\n",
    "\n",
    "## Technical Specifications\n",
    "\n",
    "### Hardware\n",
    "- Processor: ARM Cortex-A53 quad-core\n",
    "- RAM: 1GB DDR3\n",
    "- Storage: 8GB eMMC\n",
    "- WiFi: 802.11 b/g/n (2.4GHz)\n",
    "- Bluetooth: 5.0\n",
    "- Speakers: Dual 10W drivers\n",
    "- Microphones: 4-array far-field\n",
    "\n",
    "### Sensors\n",
    "- Temperature sensor (±0.5°C accuracy)\n",
    "- Humidity sensor (±3% accuracy)\n",
    "- Air quality sensor (PM2.5, VOC)\n",
    "- Ambient light sensor\n",
    "- Motion detector (PIR)\n",
    "\n",
    "### Physical\n",
    "- Dimensions: 6.5\\\" × 6.5\\\" × 3.2\\\"\n",
    "- Weight: 2.1 lbs\n",
    "- Power: 12V DC, 2A\n",
    "- Operating temperature: 32°F to 95°F\n",
    "- Humidity range: 20% to 80% RH\n",
    "\n",
    "## Troubleshooting\n",
    "\n",
    "### Device Won't Power On\n",
    "1. Check power adapter connection\n",
    "2. Try a different power outlet\n",
    "3. Ensure power adapter is the original GadgetCo adapter\n",
    "4. Contact support if issue persists\n",
    "\n",
    "### WiFi Connection Issues\n",
    "1. Verify WiFi password is correct\n",
    "2. Ensure network is 2.4GHz (5GHz not supported)\n",
    "3. Move device closer to router during setup\n",
    "4. Restart router and try again\n",
    "5. Check for network firewall blocking device\n",
    "\n",
    "### Voice Commands Not Working\n",
    "1. Check microphone isn't muted (should show blue light)\n",
    "2. Speak clearly from within 10 feet\n",
    "3. Reduce background noise\n",
    "4. Retrain voice recognition in app settings\n",
    "5. Update device firmware through app\n",
    "\n",
    "### App Connection Problems\n",
    "1. Ensure phone and device are on same WiFi network\n",
    "2. Update GadgetCo Home app to latest version\n",
    "3. Restart the app\n",
    "4. Re-pair device if necessary\n",
    "5. Check internet connection stability\n",
    "\n",
    "### Factory Reset\n",
    "If other troubleshooting fails:\n",
    "1. Hold the reset button (small button on bottom) for 10 seconds\n",
    "2. Device will flash red, then return to setup mode (pulsing blue)\n",
    "3. Re-add device through app setup process\n",
    "\n",
    "## Smart Home Integration\n",
    "\n",
    "### Amazon Alexa\n",
    "1. Open Alexa app\n",
    "2. Go to Skills & Games\n",
    "3. Search for \\\"GadgetCo\\\"\n",
    "4. Enable skill and link your GadgetCo account\n",
    "5. Discover devices\n",
    "\n",
    "### Google Assistant\n",
    "1. Open Google Home app\n",
    "2. Tap \\\"+\\\" then \\\"Set up device\\\"\n",
    "3. Choose \\\"Works with Google\\\"\n",
    "4. Search for \\\"GadgetCo\\\" and link account\n",
    "5. Assign devices to rooms\n",
    "\n",
    "### Apple HomeKit\n",
    "1. Open Home app on iOS device\n",
    "2. Tap \\\"+\\\" then \\\"Add Accessory\\\"\n",
    "3. Scan QR code on device bottom or enter setup code\n",
    "4. Follow setup prompts\n",
    "5. Assign to room and configure scenes\n",
    "\n",
    "## Support\n",
    "\n",
    "For additional help:\n",
    "- Visit support.gadgetco.com\n",
    "- Email: support@gadgetco.com\n",
    "- Phone: 1-800-GADGET-1\n",
    "- Live chat available 24/7 through the app\n",
    "\n",
    "Warranty and return information available at gadgetco.com/warranty\n",
    "\"\"\"\n",
    "\n",
    "manual_path = manuals_dir / \"smart_widget_manual.txt\"\n",
    "with open(manual_path, \"w\") as f:\n",
    "    f.write(manual_content)\n",
    "\n",
    "print(f\"✅ Created {manual_path}\")\n",
    "print(f\"   - {len(manual_content)} characters\")\n",
    "print(f\"   - Contains detailed technical information and troubleshooting\")\n",
    "\n",
    "print(\"\\n📁 Knowledge base files created:\")\n",
    "print(f\"   - {faq_path.relative_to(docs_dir)}\")\n",
    "print(f\"   - {manual_path.relative_to(docs_dir)}\")\n"
   ]
  },
  {
   "cell_type": "markdown",
   "metadata": {},
   "source": [
    "## Section 3: Understanding the Tools You'll Need\n",
    "\n",
    "For this project, you'll need to use two types of tools:\n",
    "\n",
    "1. **Local File Storage** - To read the company knowledge base files\n",
    "2. **External Search** - To find information not in the internal documents\n",
    "\n",
    "Let's explore these tools and understand how they work."
   ]
  },
  {
   "cell_type": "code",
   "execution_count": 7,
   "metadata": {},
   "outputs": [
    {
     "name": "stderr",
     "output_type": "stream",
     "text": [
      "\u001b[32mINFO    \u001b[0m [aurite.host.host] Attempting to dynamically register client: local_file_storage\u001b[0m\n",
      "\u001b[32mINFO    \u001b[0m [aurite.host.host] Client 'local_file_storage' dynamically registered and initialized successfully.\u001b[0m\n"
     ]
    },
    {
     "name": "stdout",
     "output_type": "stream",
     "text": [
      "✅ Registered File Test Agent\n"
     ]
    }
   ],
   "source": [
    "# Let's register a simple agent to test the local file storage tools\n",
    "from aurite.config.config_models import AgentConfig\n",
    "\n",
    "test_agent_config = AgentConfig(\n",
    "    name=\"File Test Agent\",\n",
    "    system_prompt=\"You are a helpful assistant that can read and list files. Use the available tools to help users understand what files are available and read their contents.\",\n",
    "    mcp_servers=[\"local_file_storage\"]\n",
    ")\n",
    "\n",
    "await aurite.register_agent(test_agent_config)\n",
    "print(\"✅ Registered File Test Agent\")"
   ]
  },
  {
   "cell_type": "code",
   "execution_count": 8,
   "metadata": {},
   "outputs": [
    {
     "name": "stderr",
     "output_type": "stream",
     "text": [
      "\u001b[33mWARNING \u001b[0m [aurite.execution.facade] Facade: Agent 'File Test Agent' running without a specific LLMConfig ID. Creating temporary, non-cached client using default OpenAI config.\u001b[0m\n",
      "\u001b[32mINFO    \u001b[0m [aurite.components.llm.providers.openai_client] OpenAIClient initialized for model gpt-3.5-turbo using direct API calls.\u001b[0m\n",
      "\u001b[32mINFO    \u001b[0m [aurite.execution.facade] \u001b[1m\u001b[34mFacade: Running conversation for Aurite Agent 'File Test Agent'...\u001b[0m\n",
      "\u001b[32mINFO    \u001b[0m [aurite.host.host] Executing tool 'list_directory' on client 'local_file_storage' for agent 'File Test Agent'\u001b[0m\n",
      "\u001b[32mINFO    \u001b[0m [aurite.execution.facade] \u001b[1m\u001b[34mFacade: Aurite Agent 'File Test Agent' conversation finished.\u001b[0m\n"
     ]
    },
    {
     "data": {
      "text/markdown": [
       "\n",
       "  <div style=\"border: 1px solid #D1D5DB; border-radius: 8px; margin-top: 20px; font-family: sans-serif; box-shadow: 0 4px 6px rgba(0,0,0,0.05);\">\n",
       "    <div style=\"background-color: #F3F4F6; padding: 10px 15px; border-bottom: 1px solid #D1D5DB; border-radius: 8px 8px 0 0;\">\n",
       "      <h3 style=\"margin: 0; font-size: 16px; color: #1F2937; display: flex; align-items: center;\">\n",
       "        <span style=\"margin-right: 8px;\">🤖</span>\n",
       "        Agent Response: <code style=\"background-color: #E5E7EB; color: #374151; padding: 2px 6px; border-radius: 4px; margin-left: 8px;\">File Test Agent</code>\n",
       "      </h3>\n",
       "    </div>\n",
       "    <div style=\"padding: 15px;\">\n",
       "      <p style=\"margin: 0 0 10px 0; color: #6B7280; font-size: 14px;\">\n",
       "        <strong>Your Query:</strong>\n",
       "      </p>\n",
       "      <p style=\"background-color: #F9FAFB; margin: 0 0 15px 0; color: #1F2937; border: 1px solid #E5E7EB; border-left: 3px solid #9CA3AF; padding: 10px 12px; border-radius: 4px;\">\n",
       "        <em>\"Can you list what files are available in this directory?\"</em>\n",
       "      </p>\n",
       "      <hr style=\"border: none; border-top: 1px dashed #D1D5DB; margin-bottom: 15px;\">\n",
       "      <p style=\"margin: 0 0 10px 0; color: #6B7280; font-size: 14px;\">\n",
       "        <strong>Result:</strong>\n",
       "      </p>\n",
       "      <div style=\"background-color: #FFFFFF; padding: 15px; border-radius: 5px; border: 1px solid #E5E7EB; color: #1F2937; font-size: 15px; line-height: 1.6;\">\n",
       "        The following files are available in this directory:\n",
       "1. faq.md\n",
       "2. manuals/smart_widget_manual.txt\n",
       "      </div>\n",
       "    </div>\n",
       "  </div>\n",
       "  "
      ],
      "text/plain": [
       "<IPython.core.display.Markdown object>"
      ]
     },
     "metadata": {},
     "output_type": "display_data"
    }
   ],
   "source": [
    "# Test the file listing capability\n",
    "query = \"Can you list what files are available in this directory?\"\n",
    "\n",
    "result = await aurite.run_agent(\n",
    "    agent_name=\"File Test Agent\",\n",
    "    user_message=query\n",
    ")\n",
    "\n",
    "display_agent_response(\"File Test Agent\", query, result.primary_text)"
   ]
  },
  {
   "cell_type": "code",
   "execution_count": 9,
   "metadata": {},
   "outputs": [
    {
     "name": "stderr",
     "output_type": "stream",
     "text": [
      "\u001b[33mWARNING \u001b[0m [aurite.execution.facade] Facade: Agent 'File Test Agent' running without a specific LLMConfig ID. Creating temporary, non-cached client using default OpenAI config.\u001b[0m\n",
      "\u001b[32mINFO    \u001b[0m [aurite.components.llm.providers.openai_client] OpenAIClient initialized for model gpt-3.5-turbo using direct API calls.\u001b[0m\n",
      "\u001b[32mINFO    \u001b[0m [aurite.execution.facade] \u001b[1m\u001b[34mFacade: Running conversation for Aurite Agent 'File Test Agent'...\u001b[0m\n",
      "\u001b[32mINFO    \u001b[0m [aurite.host.host] Executing tool 'read_file' on client 'local_file_storage' for agent 'File Test Agent'\u001b[0m\n",
      "\u001b[32mINFO    \u001b[0m [aurite.execution.facade] \u001b[1m\u001b[34mFacade: Aurite Agent 'File Test Agent' conversation finished.\u001b[0m\n"
     ]
    },
    {
     "data": {
      "text/markdown": [
       "\n",
       "  <div style=\"border: 1px solid #D1D5DB; border-radius: 8px; margin-top: 20px; font-family: sans-serif; box-shadow: 0 4px 6px rgba(0,0,0,0.05);\">\n",
       "    <div style=\"background-color: #F3F4F6; padding: 10px 15px; border-bottom: 1px solid #D1D5DB; border-radius: 8px 8px 0 0;\">\n",
       "      <h3 style=\"margin: 0; font-size: 16px; color: #1F2937; display: flex; align-items: center;\">\n",
       "        <span style=\"margin-right: 8px;\">🤖</span>\n",
       "        Agent Response: <code style=\"background-color: #E5E7EB; color: #374151; padding: 2px 6px; border-radius: 4px; margin-left: 8px;\">File Test Agent</code>\n",
       "      </h3>\n",
       "    </div>\n",
       "    <div style=\"padding: 15px;\">\n",
       "      <p style=\"margin: 0 0 10px 0; color: #6B7280; font-size: 14px;\">\n",
       "        <strong>Your Query:</strong>\n",
       "      </p>\n",
       "      <p style=\"background-color: #F9FAFB; margin: 0 0 15px 0; color: #1F2937; border: 1px solid #E5E7EB; border-left: 3px solid #9CA3AF; padding: 10px 12px; border-radius: 4px;\">\n",
       "        <em>\"Can you read the faq.md file and tell me what topics it covers?\"</em>\n",
       "      </p>\n",
       "      <hr style=\"border: none; border-top: 1px dashed #D1D5DB; margin-bottom: 15px;\">\n",
       "      <p style=\"margin: 0 0 10px 0; color: #6B7280; font-size: 14px;\">\n",
       "        <strong>Result:</strong>\n",
       "      </p>\n",
       "      <div style=\"background-color: #FFFFFF; padding: 15px; border-radius: 5px; border: 1px solid #E5E7EB; color: #1F2937; font-size: 15px; line-height: 1.6;\">\n",
       "        The faq.md file covers the following topics:\n",
       "\n",
       "1. General Questions:\n",
       "   - What is the Smart-Widget?\n",
       "   - How to set up the Smart-Widget?\n",
       "   - Warranty period for the Smart-Widget.\n",
       "   - Return policy for the Smart-Widget.\n",
       "\n",
       "2. Troubleshooting:\n",
       "   - Steps to take if the Smart-Widget won't connect to WiFi.\n",
       "   - Solutions for when the device isn't responding to voice commands.\n",
       "   - Troubleshooting steps for when the Smart-Widget keeps disconnecting from the app.\n",
       "\n",
       "3. Technical Specifications:\n",
       "   - Details about the Smart-Widget's technical specs.\n",
       "   - Compatibility of the Smart-Widget with other smart home systems like Amazon Alexa, Google Assistant, and Apple HomeKit.\n",
       "\n",
       "If you need more specific information on any of these topics, feel free to ask!\n",
       "      </div>\n",
       "    </div>\n",
       "  </div>\n",
       "  "
      ],
      "text/plain": [
       "<IPython.core.display.Markdown object>"
      ]
     },
     "metadata": {},
     "output_type": "display_data"
    }
   ],
   "source": [
    "# Test reading the FAQ file\n",
    "query = \"Can you read the faq.md file and tell me what topics it covers?\"\n",
    "\n",
    "result = await aurite.run_agent(\n",
    "    agent_name=\"File Test Agent\",\n",
    "    user_message=query\n",
    ")\n",
    "\n",
    "display_agent_response(\"File Test Agent\", query, result.primary_text)"
   ]
  },
  {
   "cell_type": "markdown",
   "metadata": {},
   "source": [
    "## Section 4: Your Challenge - Build Chip the Customer Support Agent\n",
    "\n",
    "Now it's your turn! You need to create \"Chip\", a customer support agent for GadgetCo. Here's what Chip should do:\n",
    "\n",
    "### Chip's Requirements:\n",
    "\n",
    "1. **Personality**: Friendly, patient, and professional customer support representative\n",
    "2. **Process**: Follow a specific order when helping customers:\n",
    "   - First check the FAQ file (`faq.md`)\n",
    "   - If not found there, check the manual (`manuals/smart_widget_manual.txt`)\n",
    "   - Only use external search if the answer isn't in internal documents\n",
    "   - If no answer is found anywhere, escalate to human support\n",
    "3. **Tools**: Use both `local_file_storage` and `duckduckgo_search`\n",
    "4. **Rules**: Never guess, always cite sources, be helpful but honest\n",
    "\n",
    "### Your Task:\n",
    "\n",
    "In the cell below, create and register your \"Chip\" agent. Think carefully about:\n",
    "- The system prompt (personality, process, rules)\n",
    "- Which MCP servers to include\n",
    "- How to instruct the agent to use tools in the right order"
   ]
  },
  {
   "cell_type": "code",
   "execution_count": 10,
   "metadata": {},
   "outputs": [
    {
     "name": "stdout",
     "output_type": "stream",
     "text": [
      "TODO: Implement Chip the customer support agent!\n"
     ]
    }
   ],
   "source": [
    "# YOUR CODE HERE: Create and register Chip the customer support agent\n",
    "\n",
    "# Hint: You'll need to:\n",
    "# 1. Create an AgentConfig with:\n",
    "#    - name: \"Chip\"\n",
    "#    - system_prompt: (your detailed instructions)\n",
    "#    - mcp_servers: [\"local_file_storage\", \"duckduckgo_search\"]\n",
    "# 2. Register the agent with aurite.register_agent()\n",
    "\n",
    "# Example structure:\n",
    "# chip_config = AgentConfig(\n",
    "#     name=\"Chip\",\n",
    "#     system_prompt=\"\"\"Your detailed system prompt here...\"\"\",\n",
    "#     mcp_servers=[\"local_file_storage\", \"duckduckgo_search\"]\n",
    "# )\n",
    "# await aurite.register_agent(chip_config)\n",
    "\n",
    "print(\"TODO: Implement Chip the customer support agent!\")"
   ]
  },
  {
   "cell_type": "markdown",
   "metadata": {},
   "source": [
    "## Section 5: Test Your Agent\n",
    "\n",
    "Once you've created Chip, test it with these scenarios to see how well it follows your instructions."
   ]
  },
  {
   "cell_type": "code",
   "execution_count": 11,
   "metadata": {},
   "outputs": [
    {
     "name": "stdout",
     "output_type": "stream",
     "text": [
      "Test 3: Troubleshooting - Create Chip first!\n"
     ]
    }
   ],
   "source": [
    "# Test 3: Troubleshooting question\n",
    "query = \"My Smart-Widget won't connect to WiFi. I've tried entering the password multiple times but it keeps failing. What should I do?\"\n",
    "\n",
    "# Uncomment these lines after you've created Chip:\n",
    "# result = await aurite.run_agent(\n",
    "#     agent_name=\"Chip\",\n",
    "#     user_message=query\n",
    "# )\n",
    "# display_agent_response(\"Chip\", query, result.primary_text)\n",
    "\n",
    "print(\"Test 3: Troubleshooting - Create Chip first!\")"
   ]
  },
  {
   "cell_type": "code",
   "execution_count": 12,
   "metadata": {},
   "outputs": [
    {
     "name": "stdout",
     "output_type": "stream",
     "text": [
      "Test 4: External Search - Create Chip first!\n"
     ]
    }
   ],
   "source": [
    "# Test 4: Question that might require external search\n",
    "query = \"I heard there might be a new Smart-Widget model coming out soon. Can you tell me about any upcoming product releases?\"\n",
    "\n",
    "# Uncomment these lines after you've created Chip:\n",
    "# result = await aurite.run_agent(\n",
    "#     agent_name=\"Chip\",\n",
    "#     user_message=query\n",
    "# )\n",
    "# display_agent_response(\"Chip\", query, result.primary_text)\n",
    "\n",
    "print(\"Test 4: External Search - Create Chip first!\")"
   ]
  },
  {
   "cell_type": "markdown",
   "metadata": {},
   "source": [
    "## Section 6: Evaluation and Improvement\n",
    "\n",
    "After testing your agent, consider these questions:\n",
    "\n",
    "### Evaluation Criteria:\n",
    "\n",
    "1. **Process Adherence**: Did Chip follow the prescribed process of checking FAQ → Manual → External Search?\n",
    "2. **Response Quality**: Were the responses helpful, accurate, and appropriately detailed?\n",
    "3. **Personality**: Did Chip maintain a consistent, professional, and friendly tone?\n",
    "4. **Source Citation**: Did Chip properly cite where information came from?\n",
    "5. **Tool Usage**: Did Chip use the file storage tools effectively?\n",
    "\n",
    "### Common Challenges:\n",
    "\n",
    "- **Tool Order**: Ensuring the agent checks internal documents before external search\n",
    "- **Source Attribution**: Making sure the agent cites where information came from\n",
    "- **Escalation**: Knowing when to admit it doesn't know something\n",
    "- **Personality Consistency**: Maintaining the right tone throughout the conversation\n",
    "\n",
    "### Improvement Ideas:\n",
    "\n",
    "- Add more specific instructions about when to escalate\n",
    "- Include example phrases for different situations\n",
    "- Add empathy responses for frustrated customers\n",
    "- Create more detailed troubleshooting workflows\n",
    "- Add proactive suggestions (\"While I have you, did you know...\")\n",
    "\n",
    "### Real-World Applications:\n",
    "\n",
    "This customer support bot pattern can be adapted for various industries:\n",
    "- **E-commerce**: Product information, order status, returns\n",
    "- **SaaS**: Feature explanations, troubleshooting, account management\n",
    "- **Healthcare**: Appointment scheduling, basic health information, insurance questions\n",
    "- **Financial Services**: Account inquiries, transaction help, policy information\n",
    "\n",
    "## Congratulations!\n",
    "\n",
    "You've successfully learned how to build a multi-tool customer support agent using the Aurite framework. The key concepts you've mastered include:\n",
    "\n",
    "- **System Prompt Design**: Creating detailed instructions for agent behavior\n",
    "- **Multi-Tool Integration**: Using multiple MCP servers in a single agent\n",
    "- **Conditional Logic**: Designing agents that follow specific processes\n",
    "- **Knowledge Base Management**: Working with local file storage for company information\n",
    "- **Fallback Strategies**: Implementing escalation when information isn't available\n",
    "\n",
    "These skills form the foundation for building sophisticated AI agents that can handle real-world business scenarios!"
   ]
  }
 ],
 "metadata": {
  "kernelspec": {
   "display_name": "notebook-venv",
   "language": "python",
   "name": "python3"
  },
  "language_info": {
   "codemirror_mode": {
    "name": "ipython",
    "version": 3
   },
   "file_extension": ".py",
   "mimetype": "text/x-python",
   "name": "python",
   "nbconvert_exporter": "python",
   "pygments_lexer": "ipython3",
   "version": "3.11.11"
  }
 },
 "nbformat": 4,
 "nbformat_minor": 4
}
